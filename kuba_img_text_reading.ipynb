{
  "nbformat": 4,
  "nbformat_minor": 0,
  "metadata": {
    "colab": {
      "name": " kuba_img_text_reading.ipynb",
      "provenance": [],
      "collapsed_sections": [],
      "authorship_tag": "ABX9TyNZXS0YXeqaAhbVH2Ynr4U+",
      "include_colab_link": true
    },
    "kernelspec": {
      "name": "python3",
      "display_name": "Python 3"
    }
  },
  "cells": [
    {
      "cell_type": "markdown",
      "metadata": {
        "id": "view-in-github",
        "colab_type": "text"
      },
      "source": [
        "<a href=\"https://colab.research.google.com/github/KacperGrodecki/image_proccessing/blob/main/kuba_img_text_reading.ipynb\" target=\"_parent\"><img src=\"https://colab.research.google.com/assets/colab-badge.svg\" alt=\"Open In Colab\"/></a>"
      ]
    },
    {
      "cell_type": "code",
      "metadata": {
        "id": "IJjlrbzGKZi4",
        "colab": {
          "base_uri": "https://localhost:8080/"
        },
        "outputId": "807d2966-7215-49d8-e28a-b040050916c9"
      },
      "source": [
        "from google.colab import drive\n",
        "drive.mount('/content/drive')"
      ],
      "execution_count": 1,
      "outputs": [
        {
          "output_type": "stream",
          "name": "stdout",
          "text": [
            "Mounted at /content/drive\n"
          ]
        }
      ]
    },
    {
      "cell_type": "code",
      "metadata": {
        "colab": {
          "base_uri": "https://localhost:8080/"
        },
        "id": "EaccDd3JEho8",
        "outputId": "3316db30-a5ce-4017-932b-122e3c6ab60d"
      },
      "source": [
        "!apt-get install poppler-utils \n",
        "!apt-get install tesseract-ocr-pol\n",
        "!apt-get install libleptonica-dev \n",
        "!apt-get install tesseract-ocr\n",
        "!apt-get install tesseract-ocr-dev\n",
        "!apt-get install libtesseract-dev"
      ],
      "execution_count": 2,
      "outputs": [
        {
          "output_type": "stream",
          "name": "stdout",
          "text": [
            "Reading package lists... Done\n",
            "Building dependency tree       \n",
            "Reading state information... Done\n",
            "The following NEW packages will be installed:\n",
            "  poppler-utils\n",
            "0 upgraded, 1 newly installed, 0 to remove and 37 not upgraded.\n",
            "Need to get 154 kB of archives.\n",
            "After this operation, 613 kB of additional disk space will be used.\n",
            "Get:1 http://archive.ubuntu.com/ubuntu bionic-updates/main amd64 poppler-utils amd64 0.62.0-2ubuntu2.12 [154 kB]\n",
            "Fetched 154 kB in 0s (1,020 kB/s)\n",
            "Selecting previously unselected package poppler-utils.\n",
            "(Reading database ... 155047 files and directories currently installed.)\n",
            "Preparing to unpack .../poppler-utils_0.62.0-2ubuntu2.12_amd64.deb ...\n",
            "Unpacking poppler-utils (0.62.0-2ubuntu2.12) ...\n",
            "Setting up poppler-utils (0.62.0-2ubuntu2.12) ...\n",
            "Processing triggers for man-db (2.8.3-2ubuntu0.1) ...\n",
            "Reading package lists... Done\n",
            "Building dependency tree       \n",
            "Reading state information... Done\n",
            "The following additional packages will be installed:\n",
            "  tesseract-ocr tesseract-ocr-eng tesseract-ocr-osd\n",
            "The following NEW packages will be installed:\n",
            "  tesseract-ocr tesseract-ocr-eng tesseract-ocr-osd tesseract-ocr-pol\n",
            "0 upgraded, 4 newly installed, 0 to remove and 37 not upgraded.\n",
            "Need to get 6,404 kB of archives.\n",
            "After this operation, 20.6 MB of additional disk space will be used.\n",
            "Get:1 http://archive.ubuntu.com/ubuntu bionic/universe amd64 tesseract-ocr-eng all 4.00~git24-0e00fe6-1.2 [1,588 kB]\n",
            "Get:2 http://archive.ubuntu.com/ubuntu bionic/universe amd64 tesseract-ocr-osd all 4.00~git24-0e00fe6-1.2 [2,989 kB]\n",
            "Get:3 http://archive.ubuntu.com/ubuntu bionic/universe amd64 tesseract-ocr amd64 4.00~git2288-10f4998a-2 [218 kB]\n",
            "Get:4 http://archive.ubuntu.com/ubuntu bionic/universe amd64 tesseract-ocr-pol all 4.00~git24-0e00fe6-1.2 [1,609 kB]\n",
            "Fetched 6,404 kB in 0s (34.0 MB/s)\n",
            "Selecting previously unselected package tesseract-ocr-eng.\n",
            "(Reading database ... 155075 files and directories currently installed.)\n",
            "Preparing to unpack .../tesseract-ocr-eng_4.00~git24-0e00fe6-1.2_all.deb ...\n",
            "Unpacking tesseract-ocr-eng (4.00~git24-0e00fe6-1.2) ...\n",
            "Selecting previously unselected package tesseract-ocr-osd.\n",
            "Preparing to unpack .../tesseract-ocr-osd_4.00~git24-0e00fe6-1.2_all.deb ...\n",
            "Unpacking tesseract-ocr-osd (4.00~git24-0e00fe6-1.2) ...\n",
            "Selecting previously unselected package tesseract-ocr.\n",
            "Preparing to unpack .../tesseract-ocr_4.00~git2288-10f4998a-2_amd64.deb ...\n",
            "Unpacking tesseract-ocr (4.00~git2288-10f4998a-2) ...\n",
            "Selecting previously unselected package tesseract-ocr-pol.\n",
            "Preparing to unpack .../tesseract-ocr-pol_4.00~git24-0e00fe6-1.2_all.deb ...\n",
            "Unpacking tesseract-ocr-pol (4.00~git24-0e00fe6-1.2) ...\n",
            "Setting up tesseract-ocr-osd (4.00~git24-0e00fe6-1.2) ...\n",
            "Setting up tesseract-ocr-eng (4.00~git24-0e00fe6-1.2) ...\n",
            "Setting up tesseract-ocr (4.00~git2288-10f4998a-2) ...\n",
            "Setting up tesseract-ocr-pol (4.00~git24-0e00fe6-1.2) ...\n",
            "Processing triggers for man-db (2.8.3-2ubuntu0.1) ...\n",
            "Reading package lists... Done\n",
            "Building dependency tree       \n",
            "Reading state information... Done\n",
            "The following NEW packages will be installed:\n",
            "  libleptonica-dev\n",
            "0 upgraded, 1 newly installed, 0 to remove and 37 not upgraded.\n",
            "Need to get 1,308 kB of archives.\n",
            "After this operation, 5,966 kB of additional disk space will be used.\n",
            "Get:1 http://archive.ubuntu.com/ubuntu bionic/universe amd64 libleptonica-dev amd64 1.75.3-3 [1,308 kB]\n",
            "Fetched 1,308 kB in 0s (12.8 MB/s)\n",
            "Selecting previously unselected package libleptonica-dev.\n",
            "(Reading database ... 155126 files and directories currently installed.)\n",
            "Preparing to unpack .../libleptonica-dev_1.75.3-3_amd64.deb ...\n",
            "Unpacking libleptonica-dev (1.75.3-3) ...\n",
            "Setting up libleptonica-dev (1.75.3-3) ...\n",
            "Reading package lists... Done\n",
            "Building dependency tree       \n",
            "Reading state information... Done\n",
            "tesseract-ocr is already the newest version (4.00~git2288-10f4998a-2).\n",
            "tesseract-ocr set to manually installed.\n",
            "0 upgraded, 0 newly installed, 0 to remove and 37 not upgraded.\n",
            "Reading package lists... Done\n",
            "Building dependency tree       \n",
            "Reading state information... Done\n",
            "Package tesseract-ocr-dev is not available, but is referred to by another package.\n",
            "This may mean that the package is missing, has been obsoleted, or\n",
            "is only available from another source\n",
            "However the following packages replace it:\n",
            "  libtesseract-dev\n",
            "\n",
            "E: Package 'tesseract-ocr-dev' has no installation candidate\n",
            "Reading package lists... Done\n",
            "Building dependency tree       \n",
            "Reading state information... Done\n",
            "The following NEW packages will be installed:\n",
            "  libtesseract-dev\n",
            "0 upgraded, 1 newly installed, 0 to remove and 37 not upgraded.\n",
            "Need to get 1,447 kB of archives.\n",
            "After this operation, 7,824 kB of additional disk space will be used.\n",
            "Get:1 http://archive.ubuntu.com/ubuntu bionic/universe amd64 libtesseract-dev amd64 4.00~git2288-10f4998a-2 [1,447 kB]\n",
            "Fetched 1,447 kB in 0s (14.1 MB/s)\n",
            "Selecting previously unselected package libtesseract-dev.\n",
            "(Reading database ... 155169 files and directories currently installed.)\n",
            "Preparing to unpack .../libtesseract-dev_4.00~git2288-10f4998a-2_amd64.deb ...\n",
            "Unpacking libtesseract-dev (4.00~git2288-10f4998a-2) ...\n",
            "Setting up libtesseract-dev (4.00~git2288-10f4998a-2) ...\n"
          ]
        }
      ]
    },
    {
      "cell_type": "code",
      "metadata": {
        "colab": {
          "base_uri": "https://localhost:8080/"
        },
        "id": "e6FImYcoRS3q",
        "outputId": "bad85c31-ab3f-4a47-de54-d2d27598db49"
      },
      "source": [
        "pip install pytesseract "
      ],
      "execution_count": 3,
      "outputs": [
        {
          "output_type": "stream",
          "name": "stdout",
          "text": [
            "Collecting pytesseract\n",
            "  Downloading pytesseract-0.3.8.tar.gz (14 kB)\n",
            "Requirement already satisfied: Pillow in /usr/local/lib/python3.7/dist-packages (from pytesseract) (7.1.2)\n",
            "Building wheels for collected packages: pytesseract\n",
            "  Building wheel for pytesseract (setup.py) ... \u001b[?25l\u001b[?25hdone\n",
            "  Created wheel for pytesseract: filename=pytesseract-0.3.8-py2.py3-none-any.whl size=14072 sha256=f56f71cbe6d3a8606c0d8fce04e40421f7d8747ea1e149c29476b94efd6c3858\n",
            "  Stored in directory: /root/.cache/pip/wheels/a4/89/b9/3f11250225d0f90e5454fcc30fd1b7208db226850715aa9ace\n",
            "Successfully built pytesseract\n",
            "Installing collected packages: pytesseract\n",
            "Successfully installed pytesseract-0.3.8\n"
          ]
        }
      ]
    },
    {
      "cell_type": "code",
      "metadata": {
        "id": "zBEZ4rsZX7GZ",
        "colab": {
          "base_uri": "https://localhost:8080/"
        },
        "outputId": "c837d6fd-f817-4668-89a8-ef2b0233e48a"
      },
      "source": [
        "pip install autocorrect"
      ],
      "execution_count": 4,
      "outputs": [
        {
          "output_type": "stream",
          "name": "stdout",
          "text": [
            "Collecting autocorrect\n",
            "  Downloading autocorrect-2.5.0.tar.gz (622 kB)\n",
            "\u001b[?25l\r\u001b[K     |▌                               | 10 kB 26.1 MB/s eta 0:00:01\r\u001b[K     |█                               | 20 kB 31.4 MB/s eta 0:00:01\r\u001b[K     |█▋                              | 30 kB 37.2 MB/s eta 0:00:01\r\u001b[K     |██                              | 40 kB 39.3 MB/s eta 0:00:01\r\u001b[K     |██▋                             | 51 kB 17.6 MB/s eta 0:00:01\r\u001b[K     |███▏                            | 61 kB 12.4 MB/s eta 0:00:01\r\u001b[K     |███▊                            | 71 kB 13.4 MB/s eta 0:00:01\r\u001b[K     |████▏                           | 81 kB 14.8 MB/s eta 0:00:01\r\u001b[K     |████▊                           | 92 kB 12.7 MB/s eta 0:00:01\r\u001b[K     |█████▎                          | 102 kB 13.5 MB/s eta 0:00:01\r\u001b[K     |█████▉                          | 112 kB 13.5 MB/s eta 0:00:01\r\u001b[K     |██████▎                         | 122 kB 13.5 MB/s eta 0:00:01\r\u001b[K     |██████▉                         | 133 kB 13.5 MB/s eta 0:00:01\r\u001b[K     |███████▍                        | 143 kB 13.5 MB/s eta 0:00:01\r\u001b[K     |████████                        | 153 kB 13.5 MB/s eta 0:00:01\r\u001b[K     |████████▍                       | 163 kB 13.5 MB/s eta 0:00:01\r\u001b[K     |█████████                       | 174 kB 13.5 MB/s eta 0:00:01\r\u001b[K     |█████████▌                      | 184 kB 13.5 MB/s eta 0:00:01\r\u001b[K     |██████████                      | 194 kB 13.5 MB/s eta 0:00:01\r\u001b[K     |██████████▌                     | 204 kB 13.5 MB/s eta 0:00:01\r\u001b[K     |███████████                     | 215 kB 13.5 MB/s eta 0:00:01\r\u001b[K     |███████████▋                    | 225 kB 13.5 MB/s eta 0:00:01\r\u001b[K     |████████████▏                   | 235 kB 13.5 MB/s eta 0:00:01\r\u001b[K     |████████████▋                   | 245 kB 13.5 MB/s eta 0:00:01\r\u001b[K     |█████████████▏                  | 256 kB 13.5 MB/s eta 0:00:01\r\u001b[K     |█████████████▊                  | 266 kB 13.5 MB/s eta 0:00:01\r\u001b[K     |██████████████▏                 | 276 kB 13.5 MB/s eta 0:00:01\r\u001b[K     |██████████████▊                 | 286 kB 13.5 MB/s eta 0:00:01\r\u001b[K     |███████████████▎                | 296 kB 13.5 MB/s eta 0:00:01\r\u001b[K     |███████████████▉                | 307 kB 13.5 MB/s eta 0:00:01\r\u001b[K     |████████████████▎               | 317 kB 13.5 MB/s eta 0:00:01\r\u001b[K     |████████████████▉               | 327 kB 13.5 MB/s eta 0:00:01\r\u001b[K     |█████████████████▍              | 337 kB 13.5 MB/s eta 0:00:01\r\u001b[K     |██████████████████              | 348 kB 13.5 MB/s eta 0:00:01\r\u001b[K     |██████████████████▍             | 358 kB 13.5 MB/s eta 0:00:01\r\u001b[K     |███████████████████             | 368 kB 13.5 MB/s eta 0:00:01\r\u001b[K     |███████████████████▌            | 378 kB 13.5 MB/s eta 0:00:01\r\u001b[K     |████████████████████            | 389 kB 13.5 MB/s eta 0:00:01\r\u001b[K     |████████████████████▌           | 399 kB 13.5 MB/s eta 0:00:01\r\u001b[K     |█████████████████████           | 409 kB 13.5 MB/s eta 0:00:01\r\u001b[K     |█████████████████████▋          | 419 kB 13.5 MB/s eta 0:00:01\r\u001b[K     |██████████████████████▏         | 430 kB 13.5 MB/s eta 0:00:01\r\u001b[K     |██████████████████████▋         | 440 kB 13.5 MB/s eta 0:00:01\r\u001b[K     |███████████████████████▏        | 450 kB 13.5 MB/s eta 0:00:01\r\u001b[K     |███████████████████████▊        | 460 kB 13.5 MB/s eta 0:00:01\r\u001b[K     |████████████████████████▎       | 471 kB 13.5 MB/s eta 0:00:01\r\u001b[K     |████████████████████████▊       | 481 kB 13.5 MB/s eta 0:00:01\r\u001b[K     |█████████████████████████▎      | 491 kB 13.5 MB/s eta 0:00:01\r\u001b[K     |█████████████████████████▉      | 501 kB 13.5 MB/s eta 0:00:01\r\u001b[K     |██████████████████████████▎     | 512 kB 13.5 MB/s eta 0:00:01\r\u001b[K     |██████████████████████████▉     | 522 kB 13.5 MB/s eta 0:00:01\r\u001b[K     |███████████████████████████▍    | 532 kB 13.5 MB/s eta 0:00:01\r\u001b[K     |████████████████████████████    | 542 kB 13.5 MB/s eta 0:00:01\r\u001b[K     |████████████████████████████▍   | 552 kB 13.5 MB/s eta 0:00:01\r\u001b[K     |█████████████████████████████   | 563 kB 13.5 MB/s eta 0:00:01\r\u001b[K     |█████████████████████████████▌  | 573 kB 13.5 MB/s eta 0:00:01\r\u001b[K     |██████████████████████████████  | 583 kB 13.5 MB/s eta 0:00:01\r\u001b[K     |██████████████████████████████▌ | 593 kB 13.5 MB/s eta 0:00:01\r\u001b[K     |███████████████████████████████ | 604 kB 13.5 MB/s eta 0:00:01\r\u001b[K     |███████████████████████████████▋| 614 kB 13.5 MB/s eta 0:00:01\r\u001b[K     |████████████████████████████████| 622 kB 13.5 MB/s \n",
            "\u001b[?25hBuilding wheels for collected packages: autocorrect\n",
            "  Building wheel for autocorrect (setup.py) ... \u001b[?25l\u001b[?25hdone\n",
            "  Created wheel for autocorrect: filename=autocorrect-2.5.0-py3-none-any.whl size=621851 sha256=baf2463164e315094a14480615bbde70e253c729892fb00ca5b6f30c3a421d90\n",
            "  Stored in directory: /root/.cache/pip/wheels/3d/8e/bd/f6fd900a056a031bf710a00bca338d86f43b83f0c25ab5242f\n",
            "Successfully built autocorrect\n",
            "Installing collected packages: autocorrect\n",
            "Successfully installed autocorrect-2.5.0\n"
          ]
        }
      ]
    },
    {
      "cell_type": "code",
      "metadata": {
        "id": "2wUfYi8wWZLT"
      },
      "source": [
        "import pytesseract\n",
        "#pytesseract.pytesseract.tesseract_cmd = r'C:\\Program Files\\Tesseract-OCR\\tesseract'\n",
        "import pandas as pd\n",
        "import cv2\n",
        "from PIL import Image,ImageTk\n",
        "from pytesseract import image_to_string\n",
        "import numpy as np\n",
        "import re\n",
        "import matplotlib.pyplot as plt      \n",
        "from skimage import io, color, morphology\n",
        "import pickle\n",
        "from os import listdir\n",
        "from os.path import isfile, join\n",
        "import gc\n",
        "import sys"
      ],
      "execution_count": 5,
      "outputs": []
    },
    {
      "cell_type": "code",
      "metadata": {
        "id": "ZGIh2lJJWtAN"
      },
      "source": [
        "class Run():\n",
        "\n",
        "    def __init__(self):\n",
        "        #print('start')\n",
        "        self.countter = 0\n",
        "        self.countter1 = 0\n",
        "        self.labels = []\n",
        "        self.xywh = []\n",
        "        self.xywh1 = []\n",
        "        self.path = 'drive/MyDrive/kuba/'\n",
        "        self.files = [f for f in listdir(self.path) if isfile(join(self.path, f))]\n",
        "        self.files.sort()\n",
        "        self.contours = 0\n",
        "\n",
        "    def setNumber(self,i):\n",
        "        self.file_nr = i\n",
        "\n",
        "    def openFile(self):\n",
        "        self.file = self.path + self.files[self.file_nr]\n",
        "        return self.file\n",
        "\n",
        "    def findContour(self,ImageProcessing):\n",
        "        fig_prepared = ImageProcessing.figPrepare(self.file)\n",
        "        self.contours, self.xywh = ImageProcessing.find_contours(fig_prepared)\n",
        "        return self.contours\n",
        "\n",
        "    def readText(self, cropped_board):\n",
        "        crop = Image.fromarray(cropped_board)\n",
        "        try:\n",
        "            let_crop = image_to_string(cropped_board, lang='pol', config='--psm 7 --oem 3')\n",
        "        except:\n",
        "            let_crop = ''\n",
        "        try:\n",
        "            div_crop = image_to_string(cropped_board, lang='pol', config='--psm 6 --oem 3')\n",
        "        except:\n",
        "            let_crop = ''\n",
        "        if re.search('[a-zA-Z]', let_crop) or re.search('[a-zA-Z]', div_crop):\n",
        "            dig_crop = image_to_string(cropped_board, lang='pol', config='--psm 7 --oem 3 -c tessedit_char_whitelist=0123456789')  # r'--oem 3 --psm 3 outputbase digits'\n",
        "####################################################wyswietlanie tekstu\n",
        "            #print(let_crop, div_crop)\n",
        "########################################################\n",
        "            return let_crop, div_crop\n",
        "        else:\n",
        "            return '',''"
      ],
      "execution_count": 6,
      "outputs": []
    },
    {
      "cell_type": "code",
      "metadata": {
        "id": "JHn3W6gUWvQp"
      },
      "source": [
        "class ImageProcessing:\n",
        "\n",
        "    def figPrepare(self, file):\n",
        "        rgb_image = cv2.imread(file)\n",
        "\n",
        "        gray_image = cv2.cvtColor(rgb_image, cv2.COLOR_BGR2GRAY)\n",
        "        lower_blue=np.array([0])\n",
        "        upper_blue=np.array([120])\n",
        "        mask=cv2.inRange(gray_image,lower_blue,upper_blue)\n",
        "\n",
        "        res=cv2.bitwise_and(gray_image,gray_image,mask=mask)\n",
        "        res[mask==0]=[255]\n",
        "        board=int(res.shape[1]*0.01)\n",
        "        res[:,:board]=255\n",
        "        res[:,-board:]=255\n",
        "\n",
        "\n",
        "        return res#gray_image_copy\n",
        "\n",
        "    def countrurs(self, gray, ythresh):\n",
        "        thresh = 255 - gray\n",
        "        # use morphology erode to blur horizontally\n",
        "        kernel = cv2.getStructuringElement(cv2.MORPH_RECT, (151, 3))\n",
        "        morph = cv2.morphologyEx(thresh, cv2.MORPH_DILATE, kernel)\n",
        "\n",
        "        # use morphology open to remove thin lines from dotted lines\n",
        "        kernel = cv2.getStructuringElement(cv2.MORPH_RECT, (3, 17))\n",
        "        morph = cv2.morphologyEx(morph, cv2.MORPH_OPEN, kernel)\n",
        "        cntrs = cv2.findContours(morph, cv2.RETR_EXTERNAL, cv2.CHAIN_APPROX_SIMPLE)\n",
        "\n",
        "        cntrs = cntrs[0] if len(cntrs) == 2 else cntrs[1]\n",
        "\n",
        "        # find the topmost box\n",
        "\n",
        "        for c in cntrs:\n",
        "            box = cv2.boundingRect(c)\n",
        "            x, y, w, h = box\n",
        "            if y < ythresh:\n",
        "                topbox = box\n",
        "                ythresh = y\n",
        "        \n",
        "        return cntrs[::-1], topbox\n",
        "\n",
        "    # loading contours\n",
        "    def image_correction(self,gray_image):\n",
        "        unique, counts = np.unique(gray_image, return_counts=True)\n",
        "        hist_max=np.argmax(counts[120:180])+120\n",
        "        hist_max_all=np.argmax(counts)\n",
        "        \n",
        "        kernelSizes = (11, 11)\n",
        "        gray_image_blurred = cv2.blur(gray_image,kernelSizes)\n",
        "        gray_image_copy=gray_image.copy()\n",
        "        gray_image_copy[(gray_image<hist_max+20)&(gray_image>hist_max-20)]=hist_max_all+10\n",
        "\n",
        "        return gray_image_copy\n",
        "\n",
        "    def find_contours(self, file):\n",
        "        image = file\n",
        "  \n",
        "        result=self.image_correction(image)####################test-podmieniona linijka wyzej#########\n",
        "        ythresh = 1000\n",
        "        cntrs, topbox = self.countrurs(image, ythresh)\n",
        "        i = 0\n",
        "        images = []\n",
        "        xywh = []\n",
        "        for c in cntrs:\n",
        "            box = cv2.boundingRect(c)\n",
        "            if box != topbox:\n",
        "                i = i + 1\n",
        "                x, y, w, h = box\n",
        "\n",
        "                xywh.append([x, y, w, h])\n",
        "\n",
        "                cv2.rectangle(result, (x, y), (x + w, y + h), (0, 0, 255), 2)\n",
        "                cropped = image[y:y + h, x:x + w]\n",
        "\n",
        "                # mask,mask1 = self.mask_from_cropped(cropped)\n",
        "                board = 50\n",
        "                cropped_board = cv2.copyMakeBorder(cropped, board, board, board, board, cv2.BORDER_CONSTANT,\n",
        "                                                   value=[255, 255, 255])\n",
        "\n",
        "                images.append(cropped_board)\n",
        "        return images, xywh\n"
      ],
      "execution_count": 7,
      "outputs": []
    },
    {
      "cell_type": "code",
      "metadata": {
        "colab": {
          "base_uri": "https://localhost:8080/"
        },
        "id": "KLJ0LxxfWUU4",
        "outputId": "f58a7905-42e1-4cc0-954f-32688235cebd"
      },
      "source": [
        "imageProcessing=ImageProcessing()\n",
        "run=Run()\n",
        "text_df=pd.DataFrame(np.array([' ',' ']))\n",
        "text=[]\n",
        "for i in range(0,10):\n",
        "    print('-------------------------',i,'--------------------------')\n",
        "    \n",
        "    #ImageProcessing\n",
        "    run.setNumber(i)\n",
        "    try:\n",
        "      file=run.openFile()\n",
        "    except:\n",
        "      break\n",
        "    text.append(file)\n",
        "    print(file)\n",
        "    if \"concat\" in file:\n",
        "      continue\n",
        "    contours=run.findContour(imageProcessing)\n",
        "    #print(len(contours))\n",
        "    j=0\n",
        "    for contour in contours:\n",
        "        line,div=run.readText(contour)\n",
        "        text.append(line)\n",
        "        if div!=line:\n",
        "          text.append(div)\n",
        "        j+=1\n",
        "    #print(np.array(text).flatten())\n",
        "    #text_df.append(pd.DataFrame(np.array(text).flatten()))"
      ],
      "execution_count": 12,
      "outputs": [
        {
          "output_type": "stream",
          "name": "stdout",
          "text": [
            "------------------------- 0 --------------------------\n",
            "drive/MyDrive/kuba/concat.csv\n",
            "------------------------- 1 --------------------------\n",
            "drive/MyDrive/kuba/concat.gsheet\n",
            "------------------------- 2 --------------------------\n",
            "drive/MyDrive/kuba/fig1.jpg\n",
            "------------------------- 3 --------------------------\n",
            "drive/MyDrive/kuba/fig10.jpg\n",
            "------------------------- 4 --------------------------\n",
            "drive/MyDrive/kuba/fig106.jpg\n",
            "------------------------- 5 --------------------------\n",
            "drive/MyDrive/kuba/fig206.jpg\n",
            "------------------------- 6 --------------------------\n",
            "drive/MyDrive/kuba/fig239.jpg\n",
            "------------------------- 7 --------------------------\n",
            "drive/MyDrive/kuba/fig253.jpg\n",
            "------------------------- 8 --------------------------\n",
            "drive/MyDrive/kuba/fig29.jpg\n",
            "------------------------- 9 --------------------------\n",
            "drive/MyDrive/kuba/fig4.jpg\n"
          ]
        }
      ]
    },
    {
      "cell_type": "code",
      "metadata": {
        "colab": {
          "base_uri": "https://localhost:8080/"
        },
        "id": "R7_gnLZJnifw",
        "outputId": "d9bc5e78-45e8-4831-8f26-22c965e1a9e6"
      },
      "source": [
        "print(len(text))\n",
        "text_pd=pd.DataFrame(np.array(text))"
      ],
      "execution_count": 13,
      "outputs": [
        {
          "output_type": "stream",
          "name": "stdout",
          "text": [
            "411\n"
          ]
        }
      ]
    },
    {
      "cell_type": "code",
      "metadata": {
        "id": "6CM9H1DI8vmq"
      },
      "source": [
        "def rem_fun(x):\n",
        "  split_string = x.split(\"\\n\", 1)\n",
        "  substring = split_string[0]\n",
        "  return substring[0]"
      ],
      "execution_count": 14,
      "outputs": []
    },
    {
      "cell_type": "code",
      "metadata": {
        "id": "-AIw_sCA9v5O"
      },
      "source": [
        "text_pd_new=text_pd.replace(r'\\n',' ', regex=True).astype(str)"
      ],
      "execution_count": 15,
      "outputs": []
    },
    {
      "cell_type": "code",
      "metadata": {
        "id": "yIV34qyH-41p"
      },
      "source": [
        "text_pd_new1=text_pd_new[0].str[:-1]"
      ],
      "execution_count": 16,
      "outputs": []
    },
    {
      "cell_type": "code",
      "metadata": {
        "id": "3Siu-pQY_H6m"
      },
      "source": [
        "text_pd_new1.to_csv('drive/MyDrive/kuba/text1.csv')"
      ],
      "execution_count": 17,
      "outputs": []
    },
    {
      "cell_type": "code",
      "metadata": {
        "id": "VSCMbCO6Dt6W"
      },
      "source": [
        ""
      ],
      "execution_count": null,
      "outputs": []
    }
  ]
}