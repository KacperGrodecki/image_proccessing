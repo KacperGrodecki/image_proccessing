{
  "nbformat": 4,
  "nbformat_minor": 0,
  "metadata": {
    "colab": {
      "name": "kuba_analiza_tekstu.ipynb",
      "provenance": [],
      "collapsed_sections": [],
      "authorship_tag": "ABX9TyOqPrAWLWsw66NQxs9vvF7Z",
      "include_colab_link": true
    },
    "kernelspec": {
      "name": "python3",
      "display_name": "Python 3"
    },
    "language_info": {
      "name": "python"
    }
  },
  "cells": [
    {
      "cell_type": "markdown",
      "metadata": {
        "id": "view-in-github",
        "colab_type": "text"
      },
      "source": [
        "<a href=\"https://colab.research.google.com/github/KacperGrodecki/image_proccessing/blob/main/kuba_analiza_tekstu.ipynb\" target=\"_parent\"><img src=\"https://colab.research.google.com/assets/colab-badge.svg\" alt=\"Open In Colab\"/></a>"
      ]
    },
    {
      "cell_type": "code",
      "metadata": {
        "colab": {
          "base_uri": "https://localhost:8080/"
        },
        "id": "thm0kAjbJmFr",
        "outputId": "15b71cd2-d32a-4281-ac40-67e5573a56cf"
      },
      "source": [
        "from google.colab import drive\n",
        "drive.mount('/content/drive')"
      ],
      "execution_count": 71,
      "outputs": [
        {
          "output_type": "stream",
          "name": "stdout",
          "text": [
            "Drive already mounted at /content/drive; to attempt to forcibly remount, call drive.mount(\"/content/drive\", force_remount=True).\n"
          ]
        }
      ]
    },
    {
      "cell_type": "code",
      "metadata": {
        "id": "qlV4Hx5xKTD0"
      },
      "source": [
        "import pandas as pd\n",
        "import numpy as np\n",
        "import re\n",
        "from difflib import SequenceMatcher\n",
        "import string\n",
        "from sklearn.tree import DecisionTreeClassifier\n",
        "from sklearn.metrics import confusion_matrix\n",
        "import pickle"
      ],
      "execution_count": 72,
      "outputs": []
    },
    {
      "cell_type": "code",
      "metadata": {
        "id": "g0PT3n9oKE4O"
      },
      "source": [
        "import pandas as pd"
      ],
      "execution_count": 73,
      "outputs": []
    },
    {
      "cell_type": "code",
      "metadata": {
        "id": "ELdRn7-JKQA-"
      },
      "source": [
        "#statistics\n",
        "def average_word_length(text):\n",
        "    if isinstance(text, str):\n",
        "        text=re.sub(r'W+', '',text)\n",
        "        if len(text.strip())>0:\n",
        "            total_length = len(text)-text.count(' ')\n",
        "            num_words = len(text.split())\n",
        "            return total_length/num_words\n",
        "        else:\n",
        "            return 0\n",
        "    elif text==np.nan:\n",
        "        return 0\n",
        "    else:\n",
        "        average_word_length(str(text))\n",
        "        \n",
        "def std(text):\n",
        "    if isinstance(text, str):\n",
        "        text=re.sub(r'W+', '',text)\n",
        "        if len(text.strip())>0:\n",
        "            total_length = len(text)-text.count(' ')\n",
        "            num_words = len(text.split())\n",
        "            avg=total_length/num_words\n",
        "            words=text.split()\n",
        "            out=0\n",
        "            for word in words:\n",
        "                out+=(len(word)-avg)**2 \n",
        "            return (out/num_words)**0.5\n",
        "        else:\n",
        "            return 0\n",
        "    elif text==np.nan:\n",
        "        return 0\n",
        "    else:\n",
        "        std(str(text))\n",
        "        \n",
        "def longest(text):\n",
        "    if isinstance(text, str):\n",
        "        if len(text.strip())>0:\n",
        "            words=text.split()\n",
        "            out=0\n",
        "            for word in words:\n",
        "                if len(word)>out:\n",
        "                    out=len(word)\n",
        "            return out\n",
        "        else:\n",
        "            return 0\n",
        "    elif text==np.nan:\n",
        "        return 0\n",
        "    else:\n",
        "        std(str(text))"
      ],
      "execution_count": 74,
      "outputs": []
    },
    {
      "cell_type": "code",
      "metadata": {
        "id": "zFOIEVX6LfaS"
      },
      "source": [
        "#check dictionary correction\n",
        "'''\n",
        "string_pl=string.ascii_lowercase+'ąśćęó'\n",
        "\n",
        "file='drive/MyDrive/kuba/odm.txt'\n",
        "\n",
        "\n",
        "def make_dict(file):\n",
        "    with open(file, encoding='UTF8') as f:\n",
        "        lines = f.readlines()\n",
        "    dict_pl = []\n",
        "    for line in lines:\n",
        "        word=line.split()\n",
        "        dict_pl.append(word)\n",
        " \n",
        "    return [item.replace(',','') for sublist in dict_pl for item in sublist]\n",
        "\n",
        "dict_pl=make_dict(file)\n",
        "\n",
        "def check_pl(text):\n",
        "    return text in dict_pl \n",
        "\n",
        "def dicts_pl():\n",
        "    dicts=[None]*len(string_pl)\n",
        "    i=0\n",
        "    for ch in string_pl:\n",
        "        dicts[i]=[x for x in dict_pl if x[0]==ch ]\n",
        "        i+=1\n",
        "    return dicts\n",
        "        \n",
        "\n",
        "dicts=dicts_pl()\n",
        "\n",
        "key=[None]*len(string_pl)\n",
        "i=0\n",
        "for ch in string_pl:\n",
        "        key[i]=ch\n",
        "        i+=1\n",
        "\n",
        "def check_string_pl(a):\n",
        "    result=0\n",
        "    a=''.join(filter(whitelist.__contains__, a))\n",
        "    for word in a.split():\n",
        "       # print(word,' ',check_pl(word))\n",
        "        result+=int(check_pl_alfabet(word.lower()))\n",
        "    if len(a.split())>0:\n",
        "        return result/len(a.split())\n",
        "    else:\n",
        "        return 0\n",
        "\n",
        "def word_correction(a):\n",
        "    for word in a.split():\n",
        "        if len(word)>1:\n",
        "            if check_string_pl(word.lower())<1:\n",
        "                for i in range(0,len(word)+1):\n",
        "                    if i==0:\n",
        "                        for replace in String_pl:\n",
        "                            word_new=replace+word[1:]\n",
        "                            if check_pl_alfabet(word_new):\n",
        "                                print(word_new)\n",
        "                    else:\n",
        "                        for replace in String_pl:\n",
        "                            word_new=word[:i]+replace+word[i+1:]\n",
        "                            if check_pl_alfabet(word_new):\n",
        "                                print(word_new)\n",
        "'''"
      ],
      "execution_count": 75,
      "outputs": []
    },
    {
      "cell_type": "code",
      "metadata": {
        "id": "08Z5ZXWJMxvx"
      },
      "source": [
        "def char_type_counter(text):\n",
        "    #print(text)\n",
        "    if isinstance(text, str):\n",
        "        dig,alpha=0,0\n",
        "        for char in text.strip():\n",
        "            if char.isdigit():\n",
        "                dig+=1\n",
        "            elif char.isalpha():\n",
        "                alpha+=1\n",
        "        if dig+alpha==0:\n",
        "            return 'empty'\n",
        "        else:\n",
        "            return alpha/(dig+alpha)\n",
        "    else:\n",
        "        return 0\n",
        "\n",
        "def unique_chars_set(s):\n",
        "    if type(s) ==str:\n",
        "      return  (len(s)-len(set(s)))/len(s)\n",
        "    else:\n",
        "      return 0"
      ],
      "execution_count": 116,
      "outputs": []
    },
    {
      "cell_type": "code",
      "metadata": {
        "id": "g11DtMpuJmrS"
      },
      "source": [
        "labels=pd.read_csv('drive/MyDrive/kuba/tekst.csv',index_col=0)"
      ],
      "execution_count": 77,
      "outputs": []
    },
    {
      "cell_type": "code",
      "metadata": {
        "id": "cfKiBgM8KJ7l"
      },
      "source": [
        "averages=labels.applymap(lambda x: average_word_length(x))\n",
        "stds=labels.applymap(lambda x: std(x))\n",
        "long=labels.applymap(lambda x: longest(x))"
      ],
      "execution_count": 78,
      "outputs": []
    },
    {
      "cell_type": "code",
      "metadata": {
        "id": "sSW6kMW7NUPz"
      },
      "source": [
        "labels=pd.read_excel('drive/MyDrive/kuba/concat1.xlsx',index_col=0)"
      ],
      "execution_count": 79,
      "outputs": []
    },
    {
      "cell_type": "code",
      "metadata": {
        "id": "laF-5B-JjxRR"
      },
      "source": [
        "averages=labels[0].apply(lambda x: average_word_length(x))\n",
        "stds=labels[0].apply(lambda x: std(x))\n",
        "long=labels[0].apply(lambda x: longest(x))\n",
        "char_type_count=labels[0].apply(lambda x: char_type_counter(x))\n",
        "unique_chars=labels[0].apply(lambda x: unique_chars_set(x))\n",
        "errors=pd.to_numeric(labels[0].str.contains('ERROR'))"
      ],
      "execution_count": 117,
      "outputs": []
    },
    {
      "cell_type": "code",
      "metadata": {
        "id": "vqOaIefXZuny"
      },
      "source": [
        "concat=pd.concat([averages,stds,long,char_type_count,unique_chars,errors],axis=1)\n",
        "concat.fillna(0,inplace=True)"
      ],
      "execution_count": 118,
      "outputs": []
    },
    {
      "cell_type": "code",
      "metadata": {
        "colab": {
          "base_uri": "https://localhost:8080/",
          "height": 292
        },
        "id": "e4U9quWbNggi",
        "outputId": "2660b31f-d6e4-4ac1-e284-0a1a7c8b8542"
      },
      "source": [
        "pd.to_numeric(concat)"
      ],
      "execution_count": 134,
      "outputs": [
        {
          "output_type": "error",
          "ename": "TypeError",
          "evalue": "ignored",
          "traceback": [
            "\u001b[0;31m---------------------------------------------------------------------------\u001b[0m",
            "\u001b[0;31mTypeError\u001b[0m                                 Traceback (most recent call last)",
            "\u001b[0;32m<ipython-input-134-29afceb740ec>\u001b[0m in \u001b[0;36m<module>\u001b[0;34m()\u001b[0m\n\u001b[0;32m----> 1\u001b[0;31m \u001b[0mpd\u001b[0m\u001b[0;34m.\u001b[0m\u001b[0mto_numeric\u001b[0m\u001b[0;34m(\u001b[0m\u001b[0mconcat\u001b[0m\u001b[0;34m)\u001b[0m\u001b[0;34m\u001b[0m\u001b[0;34m\u001b[0m\u001b[0m\n\u001b[0m",
            "\u001b[0;32m/usr/local/lib/python3.7/dist-packages/pandas/core/tools/numeric.py\u001b[0m in \u001b[0;36mto_numeric\u001b[0;34m(arg, errors, downcast)\u001b[0m\n\u001b[1;32m    137\u001b[0m         \u001b[0mvalues\u001b[0m \u001b[0;34m=\u001b[0m \u001b[0mnp\u001b[0m\u001b[0;34m.\u001b[0m\u001b[0marray\u001b[0m\u001b[0;34m(\u001b[0m\u001b[0;34m[\u001b[0m\u001b[0marg\u001b[0m\u001b[0;34m]\u001b[0m\u001b[0;34m,\u001b[0m \u001b[0mdtype\u001b[0m\u001b[0;34m=\u001b[0m\u001b[0;34m\"O\"\u001b[0m\u001b[0;34m)\u001b[0m\u001b[0;34m\u001b[0m\u001b[0;34m\u001b[0m\u001b[0m\n\u001b[1;32m    138\u001b[0m     \u001b[0;32melif\u001b[0m \u001b[0mgetattr\u001b[0m\u001b[0;34m(\u001b[0m\u001b[0marg\u001b[0m\u001b[0;34m,\u001b[0m \u001b[0;34m\"ndim\"\u001b[0m\u001b[0;34m,\u001b[0m \u001b[0;36m1\u001b[0m\u001b[0;34m)\u001b[0m \u001b[0;34m>\u001b[0m \u001b[0;36m1\u001b[0m\u001b[0;34m:\u001b[0m\u001b[0;34m\u001b[0m\u001b[0;34m\u001b[0m\u001b[0m\n\u001b[0;32m--> 139\u001b[0;31m         \u001b[0;32mraise\u001b[0m \u001b[0mTypeError\u001b[0m\u001b[0;34m(\u001b[0m\u001b[0;34m\"arg must be a list, tuple, 1-d array, or Series\"\u001b[0m\u001b[0;34m)\u001b[0m\u001b[0;34m\u001b[0m\u001b[0;34m\u001b[0m\u001b[0m\n\u001b[0m\u001b[1;32m    140\u001b[0m     \u001b[0;32melse\u001b[0m\u001b[0;34m:\u001b[0m\u001b[0;34m\u001b[0m\u001b[0;34m\u001b[0m\u001b[0m\n\u001b[1;32m    141\u001b[0m         \u001b[0mvalues\u001b[0m \u001b[0;34m=\u001b[0m \u001b[0marg\u001b[0m\u001b[0;34m\u001b[0m\u001b[0;34m\u001b[0m\u001b[0m\n",
            "\u001b[0;31mTypeError\u001b[0m: arg must be a list, tuple, 1-d array, or Series"
          ]
        }
      ]
    },
    {
      "cell_type": "code",
      "metadata": {
        "id": "Nfy0elO7ihJF"
      },
      "source": [
        "from sklearn.preprocessing import StandardScaler"
      ],
      "execution_count": 120,
      "outputs": []
    },
    {
      "cell_type": "code",
      "metadata": {
        "id": "SZ_MYAvoiqQg"
      },
      "source": [
        "scaler = StandardScaler()"
      ],
      "execution_count": 130,
      "outputs": []
    },
    {
      "cell_type": "code",
      "metadata": {
        "id": "YR-baBgCiwZI",
        "outputId": "be179844-8fd3-44fa-974b-5ba872ba58d0",
        "colab": {
          "base_uri": "https://localhost:8080/",
          "height": 316
        }
      },
      "source": [
        "scaler.fit(concat.values)"
      ],
      "execution_count": 132,
      "outputs": [
        {
          "output_type": "error",
          "ename": "ValueError",
          "evalue": "ignored",
          "traceback": [
            "\u001b[0;31m---------------------------------------------------------------------------\u001b[0m",
            "\u001b[0;31mValueError\u001b[0m                                Traceback (most recent call last)",
            "\u001b[0;32m<ipython-input-132-c68bb1da1f60>\u001b[0m in \u001b[0;36m<module>\u001b[0;34m()\u001b[0m\n\u001b[0;32m----> 1\u001b[0;31m \u001b[0mscaler\u001b[0m\u001b[0;34m.\u001b[0m\u001b[0mfit\u001b[0m\u001b[0;34m(\u001b[0m\u001b[0mconcat\u001b[0m\u001b[0;34m.\u001b[0m\u001b[0mvalues\u001b[0m\u001b[0;34m)\u001b[0m\u001b[0;34m\u001b[0m\u001b[0;34m\u001b[0m\u001b[0m\n\u001b[0m",
            "\u001b[0;32m/usr/local/lib/python3.7/dist-packages/sklearn/preprocessing/_data.py\u001b[0m in \u001b[0;36mfit\u001b[0;34m(self, X, y)\u001b[0m\n\u001b[1;32m    667\u001b[0m         \u001b[0;31m# Reset internal state before fitting\u001b[0m\u001b[0;34m\u001b[0m\u001b[0;34m\u001b[0m\u001b[0;34m\u001b[0m\u001b[0m\n\u001b[1;32m    668\u001b[0m         \u001b[0mself\u001b[0m\u001b[0;34m.\u001b[0m\u001b[0m_reset\u001b[0m\u001b[0;34m(\u001b[0m\u001b[0;34m)\u001b[0m\u001b[0;34m\u001b[0m\u001b[0;34m\u001b[0m\u001b[0m\n\u001b[0;32m--> 669\u001b[0;31m         \u001b[0;32mreturn\u001b[0m \u001b[0mself\u001b[0m\u001b[0;34m.\u001b[0m\u001b[0mpartial_fit\u001b[0m\u001b[0;34m(\u001b[0m\u001b[0mX\u001b[0m\u001b[0;34m,\u001b[0m \u001b[0my\u001b[0m\u001b[0;34m)\u001b[0m\u001b[0;34m\u001b[0m\u001b[0;34m\u001b[0m\u001b[0m\n\u001b[0m\u001b[1;32m    670\u001b[0m \u001b[0;34m\u001b[0m\u001b[0m\n\u001b[1;32m    671\u001b[0m     \u001b[0;32mdef\u001b[0m \u001b[0mpartial_fit\u001b[0m\u001b[0;34m(\u001b[0m\u001b[0mself\u001b[0m\u001b[0;34m,\u001b[0m \u001b[0mX\u001b[0m\u001b[0;34m,\u001b[0m \u001b[0my\u001b[0m\u001b[0;34m=\u001b[0m\u001b[0;32mNone\u001b[0m\u001b[0;34m)\u001b[0m\u001b[0;34m:\u001b[0m\u001b[0;34m\u001b[0m\u001b[0;34m\u001b[0m\u001b[0m\n",
            "\u001b[0;32m/usr/local/lib/python3.7/dist-packages/sklearn/preprocessing/_data.py\u001b[0m in \u001b[0;36mpartial_fit\u001b[0;34m(self, X, y)\u001b[0m\n\u001b[1;32m    698\u001b[0m         X = check_array(X, accept_sparse=('csr', 'csc'),\n\u001b[1;32m    699\u001b[0m                         \u001b[0mestimator\u001b[0m\u001b[0;34m=\u001b[0m\u001b[0mself\u001b[0m\u001b[0;34m,\u001b[0m \u001b[0mdtype\u001b[0m\u001b[0;34m=\u001b[0m\u001b[0mFLOAT_DTYPES\u001b[0m\u001b[0;34m,\u001b[0m\u001b[0;34m\u001b[0m\u001b[0;34m\u001b[0m\u001b[0m\n\u001b[0;32m--> 700\u001b[0;31m                         force_all_finite='allow-nan')\n\u001b[0m\u001b[1;32m    701\u001b[0m \u001b[0;34m\u001b[0m\u001b[0m\n\u001b[1;32m    702\u001b[0m         \u001b[0;31m# Even in the case of `with_mean=False`, we update the mean anyway\u001b[0m\u001b[0;34m\u001b[0m\u001b[0;34m\u001b[0m\u001b[0;34m\u001b[0m\u001b[0m\n",
            "\u001b[0;32m/usr/local/lib/python3.7/dist-packages/sklearn/utils/validation.py\u001b[0m in \u001b[0;36mcheck_array\u001b[0;34m(array, accept_sparse, accept_large_sparse, dtype, order, copy, force_all_finite, ensure_2d, allow_nd, ensure_min_samples, ensure_min_features, warn_on_dtype, estimator)\u001b[0m\n\u001b[1;32m    529\u001b[0m                     \u001b[0marray\u001b[0m \u001b[0;34m=\u001b[0m \u001b[0marray\u001b[0m\u001b[0;34m.\u001b[0m\u001b[0mastype\u001b[0m\u001b[0;34m(\u001b[0m\u001b[0mdtype\u001b[0m\u001b[0;34m,\u001b[0m \u001b[0mcasting\u001b[0m\u001b[0;34m=\u001b[0m\u001b[0;34m\"unsafe\"\u001b[0m\u001b[0;34m,\u001b[0m \u001b[0mcopy\u001b[0m\u001b[0;34m=\u001b[0m\u001b[0;32mFalse\u001b[0m\u001b[0;34m)\u001b[0m\u001b[0;34m\u001b[0m\u001b[0;34m\u001b[0m\u001b[0m\n\u001b[1;32m    530\u001b[0m                 \u001b[0;32melse\u001b[0m\u001b[0;34m:\u001b[0m\u001b[0;34m\u001b[0m\u001b[0;34m\u001b[0m\u001b[0m\n\u001b[0;32m--> 531\u001b[0;31m                     \u001b[0marray\u001b[0m \u001b[0;34m=\u001b[0m \u001b[0mnp\u001b[0m\u001b[0;34m.\u001b[0m\u001b[0masarray\u001b[0m\u001b[0;34m(\u001b[0m\u001b[0marray\u001b[0m\u001b[0;34m,\u001b[0m \u001b[0morder\u001b[0m\u001b[0;34m=\u001b[0m\u001b[0morder\u001b[0m\u001b[0;34m,\u001b[0m \u001b[0mdtype\u001b[0m\u001b[0;34m=\u001b[0m\u001b[0mdtype\u001b[0m\u001b[0;34m)\u001b[0m\u001b[0;34m\u001b[0m\u001b[0;34m\u001b[0m\u001b[0m\n\u001b[0m\u001b[1;32m    532\u001b[0m             \u001b[0;32mexcept\u001b[0m \u001b[0mComplexWarning\u001b[0m\u001b[0;34m:\u001b[0m\u001b[0;34m\u001b[0m\u001b[0;34m\u001b[0m\u001b[0m\n\u001b[1;32m    533\u001b[0m                 raise ValueError(\"Complex data not supported\\n\"\n",
            "\u001b[0;32m/usr/local/lib/python3.7/dist-packages/numpy/core/_asarray.py\u001b[0m in \u001b[0;36masarray\u001b[0;34m(a, dtype, order)\u001b[0m\n\u001b[1;32m     81\u001b[0m \u001b[0;34m\u001b[0m\u001b[0m\n\u001b[1;32m     82\u001b[0m     \"\"\"\n\u001b[0;32m---> 83\u001b[0;31m     \u001b[0;32mreturn\u001b[0m \u001b[0marray\u001b[0m\u001b[0;34m(\u001b[0m\u001b[0ma\u001b[0m\u001b[0;34m,\u001b[0m \u001b[0mdtype\u001b[0m\u001b[0;34m,\u001b[0m \u001b[0mcopy\u001b[0m\u001b[0;34m=\u001b[0m\u001b[0;32mFalse\u001b[0m\u001b[0;34m,\u001b[0m \u001b[0morder\u001b[0m\u001b[0;34m=\u001b[0m\u001b[0morder\u001b[0m\u001b[0;34m)\u001b[0m\u001b[0;34m\u001b[0m\u001b[0;34m\u001b[0m\u001b[0m\n\u001b[0m\u001b[1;32m     84\u001b[0m \u001b[0;34m\u001b[0m\u001b[0m\n\u001b[1;32m     85\u001b[0m \u001b[0;34m\u001b[0m\u001b[0m\n",
            "\u001b[0;31mValueError\u001b[0m: could not convert string to float: 'empty'"
          ]
        }
      ]
    }
  ]
}