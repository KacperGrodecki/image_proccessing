{
  "nbformat": 4,
  "nbformat_minor": 0,
  "metadata": {
    "colab": {
      "name": "kuba_analiza_tekstu.ipynb",
      "provenance": [],
      "collapsed_sections": [],
      "authorship_tag": "ABX9TyOvp19YAJ+hKAK6Ax2oeCZy",
      "include_colab_link": true
    },
    "kernelspec": {
      "name": "python3",
      "display_name": "Python 3"
    },
    "language_info": {
      "name": "python"
    }
  },
  "cells": [
    {
      "cell_type": "markdown",
      "metadata": {
        "id": "view-in-github",
        "colab_type": "text"
      },
      "source": [
        "<a href=\"https://colab.research.google.com/github/KacperGrodecki/image_proccessing/blob/main/kuba_analiza_tekstu.ipynb\" target=\"_parent\"><img src=\"https://colab.research.google.com/assets/colab-badge.svg\" alt=\"Open In Colab\"/></a>"
      ]
    },
    {
      "cell_type": "code",
      "metadata": {
        "colab": {
          "base_uri": "https://localhost:8080/"
        },
        "id": "thm0kAjbJmFr",
        "outputId": "acefe203-568f-42c4-cfb3-0391f762cb23"
      },
      "source": [
        "from google.colab import drive\n",
        "drive.mount('/content/drive')"
      ],
      "execution_count": 1,
      "outputs": [
        {
          "output_type": "stream",
          "name": "stdout",
          "text": [
            "Mounted at /content/drive\n"
          ]
        }
      ]
    },
    {
      "cell_type": "code",
      "metadata": {
        "id": "qlV4Hx5xKTD0"
      },
      "source": [
        "import pandas as pd\n",
        "import numpy as np\n",
        "import re\n",
        "from difflib import SequenceMatcher\n",
        "import string\n",
        "from sklearn.tree import DecisionTreeClassifier\n",
        "from sklearn.metrics import confusion_matrix\n",
        "import pickle"
      ],
      "execution_count": 18,
      "outputs": []
    },
    {
      "cell_type": "code",
      "metadata": {
        "id": "g0PT3n9oKE4O"
      },
      "source": [
        "import pandas as pd"
      ],
      "execution_count": 2,
      "outputs": []
    },
    {
      "cell_type": "code",
      "metadata": {
        "id": "ELdRn7-JKQA-"
      },
      "source": [
        "def average_word_length(text):\n",
        "    if isinstance(text, str):\n",
        "        text=re.sub(r'W+', '',text)\n",
        "        if len(text.strip())>0:\n",
        "            total_length = len(text)-text.count(' ')\n",
        "            num_words = len(text.split())\n",
        "            return total_length/num_words\n",
        "        else:\n",
        "            return 0\n",
        "    elif text==np.nan:\n",
        "        return 0\n",
        "    else:\n",
        "        average_word_length(str(text))\n",
        "        \n",
        "def std(text):\n",
        "    if isinstance(text, str):\n",
        "        text=re.sub(r'W+', '',text)\n",
        "        if len(text.strip())>0:\n",
        "            total_length = len(text)-text.count(' ')\n",
        "            num_words = len(text.split())\n",
        "            avg=total_length/num_words\n",
        "            words=text.split()\n",
        "            out=0\n",
        "            for word in words:\n",
        "                out+=(len(word)-avg)**2 \n",
        "            return (out/num_words)**0.5\n",
        "        else:\n",
        "            return 0\n",
        "    elif text==np.nan:\n",
        "        return 0\n",
        "    else:\n",
        "        std(str(text))\n",
        "        \n",
        "def longest(text):\n",
        "    if isinstance(text, str):\n",
        "        if len(text.strip())>0:\n",
        "            words=text.split()\n",
        "            out=0\n",
        "            for word in words:\n",
        "                if len(word)>out:\n",
        "                    out=len(word)\n",
        "            return out\n",
        "        else:\n",
        "            return 0\n",
        "    elif text==np.nan:\n",
        "        return 0\n",
        "    else:\n",
        "        std(str(text))"
      ],
      "execution_count": 6,
      "outputs": []
    },
    {
      "cell_type": "code",
      "metadata": {
        "id": "zFOIEVX6LfaS"
      },
      "source": [
        "string_pl=string.ascii_lowercase+'ąśćęó'\n",
        "\n",
        "file='drive/MyDrive/kuba/odm.txt'\n",
        "\n",
        "\n",
        "def make_dict(file):\n",
        "    with open(file, encoding='UTF8') as f:\n",
        "        lines = f.readlines()\n",
        "    dict_pl = []\n",
        "    for line in lines:\n",
        "        word=line.split()\n",
        "        dict_pl.append(word)\n",
        " \n",
        "    return [item.replace(',','') for sublist in dict_pl for item in sublist]\n",
        "\n",
        "dict_pl=make_dict(file)\n",
        "\n",
        "def check_pl(text):\n",
        "    return text in dict_pl \n",
        "\n",
        "def dicts_pl():\n",
        "    dicts=[None]*len(string_pl)\n",
        "    i=0\n",
        "    for ch in string_pl:\n",
        "        dicts[i]=[x for x in dict_pl if x[0]==ch ]\n",
        "        i+=1\n",
        "    return dicts\n",
        "        \n",
        "\n",
        "dicts=dicts_pl()\n",
        "\n",
        "key=[None]*len(string_pl)\n",
        "i=0\n",
        "for ch in string_pl:\n",
        "        key[i]=ch\n",
        "        i+=1"
      ],
      "execution_count": 19,
      "outputs": []
    },
    {
      "cell_type": "code",
      "metadata": {
        "id": "08Z5ZXWJMxvx"
      },
      "source": [
        "def word_check(text):\n",
        "    if isinstance(text, str):\n",
        "        if len(text.strip())>0:\n",
        "             num_words = len(text.split())\n",
        "             words=text.split()\n",
        "             correct=0\n",
        "             for word in words:\n",
        "                correct+=int(d.check(word))\n",
        "             return correct/num_words\n",
        "        else:\n",
        "             return 0\n",
        "    else:\n",
        "        return text\n",
        "\n",
        "def clean_up(s):\n",
        "    return s.strip(string.punctuation)\n",
        "\n",
        "def average_word_length(text):\n",
        "    if isinstance(text, str):\n",
        "        text=re.sub(r'W+', '',text)\n",
        "        if len(text.strip())>0:\n",
        "            total_length = len(text)-text.count(' ')\n",
        "            num_words = len(text.split())\n",
        "            return total_length/num_words\n",
        "        else:\n",
        "            return 0\n",
        "    elif text==np.nan:\n",
        "        return 0\n",
        "    else:\n",
        "        average_word_length(str(text))\n",
        "        \n",
        "def std(text):\n",
        "    if isinstance(text, str):\n",
        "        text=re.sub(r'W+', '',text)\n",
        "        if len(text.strip())>0:\n",
        "            total_length = len(text)-text.count(' ')\n",
        "            num_words = len(text.split())\n",
        "            avg=total_length/num_words\n",
        "            words=text.split()\n",
        "            out=0\n",
        "            for word in words:\n",
        "                out+=(len(word)-avg)**2 \n",
        "            return (out/num_words)**0.5\n",
        "        else:\n",
        "            return 0\n",
        "    elif text==np.nan:\n",
        "        return 0\n",
        "    else:\n",
        "        std(str(text))\n",
        "        \n",
        "def longest(text):\n",
        "    if isinstance(text, str):\n",
        "        if len(text.strip())>0:\n",
        "            words=text.split()\n",
        "            out=0\n",
        "            for word in words:\n",
        "                if len(word)>out:\n",
        "                    out=len(word)\n",
        "            return out\n",
        "        else:\n",
        "            return 0\n",
        "    elif text==np.nan:\n",
        "        return 0\n",
        "    else:\n",
        "        std(str(text))\n",
        "\n",
        "\n",
        "\n",
        "def consist_number(string):\n",
        "    return type(string)\n",
        "    if type(string) is str:\n",
        "        return any(i.isdigit() for i in string)\n",
        "    \n",
        "def char_type_counter(text):\n",
        "    if isinstance(text, str):\n",
        "        dig,alpha=0,0\n",
        "        for char in text.strip():\n",
        "            if char.isdigit():\n",
        "                dig+=1\n",
        "            elif char.isalpha():\n",
        "                alpha+=1\n",
        "        if dig+alpha==0:\n",
        "            return 'empty'\n",
        "        else:\n",
        "            return alpha/(dig+alpha)\n",
        "    else:\n",
        "        return 0\n",
        "\n",
        "def spell_checker(text):\n",
        "    new_text=''\n",
        "    new_word=''\n",
        "    for word in text.split():\n",
        "        #print(word)\n",
        "        if word[-1]=='.' or word[-1]==',':\n",
        "            new_text+=word+' '\n",
        "        elif word[0]=='\"':\n",
        "            new_text+=word[0]+word[1:].lower()\n",
        "        else:\n",
        "            new_word=word[0]+word[1:].lower()\n",
        "            #przerobić duże na małe i z powrotem\n",
        "            new_text+=spell(new_word)+' '\n",
        "    return new_text\n",
        "    \n",
        "def char_type_counter(text):\n",
        "    if isinstance(text, str):\n",
        "        dig,alpha=0,0\n",
        "        for char in text.strip():\n",
        "            if char.isdigit():\n",
        "                dig+=1\n",
        "            elif char.isalpha():\n",
        "                alpha+=1\n",
        "        if dig+alpha==0:\n",
        "            return 'empty'\n",
        "        else:\n",
        "            return alpha/(dig+alpha)\n",
        "    else:\n",
        "        return 0"
      ],
      "execution_count": null,
      "outputs": []
    },
    {
      "cell_type": "code",
      "metadata": {
        "id": "g11DtMpuJmrS"
      },
      "source": [
        "labels=pd.read_csv('drive/MyDrive/kuba/tekst.csv',index_col=0)"
      ],
      "execution_count": 13,
      "outputs": []
    },
    {
      "cell_type": "code",
      "metadata": {
        "id": "cfKiBgM8KJ7l"
      },
      "source": [
        "averages=labels.applymap(lambda x: average_word_length(x))\n",
        "stds=labels.applymap(lambda x: std(x))\n",
        "long=labels.applymap(lambda x: longest(x))"
      ],
      "execution_count": 15,
      "outputs": []
    },
    {
      "cell_type": "code",
      "metadata": {
        "colab": {
          "base_uri": "https://localhost:8080/",
          "height": 204
        },
        "id": "42gjIj44KgWb",
        "outputId": "d5609c99-0e96-4f61-a421-ed45c22a7289"
      },
      "source": [
        "labels.head()"
      ],
      "execution_count": 14,
      "outputs": [
        {
          "output_type": "execute_result",
          "data": {
            "text/html": [
              "<div>\n",
              "<style scoped>\n",
              "    .dataframe tbody tr th:only-of-type {\n",
              "        vertical-align: middle;\n",
              "    }\n",
              "\n",
              "    .dataframe tbody tr th {\n",
              "        vertical-align: top;\n",
              "    }\n",
              "\n",
              "    .dataframe thead th {\n",
              "        text-align: right;\n",
              "    }\n",
              "</style>\n",
              "<table border=\"1\" class=\"dataframe\">\n",
              "  <thead>\n",
              "    <tr style=\"text-align: right;\">\n",
              "      <th></th>\n",
              "      <th>0</th>\n",
              "    </tr>\n",
              "  </thead>\n",
              "  <tbody>\n",
              "    <tr>\n",
              "      <th>0</th>\n",
              "      <td>drive/MyDrive/kuba/fig1.jp</td>\n",
              "    </tr>\n",
              "    <tr>\n",
              "      <th>1</th>\n",
              "      <td></td>\n",
              "    </tr>\n",
              "    <tr>\n",
              "      <th>2</th>\n",
              "      <td>Własność archiwum Aktotwórca Tytuł teczki Daty...</td>\n",
              "    </tr>\n",
              "    <tr>\n",
              "      <th>3</th>\n",
              "      <td>IPN BU 0 639/223</td>\n",
              "    </tr>\n",
              "    <tr>\n",
              "      <th>4</th>\n",
              "      <td>KARTA INFORMACYJNA</td>\n",
              "    </tr>\n",
              "  </tbody>\n",
              "</table>\n",
              "</div>"
            ],
            "text/plain": [
              "                                                   0\n",
              "0                         drive/MyDrive/kuba/fig1.jp\n",
              "1                                                  \n",
              "\n",
              "2  Własność archiwum Aktotwórca Tytuł teczki Daty...\n",
              "3                                 IPN BU 0 639/223 \n",
              "\n",
              "4                               KARTA INFORMACYJNA "
            ]
          },
          "metadata": {},
          "execution_count": 14
        }
      ]
    },
    {
      "cell_type": "code",
      "metadata": {
        "colab": {
          "base_uri": "https://localhost:8080/"
        },
        "id": "f9Tpg4R6Krdk",
        "outputId": "d94cf722-264e-4a67-f89c-9ec597a4ce12"
      },
      "source": [
        "averages.shape"
      ],
      "execution_count": 16,
      "outputs": [
        {
          "output_type": "execute_result",
          "data": {
            "text/plain": [
              "(103, 1)"
            ]
          },
          "metadata": {},
          "execution_count": 16
        }
      ]
    }
  ]
}