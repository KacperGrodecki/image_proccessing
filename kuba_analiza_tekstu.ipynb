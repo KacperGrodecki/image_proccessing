{
  "nbformat": 4,
  "nbformat_minor": 0,
  "metadata": {
    "colab": {
      "name": "kuba_analiza_tekstu.ipynb",
      "provenance": [],
      "collapsed_sections": [],
      "authorship_tag": "ABX9TyODdJU4bfAeaYcTaMlUYmCb",
      "include_colab_link": true
    },
    "kernelspec": {
      "name": "python3",
      "display_name": "Python 3"
    },
    "language_info": {
      "name": "python"
    }
  },
  "cells": [
    {
      "cell_type": "markdown",
      "metadata": {
        "id": "view-in-github",
        "colab_type": "text"
      },
      "source": [
        "<a href=\"https://colab.research.google.com/github/KacperGrodecki/image_proccessing/blob/main/kuba_analiza_tekstu.ipynb\" target=\"_parent\"><img src=\"https://colab.research.google.com/assets/colab-badge.svg\" alt=\"Open In Colab\"/></a>"
      ]
    },
    {
      "cell_type": "code",
      "metadata": {
        "colab": {
          "base_uri": "https://localhost:8080/"
        },
        "id": "thm0kAjbJmFr",
        "outputId": "d94bdbed-415b-4550-8400-6dea953624fa"
      },
      "source": [
        "from google.colab import drive\n",
        "drive.mount('/content/drive')"
      ],
      "execution_count": 1,
      "outputs": [
        {
          "output_type": "stream",
          "name": "stdout",
          "text": [
            "Mounted at /content/drive\n"
          ]
        }
      ]
    },
    {
      "cell_type": "code",
      "metadata": {
        "id": "qlV4Hx5xKTD0"
      },
      "source": [
        "import pandas as pd\n",
        "import numpy as np\n",
        "import re\n",
        "from difflib import SequenceMatcher\n",
        "import string\n",
        "from sklearn.tree import DecisionTreeClassifier\n",
        "from sklearn.metrics import confusion_matrix\n",
        "import pickle"
      ],
      "execution_count": 2,
      "outputs": []
    },
    {
      "cell_type": "code",
      "metadata": {
        "id": "g0PT3n9oKE4O"
      },
      "source": [
        "import pandas as pd"
      ],
      "execution_count": 3,
      "outputs": []
    },
    {
      "cell_type": "code",
      "metadata": {
        "id": "ELdRn7-JKQA-"
      },
      "source": [
        "#statistics\n",
        "def average_word_length(text):\n",
        "    if isinstance(text, str):\n",
        "        text=re.sub(r'W+', '',text)\n",
        "        if len(text.strip())>0:\n",
        "            total_length = len(text)-text.count(' ')\n",
        "            num_words = len(text.split())\n",
        "            return total_length/num_words\n",
        "        else:\n",
        "            return 0\n",
        "    elif text==np.nan:\n",
        "        return 0\n",
        "    else:\n",
        "        average_word_length(str(text))\n",
        "        \n",
        "def std(text):\n",
        "    if isinstance(text, str):\n",
        "        text=re.sub(r'W+', '',text)\n",
        "        if len(text.strip())>0:\n",
        "            total_length = len(text)-text.count(' ')\n",
        "            num_words = len(text.split())\n",
        "            avg=total_length/num_words\n",
        "            words=text.split()\n",
        "            out=0\n",
        "            for word in words:\n",
        "                out+=(len(word)-avg)**2 \n",
        "            return (out/num_words)**0.5\n",
        "        else:\n",
        "            return 0\n",
        "    elif text==np.nan:\n",
        "        return 0\n",
        "    else:\n",
        "        std(str(text))\n",
        "        \n",
        "def longest(text):\n",
        "    if isinstance(text, str):\n",
        "        if len(text.strip())>0:\n",
        "            words=text.split()\n",
        "            out=0\n",
        "            for word in words:\n",
        "                if len(word)>out:\n",
        "                    out=len(word)\n",
        "            return out\n",
        "        else:\n",
        "            return 0\n",
        "    elif text==np.nan:\n",
        "        return 0\n",
        "    else:\n",
        "        std(str(text))"
      ],
      "execution_count": 4,
      "outputs": []
    },
    {
      "cell_type": "code",
      "metadata": {
        "id": "zFOIEVX6LfaS",
        "colab": {
          "base_uri": "https://localhost:8080/",
          "height": 124
        },
        "outputId": "33b033d1-d306-493a-cef3-1b050201cb46"
      },
      "source": [
        "#check dictionary correction\n",
        "'''\n",
        "string_pl=string.ascii_lowercase+'ąśćęó'\n",
        "\n",
        "file='drive/MyDrive/kuba/odm.txt'\n",
        "\n",
        "\n",
        "def make_dict(file):\n",
        "    with open(file, encoding='UTF8') as f:\n",
        "        lines = f.readlines()\n",
        "    dict_pl = []\n",
        "    for line in lines:\n",
        "        word=line.split()\n",
        "        dict_pl.append(word)\n",
        " \n",
        "    return [item.replace(',','') for sublist in dict_pl for item in sublist]\n",
        "\n",
        "dict_pl=make_dict(file)\n",
        "\n",
        "def check_pl(text):\n",
        "    return text in dict_pl \n",
        "\n",
        "def dicts_pl():\n",
        "    dicts=[None]*len(string_pl)\n",
        "    i=0\n",
        "    for ch in string_pl:\n",
        "        dicts[i]=[x for x in dict_pl if x[0]==ch ]\n",
        "        i+=1\n",
        "    return dicts\n",
        "        \n",
        "\n",
        "dicts=dicts_pl()\n",
        "\n",
        "key=[None]*len(string_pl)\n",
        "i=0\n",
        "for ch in string_pl:\n",
        "        key[i]=ch\n",
        "        i+=1\n",
        "\n",
        "def check_string_pl(a):\n",
        "    result=0\n",
        "    a=''.join(filter(whitelist.__contains__, a))\n",
        "    for word in a.split():\n",
        "       # print(word,' ',check_pl(word))\n",
        "        result+=int(check_pl_alfabet(word.lower()))\n",
        "    if len(a.split())>0:\n",
        "        return result/len(a.split())\n",
        "    else:\n",
        "        return 0\n",
        "\n",
        "def word_correction(a):\n",
        "    for word in a.split():\n",
        "        if len(word)>1:\n",
        "            if check_string_pl(word.lower())<1:\n",
        "                for i in range(0,len(word)+1):\n",
        "                    if i==0:\n",
        "                        for replace in String_pl:\n",
        "                            word_new=replace+word[1:]\n",
        "                            if check_pl_alfabet(word_new):\n",
        "                                print(word_new)\n",
        "                    else:\n",
        "                        for replace in String_pl:\n",
        "                            word_new=word[:i]+replace+word[i+1:]\n",
        "                            if check_pl_alfabet(word_new):\n",
        "                                print(word_new)\n",
        "'''"
      ],
      "execution_count": 5,
      "outputs": [
        {
          "output_type": "execute_result",
          "data": {
            "application/vnd.google.colaboratory.intrinsic+json": {
              "type": "string"
            },
            "text/plain": [
              "\"\\nstring_pl=string.ascii_lowercase+'ąśćęó'\\n\\nfile='drive/MyDrive/kuba/odm.txt'\\n\\n\\ndef make_dict(file):\\n    with open(file, encoding='UTF8') as f:\\n        lines = f.readlines()\\n    dict_pl = []\\n    for line in lines:\\n        word=line.split()\\n        dict_pl.append(word)\\n \\n    return [item.replace(',','') for sublist in dict_pl for item in sublist]\\n\\ndict_pl=make_dict(file)\\n\\ndef check_pl(text):\\n    return text in dict_pl \\n\\ndef dicts_pl():\\n    dicts=[None]*len(string_pl)\\n    i=0\\n    for ch in string_pl:\\n        dicts[i]=[x for x in dict_pl if x[0]==ch ]\\n        i+=1\\n    return dicts\\n        \\n\\ndicts=dicts_pl()\\n\\nkey=[None]*len(string_pl)\\ni=0\\nfor ch in string_pl:\\n        key[i]=ch\\n        i+=1\\n\\ndef check_string_pl(a):\\n    result=0\\n    a=''.join(filter(whitelist.__contains__, a))\\n    for word in a.split():\\n       # print(word,' ',check_pl(word))\\n        result+=int(check_pl_alfabet(word.lower()))\\n    if len(a.split())>0:\\n        return result/len(a.split())\\n    else:\\n        return 0\\n\\ndef word_correction(a):\\n    for word in a.split():\\n        if len(word)>1:\\n            if check_string_pl(word.lower())<1:\\n                for i in range(0,len(word)+1):\\n                    if i==0:\\n                        for replace in String_pl:\\n                            word_new=replace+word[1:]\\n                            if check_pl_alfabet(word_new):\\n                                print(word_new)\\n                    else:\\n                        for replace in String_pl:\\n                            word_new=word[:i]+replace+word[i+1:]\\n                            if check_pl_alfabet(word_new):\\n                                print(word_new)\\n\""
            ]
          },
          "metadata": {},
          "execution_count": 5
        }
      ]
    },
    {
      "cell_type": "code",
      "metadata": {
        "id": "08Z5ZXWJMxvx"
      },
      "source": [
        "def char_type_counter(text):\n",
        "    #print(text)\n",
        "    if isinstance(text, str):\n",
        "        dig,alpha=0,0\n",
        "        for char in text.strip():\n",
        "            if char.isdigit():\n",
        "                dig+=1\n",
        "            elif char.isalpha():\n",
        "                alpha+=1\n",
        "        if dig+alpha==0:\n",
        "            return 0\n",
        "        else:\n",
        "            return alpha/(dig+alpha)\n",
        "    else:\n",
        "        return 0\n",
        "\n",
        "def unique_chars_set(s):\n",
        "    if type(s) ==str:\n",
        "      return  (len(s)-len(set(s)))/len(s)\n",
        "    else:\n",
        "      return 0"
      ],
      "execution_count": 22,
      "outputs": []
    },
    {
      "cell_type": "code",
      "metadata": {
        "id": "g11DtMpuJmrS"
      },
      "source": [
        "labels=pd.read_csv('drive/MyDrive/kuba/tekst.csv',index_col=0)"
      ],
      "execution_count": 23,
      "outputs": []
    },
    {
      "cell_type": "code",
      "metadata": {
        "id": "cfKiBgM8KJ7l"
      },
      "source": [
        "averages=labels.applymap(lambda x: average_word_length(x))\n",
        "stds=labels.applymap(lambda x: std(x))\n",
        "long=labels.applymap(lambda x: longest(x))"
      ],
      "execution_count": 24,
      "outputs": []
    },
    {
      "cell_type": "code",
      "metadata": {
        "id": "sSW6kMW7NUPz"
      },
      "source": [
        "labels=pd.read_excel('drive/MyDrive/kuba/concat1.xlsx',index_col=0)"
      ],
      "execution_count": 25,
      "outputs": []
    },
    {
      "cell_type": "code",
      "metadata": {
        "id": "vs7zR87wc3zA"
      },
      "source": [
        "labels=labels[labels['Unnamed: 6']<2]"
      ],
      "execution_count": 37,
      "outputs": []
    },
    {
      "cell_type": "code",
      "metadata": {
        "id": "laF-5B-JjxRR"
      },
      "source": [
        "averages=labels[0].apply(lambda x: average_word_length(x))\n",
        "stds=labels[0].apply(lambda x: std(x))\n",
        "long=labels[0].apply(lambda x: longest(x))\n",
        "char_type_count=labels[0].apply(lambda x: char_type_counter(x))\n",
        "unique_chars=labels[0].apply(lambda x: unique_chars_set(x))\n",
        "errors=pd.to_numeric(labels[0].str.contains('ERROR'))"
      ],
      "execution_count": 38,
      "outputs": []
    },
    {
      "cell_type": "code",
      "metadata": {
        "id": "vqOaIefXZuny"
      },
      "source": [
        "concat=pd.concat([averages,stds,long,char_type_count,unique_chars,errors],axis=1)\n",
        "concat.fillna(0,inplace=True)"
      ],
      "execution_count": 39,
      "outputs": []
    },
    {
      "cell_type": "code",
      "metadata": {
        "colab": {
          "base_uri": "https://localhost:8080/"
        },
        "id": "YFUosTbQb3VR",
        "outputId": "e948d703-1fb0-4269-849d-5c3069b5411e"
      },
      "source": [
        "concat.dtypes"
      ],
      "execution_count": 40,
      "outputs": [
        {
          "output_type": "execute_result",
          "data": {
            "text/plain": [
              "0    float64\n",
              "0    float64\n",
              "0    float64\n",
              "0    float64\n",
              "0    float64\n",
              "0    float64\n",
              "dtype: object"
            ]
          },
          "metadata": {},
          "execution_count": 40
        }
      ]
    },
    {
      "cell_type": "code",
      "metadata": {
        "id": "Nfy0elO7ihJF"
      },
      "source": [
        "from sklearn.preprocessing import StandardScaler"
      ],
      "execution_count": 41,
      "outputs": []
    },
    {
      "cell_type": "code",
      "metadata": {
        "id": "SZ_MYAvoiqQg"
      },
      "source": [
        "scaler = StandardScaler()"
      ],
      "execution_count": 42,
      "outputs": []
    },
    {
      "cell_type": "code",
      "metadata": {
        "id": "YR-baBgCiwZI"
      },
      "source": [
        "concat_scaled=scaler.fit_transform(concat.values)"
      ],
      "execution_count": 43,
      "outputs": []
    },
    {
      "cell_type": "code",
      "metadata": {
        "id": "DwGkdfasdFyE"
      },
      "source": [
        "x=concat_scaled\n",
        "y=labels['Unnamed: 6'].values"
      ],
      "execution_count": 44,
      "outputs": []
    },
    {
      "cell_type": "code",
      "metadata": {
        "colab": {
          "base_uri": "https://localhost:8080/"
        },
        "id": "n5wsVMKBdO1O",
        "outputId": "782d09ff-b69c-401b-873b-92bfe12ff36c"
      },
      "source": [
        "print(x.shape)\n",
        "print(y.shape)"
      ],
      "execution_count": 45,
      "outputs": [
        {
          "output_type": "stream",
          "name": "stdout",
          "text": [
            "(401, 6)\n",
            "(401,)\n"
          ]
        }
      ]
    },
    {
      "cell_type": "code",
      "metadata": {
        "id": "dWlr91yVeZQv"
      },
      "source": [
        "from sklearn.ensemble import RandomForestClassifier"
      ],
      "execution_count": 46,
      "outputs": []
    },
    {
      "cell_type": "code",
      "metadata": {
        "colab": {
          "base_uri": "https://localhost:8080/"
        },
        "id": "mR8NZmKPeZXs",
        "outputId": "033f7fb3-e5ef-4acb-ef4c-d6e136f4d5f8"
      },
      "source": [
        "clf = RandomForestClassifier( random_state=0)\n",
        "clf.fit(x, y)\n"
      ],
      "execution_count": 47,
      "outputs": [
        {
          "output_type": "execute_result",
          "data": {
            "text/plain": [
              "RandomForestClassifier(bootstrap=True, ccp_alpha=0.0, class_weight=None,\n",
              "                       criterion='gini', max_depth=None, max_features='auto',\n",
              "                       max_leaf_nodes=None, max_samples=None,\n",
              "                       min_impurity_decrease=0.0, min_impurity_split=None,\n",
              "                       min_samples_leaf=1, min_samples_split=2,\n",
              "                       min_weight_fraction_leaf=0.0, n_estimators=100,\n",
              "                       n_jobs=None, oob_score=False, random_state=0, verbose=0,\n",
              "                       warm_start=False)"
            ]
          },
          "metadata": {},
          "execution_count": 47
        }
      ]
    },
    {
      "cell_type": "code",
      "metadata": {
        "id": "IHIR5OY4eoiq"
      },
      "source": [
        "from sklearn.metrics import confusion_matrix"
      ],
      "execution_count": 48,
      "outputs": []
    },
    {
      "cell_type": "code",
      "metadata": {
        "colab": {
          "base_uri": "https://localhost:8080/"
        },
        "id": "sWS-rHU5esxR",
        "outputId": "9e1905cb-ee54-4800-8de5-cbbb06c497e7"
      },
      "source": [
        "confusion_matrix(y,clf.predict(x))"
      ],
      "execution_count": 49,
      "outputs": [
        {
          "output_type": "execute_result",
          "data": {
            "text/plain": [
              "array([[202,   0],\n",
              "       [  2, 197]])"
            ]
          },
          "metadata": {},
          "execution_count": 49
        }
      ]
    },
    {
      "cell_type": "code",
      "metadata": {
        "id": "oO2JKksRfbJT"
      },
      "source": [
        "from sklearn.model_selection import train_test_split\n",
        "from sklearn.metrics import roc_curve\n",
        "from sklearn.metrics import roc_auc_score"
      ],
      "execution_count": 50,
      "outputs": []
    },
    {
      "cell_type": "code",
      "metadata": {
        "id": "pWA2j26UfeuS"
      },
      "source": [
        "trainX, testX, trainy, testy = train_test_split(x, y, test_size=0.2, random_state=0)\n"
      ],
      "execution_count": 51,
      "outputs": []
    },
    {
      "cell_type": "code",
      "metadata": {
        "colab": {
          "base_uri": "https://localhost:8080/"
        },
        "id": "Q6p80E22fmZ3",
        "outputId": "277defda-707d-4471-c929-b59b69011d3a"
      },
      "source": [
        "clf = RandomForestClassifier( random_state=0)\n",
        "clf.fit(trainX, trainy)"
      ],
      "execution_count": 52,
      "outputs": [
        {
          "output_type": "execute_result",
          "data": {
            "text/plain": [
              "RandomForestClassifier(bootstrap=True, ccp_alpha=0.0, class_weight=None,\n",
              "                       criterion='gini', max_depth=None, max_features='auto',\n",
              "                       max_leaf_nodes=None, max_samples=None,\n",
              "                       min_impurity_decrease=0.0, min_impurity_split=None,\n",
              "                       min_samples_leaf=1, min_samples_split=2,\n",
              "                       min_weight_fraction_leaf=0.0, n_estimators=100,\n",
              "                       n_jobs=None, oob_score=False, random_state=0, verbose=0,\n",
              "                       warm_start=False)"
            ]
          },
          "metadata": {},
          "execution_count": 52
        }
      ]
    },
    {
      "cell_type": "code",
      "metadata": {
        "id": "82fEVOklgUtx"
      },
      "source": [
        "import matplotlib.pyplot as plt"
      ],
      "execution_count": 55,
      "outputs": []
    },
    {
      "cell_type": "code",
      "metadata": {
        "colab": {
          "base_uri": "https://localhost:8080/",
          "height": 332
        },
        "id": "xuqTFHTJgGTA",
        "outputId": "75456596-8b14-47e0-eb1f-acae58176e60"
      },
      "source": [
        "# generate a no skill prediction (majority class)\n",
        "ns_probs = [0 for _ in range(len(testy))]\n",
        "# fit a model\n",
        "model = RandomForestClassifier( random_state=0)\n",
        "model.fit(trainX, trainy)\n",
        "# predict probabilities\n",
        "lr_probs = model.predict_proba(testX)\n",
        "# keep probabilities for the positive outcome only\n",
        "lr_probs = lr_probs[:, 1]\n",
        "# calculate scores\n",
        "ns_auc = roc_auc_score(testy, ns_probs)\n",
        "lr_auc = roc_auc_score(testy, lr_probs)\n",
        "# summarize scores\n",
        "print('No Skill: ROC AUC=%.3f' % (ns_auc))\n",
        "print('RandomForestClassifier: ROC AUC=%.3f' % (lr_auc))\n",
        "# calculate roc curves\n",
        "ns_fpr, ns_tpr, _ = roc_curve(testy, ns_probs)\n",
        "lr_fpr, lr_tpr, _ = roc_curve(testy, lr_probs)\n",
        "# plot the roc curve for the model\n",
        "plt.plot(ns_fpr, ns_tpr, linestyle='--', label='No Skill')\n",
        "plt.plot(lr_fpr, lr_tpr, marker='.', label='Logistic')\n",
        "# axis labels\n",
        "plt.xlabel('False Positive Rate')\n",
        "plt.ylabel('True Positive Rate')\n",
        "# show the legend\n",
        "plt.legend()\n",
        "# show the plot"
      ],
      "execution_count": 57,
      "outputs": [
        {
          "output_type": "stream",
          "name": "stdout",
          "text": [
            "No Skill: ROC AUC=0.500\n",
            "RandomForestClassifier: ROC AUC=0.992\n"
          ]
        },
        {
          "output_type": "execute_result",
          "data": {
            "text/plain": [
              "<matplotlib.legend.Legend at 0x7f545fd24190>"
            ]
          },
          "metadata": {},
          "execution_count": 57
        },
        {
          "output_type": "display_data",
          "data": {
            "image/png": "[encoded data removed]",
            "text/plain": [
              "<Figure size 432x288 with 1 Axes>"
            ]
          },
          "metadata": {
            "needs_background": "light"
          }
        }
      ]
    },
    {
      "cell_type": "code",
      "metadata": {
        "id": "r63QH8shpHnI",
        "outputId": "7b771150-a610-4769-95f2-52973ac16e48",
        "colab": {
          "base_uri": "https://localhost:8080/"
        }
      },
      "source": [
        "from joblib import dump\n",
        "dump(model, 'drive/MyDrive/kuba/model.joblib') "
      ],
      "execution_count": 58,
      "outputs": [
        {
          "output_type": "execute_result",
          "data": {
            "text/plain": [
              "['drive/MyDrive/kuba/model.joblib']"
            ]
          },
          "metadata": {},
          "execution_count": 58
        }
      ]
    }
  ]
}