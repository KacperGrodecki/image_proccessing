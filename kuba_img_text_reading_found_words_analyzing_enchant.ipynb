{
  "nbformat": 4,
  "nbformat_minor": 0,
  "metadata": {
    "colab": {
      "name": "kuba_img_text_reading_found_words_analyzing_enchant.ipynb",
      "provenance": [],
      "collapsed_sections": [],
      "authorship_tag": "ABX9TyNT4dqqFDWr+Idc+BwPJpbu",
      "include_colab_link": true
    },
    "kernelspec": {
      "name": "python3",
      "display_name": "Python 3"
    }
  },
  "cells": [
    {
      "cell_type": "markdown",
      "metadata": {
        "id": "view-in-github",
        "colab_type": "text"
      },
      "source": [
        "<a href=\"https://colab.research.google.com/github/KacperGrodecki/image_proccessing/blob/main/kuba_img_text_reading_found_words_analyzing_enchant.ipynb\" target=\"_parent\"><img src=\"https://colab.research.google.com/assets/colab-badge.svg\" alt=\"Open In Colab\"/></a>"
      ]
    },
    {
      "cell_type": "code",
      "metadata": {
        "id": "IJjlrbzGKZi4",
        "colab": {
          "base_uri": "https://localhost:8080/"
        },
        "outputId": "b10d397b-9c58-4530-cf99-9841ba74bc35"
      },
      "source": [
        "from google.colab import drive\n",
        "drive.mount('/content/drive')"
      ],
      "execution_count": 1,
      "outputs": [
        {
          "output_type": "stream",
          "name": "stdout",
          "text": [
            "Drive already mounted at /content/drive; to attempt to forcibly remount, call drive.mount(\"/content/drive\", force_remount=True).\n"
          ]
        }
      ]
    },
    {
      "cell_type": "code",
      "metadata": {
        "id": "VCQq3xY_FatP",
        "colab": {
          "base_uri": "https://localhost:8080/"
        },
        "outputId": "38ac635f-86da-4d56-bcfd-46780c1f0c30"
      },
      "source": [
        "pip install pyenchant"
      ],
      "execution_count": 2,
      "outputs": [
        {
          "output_type": "stream",
          "name": "stdout",
          "text": [
            "Requirement already satisfied: pyenchant in /usr/local/lib/python3.7/dist-packages (3.2.2)\n"
          ]
        }
      ]
    },
    {
      "cell_type": "code",
      "metadata": {
        "id": "S4o5m7KVGxIw",
        "colab": {
          "base_uri": "https://localhost:8080/"
        },
        "outputId": "5f08e050-889d-4510-f174-01c653876905"
      },
      "source": [
        "!apt install -qq enchant"
      ],
      "execution_count": 3,
      "outputs": [
        {
          "output_type": "stream",
          "name": "stdout",
          "text": [
            "enchant is already the newest version (1.6.0-11.1).\n",
            "0 upgraded, 0 newly installed, 0 to remove and 37 not upgraded.\n"
          ]
        }
      ]
    },
    {
      "cell_type": "code",
      "metadata": {
        "id": "GgxGHC6TIr-i",
        "colab": {
          "base_uri": "https://localhost:8080/"
        },
        "outputId": "ea451be7-2d20-46b2-9164-78a392a3b632"
      },
      "source": [
        "!apt-get install myspell-pl"
      ],
      "execution_count": 4,
      "outputs": [
        {
          "output_type": "stream",
          "name": "stdout",
          "text": [
            "Reading package lists... Done\n",
            "Building dependency tree       \n",
            "Reading state information... Done\n",
            "myspell-pl is already the newest version (20170707-1).\n",
            "0 upgraded, 0 newly installed, 0 to remove and 37 not upgraded.\n"
          ]
        }
      ]
    },
    {
      "cell_type": "code",
      "metadata": {
        "id": "2wUfYi8wWZLT"
      },
      "source": [
        "import pandas as pd\n",
        "import cv2\n",
        "import numpy as np\n",
        "import re\n",
        "import matplotlib.pyplot as plt      \n",
        "import pickle\n",
        "from os import listdir\n",
        "from os.path import isfile, join\n",
        "import gc\n",
        "import sys\n",
        "import pickle\n",
        "import string\n",
        "import enchant"
      ],
      "execution_count": 5,
      "outputs": []
    },
    {
      "cell_type": "code",
      "metadata": {
        "id": "NB8HnIDbFUx4",
        "colab": {
          "base_uri": "https://localhost:8080/"
        },
        "outputId": "26cc0063-6ba4-4566-fd05-b585bd5ec0c3"
      },
      "source": [
        "d = enchant.Dict('PL')\n",
        "d.check(\"guzik\") # False\n",
        "\n"
      ],
      "execution_count": 6,
      "outputs": [
        {
          "output_type": "execute_result",
          "data": {
            "text/plain": [
              "True"
            ]
          },
          "metadata": {},
          "execution_count": 6
        }
      ]
    },
    {
      "cell_type": "code",
      "metadata": {
        "id": "VSCMbCO6Dt6W"
      },
      "source": [
        "text=pd.read_csv('drive/MyDrive/kuba/odczyt_0_85.csv',index_col=0)"
      ],
      "execution_count": 7,
      "outputs": []
    },
    {
      "cell_type": "code",
      "metadata": {
        "colab": {
          "base_uri": "https://localhost:8080/",
          "height": 202
        },
        "id": "OzNEDFKK0Qd6",
        "outputId": "769919c7-e783-4edd-ff03-b3b783000b26"
      },
      "source": [
        "text.head()"
      ],
      "execution_count": 50,
      "outputs": [
        {
          "output_type": "execute_result",
          "data": {
            "text/html": [
              "<div>\n",
              "<style scoped>\n",
              "    .dataframe tbody tr th:only-of-type {\n",
              "        vertical-align: middle;\n",
              "    }\n",
              "\n",
              "    .dataframe tbody tr th {\n",
              "        vertical-align: top;\n",
              "    }\n",
              "\n",
              "    .dataframe thead th {\n",
              "        text-align: right;\n",
              "    }\n",
              "</style>\n",
              "<table border=\"1\" class=\"dataframe\">\n",
              "  <thead>\n",
              "    <tr style=\"text-align: right;\">\n",
              "      <th></th>\n",
              "      <th>0</th>\n",
              "    </tr>\n",
              "  </thead>\n",
              "  <tbody>\n",
              "    <tr>\n",
              "      <th>0</th>\n",
              "      <td>drive/MyDrive/kuba/zdjecia/fig1.jpg</td>\n",
              "    </tr>\n",
              "    <tr>\n",
              "      <th>1</th>\n",
              "      <td>Własność\\narchiwum\\nAktotwórca\\nTytuł teczki\\n...</td>\n",
              "    </tr>\n",
              "    <tr>\n",
              "      <th>2</th>\n",
              "      <td>IPN BU 0 639/223</td>\n",
              "    </tr>\n",
              "    <tr>\n",
              "      <th>3</th>\n",
              "      <td>KARTA INFORMACYJNA</td>\n",
              "    </tr>\n",
              "    <tr>\n",
              "      <th>4</th>\n",
              "      <td>Instytut Pamięci Narodowej w Warszawie</td>\n",
              "    </tr>\n",
              "  </tbody>\n",
              "</table>\n",
              "</div>"
            ],
            "text/plain": [
              "                                                   0\n",
              "0                drive/MyDrive/kuba/zdjecia/fig1.jpg\n",
              "1  Własność\\narchiwum\\nAktotwórca\\nTytuł teczki\\n...\n",
              "2                                   IPN BU 0 639/223\n",
              "3                                 KARTA INFORMACYJNA\n",
              "4             Instytut Pamięci Narodowej w Warszawie"
            ]
          },
          "metadata": {},
          "execution_count": 50
        }
      ]
    },
    {
      "cell_type": "code",
      "metadata": {
        "id": "IQfR7Dqfgg1h"
      },
      "source": [
        "from difflib import SequenceMatcher\n",
        "\n",
        "def similar(a, b):\n",
        "    return SequenceMatcher(None, a, b).ratio()"
      ],
      "execution_count": 8,
      "outputs": []
    },
    {
      "cell_type": "code",
      "metadata": {
        "id": "iTo6hrTec4qF"
      },
      "source": [
        "def word_correction_enchant(a):\n",
        "    a=str(a)\n",
        "    if 'drive/MyDrive/kuba/' in a:\n",
        "      return a\n",
        "    correct=''\n",
        "    for word in a.split():\n",
        "        if len(word)>1:\n",
        "            if word.isnumeric() or len(word)<3:\n",
        "              continue\n",
        "            try:\n",
        "              if int(d.check(word))==1:\n",
        "                correct+=word.lower()+' '\n",
        "            except:\n",
        "              pass     \n",
        "    return correct"
      ],
      "execution_count": 51,
      "outputs": []
    },
    {
      "cell_type": "code",
      "metadata": {
        "id": "0-VkBr6pckM9"
      },
      "source": [
        "correct=text.applymap(lambda x: word_correction_enchant(x))#dodać numery stron"
      ],
      "execution_count": 52,
      "outputs": []
    },
    {
      "cell_type": "code",
      "metadata": {
        "colab": {
          "base_uri": "https://localhost:8080/",
          "height": 1000
        },
        "id": "bX7CpgWZzbUv",
        "outputId": "719cf2df-f0f0-4d65-a7f4-f0d389947c72"
      },
      "source": [
        "correct.head(40)"
      ],
      "execution_count": 54,
      "outputs": [
        {
          "output_type": "execute_result",
          "data": {
            "text/html": [
              "<div>\n",
              "<style scoped>\n",
              "    .dataframe tbody tr th:only-of-type {\n",
              "        vertical-align: middle;\n",
              "    }\n",
              "\n",
              "    .dataframe tbody tr th {\n",
              "        vertical-align: top;\n",
              "    }\n",
              "\n",
              "    .dataframe thead th {\n",
              "        text-align: right;\n",
              "    }\n",
              "</style>\n",
              "<table border=\"1\" class=\"dataframe\">\n",
              "  <thead>\n",
              "    <tr style=\"text-align: right;\">\n",
              "      <th></th>\n",
              "      <th>0</th>\n",
              "    </tr>\n",
              "  </thead>\n",
              "  <tbody>\n",
              "    <tr>\n",
              "      <th>0</th>\n",
              "      <td>drive/MyDrive/kuba/zdjecia/fig1.jpg</td>\n",
              "    </tr>\n",
              "    <tr>\n",
              "      <th>1</th>\n",
              "      <td>własność archiwum tytuł teczki daty skrajne je...</td>\n",
              "    </tr>\n",
              "    <tr>\n",
              "      <th>2</th>\n",
              "      <td>ipn</td>\n",
              "    </tr>\n",
              "    <tr>\n",
              "      <th>3</th>\n",
              "      <td>karta informacyjna</td>\n",
              "    </tr>\n",
              "    <tr>\n",
              "      <th>4</th>\n",
              "      <td>instytut pamięci narodowej warszawie</td>\n",
              "    </tr>\n",
              "    <tr>\n",
              "      <th>5</th>\n",
              "      <td></td>\n",
              "    </tr>\n",
              "    <tr>\n",
              "      <th>6</th>\n",
              "      <td>msw</td>\n",
              "    </tr>\n",
              "    <tr>\n",
              "      <th>7</th>\n",
              "      <td>tytuł teczki</td>\n",
              "    </tr>\n",
              "    <tr>\n",
              "      <th>8</th>\n",
              "      <td>pax- materiały dotyczące działalności zrzeszenia</td>\n",
              "    </tr>\n",
              "    <tr>\n",
              "      <th>9</th>\n",
              "      <td>daty skrajne</td>\n",
              "    </tr>\n",
              "    <tr>\n",
              "      <th>10</th>\n",
              "      <td>jednostki</td>\n",
              "    </tr>\n",
              "    <tr>\n",
              "      <th>11</th>\n",
              "      <td>archiwalnej</td>\n",
              "    </tr>\n",
              "    <tr>\n",
              "      <th>12</th>\n",
              "      <td>ipn</td>\n",
              "    </tr>\n",
              "    <tr>\n",
              "      <th>13</th>\n",
              "      <td>sygnatura</td>\n",
              "    </tr>\n",
              "    <tr>\n",
              "      <th>14</th>\n",
              "      <td>archiwalna</td>\n",
              "    </tr>\n",
              "    <tr>\n",
              "      <th>15</th>\n",
              "      <td>drive/MyDrive/kuba/zdjecia/fig10.jpg</td>\n",
              "    </tr>\n",
              "    <tr>\n",
              "      <th>16</th>\n",
              "      <td></td>\n",
              "    </tr>\n",
              "    <tr>\n",
              "      <th>17</th>\n",
              "      <td>struktura wykonanie budżetów</td>\n",
              "    </tr>\n",
              "    <tr>\n",
              "      <th>18</th>\n",
              "      <td>katolickich organizacji społecznych</td>\n",
              "    </tr>\n",
              "    <tr>\n",
              "      <th>19</th>\n",
              "      <td>kik rok</td>\n",
              "    </tr>\n",
              "    <tr>\n",
              "      <th>20</th>\n",
              "      <td>stowarzyszenie</td>\n",
              "    </tr>\n",
              "    <tr>\n",
              "      <th>21</th>\n",
              "      <td>realizacja budżetu. rok</td>\n",
              "    </tr>\n",
              "    <tr>\n",
              "      <th>22</th>\n",
              "      <td>000,7 gł.</td>\n",
              "    </tr>\n",
              "    <tr>\n",
              "      <th>23</th>\n",
              "      <td>działalność statutowa</td>\n",
              "    </tr>\n",
              "    <tr>\n",
              "      <th>24</th>\n",
              "      <td>pokrycie straty prasy wydawnictw zł.</td>\n",
              "    </tr>\n",
              "    <tr>\n",
              "      <th>25</th>\n",
              "      <td>zł.</td>\n",
              "    </tr>\n",
              "    <tr>\n",
              "      <th>26</th>\n",
              "      <td>mem. zł.</td>\n",
              "    </tr>\n",
              "    <tr>\n",
              "      <th>27</th>\n",
              "      <td>struktura budżetu</td>\n",
              "    </tr>\n",
              "    <tr>\n",
              "      <th>28</th>\n",
              "      <td>płace osobowy fundusz</td>\n",
              "    </tr>\n",
              "    <tr>\n",
              "      <th>29</th>\n",
              "      <td>bezosobowy</td>\n",
              "    </tr>\n",
              "    <tr>\n",
              "      <th>30</th>\n",
              "      <td>honorariów</td>\n",
              "    </tr>\n",
              "    <tr>\n",
              "      <th>31</th>\n",
              "      <td></td>\n",
              "    </tr>\n",
              "    <tr>\n",
              "      <th>32</th>\n",
              "      <td>nagród</td>\n",
              "    </tr>\n",
              "    <tr>\n",
              "      <th>33</th>\n",
              "      <td></td>\n",
              "    </tr>\n",
              "    <tr>\n",
              "      <th>34</th>\n",
              "      <td>podróże służbowe delegacje</td>\n",
              "    </tr>\n",
              "    <tr>\n",
              "      <th>35</th>\n",
              "      <td>koszty utrzymanie</td>\n",
              "    </tr>\n",
              "    <tr>\n",
              "      <th>36</th>\n",
              "      <td>remonty</td>\n",
              "    </tr>\n",
              "    <tr>\n",
              "      <th>37</th>\n",
              "      <td>inne świadczenia</td>\n",
              "    </tr>\n",
              "    <tr>\n",
              "      <th>38</th>\n",
              "      <td>200. 000,7</td>\n",
              "    </tr>\n",
              "    <tr>\n",
              "      <th>39</th>\n",
              "      <td></td>\n",
              "    </tr>\n",
              "  </tbody>\n",
              "</table>\n",
              "</div>"
            ],
            "text/plain": [
              "                                                    0\n",
              "0                 drive/MyDrive/kuba/zdjecia/fig1.jpg\n",
              "1   własność archiwum tytuł teczki daty skrajne je...\n",
              "2                                                ipn \n",
              "3                                 karta informacyjna \n",
              "4               instytut pamięci narodowej warszawie \n",
              "5                                                    \n",
              "6                                                msw \n",
              "7                                       tytuł teczki \n",
              "8   pax- materiały dotyczące działalności zrzeszenia \n",
              "9                                       daty skrajne \n",
              "10                                         jednostki \n",
              "11                                       archiwalnej \n",
              "12                                               ipn \n",
              "13                                         sygnatura \n",
              "14                                        archiwalna \n",
              "15               drive/MyDrive/kuba/zdjecia/fig10.jpg\n",
              "16                                                   \n",
              "17                      struktura wykonanie budżetów \n",
              "18               katolickich organizacji społecznych \n",
              "19                                           kik rok \n",
              "20                                    stowarzyszenie \n",
              "21                           realizacja budżetu. rok \n",
              "22                                         000,7 gł. \n",
              "23                             działalność statutowa \n",
              "24              pokrycie straty prasy wydawnictw zł. \n",
              "25                                               zł. \n",
              "26                                          mem. zł. \n",
              "27                                 struktura budżetu \n",
              "28                             płace osobowy fundusz \n",
              "29                                        bezosobowy \n",
              "30                                        honorariów \n",
              "31                                                   \n",
              "32                                            nagród \n",
              "33                                                   \n",
              "34                        podróże służbowe delegacje \n",
              "35                                 koszty utrzymanie \n",
              "36                                           remonty \n",
              "37                                  inne świadczenia \n",
              "38                                        200. 000,7 \n",
              "39                                                   "
            ]
          },
          "metadata": {},
          "execution_count": 54
        }
      ]
    },
    {
      "cell_type": "code",
      "metadata": {
        "id": "Un-DAhRAK7jh"
      },
      "source": [
        "correct1 = correct[correct['0']!= '']"
      ],
      "execution_count": 55,
      "outputs": []
    },
    {
      "cell_type": "code",
      "metadata": {
        "colab": {
          "base_uri": "https://localhost:8080/"
        },
        "id": "yiuR0k5w0pyZ",
        "outputId": "18637c59-49fd-443e-84db-cb5c31ae5cd0"
      },
      "source": [
        "print(correct1.iloc[300:400].values)"
      ],
      "execution_count": 62,
      "outputs": [
        {
          "output_type": "stream",
          "name": "stdout",
          "text": [
            "[['ego rei pracy za- wszyscy ']\n",
            " ['pracy ']\n",
            " ['pracy radnych. za- ']\n",
            " ['pol narady ']\n",
            " ['członek ']\n",
            " ['wytyczne pracy ']\n",
            " ['pracy ']\n",
            " ['piza pal ']\n",
            " ['pal ']\n",
            " ['rozpoczną się ']\n",
            " ['rozpoczną plenum ']\n",
            " ['ten oparciu pax ']\n",
            " ['oparciu pax ']\n",
            " ['posieczeniu ']\n",
            " ['zakresie ']\n",
            " ['zakresie ']\n",
            " ['opieki nać ']\n",
            " ['walki opieki nać ']\n",
            " ['współpracy ']\n",
            " ['współpracy ']\n",
            " ['kosi ']\n",
            " ['przy ']\n",
            " ['przy ']\n",
            " ['poprzez ']\n",
            " ['poprzez ']\n",
            " ['śluby terenowe ']\n",
            " ['terenowe ']\n",
            " ['cechuje ']\n",
            " ['cechuje ']\n",
            " ['winne ']\n",
            " ['linia polityczną ']\n",
            " ['linia polityczną ']\n",
            " ['drive/MyDrive/kuba/zdjecia/fig112.jpg']\n",
            " ['ipn ']\n",
            " ['le. 1-1 ']\n",
            " ['tezy ']\n",
            " ['wania pracy ']\n",
            " ['pak ']\n",
            " ['specjalne ']\n",
            " ['racuch ']\n",
            " ['12,1,13974 ']\n",
            " ['drive/MyDrive/kuba/zdjecia/fig113.jpg']\n",
            " ['załącznik zestawu. ważniejszych ']\n",
            " ['załącznik zestawu ważniejszych ']\n",
            " ['informacji ']\n",
            " ['spotkanie pax ']\n",
            " ['aktywem katolickim katowicach ']\n",
            " ['stowarzyszenie pax zorganizowało katowicach spotkanie ']\n",
            " ['rzymskiego korespondenta pax redaktora czajkowskiego ']\n",
            " ['temat wizyty ministra ']\n",
            " ['księżmi działaczami świeckimi temat wizyty ministra watykanie. ']\n",
            " ['wzięli zajmujący się paxie ']\n",
            " ['pracą przewodniczący oddziału ']\n",
            " ['członkowie sekretariatu ']\n",
            " ['kiego katowicach ']\n",
            " ['ok. osób tym księży często- ']\n",
            " ['katowickiej pastorów kościoła luterańskiego ']\n",
            " ['zabrza ']\n",
            " ['redaktor czajkowski omówił problem wizyty min. ']\n",
            " ['kiego punktu stosunku watykanu polski okresie ']\n",
            " ['politycznego charakteru wizyty reakcji prasy ']\n",
            " ['włoskiej światowej oraz strony kół rewizjonistycznych ']\n",
            " ['zachodzie. powiedział ']\n",
            " ['stosunek jana pawła był zawsze jest serdeczny. ']\n",
            " ['uznanie przez jana ']\n",
            " ['polskich ziem zachodnich ustanowienie ']\n",
            " ['przez pawła polskiej administracji kościelnej tych ']\n",
            " ['likwidacja ambasady rządu londyńskiego przy ']\n",
            " ['watykanie odmówienie akredytacji rozmowy ']\n",
            " ['podjęte nominacja kard. spotkanie ']\n",
            " ['podczas którego uzgodniono wspólne działania polski ']\n",
            " ['rzecz pokoju oraz wyrażono chęć ']\n",
            " ['stosunków polska-watykan. red. czajkowski ']\n",
            " ['przełomie roku polska znalazła się orbi- ']\n",
            " ['cie wpływu polityki ']\n",
            " ['drive/MyDrive/kuba/zdjecia/fig114.jpg']\n",
            " ['ipn ']\n",
            " ['ipn 4-5 ']\n",
            " ['wizyta min. olszowskiego watykanie przebiegała ']\n",
            " ['atmosferze szukania punktu zbliżenia unikania spraw ']\n",
            " ['mogących doprowadzić zadrażnień stosunków między ']\n",
            " ['polską watykanem. papież wyraził szacunek kraju ']\n",
            " ['socjalistycznego jego używając słów partia. ']\n",
            " ['polska rzeczpospolita min. olszowski wyraził ']\n",
            " ['uznanie dla polityki pojednania pokoju watykanu ']\n",
            " ['osobistego wkładu papieża oraz szacunkiem ']\n",
            " ['katolicy polsce wspólnie budują ']\n",
            " ['konsekwencją wizyty min. olszowskiego watykanie ']\n",
            " ['będą dalsze rozmowy między polską watykanem ']\n",
            " ['przyjazd casaroli ']\n",
            " ['które rokują nadzieje osiągnięcie porozumień ']\n",
            " ['bazie konstytucji przepisów przez ']\n",
            " ['wolności religijnej przez ']\n",
            " ['prasa włoska światowa wytworzyła odpowiedni klimat ']\n",
            " ['rozmów którego nie mogły zakłócić ']\n",
            " ['nawet koła rewizjonistów konserwatystów. zarzucały one ']\n",
            " ['czyni zbyt wiele gestów pod adresem komu- ']\n",
            " ['rozbestwia psuje posoborową atmosferę ']\n",
            " ['potęguje kryzys. atmosfera wytrąciła ']\n",
            " ['argumenty kościele cierpiącym milczącym ']]\n"
          ]
        }
      ]
    },
    {
      "cell_type": "code",
      "metadata": {
        "id": "OVaZBIX5yxfq"
      },
      "source": [
        "#pip uninstall spacy"
      ],
      "execution_count": 13,
      "outputs": []
    },
    {
      "cell_type": "code",
      "metadata": {
        "colab": {
          "base_uri": "https://localhost:8080/"
        },
        "id": "skP73TjkYSO5",
        "outputId": "ae1d9726-f205-4e0e-b09b-4123490f6d09"
      },
      "source": [
        "pip install spacy==2.3.2"
      ],
      "execution_count": 14,
      "outputs": [
        {
          "output_type": "stream",
          "name": "stdout",
          "text": [
            "Requirement already satisfied: spacy==2.3.2 in /usr/local/lib/python3.7/dist-packages (2.3.2)\n",
            "Requirement already satisfied: murmurhash<1.1.0,>=0.28.0 in /usr/local/lib/python3.7/dist-packages (from spacy==2.3.2) (1.0.5)\n",
            "Requirement already satisfied: srsly<1.1.0,>=1.0.2 in /usr/local/lib/python3.7/dist-packages (from spacy==2.3.2) (1.0.5)\n",
            "Requirement already satisfied: catalogue<1.1.0,>=0.0.7 in /usr/local/lib/python3.7/dist-packages (from spacy==2.3.2) (1.0.0)\n",
            "Requirement already satisfied: numpy>=1.15.0 in /usr/local/lib/python3.7/dist-packages (from spacy==2.3.2) (1.19.5)\n",
            "Requirement already satisfied: tqdm<5.0.0,>=4.38.0 in /usr/local/lib/python3.7/dist-packages (from spacy==2.3.2) (4.62.3)\n",
            "Requirement already satisfied: requests<3.0.0,>=2.13.0 in /usr/local/lib/python3.7/dist-packages (from spacy==2.3.2) (2.23.0)\n",
            "Requirement already satisfied: cymem<2.1.0,>=2.0.2 in /usr/local/lib/python3.7/dist-packages (from spacy==2.3.2) (2.0.5)\n",
            "Requirement already satisfied: plac<1.2.0,>=0.9.6 in /usr/local/lib/python3.7/dist-packages (from spacy==2.3.2) (1.1.3)\n",
            "Requirement already satisfied: thinc==7.4.1 in /usr/local/lib/python3.7/dist-packages (from spacy==2.3.2) (7.4.1)\n",
            "Requirement already satisfied: wasabi<1.1.0,>=0.4.0 in /usr/local/lib/python3.7/dist-packages (from spacy==2.3.2) (0.8.2)\n",
            "Requirement already satisfied: preshed<3.1.0,>=3.0.2 in /usr/local/lib/python3.7/dist-packages (from spacy==2.3.2) (3.0.5)\n",
            "Requirement already satisfied: setuptools in /usr/local/lib/python3.7/dist-packages (from spacy==2.3.2) (57.4.0)\n",
            "Requirement already satisfied: blis<0.5.0,>=0.4.0 in /usr/local/lib/python3.7/dist-packages (from spacy==2.3.2) (0.4.1)\n",
            "Requirement already satisfied: importlib-metadata>=0.20 in /usr/local/lib/python3.7/dist-packages (from catalogue<1.1.0,>=0.0.7->spacy==2.3.2) (4.8.1)\n",
            "Requirement already satisfied: typing-extensions>=3.6.4 in /usr/local/lib/python3.7/dist-packages (from importlib-metadata>=0.20->catalogue<1.1.0,>=0.0.7->spacy==2.3.2) (3.7.4.3)\n",
            "Requirement already satisfied: zipp>=0.5 in /usr/local/lib/python3.7/dist-packages (from importlib-metadata>=0.20->catalogue<1.1.0,>=0.0.7->spacy==2.3.2) (3.6.0)\n",
            "Requirement already satisfied: certifi>=2017.4.17 in /usr/local/lib/python3.7/dist-packages (from requests<3.0.0,>=2.13.0->spacy==2.3.2) (2021.5.30)\n",
            "Requirement already satisfied: idna<3,>=2.5 in /usr/local/lib/python3.7/dist-packages (from requests<3.0.0,>=2.13.0->spacy==2.3.2) (2.10)\n",
            "Requirement already satisfied: chardet<4,>=3.0.2 in /usr/local/lib/python3.7/dist-packages (from requests<3.0.0,>=2.13.0->spacy==2.3.2) (3.0.4)\n",
            "Requirement already satisfied: urllib3!=1.25.0,!=1.25.1,<1.26,>=1.21.1 in /usr/local/lib/python3.7/dist-packages (from requests<3.0.0,>=2.13.0->spacy==2.3.2) (1.24.3)\n"
          ]
        }
      ]
    },
    {
      "cell_type": "code",
      "metadata": {
        "colab": {
          "base_uri": "https://localhost:8080/"
        },
        "id": "A-0uiuYNXPad",
        "outputId": "548217a7-37c4-452b-b1a5-b779ee94ef5d"
      },
      "source": [
        "!python3 -m spacy download pl_core_news_md\n",
        "#https://github.com/explosion/spaCy/issues/5140"
      ],
      "execution_count": 15,
      "outputs": [
        {
          "output_type": "stream",
          "name": "stdout",
          "text": [
            "Collecting pl_core_news_md==2.3.0\n",
            "  Downloading https://github.com/explosion/spacy-models/releases/download/pl_core_news_md-2.3.0/pl_core_news_md-2.3.0.tar.gz (79.9 MB)\n",
            "\u001b[K     |████████████████████████████████| 79.9 MB 1.3 MB/s \n",
            "\u001b[?25hRequirement already satisfied: spacy<2.4.0,>=2.3.0 in /usr/local/lib/python3.7/dist-packages (from pl_core_news_md==2.3.0) (2.3.2)\n",
            "Requirement already satisfied: plac<1.2.0,>=0.9.6 in /usr/local/lib/python3.7/dist-packages (from spacy<2.4.0,>=2.3.0->pl_core_news_md==2.3.0) (1.1.3)\n",
            "Requirement already satisfied: blis<0.5.0,>=0.4.0 in /usr/local/lib/python3.7/dist-packages (from spacy<2.4.0,>=2.3.0->pl_core_news_md==2.3.0) (0.4.1)\n",
            "Requirement already satisfied: wasabi<1.1.0,>=0.4.0 in /usr/local/lib/python3.7/dist-packages (from spacy<2.4.0,>=2.3.0->pl_core_news_md==2.3.0) (0.8.2)\n",
            "Requirement already satisfied: thinc==7.4.1 in /usr/local/lib/python3.7/dist-packages (from spacy<2.4.0,>=2.3.0->pl_core_news_md==2.3.0) (7.4.1)\n",
            "Requirement already satisfied: numpy>=1.15.0 in /usr/local/lib/python3.7/dist-packages (from spacy<2.4.0,>=2.3.0->pl_core_news_md==2.3.0) (1.19.5)\n",
            "Requirement already satisfied: murmurhash<1.1.0,>=0.28.0 in /usr/local/lib/python3.7/dist-packages (from spacy<2.4.0,>=2.3.0->pl_core_news_md==2.3.0) (1.0.5)\n",
            "Requirement already satisfied: catalogue<1.1.0,>=0.0.7 in /usr/local/lib/python3.7/dist-packages (from spacy<2.4.0,>=2.3.0->pl_core_news_md==2.3.0) (1.0.0)\n",
            "Requirement already satisfied: requests<3.0.0,>=2.13.0 in /usr/local/lib/python3.7/dist-packages (from spacy<2.4.0,>=2.3.0->pl_core_news_md==2.3.0) (2.23.0)\n",
            "Requirement already satisfied: cymem<2.1.0,>=2.0.2 in /usr/local/lib/python3.7/dist-packages (from spacy<2.4.0,>=2.3.0->pl_core_news_md==2.3.0) (2.0.5)\n",
            "Requirement already satisfied: tqdm<5.0.0,>=4.38.0 in /usr/local/lib/python3.7/dist-packages (from spacy<2.4.0,>=2.3.0->pl_core_news_md==2.3.0) (4.62.3)\n",
            "Requirement already satisfied: setuptools in /usr/local/lib/python3.7/dist-packages (from spacy<2.4.0,>=2.3.0->pl_core_news_md==2.3.0) (57.4.0)\n",
            "Requirement already satisfied: preshed<3.1.0,>=3.0.2 in /usr/local/lib/python3.7/dist-packages (from spacy<2.4.0,>=2.3.0->pl_core_news_md==2.3.0) (3.0.5)\n",
            "Requirement already satisfied: srsly<1.1.0,>=1.0.2 in /usr/local/lib/python3.7/dist-packages (from spacy<2.4.0,>=2.3.0->pl_core_news_md==2.3.0) (1.0.5)\n",
            "Requirement already satisfied: importlib-metadata>=0.20 in /usr/local/lib/python3.7/dist-packages (from catalogue<1.1.0,>=0.0.7->spacy<2.4.0,>=2.3.0->pl_core_news_md==2.3.0) (4.8.1)\n",
            "Requirement already satisfied: typing-extensions>=3.6.4 in /usr/local/lib/python3.7/dist-packages (from importlib-metadata>=0.20->catalogue<1.1.0,>=0.0.7->spacy<2.4.0,>=2.3.0->pl_core_news_md==2.3.0) (3.7.4.3)\n",
            "Requirement already satisfied: zipp>=0.5 in /usr/local/lib/python3.7/dist-packages (from importlib-metadata>=0.20->catalogue<1.1.0,>=0.0.7->spacy<2.4.0,>=2.3.0->pl_core_news_md==2.3.0) (3.6.0)\n",
            "Requirement already satisfied: urllib3!=1.25.0,!=1.25.1,<1.26,>=1.21.1 in /usr/local/lib/python3.7/dist-packages (from requests<3.0.0,>=2.13.0->spacy<2.4.0,>=2.3.0->pl_core_news_md==2.3.0) (1.24.3)\n",
            "Requirement already satisfied: chardet<4,>=3.0.2 in /usr/local/lib/python3.7/dist-packages (from requests<3.0.0,>=2.13.0->spacy<2.4.0,>=2.3.0->pl_core_news_md==2.3.0) (3.0.4)\n",
            "Requirement already satisfied: certifi>=2017.4.17 in /usr/local/lib/python3.7/dist-packages (from requests<3.0.0,>=2.13.0->spacy<2.4.0,>=2.3.0->pl_core_news_md==2.3.0) (2021.5.30)\n",
            "Requirement already satisfied: idna<3,>=2.5 in /usr/local/lib/python3.7/dist-packages (from requests<3.0.0,>=2.13.0->spacy<2.4.0,>=2.3.0->pl_core_news_md==2.3.0) (2.10)\n",
            "\u001b[38;5;2m✔ Download and installation successful\u001b[0m\n",
            "You can now load the model via spacy.load('pl_core_news_md')\n"
          ]
        }
      ]
    },
    {
      "cell_type": "code",
      "metadata": {
        "id": "5XrjBdQRWYT6"
      },
      "source": [
        "import spacy  \n",
        "from spacy.lang.pl.examples import sentences "
      ],
      "execution_count": 16,
      "outputs": []
    },
    {
      "cell_type": "code",
      "metadata": {
        "id": "yfde-DjhgMXp"
      },
      "source": [
        "#https://www.kaggle.com/pierremegret/gensim-word2vec-tutorial"
      ],
      "execution_count": 17,
      "outputs": []
    },
    {
      "cell_type": "code",
      "metadata": {
        "id": "sz2XaUcNWd_P"
      },
      "source": [
        "nlp = spacy.load(\"pl_core_news_md\")"
      ],
      "execution_count": 48,
      "outputs": []
    },
    {
      "cell_type": "code",
      "metadata": {
        "id": "p7jv962AZVcX"
      },
      "source": [
        "df=correct1.copy()"
      ],
      "execution_count": 19,
      "outputs": []
    },
    {
      "cell_type": "code",
      "metadata": {
        "id": "Cnw2EdArZLgR"
      },
      "source": [
        "def cleaning(doc):\n",
        "    # Lemmatizes and removes stopwords\n",
        "    # doc needs to be a spacy Doc object\n",
        "    txt = [token.lemma_ for token in doc if not token.is_stop]\n",
        "    # Word2Vec uses context words to learn the vector representation of a target word,\n",
        "    # if a sentence is only one or two words long,\n",
        "    # the benefit for the training is very small\n",
        "    if len(txt) > 2:\n",
        "        return ' '.join(txt)"
      ],
      "execution_count": 20,
      "outputs": []
    },
    {
      "cell_type": "code",
      "metadata": {
        "id": "uKoKj-OZZPtP"
      },
      "source": [
        "brief_cleaning = (re.sub(\"^[AaĄąBbCcĆćDdEeĘęFfGgHhIiJjKkLlŁłMmNnŃńOoÓóPpRrSsŚśTtUuWwYyZzŹźŻż]+\", ' ', str(row)).lower() for row in df['0'])"
      ],
      "execution_count": 79,
      "outputs": []
    },
    {
      "cell_type": "code",
      "metadata": {
        "id": "3nhd_QtRZmcP"
      },
      "source": [
        "from time import time"
      ],
      "execution_count": 74,
      "outputs": []
    },
    {
      "cell_type": "code",
      "metadata": {
        "colab": {
          "base_uri": "https://localhost:8080/"
        },
        "id": "rRhTHpH3Zi2a",
        "outputId": "59dc21aa-20a8-410c-e617-8728c0aa615a"
      },
      "source": [
        "t = time()\n",
        "\n",
        "txt = [cleaning(doc) for doc in nlp.pipe(brief_cleaning, batch_size=5000, n_threads=-1)]\n",
        "\n",
        "print('Time to clean up everything: {} mins'.format(round((time() - t) / 60, 2)))"
      ],
      "execution_count": 80,
      "outputs": [
        {
          "output_type": "stream",
          "name": "stdout",
          "text": [
            "Time to clean up everything: 0.11 mins\n"
          ]
        }
      ]
    },
    {
      "cell_type": "code",
      "metadata": {
        "colab": {
          "base_uri": "https://localhost:8080/"
        },
        "id": "-PFQwe5mZxzY",
        "outputId": "536d2c09-d929-45a3-9100-8eb20a4a708f"
      },
      "source": [
        "df_clean = pd.DataFrame({'clean': txt})\n",
        "df_clean = df_clean.dropna().drop_duplicates()\n",
        "df_clean.shape"
      ],
      "execution_count": 81,
      "outputs": [
        {
          "output_type": "execute_result",
          "data": {
            "text/plain": [
              "(5085, 1)"
            ]
          },
          "metadata": {},
          "execution_count": 81
        }
      ]
    },
    {
      "cell_type": "code",
      "metadata": {
        "colab": {
          "base_uri": "https://localhost:8080/"
        },
        "id": "xbsKMIST3fgS",
        "outputId": "3e756e0b-82cf-4031-a7e8-58c69622f731"
      },
      "source": [
        "print(correct1.iloc[0:100].values)"
      ],
      "execution_count": 82,
      "outputs": [
        {
          "output_type": "stream",
          "name": "stdout",
          "text": [
            "[['drive/MyDrive/kuba/zdjecia/fig1.jpg']\n",
            " ['własność archiwum tytuł teczki daty skrajne jednostki archiwalnej stara sygnatura sygnatura archiwalna ']\n",
            " ['ipn ']\n",
            " ['karta informacyjna ']\n",
            " ['instytut pamięci narodowej warszawie ']\n",
            " ['msw ']\n",
            " ['tytuł teczki ']\n",
            " ['pax- materiały dotyczące działalności zrzeszenia ']\n",
            " ['daty skrajne ']\n",
            " ['jednostki ']\n",
            " ['archiwalnej ']\n",
            " ['ipn ']\n",
            " ['sygnatura ']\n",
            " ['archiwalna ']\n",
            " ['drive/MyDrive/kuba/zdjecia/fig10.jpg']\n",
            " ['struktura wykonanie budżetów ']\n",
            " ['katolickich organizacji społecznych ']\n",
            " ['kik rok ']\n",
            " ['stowarzyszenie ']\n",
            " ['realizacja budżetu. rok ']\n",
            " ['000,7 gł. ']\n",
            " ['działalność statutowa ']\n",
            " ['pokrycie straty prasy wydawnictw zł. ']\n",
            " ['zł. ']\n",
            " ['mem. zł. ']\n",
            " ['struktura budżetu ']\n",
            " ['płace osobowy fundusz ']\n",
            " ['bezosobowy ']\n",
            " ['honorariów ']\n",
            " ['nagród ']\n",
            " ['podróże służbowe delegacje ']\n",
            " ['koszty utrzymanie ']\n",
            " ['remonty ']\n",
            " ['inne świadczenia ']\n",
            " ['200. 000,7 ']\n",
            " ['transport ']\n",
            " ['zł. ']\n",
            " ['augustyna ']\n",
            " ['działalność społ.-polityczna ']\n",
            " ['działalność ']\n",
            " ['zł. ']\n",
            " ['pokrycie straty prasy ']\n",
            " ['680. 000. ']\n",
            " ['opłaty ']\n",
            " ['wam ww. ']\n",
            " ['razem ']\n",
            " ['budżet równoważy ']\n",
            " ['wpłata nadwyżki całokształtu ']\n",
            " ['36. ']\n",
            " ['działalności gospodarczej ']\n",
            " ['drive/MyDrive/kuba/zdjecia/fig100.jpg']\n",
            " ['ipn ']\n",
            " ['pogłębiające się trudności ']\n",
            " ['się trudności ']\n",
            " ['coraz więcej biskupów księży ']\n",
            " ['coraz więcej biskupów księży konserwatystów ']\n",
            " ['skłania się kontaktów ']\n",
            " ['kierunki zmian statutowych. wskazywano ']\n",
            " ['wyższej rangi zespołom członkowsko-kandydackim ']\n",
            " ['działaniom odcinku wewnątrzkościelnym. zespoły ']\n",
            " ['moją być czynnikiem integrującym stowarzyszenie. ']\n",
            " ['zespołów będą miały wyższe znaczenie niż ']\n",
            " ['zespoły składać się będą 10-40 osób. kierownikami ']\n",
            " ['będą członkowie pax. obecnie ']\n",
            " ['terenie kraju działa ']\n",
            " ['szerszego się członków pax działalności ']\n",
            " ['rzecz kościoła ']\n",
            " ['rozszerzenia zainteresowania pax-u środowiska inteli- ']\n",
            " ['studentów ']\n",
            " ['zmiany profilu niektórych pism ']\n",
            " ['wania ich potrzeb duchowieństwa katolików świec- ']\n",
            " ['powstanie nowa której celem będzie przy- ']\n",
            " ['materiałów pomocniczych pracy ']\n",
            " ['artykuły zamieszczane miesięczniku ']\n",
            " ['artykuły zamieszczane miesięczniku ']\n",
            " ['mają służyć księżom inteligencji kato- ']\n",
            " ['sprawy organizacyjne. uwagę ']\n",
            " ['świadomości ideowo-politycznej niektórych ']\n",
            " ['członków pax. uwidacznia się rozkład dyscypliny ']\n",
            " ['źle funkcjonuje powstają ']\n",
            " ['drive/MyDrive/kuba/zdjecia/fig101.jpg']\n",
            " ['ipn ']\n",
            " ['notowane przykłady fałszowania ']\n",
            " ['wyników pracy ogniw ']\n",
            " ['potrzebę większej dyscypliny zasadności planowaniu ']\n",
            " ['wyjazdów zagranicznych członków stowarzyszenia. ']\n",
            " ['wszystkie wyjazdy będą akceptowane przez ']\n",
            " ['zwiększenie aktywności zebraniach. zebrania podsumo- ']\n",
            " ['będą mogli wyłącznie odpowiedzialni pracownicy ']\n",
            " ['aktualne kierunki działania ']\n",
            " ['okazji xxx-lecia prl ']\n",
            " ['pax zamierza podjąć akcję ']\n",
            " ['eksponowania swego dorobku udzielania pomocy ']\n",
            " ['kościołowi spotkania ']\n",
            " ['pax zamierza wykorzystać tzw. katolickie dni społeczne ']\n",
            " ['wyłącznie jako forum wymiany poglądów między ']\n",
            " ['członkami młodymi ']\n",
            " ['stowarzyszenie zamierza rozwijać produkcję ']\n",
            " ['obrad zatwierdzono przyjęcie nowych kan- ']\n",
            " ['stan stowarzyszenia wynosił 13.202 ']]\n"
          ]
        }
      ]
    },
    {
      "cell_type": "code",
      "metadata": {
        "colab": {
          "base_uri": "https://localhost:8080/"
        },
        "id": "J-1r_jVe3Ran",
        "outputId": "bdfc3e25-931a-4dfe-d0d2-382f3463e77b"
      },
      "source": [
        "df_clean.values[0:100]"
      ],
      "execution_count": 83,
      "outputs": [
        {
          "output_type": "execute_result",
          "data": {
            "text/plain": [
              "array([['   archiwum tytuł teczka data skrajny jednostka archiwalny stary sygnatura sygnatura archiwalny'],\n",
              "       ['   pamięć narodowy warszawa'],\n",
              "       ['  x - materiał dotyczyć działalność zrzeszenie'],\n",
              "       ['   wykonanie budżet'],\n",
              "       ['   organizacja społeczny'],\n",
              "       ['   budżet . rok'],\n",
              "       ['000,7 gł .'],\n",
              "       ['   strata prasa wydawnictwo zł .'],\n",
              "       ['  . zł .'],\n",
              "       ['   osobowy fundusz'],\n",
              "       ['   służbowy delegacja'],\n",
              "       ['200 . 000,7'],\n",
              "       ['   społ. - polityczny'],\n",
              "       ['   strata prasa'],\n",
              "       ['680 . 000 .'],\n",
              "       ['   ww .'],\n",
              "       ['   nadwyżka całokształt'],\n",
              "       ['   biskup księża'],\n",
              "       ['   biskup księża konserwatysta'],\n",
              "       ['   zmiana statutowy . wskazywać'],\n",
              "       ['   ranga zespół członkowski - kandydacki'],\n",
              "       ['   odcinek wewnątrzkościelnym . zespół'],\n",
              "       ['   czynnik integrować stowarzyszenie .'],\n",
              "       ['   mieć wysoki znaczenie'],\n",
              "       ['   składać 10 - 40 osoba . kierownik'],\n",
              "       ['   członek pax . obecnie'],\n",
              "       ['   kraj działać'],\n",
              "       ['   członek pax działalność'],\n",
              "       ['   zainteresowanie pax - środowisko inteli -'],\n",
              "       ['   profil który pismo'],\n",
              "       ['   potrzeba duchowieństwo katolik świeca -'],\n",
              "       ['   nowy cel -'],\n",
              "       ['   pomocniczy praca'],\n",
              "       ['   zamieszczać miesięcznik'],\n",
              "       ['   służyć księża inteligencja kato -'],\n",
              "       ['   organizacyjny . uwaga'],\n",
              "       ['   ideowy - polityczny który'],\n",
              "       ['   pax . uwidaczniać rozkład dyscyplina'],\n",
              "       ['   funkcjonować powstawać'],\n",
              "       ['   przykład fałszowania'],\n",
              "       ['   praca ogniwo'],\n",
              "       ['   wielki dyscyplina zasadność planowanie'],\n",
              "       ['   zagraniczny członek stowarzyszenie .'],\n",
              "       ['   wyjazd akceptować'],\n",
              "       ['   aktywność zebranie . zebranie podsumo -'],\n",
              "       ['   móc wyłącznie odpowiedzialny pracownik'],\n",
              "       ['   kierunek działanie'],\n",
              "       ['   xxx - lecia prl'],\n",
              "       ['  x zamierzać podjąć akcja'],\n",
              "       ['   swój dorobek udzielania pomoc'],\n",
              "       ['  x zamierzać wykorzystać . katolicki dzień społeczny'],\n",
              "       ['   forum wymiana poglądy'],\n",
              "       ['   zamierzać rozwijać produkcja'],\n",
              "       ['   zatwierdzić przyjęcie nowy kan -'],\n",
              "       ['   stowarzyszenie wynosić 13 . 202'],\n",
              "       ['   6 . 158 członek 7 . 044 kandydat . kwiecień'],\n",
              "       ['  . stowarzyszenie zwiększyć osoba .'],\n",
              "       ['  . dep . msw'],\n",
              "       ['   naczelnik wydział'],\n",
              "       ['   sprawa wewnętrzny'],\n",
              "       ['   oddział krakowie nowy ogniwo .'],\n",
              "       ['   bm . odbyć zorganizować'],\n",
              "       ['   miejski spotkanie przygotowawczy określić'],\n",
              "       ['   osoba .'],\n",
              "       ['   bernard białeckiego cel spotkanie'],\n",
              "       ['   utworzenie kilkunastoosobowej grupa wysoko'],\n",
              "       ['   dokonywać analiza problem polityczny światopoglądowy . prace grupa piotr członek zarząd prawdopodobnie laureat nagroda'],\n",
              "       ['   laureat nagroda'],\n",
              "       ['   styk oba'],\n",
              "       ['   religioznawcze socjologia'],\n",
              "       ['   prowadzić metoda niekiedy'],\n",
              "       ['   sugestia białeckiego opracowywać'],\n",
              "       ['   przygotowywać forma pisemny'],\n",
              "       ['   jaga sfora'],\n",
              "       ['   zaproponować temat problem technika propaganda obieg informacja'],\n",
              "       ['   spotkanie grupa zostać zapowiedzieć dzienie'],\n",
              "       ['   19730 .'],\n",
              "       ['   krakowski oddział'],\n",
              "       ['   agenturalny kontrola'],\n",
              "       ['211 . 5,0'],\n",
              "       ['  . naczelnik wydział oe . sprawa niniejszy przesyłać informacja dot . . który zalecenie wydać'],\n",
              "       ['   sprawa wyjazd zagraniczny członek'],\n",
              "       ['   należeć kierownik oddział'],\n",
              "       ['   członek zarząd stowarzyszenie'],\n",
              "       ['   organizacja niski pionie'],\n",
              "       ['  x organizacja wobec co należeć'],\n",
              "       ['   utrzymanie odpowiedni poziom świadomość'],\n",
              "       ['   ostatnio szereg osoba'],\n",
              "       ['2 - 2'],\n",
              "       ['-6 . 15'],\n",
              "       ['   . - cola'],\n",
              "       ['1 - 2'],\n",
              "       ['  . ml . 12 .'],\n",
              "       ['1 - 4'],\n",
              "       ['7 . . .'],\n",
              "       ['   pula weto hol p - - sr .'],\n",
              "       ['0 . .'],\n",
              "       ['2 - 0 see'],\n",
              "       ['  . .'],\n",
              "       ['   ign auto']], dtype=object)"
            ]
          },
          "metadata": {},
          "execution_count": 83
        }
      ]
    },
    {
      "cell_type": "code",
      "metadata": {
        "id": "oeFJwbsOZ69-"
      },
      "source": [
        "from gensim.models.phrases import Phrases, Phraser"
      ],
      "execution_count": 25,
      "outputs": []
    },
    {
      "cell_type": "code",
      "metadata": {
        "id": "zCGUFxfuZ9QJ"
      },
      "source": [
        "sent = [row.split() for row in df_clean['clean']]"
      ],
      "execution_count": 26,
      "outputs": []
    },
    {
      "cell_type": "code",
      "metadata": {
        "id": "Q0vJUgGrZ_cP"
      },
      "source": [
        "phrases = Phrases(sent, min_count=5, progress_per=100)"
      ],
      "execution_count": 27,
      "outputs": []
    },
    {
      "cell_type": "code",
      "metadata": {
        "id": "FrW4qvgIaSin"
      },
      "source": [
        "bigram = Phraser(phrases)"
      ],
      "execution_count": 28,
      "outputs": []
    },
    {
      "cell_type": "code",
      "metadata": {
        "id": "F5QKToePaaku"
      },
      "source": [
        "sentences = bigram[sent]"
      ],
      "execution_count": 29,
      "outputs": []
    },
    {
      "cell_type": "code",
      "metadata": {
        "id": "INlEdFrMajFe"
      },
      "source": [
        "from collections import defaultdict  # For word frequency"
      ],
      "execution_count": 30,
      "outputs": []
    },
    {
      "cell_type": "code",
      "metadata": {
        "colab": {
          "base_uri": "https://localhost:8080/",
          "height": 414
        },
        "id": "pc_832t0edWa",
        "outputId": "f63f3903-4a69-413e-bdf7-fedf26b944a4"
      },
      "source": [
        "df_clean"
      ],
      "execution_count": 31,
      "outputs": [
        {
          "output_type": "execute_result",
          "data": {
            "text/html": [
              "<div>\n",
              "<style scoped>\n",
              "    .dataframe tbody tr th:only-of-type {\n",
              "        vertical-align: middle;\n",
              "    }\n",
              "\n",
              "    .dataframe tbody tr th {\n",
              "        vertical-align: top;\n",
              "    }\n",
              "\n",
              "    .dataframe thead th {\n",
              "        text-align: right;\n",
              "    }\n",
              "</style>\n",
              "<table border=\"1\" class=\"dataframe\">\n",
              "  <thead>\n",
              "    <tr style=\"text-align: right;\">\n",
              "      <th></th>\n",
              "      <th>clean</th>\n",
              "    </tr>\n",
              "  </thead>\n",
              "  <tbody>\n",
              "    <tr>\n",
              "      <th>0</th>\n",
              "      <td>własność archiwum tytuł teczka data skrajny je...</td>\n",
              "    </tr>\n",
              "    <tr>\n",
              "      <th>3</th>\n",
              "      <td>instytut pamięć narodowy warszawa</td>\n",
              "    </tr>\n",
              "    <tr>\n",
              "      <th>6</th>\n",
              "      <td>pax materiał dotyczyć działalność zrzeszenie</td>\n",
              "    </tr>\n",
              "    <tr>\n",
              "      <th>13</th>\n",
              "      <td>struktura wykonanie buda etów</td>\n",
              "    </tr>\n",
              "    <tr>\n",
              "      <th>14</th>\n",
              "      <td>katolicki organizacja społeczny</td>\n",
              "    </tr>\n",
              "    <tr>\n",
              "      <th>...</th>\n",
              "      <td>...</td>\n",
              "    </tr>\n",
              "    <tr>\n",
              "      <th>9488</th>\n",
              "      <td>stan nauka religia punkt</td>\n",
              "    </tr>\n",
              "    <tr>\n",
              "      <th>9489</th>\n",
              "      <td>brak inicjatywa księ y zakres usprawnienie</td>\n",
              "    </tr>\n",
              "    <tr>\n",
              "      <th>9491</th>\n",
              "      <td>środa katolik świecki</td>\n",
              "    </tr>\n",
              "    <tr>\n",
              "      <th>9492</th>\n",
              "      <td>rozkład spowodować brak pro</td>\n",
              "    </tr>\n",
              "    <tr>\n",
              "      <th>9493</th>\n",
              "      <td>działanie świadczyć bezsensowność istnienie</td>\n",
              "    </tr>\n",
              "  </tbody>\n",
              "</table>\n",
              "<p>4362 rows × 1 columns</p>\n",
              "</div>"
            ],
            "text/plain": [
              "                                                  clean\n",
              "0     własność archiwum tytuł teczka data skrajny je...\n",
              "3                     instytut pamięć narodowy warszawa\n",
              "6          pax materiał dotyczyć działalność zrzeszenie\n",
              "13                        struktura wykonanie buda etów\n",
              "14                      katolicki organizacja społeczny\n",
              "...                                                 ...\n",
              "9488                           stan nauka religia punkt\n",
              "9489         brak inicjatywa księ y zakres usprawnienie\n",
              "9491                              środa katolik świecki\n",
              "9492                        rozkład spowodować brak pro\n",
              "9493        działanie świadczyć bezsensowność istnienie\n",
              "\n",
              "[4362 rows x 1 columns]"
            ]
          },
          "metadata": {},
          "execution_count": 31
        }
      ]
    },
    {
      "cell_type": "code",
      "metadata": {
        "colab": {
          "base_uri": "https://localhost:8080/"
        },
        "id": "E-qp1ubXacpO",
        "outputId": "cfc13efc-9f7e-4701-cd3d-048aa6abef91"
      },
      "source": [
        "word_freq = defaultdict(int)\n",
        "for sent in sentences:\n",
        "    for i in sent:\n",
        "        word_freq[i] += 1\n",
        "len(word_freq)"
      ],
      "execution_count": 32,
      "outputs": [
        {
          "output_type": "execute_result",
          "data": {
            "text/plain": [
              "4912"
            ]
          },
          "metadata": {},
          "execution_count": 32
        }
      ]
    },
    {
      "cell_type": "code",
      "metadata": {
        "colab": {
          "base_uri": "https://localhost:8080/"
        },
        "id": "LzZmJs5taqjX",
        "outputId": "b7ebf72f-54d2-4609-b1c2-1a153fd2922e"
      },
      "source": [
        "sorted(word_freq, key=word_freq.get, reverse=True)[:20]"
      ],
      "execution_count": 33,
      "outputs": [
        {
          "output_type": "execute_result",
          "data": {
            "text/plain": [
              "['praca',\n",
              " 'pax',\n",
              " 'działalność',\n",
              " 'człowiek',\n",
              " 'stowarzyszenie',\n",
              " 'sprawa',\n",
              " 'rozwój',\n",
              " 'nale_y',\n",
              " 'swój',\n",
              " 'polityczny',\n",
              " 'kraj',\n",
              " 'e',\n",
              " 'nowy',\n",
              " 'polski',\n",
              " 'mo_e',\n",
              " 'kościół',\n",
              " 'rola',\n",
              " 'społeczny',\n",
              " 'dzień',\n",
              " 'wartość']"
            ]
          },
          "metadata": {},
          "execution_count": 33
        }
      ]
    },
    {
      "cell_type": "code",
      "metadata": {
        "id": "1oRxF2C-axVw"
      },
      "source": [
        "import multiprocessing\n",
        "\n",
        "from gensim.models import Word2Vec"
      ],
      "execution_count": 34,
      "outputs": []
    },
    {
      "cell_type": "code",
      "metadata": {
        "id": "TLseoLeNa1lJ"
      },
      "source": [
        "cores = multiprocessing.cpu_count()"
      ],
      "execution_count": 35,
      "outputs": []
    },
    {
      "cell_type": "code",
      "metadata": {
        "id": "bfxzi8Rqa5WS"
      },
      "source": [
        "w2v_model = Word2Vec(min_count=20,\n",
        "                     window=2,\n",
        "                     size=300,\n",
        "                     sample=6e-5, \n",
        "                     alpha=0.03, \n",
        "                     min_alpha=0.0007, \n",
        "                     negative=20,\n",
        "                     workers=cores-1)"
      ],
      "execution_count": 36,
      "outputs": []
    },
    {
      "cell_type": "code",
      "metadata": {
        "colab": {
          "base_uri": "https://localhost:8080/"
        },
        "id": "GFyTQjESa7gw",
        "outputId": "8f40d501-eed1-40c5-b041-7aa99914dbfd"
      },
      "source": [
        "t = time()\n",
        "\n",
        "w2v_model.build_vocab(sentences, progress_per=10000)\n",
        "\n",
        "print('Time to build vocab: {} mins'.format(round((time() - t) / 60, 2)))"
      ],
      "execution_count": 37,
      "outputs": [
        {
          "output_type": "stream",
          "name": "stdout",
          "text": [
            "Time to build vocab: 0.0 mins\n"
          ]
        }
      ]
    },
    {
      "cell_type": "code",
      "metadata": {
        "colab": {
          "base_uri": "https://localhost:8080/"
        },
        "id": "dCfpZSOUbAH3",
        "outputId": "bee61811-50d6-4762-f2b6-de188bcb3e49"
      },
      "source": [
        "t = time()\n",
        "\n",
        "w2v_model.train(sentences, total_examples=w2v_model.corpus_count, epochs=30, report_delay=1)\n",
        "\n",
        "print('Time to train the model: {} mins'.format(round((time() - t) / 60, 2)))"
      ],
      "execution_count": 38,
      "outputs": [
        {
          "output_type": "stream",
          "name": "stdout",
          "text": [
            "Time to train the model: 0.05 mins\n"
          ]
        }
      ]
    },
    {
      "cell_type": "code",
      "metadata": {
        "id": "LkTd2670bF94"
      },
      "source": [
        "w2v_model.init_sims(replace=True)"
      ],
      "execution_count": 39,
      "outputs": []
    },
    {
      "cell_type": "code",
      "metadata": {
        "colab": {
          "base_uri": "https://localhost:8080/"
        },
        "id": "tWjEX8zEdf9o",
        "outputId": "d271ab17-842c-434f-8b85-b434cf641a76"
      },
      "source": [
        "sorted(word_freq, key=word_freq.get, reverse=True)[:40]"
      ],
      "execution_count": 40,
      "outputs": [
        {
          "output_type": "execute_result",
          "data": {
            "text/plain": [
              "['praca',\n",
              " 'pax',\n",
              " 'działalność',\n",
              " 'człowiek',\n",
              " 'stowarzyszenie',\n",
              " 'sprawa',\n",
              " 'rozwój',\n",
              " 'nale_y',\n",
              " 'swój',\n",
              " 'polityczny',\n",
              " 'kraj',\n",
              " 'e',\n",
              " 'nowy',\n",
              " 'polski',\n",
              " 'mo_e',\n",
              " 'kościół',\n",
              " 'rola',\n",
              " 'społeczny',\n",
              " 'dzień',\n",
              " 'wartość',\n",
              " 'problem',\n",
              " 'rok',\n",
              " 'rzecz',\n",
              " 'partia',\n",
              " 'potrzeba',\n",
              " 'okres',\n",
              " 'społeczeństwo',\n",
              " 'mo',\n",
              " 'stosunek',\n",
              " 'równie',\n",
              " 'sytuacja',\n",
              " 'poprzez',\n",
              " 'referat',\n",
              " 'gospodarczy',\n",
              " 'członek',\n",
              " 'zostać',\n",
              " 'cena',\n",
              " 'świat',\n",
              " 'który',\n",
              " 'władza']"
            ]
          },
          "metadata": {},
          "execution_count": 40
        }
      ]
    },
    {
      "cell_type": "code",
      "metadata": {
        "colab": {
          "base_uri": "https://localhost:8080/"
        },
        "id": "efydYfPfbML-",
        "outputId": "4070273a-1653-4b6a-9f04-cc7278c2e93d"
      },
      "source": [
        "w2v_model.wv.most_similar(positive=[\"pax\"])"
      ],
      "execution_count": 41,
      "outputs": [
        {
          "output_type": "execute_result",
          "data": {
            "text/plain": [
              "[('praca', 0.7755444049835205),\n",
              " ('sprawa', 0.7696102857589722),\n",
              " ('kraj', 0.7335965037345886),\n",
              " ('sytuacja', 0.7018183469772339),\n",
              " ('dzień', 0.6915379762649536),\n",
              " ('rozwój', 0.6764400005340576),\n",
              " ('wygłosić', 0.652428925037384),\n",
              " ('du', 0.6454485654830933),\n",
              " ('członek', 0.6347534656524658),\n",
              " ('kultura', 0.6256502270698547)]"
            ]
          },
          "metadata": {},
          "execution_count": 41
        }
      ]
    },
    {
      "cell_type": "code",
      "metadata": {
        "colab": {
          "base_uri": "https://localhost:8080/"
        },
        "id": "unRJaq3NdnqU",
        "outputId": "352e289d-7c9d-4b9d-fec3-c8001eade0ca"
      },
      "source": [
        "w2v_model.wv.most_similar(negative=[\"pax\"])"
      ],
      "execution_count": 42,
      "outputs": [
        {
          "output_type": "execute_result",
          "data": {
            "text/plain": [
              "[('prasa', -0.13204151391983032),\n",
              " ('teza', -0.1337442696094513),\n",
              " ('występować', -0.13563784956932068),\n",
              " ('narodowy', -0.13898739218711853),\n",
              " ('być', -0.1411561518907547),\n",
              " ('kierownictwo', -0.17720714211463928),\n",
              " ('zebranie', -0.19849564135074615),\n",
              " ('ka', -0.19930815696716309),\n",
              " ('rok', -0.19996654987335205),\n",
              " ('ju', -0.20811234414577484)]"
            ]
          },
          "metadata": {},
          "execution_count": 42
        }
      ]
    },
    {
      "cell_type": "code",
      "metadata": {
        "colab": {
          "base_uri": "https://localhost:8080/",
          "height": 91
        },
        "id": "RCR5Sog9d-Vo",
        "outputId": "ab503494-3299-4fe8-b85b-e619fab60165"
      },
      "source": [
        "w2v_model.wv.doesnt_match(['pax', 'socjalizm', 'chrze_cija'])"
      ],
      "execution_count": 43,
      "outputs": [
        {
          "output_type": "stream",
          "name": "stderr",
          "text": [
            "/usr/local/lib/python3.7/dist-packages/gensim/models/keyedvectors.py:895: FutureWarning: arrays to stack must be passed as a \"sequence\" type such as list or tuple. Support for non-sequence iterables such as generators is deprecated as of NumPy 1.16 and will raise an error in the future.\n",
            "  vectors = vstack(self.word_vec(word, use_norm=True) for word in used_words).astype(REAL)\n"
          ]
        },
        {
          "output_type": "execute_result",
          "data": {
            "application/vnd.google.colaboratory.intrinsic+json": {
              "type": "string"
            },
            "text/plain": [
              "'socjalizm'"
            ]
          },
          "metadata": {},
          "execution_count": 43
        }
      ]
    },
    {
      "cell_type": "code",
      "metadata": {
        "id": "csqasVVtfSfx"
      },
      "source": [
        "import numpy as np\n",
        "import matplotlib.pyplot as plt\n",
        "%matplotlib inline\n",
        " \n",
        "import seaborn as sns\n",
        "sns.set_style(\"darkgrid\")\n",
        "\n",
        "from sklearn.decomposition import PCA\n",
        "from sklearn.manifold import TSNE"
      ],
      "execution_count": 44,
      "outputs": []
    },
    {
      "cell_type": "code",
      "metadata": {
        "id": "yO7QkfCJfWDK"
      },
      "source": [
        "def tsnescatterplot(model, word, list_names):\n",
        "    \"\"\" Plot in seaborn the results from the t-SNE dimensionality reduction algorithm of the vectors of a query word,\n",
        "    its list of most similar words, and a list of words.\n",
        "    \"\"\"\n",
        "    arrays = np.empty((0, 300), dtype='f')\n",
        "    word_labels = [word]\n",
        "    color_list  = ['red']\n",
        "\n",
        "    # adds the vector of the query word\n",
        "    arrays = np.append(arrays, model.wv.__getitem__([word]), axis=0)\n",
        "    \n",
        "    # gets list of most similar words\n",
        "    close_words = model.wv.most_similar([word])\n",
        "    \n",
        "    # adds the vector for each of the closest words to the array\n",
        "    for wrd_score in close_words:\n",
        "        wrd_vector = model.wv.__getitem__([wrd_score[0]])\n",
        "        word_labels.append(wrd_score[0])\n",
        "        color_list.append('blue')\n",
        "        arrays = np.append(arrays, wrd_vector, axis=0)\n",
        "    \n",
        "    # adds the vector for each of the words from list_names to the array\n",
        "    for wrd in list_names:\n",
        "        wrd_vector = model.wv.__getitem__([wrd])\n",
        "        word_labels.append(wrd)\n",
        "        color_list.append('green')\n",
        "        arrays = np.append(arrays, wrd_vector, axis=0)\n",
        "        \n",
        "    # Reduces the dimensionality from 300 to 50 dimensions with PCA\n",
        "    reduc = PCA(n_components=18).fit_transform(arrays)\n",
        "    \n",
        "    # Finds t-SNE coordinates for 2 dimensions\n",
        "    np.set_printoptions(suppress=True)\n",
        "    \n",
        "    Y = TSNE(n_components=2, random_state=0, perplexity=15).fit_transform(reduc)\n",
        "    \n",
        "    # Sets everything up to plot\n",
        "    df = pd.DataFrame({'x': [x for x in Y[:, 0]],\n",
        "                       'y': [y for y in Y[:, 1]],\n",
        "                       'words': word_labels,\n",
        "                       'color': color_list})\n",
        "    \n",
        "    fig, _ = plt.subplots()\n",
        "    fig.set_size_inches(9, 9)\n",
        "    \n",
        "    # Basic plot\n",
        "    p1 = sns.regplot(data=df,\n",
        "                     x=\"x\",\n",
        "                     y=\"y\",\n",
        "                     fit_reg=False,\n",
        "                     marker=\"o\",\n",
        "                     scatter_kws={'s': 40,\n",
        "                                  'facecolors': df['color']\n",
        "                                 }\n",
        "                    )\n",
        "    \n",
        "    # Adds annotations one by one with a loop\n",
        "    for line in range(0, df.shape[0]):\n",
        "         p1.text(df[\"x\"][line],\n",
        "                 df['y'][line],\n",
        "                 '  ' + df[\"words\"][line].title(),\n",
        "                 horizontalalignment='left',\n",
        "                 verticalalignment='bottom', size='medium',\n",
        "                 color=df['color'][line],\n",
        "                 weight='normal'\n",
        "                ).set_size(15)\n",
        "\n",
        "    \n",
        "    plt.xlim(Y[:, 0].min()-50, Y[:, 0].max()+50)\n",
        "    plt.ylim(Y[:, 1].min()-50, Y[:, 1].max()+50)\n",
        "            \n",
        "    plt.title('t-SNE visualization for {}'.format(word.title()))"
      ],
      "execution_count": 45,
      "outputs": []
    },
    {
      "cell_type": "code",
      "metadata": {
        "colab": {
          "base_uri": "https://localhost:8080/"
        },
        "id": "Aa4XASwhfceQ",
        "outputId": "5cdce189-0299-4aa6-d66b-f1ff2e7d5ead"
      },
      "source": [
        "sorted(word_freq, key=word_freq.get, reverse=False)[:20]"
      ],
      "execution_count": 49,
      "outputs": [
        {
          "output_type": "execute_result",
          "data": {
            "text/plain": [
              "['archiwum',\n",
              " 'teczka',\n",
              " 'data',\n",
              " 'skrajny',\n",
              " 'pamięć',\n",
              " 'zrzeszenie',\n",
              " 'podró',\n",
              " 'bowe',\n",
              " 'społ',\n",
              " 'członkowsko',\n",
              " 'kandydacki',\n",
              " 'wewnątrzkościelnym',\n",
              " 'szerszego',\n",
              " 'profil',\n",
              " 'pomocniczy',\n",
              " 'zamieszczać',\n",
              " 'uwidaczniać',\n",
              " 'fałszowania',\n",
              " 'planowanie',\n",
              " 'podsumo']"
            ]
          },
          "metadata": {},
          "execution_count": 49
        }
      ]
    },
    {
      "cell_type": "code",
      "metadata": {
        "colab": {
          "base_uri": "https://localhost:8080/",
          "height": 566
        },
        "id": "mGGwa4ngfXq9",
        "outputId": "3ba3ace3-9bb0-4f9b-8f62-5fe3a6e284b6"
      },
      "source": [
        "tsnescatterplot(w2v_model, 'pax', ['praca', 'działalność', 'człowiek', 'polityczny', 'kraj', 'kościół', 'społeczny','katolicki'])"
      ],
      "execution_count": 47,
      "outputs": [
        {
          "output_type": "display_data",
          "data": {
            "image/png": "[encoded data removed]",
            "text/plain": [
              "<Figure size 648x648 with 1 Axes>"
            ]
          },
          "metadata": {}
        }
      ]
    }
  ]
}