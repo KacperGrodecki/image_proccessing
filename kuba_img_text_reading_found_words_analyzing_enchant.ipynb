{
  "nbformat": 4,
  "nbformat_minor": 0,
  "metadata": {
    "colab": {
      "name": "kuba_img_text_reading_found_words_analyzing_enchant.ipynb",
      "provenance": [],
      "collapsed_sections": [],
      "authorship_tag": "ABX9TyPdu77a+Vjh/HCu40qPNaKW",
      "include_colab_link": true
    },
    "kernelspec": {
      "name": "python3",
      "display_name": "Python 3"
    }
  },
  "cells": [
    {
      "cell_type": "markdown",
      "metadata": {
        "id": "view-in-github",
        "colab_type": "text"
      },
      "source": [
        "<a href=\"https://colab.research.google.com/github/KacperGrodecki/image_proccessing/blob/main/kuba_img_text_reading_found_words_analyzing_enchant.ipynb\" target=\"_parent\"><img src=\"https://colab.research.google.com/assets/colab-badge.svg\" alt=\"Open In Colab\"/></a>"
      ]
    },
    {
      "cell_type": "code",
      "metadata": {
        "id": "IJjlrbzGKZi4",
        "colab": {
          "base_uri": "https://localhost:8080/"
        },
        "outputId": "d9502011-5474-4b92-c83f-5dd9ac12cfb1"
      },
      "source": [
        "from google.colab import drive\n",
        "drive.mount('/content/drive')"
      ],
      "execution_count": 1,
      "outputs": [
        {
          "output_type": "stream",
          "name": "stdout",
          "text": [
            "Drive already mounted at /content/drive; to attempt to forcibly remount, call drive.mount(\"/content/drive\", force_remount=True).\n"
          ]
        }
      ]
    },
    {
      "cell_type": "code",
      "metadata": {
        "id": "DRZvokFkmu_d"
      },
      "source": [
        "pip uninstall spacy"
      ],
      "execution_count": null,
      "outputs": []
    },
    {
      "cell_type": "code",
      "metadata": {
        "id": "f5OunayamzvS"
      },
      "source": [
        "pip install spacy==2.3.2"
      ],
      "execution_count": null,
      "outputs": []
    },
    {
      "cell_type": "code",
      "metadata": {
        "id": "nl389bLjnFRB"
      },
      "source": [
        "!python3 -m spacy download pl_core_news_md\n",
        "#https://github.com/explosion/spaCy/issues/5140"
      ],
      "execution_count": null,
      "outputs": []
    },
    {
      "cell_type": "code",
      "metadata": {
        "id": "406ek6Ivm9qD"
      },
      "source": [
        "import spacy  \n",
        "from spacy.lang.pl.examples import sentences \n",
        "nlp = spacy.load(\"pl_core_news_md\")"
      ],
      "execution_count": null,
      "outputs": []
    },
    {
      "cell_type": "code",
      "metadata": {
        "id": "VCQq3xY_FatP",
        "colab": {
          "base_uri": "https://localhost:8080/"
        },
        "outputId": "9e97ecd1-bba2-437b-a187-1f5398ba3ae6"
      },
      "source": [
        "pip install pyenchant"
      ],
      "execution_count": 2,
      "outputs": [
        {
          "output_type": "stream",
          "name": "stdout",
          "text": [
            "Requirement already satisfied: pyenchant in /usr/local/lib/python3.7/dist-packages (3.2.2)\n"
          ]
        }
      ]
    },
    {
      "cell_type": "code",
      "metadata": {
        "id": "S4o5m7KVGxIw",
        "colab": {
          "base_uri": "https://localhost:8080/"
        },
        "outputId": "e8098ea3-3786-4597-f63d-b3d6aa97f8e6"
      },
      "source": [
        "!apt install -qq enchant"
      ],
      "execution_count": 3,
      "outputs": [
        {
          "output_type": "stream",
          "name": "stdout",
          "text": [
            "enchant is already the newest version (1.6.0-11.1).\n",
            "0 upgraded, 0 newly installed, 0 to remove and 37 not upgraded.\n"
          ]
        }
      ]
    },
    {
      "cell_type": "code",
      "metadata": {
        "id": "GgxGHC6TIr-i",
        "colab": {
          "base_uri": "https://localhost:8080/"
        },
        "outputId": "70454420-4514-4e9b-8e12-68ff586d1588"
      },
      "source": [
        "!apt-get install myspell-pl"
      ],
      "execution_count": 4,
      "outputs": [
        {
          "output_type": "stream",
          "name": "stdout",
          "text": [
            "Reading package lists... Done\n",
            "Building dependency tree       \n",
            "Reading state information... Done\n",
            "myspell-pl is already the newest version (20170707-1).\n",
            "0 upgraded, 0 newly installed, 0 to remove and 37 not upgraded.\n"
          ]
        }
      ]
    },
    {
      "cell_type": "code",
      "metadata": {
        "id": "2wUfYi8wWZLT"
      },
      "source": [
        "import pandas as pd\n",
        "import cv2\n",
        "import numpy as np\n",
        "import re\n",
        "import matplotlib.pyplot as plt      \n",
        "import pickle\n",
        "from os import listdir\n",
        "from os.path import isfile, join\n",
        "import gc\n",
        "import sys\n",
        "import pickle\n",
        "import string\n",
        "import enchant\n",
        "from time import time\n",
        "from gensim.models.phrases import Phrases, Phraser\n",
        "from collections import defaultdict  # For word frequency\n",
        "import multiprocessing\n",
        "from gensim.models import Word2Vec"
      ],
      "execution_count": 5,
      "outputs": []
    },
    {
      "cell_type": "code",
      "metadata": {
        "id": "NB8HnIDbFUx4",
        "colab": {
          "base_uri": "https://localhost:8080/"
        },
        "outputId": "43f157b7-a0a6-4c81-eaee-a3b298669608"
      },
      "source": [
        "d = enchant.Dict('PL')\n",
        "d.check(\"guzik\") # False\n",
        "\n"
      ],
      "execution_count": 6,
      "outputs": [
        {
          "output_type": "execute_result",
          "data": {
            "text/plain": [
              "True"
            ]
          },
          "metadata": {},
          "execution_count": 6
        }
      ]
    },
    {
      "cell_type": "code",
      "metadata": {
        "id": "VSCMbCO6Dt6W"
      },
      "source": [
        "text=pd.read_csv('drive/MyDrive/kuba/odczyt_0_85.csv',index_col=0)"
      ],
      "execution_count": 7,
      "outputs": []
    },
    {
      "cell_type": "code",
      "metadata": {
        "colab": {
          "base_uri": "https://localhost:8080/",
          "height": 202
        },
        "id": "OzNEDFKK0Qd6",
        "outputId": "dc21c06b-8976-4cc7-8417-8852d65e4ed9"
      },
      "source": [
        "text.head()"
      ],
      "execution_count": 8,
      "outputs": [
        {
          "output_type": "execute_result",
          "data": {
            "text/html": [
              "<div>\n",
              "<style scoped>\n",
              "    .dataframe tbody tr th:only-of-type {\n",
              "        vertical-align: middle;\n",
              "    }\n",
              "\n",
              "    .dataframe tbody tr th {\n",
              "        vertical-align: top;\n",
              "    }\n",
              "\n",
              "    .dataframe thead th {\n",
              "        text-align: right;\n",
              "    }\n",
              "</style>\n",
              "<table border=\"1\" class=\"dataframe\">\n",
              "  <thead>\n",
              "    <tr style=\"text-align: right;\">\n",
              "      <th></th>\n",
              "      <th>0</th>\n",
              "    </tr>\n",
              "  </thead>\n",
              "  <tbody>\n",
              "    <tr>\n",
              "      <th>0</th>\n",
              "      <td>drive/MyDrive/kuba/zdjecia/fig1.jpg</td>\n",
              "    </tr>\n",
              "    <tr>\n",
              "      <th>1</th>\n",
              "      <td>Własność\\narchiwum\\nAktotwórca\\nTytuł teczki\\n...</td>\n",
              "    </tr>\n",
              "    <tr>\n",
              "      <th>2</th>\n",
              "      <td>IPN BU 0 639/223</td>\n",
              "    </tr>\n",
              "    <tr>\n",
              "      <th>3</th>\n",
              "      <td>KARTA INFORMACYJNA</td>\n",
              "    </tr>\n",
              "    <tr>\n",
              "      <th>4</th>\n",
              "      <td>Instytut Pamięci Narodowej w Warszawie</td>\n",
              "    </tr>\n",
              "  </tbody>\n",
              "</table>\n",
              "</div>"
            ],
            "text/plain": [
              "                                                   0\n",
              "0                drive/MyDrive/kuba/zdjecia/fig1.jpg\n",
              "1  Własność\\narchiwum\\nAktotwórca\\nTytuł teczki\\n...\n",
              "2                                   IPN BU 0 639/223\n",
              "3                                 KARTA INFORMACYJNA\n",
              "4             Instytut Pamięci Narodowej w Warszawie"
            ]
          },
          "metadata": {},
          "execution_count": 8
        }
      ]
    },
    {
      "cell_type": "code",
      "metadata": {
        "id": "IQfR7Dqfgg1h"
      },
      "source": [
        "from difflib import SequenceMatcher\n",
        "\n",
        "def similar(a, b):\n",
        "    return SequenceMatcher(None, a, b).ratio()"
      ],
      "execution_count": 9,
      "outputs": []
    },
    {
      "cell_type": "code",
      "metadata": {
        "id": "08Amw-9kkmS5"
      },
      "source": [
        "def has_numbers(inputString):\n",
        "    return any(char.isdigit() for char in inputString)"
      ],
      "execution_count": 10,
      "outputs": []
    },
    {
      "cell_type": "code",
      "metadata": {
        "colab": {
          "base_uri": "https://localhost:8080/"
        },
        "id": "qiEdylnZnUIL",
        "outputId": "ab7f6ab1-3f36-4f83-a09a-f156c7f06fc6"
      },
      "source": [
        "ch='/'\n",
        "ch.isalnum()"
      ],
      "execution_count": 55,
      "outputs": [
        {
          "output_type": "execute_result",
          "data": {
            "text/plain": [
              "False"
            ]
          },
          "metadata": {},
          "execution_count": 55
        }
      ]
    },
    {
      "cell_type": "code",
      "metadata": {
        "id": "iTo6hrTec4qF"
      },
      "source": [
        "def word_correction_enchant(a):\n",
        "    a=str(a)\n",
        "    if 'drive/MyDrive/kuba/' in a:\n",
        "      return a\n",
        "    correct=''\n",
        "    for word in a.split():\n",
        "        word = ''.join(ch for ch in word if ch.isalnum())\n",
        "        if len(word)>1:\n",
        "            if has_numbers(word) or len(word)<3:\n",
        "              continue\n",
        "            try:\n",
        "              if int(d.check(word))==1:\n",
        "                correct+=word.lower()+' '\n",
        "            except:\n",
        "              pass     \n",
        "    return correct"
      ],
      "execution_count": 56,
      "outputs": []
    },
    {
      "cell_type": "code",
      "metadata": {
        "id": "0-VkBr6pckM9"
      },
      "source": [
        "correct=text.applymap(lambda x: word_correction_enchant(x))#dodać numery stron"
      ],
      "execution_count": 57,
      "outputs": []
    },
    {
      "cell_type": "code",
      "metadata": {
        "id": "Un-DAhRAK7jh"
      },
      "source": [
        "correct1 = correct[correct['0']!= '']"
      ],
      "execution_count": 58,
      "outputs": []
    },
    {
      "cell_type": "code",
      "metadata": {
        "colab": {
          "base_uri": "https://localhost:8080/"
        },
        "id": "yiuR0k5w0pyZ",
        "outputId": "6069d1d2-ac93-46e7-cb32-216205a457b3"
      },
      "source": [
        "print(correct1.iloc[300:400].values)"
      ],
      "execution_count": 59,
      "outputs": [
        {
          "output_type": "stream",
          "name": "stdout",
          "text": [
            "[['współpracy ']\n",
            " ['kosi ']\n",
            " ['blokowymi ']\n",
            " ['przy ']\n",
            " ['przy pół ']\n",
            " ['poprzez ']\n",
            " ['poprzez ']\n",
            " ['śluby terenowe ']\n",
            " ['terenowe ']\n",
            " ['cechuje ']\n",
            " ['cechuje ']\n",
            " ['chaotyczność ']\n",
            " ['winne ']\n",
            " ['linia polityczną pax ']\n",
            " ['linia polityczną pań ']\n",
            " ['drive/MyDrive/kuba/zdjecia/fig112.jpg']\n",
            " ['ipn ']\n",
            " ['lei ']\n",
            " ['celu ']\n",
            " ['tezy ']\n",
            " ['wania pracy radach ']\n",
            " ['pak ']\n",
            " ['specjalne ']\n",
            " ['racuch ']\n",
            " ['inf ']\n",
            " ['drive/MyDrive/kuba/zdjecia/fig113.jpg']\n",
            " ['załącznik zestawu ważniejszych ']\n",
            " ['załącznik zestawu ważniejszych ']\n",
            " ['informacji ']\n",
            " ['spotkanie pax ']\n",
            " ['aktywem katolickim katowicach ']\n",
            " ['stowarzyszenie pax zorganizowało katowicach spotkanie ']\n",
            " ['rzymskiego korespondenta pax redaktora czajkowskiego ']\n",
            " ['temat wizyty ministra ']\n",
            " ['księżmi działaczami świeckimi temat wizyty ministra watykanie ']\n",
            " ['wzięli udział zajmujący się paxie ']\n",
            " ['pracą duchowieństwem przewodniczący oddziału ']\n",
            " ['członkowie sekretariatu ']\n",
            " ['kiego katowicach ']\n",
            " ['osób tym księży diec krakowskiej często ']\n",
            " ['katowickiej pastorów kościoła luterańskiego ']\n",
            " ['zabrza bytomia ']\n",
            " ['redaktor czajkowski omówił problem wizyty min ']\n",
            " ['kiego punktu widzenia stosunku watykanu polski okresie ']\n",
            " ['powojennym politycznego charakteru wizyty reakcji prasy ']\n",
            " ['włoskiej światowej oraz strony kół rewizjonistycznych ']\n",
            " ['zachodzie powiedział min ']\n",
            " ['stosunek jana pawła był zawsze jest serdeczny ']\n",
            " ['tym uznanie przez jana ']\n",
            " ['polskich ziem zachodnich północnych ustanowienie ']\n",
            " ['przez pawła polskiej administracji kościelnej tych ']\n",
            " ['ziemiach likwidacja ambasady rządu londyńskiego przy ']\n",
            " ['watykanie odmówienie akredytacji rozmowy ']\n",
            " ['podjęte polską nominacja kard kominka spotkanie ']\n",
            " ['helsinkach ']\n",
            " ['podczas którego uzgodniono wspólne działania polski ']\n",
            " ['rzecz pokoju oraz wyrażono chęć ']\n",
            " ['stosunków red czajkowski uważa ']\n",
            " ['przełomie roku polska znalazła się orbi ']\n",
            " ['cie wpływu polityki watykańskiej ']\n",
            " ['drive/MyDrive/kuba/zdjecia/fig114.jpg']\n",
            " ['ipn ']\n",
            " ['ipn ']\n",
            " ['wizyta min olszowskiego watykanie przebiegała ']\n",
            " ['atmosferze szukania punktu zbliżenia unikania spraw ']\n",
            " ['mogących doprowadzić zadrażnień stosunków między ']\n",
            " ['polską watykanem papież wyraził szacunek kraju ']\n",
            " ['socjalistycznego jego polityki używając słów partia ']\n",
            " ['polska rzeczpospolita ludowa min olszowski wyraził ']\n",
            " ['uznanie dla polityki pojednania pokoju watykanu ']\n",
            " ['osobistego wkładu papieża oraz szacunkiem mówił ']\n",
            " ['katolicy polsce wspólnie budują socjalizm ']\n",
            " ['konsekwencją wizyty min olszowskiego watykanie ']\n",
            " ['będą dalsze rozmowy między polską watykanem ']\n",
            " ['zaproszenie przyjazd casaroli polski ']\n",
            " ['które rokują nadzieje osiągnięcie porozumień ']\n",
            " ['bazie poszanowania konstytucji przepisów przez ']\n",
            " ['kościół wolności religijnej przez państwo ']\n",
            " ['prasa włoska światowa wytworzyła odpowiedni klimat ']\n",
            " ['rozmów którego nie mogły zakłócić ']\n",
            " ['nawet koła rewizjonistów konserwatystów zarzucały one ']\n",
            " ['papieżowi czyni zbyt wiele gestów pod adresem komu ']\n",
            " ['rozbestwia ich psuje posoborową atmosferę ']\n",
            " ['kościele potęguje kryzys atmosfera wytrąciła ']\n",
            " ['argumenty kościele cierpiącym milczącym ']\n",
            " ['zachodzie przez niektórych hierarchów polskich ']\n",
            " ['zdaniem red czajkowskiego polsce ']\n",
            " ['normalizacji stosunków widzi papież ']\n",
            " ['watykan polska dotychczas była wyspą kościele którą ']\n",
            " ['omijały negatywne zjawiska kontestacji obojętności religijnej ']\n",
            " ['papież dąży podpisania władzami polskimi porozumień ']\n",
            " ['gdyż jest przekonany prądy dotrą również polski ']\n",
            " ['drive/MyDrive/kuba/zdjecia/fig115.jpg']\n",
            " ['ipn ']\n",
            " ['chce ochronić kościół przed wstrząsami jakie mają miejsce ']\n",
            " ['innych krajach ']\n",
            " ['dyskusji zabrało głos osób tym księży ']\n",
            " ['się ewentualnym przyjazdem papieża polski ']\n",
            " ['episkopatu polskiego rozmów norma ']\n",
            " ['stosunków rolą biskupa dąbrowskiego ']]\n"
          ]
        }
      ]
    },
    {
      "cell_type": "code",
      "metadata": {
        "id": "AUDkZ-ir4ehx"
      },
      "source": [
        "def nazwiska(x):\n",
        "  if 'gołębiewski' in x:\n",
        "    return 1\n",
        "  else:\n",
        "    return 0"
      ],
      "execution_count": 130,
      "outputs": []
    },
    {
      "cell_type": "code",
      "metadata": {
        "id": "tScXZC296FY5"
      },
      "source": [
        "kuba=correct1.copy()"
      ],
      "execution_count": 143,
      "outputs": []
    },
    {
      "cell_type": "code",
      "metadata": {
        "id": "citCRYtZ4tUg"
      },
      "source": [
        "kuba['swoje']=kuba.applymap(lambda x: nazwiska(x))"
      ],
      "execution_count": 144,
      "outputs": []
    },
    {
      "cell_type": "code",
      "metadata": {
        "colab": {
          "base_uri": "https://localhost:8080/",
          "height": 1000
        },
        "id": "dJzesr2N5ELZ",
        "outputId": "616026d7-8376-4638-c8f6-fed2c26307d2"
      },
      "source": [
        "print(kuba[kuba['swoje']==1])\n",
        "kuba.iloc[5720:5720+30,:]"
      ],
      "execution_count": 166,
      "outputs": [
        {
          "output_type": "stream",
          "name": "stdout",
          "text": [
            "                 0  swoje\n",
            "7408  gołębiewski       1\n"
          ]
        },
        {
          "output_type": "execute_result",
          "data": {
            "text/html": [
              "<div>\n",
              "<style scoped>\n",
              "    .dataframe tbody tr th:only-of-type {\n",
              "        vertical-align: middle;\n",
              "    }\n",
              "\n",
              "    .dataframe tbody tr th {\n",
              "        vertical-align: top;\n",
              "    }\n",
              "\n",
              "    .dataframe thead th {\n",
              "        text-align: right;\n",
              "    }\n",
              "</style>\n",
              "<table border=\"1\" class=\"dataframe\">\n",
              "  <thead>\n",
              "    <tr style=\"text-align: right;\">\n",
              "      <th></th>\n",
              "      <th>0</th>\n",
              "      <th>swoje</th>\n",
              "    </tr>\n",
              "  </thead>\n",
              "  <tbody>\n",
              "    <tr>\n",
              "      <th>7364</th>\n",
              "      <td>ipn</td>\n",
              "      <td>0</td>\n",
              "    </tr>\n",
              "    <tr>\n",
              "      <th>7369</th>\n",
              "      <td>dziełu</td>\n",
              "      <td>0</td>\n",
              "    </tr>\n",
              "    <tr>\n",
              "      <th>7370</th>\n",
              "      <td>iata loli pre zych</td>\n",
              "      <td>0</td>\n",
              "    </tr>\n",
              "    <tr>\n",
              "      <th>7372</th>\n",
              "      <td>załączeniu dot</td>\n",
              "      <td>0</td>\n",
              "    </tr>\n",
              "    <tr>\n",
              "      <th>7373</th>\n",
              "      <td>zarządu oddziału stowarzyszenia pax</td>\n",
              "      <td>0</td>\n",
              "    </tr>\n",
              "    <tr>\n",
              "      <th>7374</th>\n",
              "      <td>odbytej</td>\n",
              "      <td>0</td>\n",
              "    </tr>\n",
              "    <tr>\n",
              "      <th>7375</th>\n",
              "      <td>roku</td>\n",
              "      <td>0</td>\n",
              "    </tr>\n",
              "    <tr>\n",
              "      <th>7386</th>\n",
              "      <td>said fran</td>\n",
              "      <td>0</td>\n",
              "    </tr>\n",
              "    <tr>\n",
              "      <th>7388</th>\n",
              "      <td>adresat</td>\n",
              "      <td>0</td>\n",
              "    </tr>\n",
              "    <tr>\n",
              "      <th>7393</th>\n",
              "      <td>drive/MyDrive/kuba/zdjecia/fig278.jpg</td>\n",
              "      <td>0</td>\n",
              "    </tr>\n",
              "    <tr>\n",
              "      <th>7395</th>\n",
              "      <td>tpn</td>\n",
              "      <td>0</td>\n",
              "    </tr>\n",
              "    <tr>\n",
              "      <th>7396</th>\n",
              "      <td>tajne</td>\n",
              "      <td>0</td>\n",
              "    </tr>\n",
              "    <tr>\n",
              "      <th>7399</th>\n",
              "      <td>dot przebiegu narady zarządu oddziału</td>\n",
              "      <td>0</td>\n",
              "    </tr>\n",
              "    <tr>\n",
              "      <th>7400</th>\n",
              "      <td>stowarzyszenia pax katowicach odbytej</td>\n",
              "      <td>0</td>\n",
              "    </tr>\n",
              "    <tr>\n",
              "      <th>7401</th>\n",
              "      <td>dniach września wiśle</td>\n",
              "      <td>0</td>\n",
              "    </tr>\n",
              "    <tr>\n",
              "      <th>7402</th>\n",
              "      <td>dniach września odbyła się ośrodku</td>\n",
              "      <td>0</td>\n",
              "    </tr>\n",
              "    <tr>\n",
              "      <th>7403</th>\n",
              "      <td>wiśle narada kierowników</td>\n",
              "      <td>0</td>\n",
              "    </tr>\n",
              "    <tr>\n",
              "      <th>7404</th>\n",
              "      <td>zespołów kadrowych oraz niektórych pracowników</td>\n",
              "      <td>0</td>\n",
              "    </tr>\n",
              "    <tr>\n",
              "      <th>7405</th>\n",
              "      <td>pax katowicach</td>\n",
              "      <td>0</td>\n",
              "    </tr>\n",
              "    <tr>\n",
              "      <th>7406</th>\n",
              "      <td>naradzie której uczestniczyło osób wziął udział</td>\n",
              "      <td>0</td>\n",
              "    </tr>\n",
              "    <tr>\n",
              "      <th>7407</th>\n",
              "      <td>członek prezydium stowarzyszenia kierownik szk...</td>\n",
              "      <td>0</td>\n",
              "    </tr>\n",
              "    <tr>\n",
              "      <th>7408</th>\n",
              "      <td>gołębiewski</td>\n",
              "      <td>1</td>\n",
              "    </tr>\n",
              "    <tr>\n",
              "      <th>7409</th>\n",
              "      <td>referat oceniający przebieg tematykę zebrań ze...</td>\n",
              "      <td>0</td>\n",
              "    </tr>\n",
              "    <tr>\n",
              "      <th>7410</th>\n",
              "      <td>omawiający elementy świadomości ideowopolitycz...</td>\n",
              "      <td>0</td>\n",
              "    </tr>\n",
              "    <tr>\n",
              "      <th>7411</th>\n",
              "      <td>wygłosił kierownika szkolenia sekretariatu woj...</td>\n",
              "      <td>0</td>\n",
              "    </tr>\n",
              "    <tr>\n",
              "      <th>7412</th>\n",
              "      <td>jan</td>\n",
              "      <td>0</td>\n",
              "    </tr>\n",
              "    <tr>\n",
              "      <th>7413</th>\n",
              "      <td>ocenę stanu świadomości organizacji wojewódzki...</td>\n",
              "      <td>0</td>\n",
              "    </tr>\n",
              "    <tr>\n",
              "      <th>7414</th>\n",
              "      <td>się takie elementy jak społecznopolityczne zaa...</td>\n",
              "      <td>0</td>\n",
              "    </tr>\n",
              "    <tr>\n",
              "      <th>7415</th>\n",
              "      <td>członków umiejętność oceny faktów zdarzeń oraz...</td>\n",
              "      <td>0</td>\n",
              "    </tr>\n",
              "    <tr>\n",
              "      <th>7416</th>\n",
              "      <td>propozycje dot zmian uzupełnień wytycznych vii...</td>\n",
              "      <td>0</td>\n",
              "    </tr>\n",
              "  </tbody>\n",
              "</table>\n",
              "</div>"
            ],
            "text/plain": [
              "                                                      0  swoje\n",
              "7364                                               ipn       0\n",
              "7369                                            dziełu       0\n",
              "7370                                iata loli pre zych       0\n",
              "7372                                    załączeniu dot       0\n",
              "7373               zarządu oddziału stowarzyszenia pax       0\n",
              "7374                                           odbytej       0\n",
              "7375                                              roku       0\n",
              "7386                                         said fran       0\n",
              "7388                                           adresat       0\n",
              "7393              drive/MyDrive/kuba/zdjecia/fig278.jpg      0\n",
              "7395                                               tpn       0\n",
              "7396                                             tajne       0\n",
              "7399             dot przebiegu narady zarządu oddziału       0\n",
              "7400             stowarzyszenia pax katowicach odbytej       0\n",
              "7401                             dniach września wiśle       0\n",
              "7402                dniach września odbyła się ośrodku       0\n",
              "7403                          wiśle narada kierowników       0\n",
              "7404    zespołów kadrowych oraz niektórych pracowników       0\n",
              "7405                                    pax katowicach       0\n",
              "7406   naradzie której uczestniczyło osób wziął udział       0\n",
              "7407  członek prezydium stowarzyszenia kierownik szk...      0\n",
              "7408                                       gołębiewski       1\n",
              "7409  referat oceniający przebieg tematykę zebrań ze...      0\n",
              "7410  omawiający elementy świadomości ideowopolitycz...      0\n",
              "7411  wygłosił kierownika szkolenia sekretariatu woj...      0\n",
              "7412                                               jan       0\n",
              "7413  ocenę stanu świadomości organizacji wojewódzki...      0\n",
              "7414  się takie elementy jak społecznopolityczne zaa...      0\n",
              "7415  członków umiejętność oceny faktów zdarzeń oraz...      0\n",
              "7416  propozycje dot zmian uzupełnień wytycznych vii...      0"
            ]
          },
          "metadata": {},
          "execution_count": 166
        }
      ]
    },
    {
      "cell_type": "code",
      "metadata": {
        "id": "yfde-DjhgMXp"
      },
      "source": [
        "#https://www.kaggle.com/pierremegret/gensim-word2vec-tutorial"
      ],
      "execution_count": 19,
      "outputs": []
    },
    {
      "cell_type": "code",
      "metadata": {
        "id": "p7jv962AZVcX"
      },
      "source": [
        "df=correct1.copy()"
      ],
      "execution_count": 60,
      "outputs": []
    },
    {
      "cell_type": "code",
      "metadata": {
        "id": "Cnw2EdArZLgR"
      },
      "source": [
        "def cleaning(doc):\n",
        "    # Lemmatizes and removes stopwords\n",
        "    # doc needs to be a spacy Doc object\n",
        "    txt = [token.lemma_ for token in doc if not token.is_stop]\n",
        "    # Word2Vec uses context words to learn the vector representation of a target word,\n",
        "    # if a sentence is only one or two words long,\n",
        "    # the benefit for the training is very small\n",
        "    #if len(txt) > 2:\n",
        "    return ' '.join(txt)"
      ],
      "execution_count": 61,
      "outputs": []
    },
    {
      "cell_type": "code",
      "metadata": {
        "id": "uKoKj-OZZPtP"
      },
      "source": [
        "brief_cleaning = (str(row).lower() for row in df['0'])"
      ],
      "execution_count": 62,
      "outputs": []
    },
    {
      "cell_type": "code",
      "metadata": {
        "colab": {
          "base_uri": "https://localhost:8080/"
        },
        "id": "rRhTHpH3Zi2a",
        "outputId": "5f26d829-c724-46e7-9eb3-eb39011953db"
      },
      "source": [
        "t = time()\n",
        "\n",
        "txt = [cleaning(doc) for doc in nlp.pipe(brief_cleaning, batch_size=5000, n_threads=-1)]\n",
        "\n",
        "print('Time to clean up everything: {} mins'.format(round((time() - t) / 60, 2)))"
      ],
      "execution_count": 63,
      "outputs": [
        {
          "output_type": "stream",
          "name": "stdout",
          "text": [
            "Time to clean up everything: 0.12 mins\n"
          ]
        }
      ]
    },
    {
      "cell_type": "code",
      "metadata": {
        "id": "ntM0Zlns0Gro"
      },
      "source": [
        "nlp_txt='. '.join(txt)\n",
        "doc = nlp(nlp_txt)"
      ],
      "execution_count": 100,
      "outputs": []
    },
    {
      "cell_type": "code",
      "metadata": {
        "id": "5GGfPMwM18dh"
      },
      "source": [
        "#https://realpython.com/natural-language-processing-spacy-python/#part-of-speech-tagging\n",
        "surnames=[]\n",
        "for token in doc:\n",
        "  if token.pos_=='NOUN' and ('ski' in token.text or 'cki' in token.text):\n",
        "    surnames.append(token.text)\n",
        "    "
      ],
      "execution_count": 111,
      "outputs": []
    },
    {
      "cell_type": "code",
      "metadata": {
        "colab": {
          "base_uri": "https://localhost:8080/"
        },
        "id": "CUHsW1kb4LpQ",
        "outputId": "3c73108a-1c31-4cab-c871-634e85960407"
      },
      "source": [
        "for token in doc:\n",
        "  if 'gołębiewski' in token.text:\n",
        "    print(token.text)"
      ],
      "execution_count": 116,
      "outputs": [
        {
          "output_type": "stream",
          "name": "stdout",
          "text": [
            "gołębiewski\n"
          ]
        }
      ]
    },
    {
      "cell_type": "code",
      "metadata": {
        "id": "HRjlgKHr3sjD"
      },
      "source": [
        "set_surnames=set(surnames)"
      ],
      "execution_count": 113,
      "outputs": []
    },
    {
      "cell_type": "code",
      "metadata": {
        "colab": {
          "base_uri": "https://localhost:8080/"
        },
        "id": "-PFQwe5mZxzY",
        "outputId": "804fdd3a-09b7-4504-e22a-324974f0f3a7"
      },
      "source": [
        "df_clean = pd.DataFrame({'clean': txt})\n",
        "df_clean = df_clean.dropna().drop_duplicates()\n",
        "df_clean.shape"
      ],
      "execution_count": 64,
      "outputs": [
        {
          "output_type": "execute_result",
          "data": {
            "text/plain": [
              "(7960, 1)"
            ]
          },
          "metadata": {},
          "execution_count": 64
        }
      ]
    },
    {
      "cell_type": "code",
      "metadata": {
        "colab": {
          "base_uri": "https://localhost:8080/"
        },
        "id": "xbsKMIST3fgS",
        "outputId": "7ca43626-b8b0-4c09-c72d-cce332c17aa0"
      },
      "source": [
        "print(correct1.iloc[370:420].values)"
      ],
      "execution_count": 65,
      "outputs": [
        {
          "output_type": "stream",
          "name": "stdout",
          "text": [
            "[['osobistego wkładu papieża oraz szacunkiem mówił ']\n",
            " ['katolicy polsce wspólnie budują socjalizm ']\n",
            " ['konsekwencją wizyty min olszowskiego watykanie ']\n",
            " ['będą dalsze rozmowy między polską watykanem ']\n",
            " ['zaproszenie przyjazd casaroli polski ']\n",
            " ['które rokują nadzieje osiągnięcie porozumień ']\n",
            " ['bazie poszanowania konstytucji przepisów przez ']\n",
            " ['kościół wolności religijnej przez państwo ']\n",
            " ['prasa włoska światowa wytworzyła odpowiedni klimat ']\n",
            " ['rozmów którego nie mogły zakłócić ']\n",
            " ['nawet koła rewizjonistów konserwatystów zarzucały one ']\n",
            " ['papieżowi czyni zbyt wiele gestów pod adresem komu ']\n",
            " ['rozbestwia ich psuje posoborową atmosferę ']\n",
            " ['kościele potęguje kryzys atmosfera wytrąciła ']\n",
            " ['argumenty kościele cierpiącym milczącym ']\n",
            " ['zachodzie przez niektórych hierarchów polskich ']\n",
            " ['zdaniem red czajkowskiego polsce ']\n",
            " ['normalizacji stosunków widzi papież ']\n",
            " ['watykan polska dotychczas była wyspą kościele którą ']\n",
            " ['omijały negatywne zjawiska kontestacji obojętności religijnej ']\n",
            " ['papież dąży podpisania władzami polskimi porozumień ']\n",
            " ['gdyż jest przekonany prądy dotrą również polski ']\n",
            " ['drive/MyDrive/kuba/zdjecia/fig115.jpg']\n",
            " ['ipn ']\n",
            " ['chce ochronić kościół przed wstrząsami jakie mają miejsce ']\n",
            " ['innych krajach ']\n",
            " ['dyskusji zabrało głos osób tym księży ']\n",
            " ['się ewentualnym przyjazdem papieża polski ']\n",
            " ['episkopatu polskiego rozmów norma ']\n",
            " ['stosunków rolą biskupa dąbrowskiego ']\n",
            " ['watykanie pobytu ministra problemem administracji ']\n",
            " ['wschodnich ano ']\n",
            " ['kościelnej diecezjach wschodnich stanowiskiem działaczy ']\n",
            " ['stowarzyszeń katolickich wobec normalizacji stosunków ']\n",
            " ['jeden księży krakowskich poruszył sprawę trudności koś ']\n",
            " ['polsce twierdząc kościół jest szykanowany przez ']\n",
            " ['władze terenowe ']\n",
            " ['odpowiedzi udzielił red czajkowski podkreślił ']\n",
            " ['nie reprezentuje ani państwa ani całości katolików ']\n",
            " ['polsce sprawie porozumień może mieć ']\n",
            " ['tylko głos doradczy polska nie może występować watykanu ']\n",
            " ['rozwiązanie problemu administracji kościelnej diecezjach ']\n",
            " ['wschodnich jeśli tego nie czyni związek radziecki ']\n",
            " ['działalność kard który podburza nacjonalistów ']\n",
            " ['ukraińskich stanowi prowokację wobec watykanu związku ']\n",
            " ['radzieckiego red czajkowski stwierdził sytuacja pax ']\n",
            " ['tykanie uległa znacznej poprawie ']\n",
            " ['części oficjalnej odbyło się sute przyjęcie dla ']\n",
            " ['spotkania ']\n",
            " ['wydz dep msw dnia ']]\n"
          ]
        }
      ]
    },
    {
      "cell_type": "code",
      "metadata": {
        "colab": {
          "base_uri": "https://localhost:8080/"
        },
        "id": "J-1r_jVe3Ran",
        "outputId": "a64fb3ff-d6bf-493a-e4de-23543ec691b8"
      },
      "source": [
        "df_clean.values[300:350]"
      ],
      "execution_count": 66,
      "outputs": [
        {
          "output_type": "execute_result",
          "data": {
            "text/plain": [
              "array([['ziemia likwidacja ambasada rząd londyński'],\n",
              "       ['watykanie odmówienie akredytacja rozmowa'],\n",
              "       ['podjąć polski nominacja karda kominek spotkanie'],\n",
              "       ['helsinkach'],\n",
              "       ['uzgodnić wspólny działanie polski'],\n",
              "       ['rzecz pokój wyrazić chęć'],\n",
              "       ['stosunki reda czajkowski uważać'],\n",
              "       ['przełom polski znaleźć orbi'],\n",
              "       ['wpływ polityka watykański'],\n",
              "       ['drive / mydrive / kuba / zdjecia / fig114.jpg'],\n",
              "       ['wizyta mina olszowskiego watykanie przebiegać'],\n",
              "       ['atmosfera szukania punkt zbliżenie unikania sprawa'],\n",
              "       ['móc doprowadzić zadrażnienie stosunki'],\n",
              "       ['polski watykanem papież wyrazić szacunek kraj'],\n",
              "       ['socjalistyczny polityka używać słowo partia'],\n",
              "       ['polski rzeczpospolita ludowy mina olszowski wyrazić'],\n",
              "       ['uznanie polityka pojednanie pokój watykanu'],\n",
              "       ['osobisty wkład papież szacunek mówić'],\n",
              "       ['katolik polsce wspólnie budować socjalizm'],\n",
              "       ['konsekwencja wizyta mina olszowskiego watykanie'],\n",
              "       ['daleki rozmowa polski watykanem'],\n",
              "       ['zaproszenie przyjazd casaroli polski'],\n",
              "       ['rokować nadzieja osiągnięcie porozumienie'],\n",
              "       ['bazia poszanowanie konstytucja przepis'],\n",
              "       ['kościół wolność religijny państwo'],\n",
              "       ['prasa włoski światowy wytworzyć odpowiedny klimat'],\n",
              "       ['rozmowy móc zakłócić'],\n",
              "       ['kół rewizjonista konserwatysta zarzucać'],\n",
              "       ['papież czynić zbyt gest adres kto'],\n",
              "       ['rozbestwia psuć posoborowy atmosfera'],\n",
              "       ['kościół potęgować kryzys atmosfera wytrącić'],\n",
              "       ['argument kościół cierpieć milczeć'],\n",
              "       ['zachód który hierarcha polski'],\n",
              "       ['zdanie reda czajkowski polsce'],\n",
              "       ['normalizacja stosunki widzieć papież'],\n",
              "       ['watykan polski dotychczas wyspa kościół który'],\n",
              "       ['omijać negatywny zjawisko kontestacja obojętność religijny'],\n",
              "       ['papież dążyć podpisania władza polski porozumienie'],\n",
              "       ['przekonany prąd dotrzeć polski'],\n",
              "       ['drive / mydrive / kuba / zdjecia / fig115.jpg'],\n",
              "       ['ochronić kościół wstrząs miejsce'],\n",
              "       ['kraj'],\n",
              "       ['dyskusja zabrać głos osoba księża'],\n",
              "       ['ewentualny przyjazd papież polski'],\n",
              "       ['episkopat polski rozmowy norma'],\n",
              "       ['stosunki rola biskup dąbrowskiego'],\n",
              "       ['watykanie pobyt minister problem administracja'],\n",
              "       ['wschodni ano'],\n",
              "       ['kościelny diecezja wschodni stanowisko działacz'],\n",
              "       ['stowarzyszenie katolicki wobec normalizacja stosunki']],\n",
              "      dtype=object)"
            ]
          },
          "metadata": {},
          "execution_count": 66
        }
      ]
    },
    {
      "cell_type": "code",
      "metadata": {
        "id": "VVhBV8v-y0iZ"
      },
      "source": [
        "def surnames(text):\n",
        "  if 'ski' in text:\n",
        "    print(text)"
      ],
      "execution_count": 84,
      "outputs": []
    },
    {
      "cell_type": "code",
      "metadata": {
        "id": "zCGUFxfuZ9QJ"
      },
      "source": [
        "sent = [row.split() for row in df_clean['clean']]"
      ],
      "execution_count": 67,
      "outputs": []
    },
    {
      "cell_type": "code",
      "metadata": {
        "id": "Q0vJUgGrZ_cP"
      },
      "source": [
        "phrases = Phrases(sent, min_count=5, progress_per=100)"
      ],
      "execution_count": 68,
      "outputs": []
    },
    {
      "cell_type": "code",
      "metadata": {
        "id": "FrW4qvgIaSin"
      },
      "source": [
        "bigram = Phraser(phrases)"
      ],
      "execution_count": 69,
      "outputs": []
    },
    {
      "cell_type": "code",
      "metadata": {
        "id": "F5QKToePaaku"
      },
      "source": [
        "sentences = bigram[sent]"
      ],
      "execution_count": 70,
      "outputs": []
    },
    {
      "cell_type": "code",
      "metadata": {
        "colab": {
          "base_uri": "https://localhost:8080/"
        },
        "id": "E-qp1ubXacpO",
        "outputId": "1a600d1f-5fba-48a6-8efc-58e42c6ff26e"
      },
      "source": [
        "word_freq = defaultdict(int)\n",
        "for sent in sentences:\n",
        "    for i in sent:\n",
        "        word_freq[i] += 1\n",
        "len(word_freq)"
      ],
      "execution_count": 71,
      "outputs": [
        {
          "output_type": "execute_result",
          "data": {
            "text/plain": [
              "6774"
            ]
          },
          "metadata": {},
          "execution_count": 71
        }
      ]
    },
    {
      "cell_type": "code",
      "metadata": {
        "colab": {
          "base_uri": "https://localhost:8080/"
        },
        "id": "LzZmJs5taqjX",
        "outputId": "0569698b-cde9-483f-a580-9d95c6263bda"
      },
      "source": [
        "sorted(word_freq, key=word_freq.get, reverse=True)[:50]"
      ],
      "execution_count": 82,
      "outputs": [
        {
          "output_type": "execute_result",
          "data": {
            "text/plain": [
              "['drive_/',\n",
              " 'mydrive_/',\n",
              " 'kuba_/',\n",
              " 'zdjecia_/',\n",
              " 'praca',\n",
              " 'pax',\n",
              " 'człowiek',\n",
              " 'działalność',\n",
              " 'stowarzyszenie',\n",
              " 'sprawa',\n",
              " 'rozwój',\n",
              " 'kraj',\n",
              " 'swój',\n",
              " 'należeć',\n",
              " 'kościół',\n",
              " 'polityczny',\n",
              " 'społeczny',\n",
              " 'społeczeństwo',\n",
              " 'dzień',\n",
              " 'partia',\n",
              " 'nowy',\n",
              " 'rola',\n",
              " 'polski',\n",
              " 'problem',\n",
              " 'rzecz',\n",
              " 'życie',\n",
              " 'państwo',\n",
              " 'wartość',\n",
              " 'sytuacja',\n",
              " 'referat',\n",
              " 'osoba',\n",
              " 'polsce',\n",
              " 'dyskusja',\n",
              " 'rok',\n",
              " 'zadanie',\n",
              " 'członek',\n",
              " 'poprzez',\n",
              " 'stosunek',\n",
              " 'katolicki',\n",
              " 'gospodarczy',\n",
              " 'potrzeba',\n",
              " 'władza',\n",
              " 'świat',\n",
              " 'okres',\n",
              " 'naród',\n",
              " 'cena',\n",
              " 'zostać',\n",
              " 'rucho',\n",
              " 'katolik',\n",
              " 'stowarzyszenie_pax']"
            ]
          },
          "metadata": {},
          "execution_count": 82
        }
      ]
    },
    {
      "cell_type": "code",
      "metadata": {
        "id": "TLseoLeNa1lJ"
      },
      "source": [
        "cores = multiprocessing.cpu_count()"
      ],
      "execution_count": 74,
      "outputs": []
    },
    {
      "cell_type": "code",
      "metadata": {
        "id": "bfxzi8Rqa5WS"
      },
      "source": [
        "w2v_model = Word2Vec(min_count=4,\n",
        "                     window=2,\n",
        "                     size=300,\n",
        "                     sample=6e-5, \n",
        "                     alpha=0.03, \n",
        "                     min_alpha=0.0007, \n",
        "                     negative=20,\n",
        "                     workers=cores-1)"
      ],
      "execution_count": 75,
      "outputs": []
    },
    {
      "cell_type": "code",
      "metadata": {
        "colab": {
          "base_uri": "https://localhost:8080/"
        },
        "id": "GFyTQjESa7gw",
        "outputId": "0e234e2a-50a2-4bfa-b604-5117ea400a1b"
      },
      "source": [
        "t = time()\n",
        "\n",
        "w2v_model.build_vocab(sentences, progress_per=100)\n",
        "\n",
        "print('Time to build vocab: {} mins'.format(round((time() - t) / 60, 2)))"
      ],
      "execution_count": 76,
      "outputs": [
        {
          "output_type": "stream",
          "name": "stdout",
          "text": [
            "Time to build vocab: 0.01 mins\n"
          ]
        }
      ]
    },
    {
      "cell_type": "code",
      "metadata": {
        "colab": {
          "base_uri": "https://localhost:8080/"
        },
        "id": "dCfpZSOUbAH3",
        "outputId": "33c3196e-9e15-474e-9a99-f27d1c8e36e1"
      },
      "source": [
        "t = time()\n",
        "\n",
        "w2v_model.train(sentences, total_examples=w2v_model.corpus_count, epochs=30, report_delay=1)\n",
        "\n",
        "print('Time to train the model: {} mins'.format(round((time() - t) / 60, 2)))"
      ],
      "execution_count": 77,
      "outputs": [
        {
          "output_type": "stream",
          "name": "stdout",
          "text": [
            "Time to train the model: 0.09 mins\n"
          ]
        }
      ]
    },
    {
      "cell_type": "code",
      "metadata": {
        "id": "LkTd2670bF94"
      },
      "source": [
        "w2v_model.init_sims(replace=True)"
      ],
      "execution_count": 78,
      "outputs": []
    },
    {
      "cell_type": "code",
      "metadata": {
        "colab": {
          "base_uri": "https://localhost:8080/"
        },
        "id": "iTe3tuuw--uW",
        "outputId": "504ea035-cae4-4b06-f1ae-e1c1beea6c42"
      },
      "source": [
        "word_freq['czajkowski']"
      ],
      "execution_count": 79,
      "outputs": [
        {
          "output_type": "execute_result",
          "data": {
            "text/plain": [
              "5"
            ]
          },
          "metadata": {},
          "execution_count": 79
        }
      ]
    },
    {
      "cell_type": "code",
      "metadata": {
        "colab": {
          "base_uri": "https://localhost:8080/"
        },
        "id": "efydYfPfbML-",
        "outputId": "399fc554-e069-4f5f-9be3-115998108c28"
      },
      "source": [
        "w2v_model.wv.most_similar(positive=[\"czajkowski\"])"
      ],
      "execution_count": 80,
      "outputs": [
        {
          "output_type": "execute_result",
          "data": {
            "text/plain": [
              "[('projekt', 0.9999195337295532),\n",
              " ('przewodniczący', 0.9999194145202637),\n",
              " ('era', 0.9999194145202637),\n",
              " ('kabat', 0.9999192953109741),\n",
              " ('własny', 0.99991774559021),\n",
              " ('zawierać', 0.9999170303344727),\n",
              " ('biskup', 0.9999169111251831),\n",
              " ('nakaz', 0.9999165534973145),\n",
              " ('teoria', 0.999916136264801),\n",
              " ('winna', 0.999916136264801)]"
            ]
          },
          "metadata": {},
          "execution_count": 80
        }
      ]
    },
    {
      "cell_type": "code",
      "metadata": {
        "colab": {
          "base_uri": "https://localhost:8080/"
        },
        "id": "unRJaq3NdnqU",
        "outputId": "2344c77b-af89-4dbf-9017-32520ae40dc6"
      },
      "source": [
        "w2v_model.wv.most_similar(negative=[\"czajkowski\"])"
      ],
      "execution_count": 81,
      "outputs": [
        {
          "output_type": "execute_result",
          "data": {
            "text/plain": [
              "[('mal', 0.08218374103307724),\n",
              " ('mod', 0.03746683895587921),\n",
              " ('zero', 0.008902334608137608),\n",
              " ('bal', -0.10644850879907608),\n",
              " ('wada', -0.9646943211555481),\n",
              " ('jaga', -0.9989814758300781),\n",
              " ('dow', -0.9994831681251526),\n",
              " ('kuba_/', -0.9996591806411743),\n",
              " ('jaz', -0.9996861219406128),\n",
              " ('mydrive_/', -0.9996868371963501)]"
            ]
          },
          "metadata": {},
          "execution_count": 81
        }
      ]
    },
    {
      "cell_type": "code",
      "metadata": {
        "colab": {
          "base_uri": "https://localhost:8080/",
          "height": 91
        },
        "id": "RCR5Sog9d-Vo",
        "outputId": "b2285227-7d8f-436a-855c-e8cab3c438c1"
      },
      "source": [
        "w2v_model.wv.doesnt_match(['pax', 'socjalizm', 'chrze_cija'])"
      ],
      "execution_count": 47,
      "outputs": [
        {
          "output_type": "stream",
          "name": "stderr",
          "text": [
            "/usr/local/lib/python3.7/dist-packages/gensim/models/keyedvectors.py:895: FutureWarning: arrays to stack must be passed as a \"sequence\" type such as list or tuple. Support for non-sequence iterables such as generators is deprecated as of NumPy 1.16 and will raise an error in the future.\n",
            "  vectors = vstack(self.word_vec(word, use_norm=True) for word in used_words).astype(REAL)\n"
          ]
        },
        {
          "output_type": "execute_result",
          "data": {
            "application/vnd.google.colaboratory.intrinsic+json": {
              "type": "string"
            },
            "text/plain": [
              "'socjalizm'"
            ]
          },
          "metadata": {},
          "execution_count": 47
        }
      ]
    },
    {
      "cell_type": "code",
      "metadata": {
        "id": "eA-kBou3_YzV"
      },
      "source": [
        ""
      ],
      "execution_count": 47,
      "outputs": []
    },
    {
      "cell_type": "code",
      "metadata": {
        "id": "csqasVVtfSfx"
      },
      "source": [
        "import numpy as np\n",
        "import matplotlib.pyplot as plt\n",
        "%matplotlib inline\n",
        " \n",
        "import seaborn as sns\n",
        "sns.set_style(\"darkgrid\")\n",
        "\n",
        "from sklearn.decomposition import PCA\n",
        "from sklearn.manifold import TSNE"
      ],
      "execution_count": 48,
      "outputs": []
    },
    {
      "cell_type": "code",
      "metadata": {
        "id": "yO7QkfCJfWDK"
      },
      "source": [
        "def tsnescatterplot(model, word, list_names):\n",
        "    \"\"\" Plot in seaborn the results from the t-SNE dimensionality reduction algorithm of the vectors of a query word,\n",
        "    its list of most similar words, and a list of words.\n",
        "    \"\"\"\n",
        "    arrays = np.empty((0, 300), dtype='f')\n",
        "    word_labels = [word]\n",
        "    color_list  = ['red']\n",
        "\n",
        "    # adds the vector of the query word\n",
        "    arrays = np.append(arrays, model.wv.__getitem__([word]), axis=0)\n",
        "    \n",
        "    # gets list of most similar words\n",
        "    close_words = model.wv.most_similar([word])\n",
        "    \n",
        "    # adds the vector for each of the closest words to the array\n",
        "    for wrd_score in close_words:\n",
        "        wrd_vector = model.wv.__getitem__([wrd_score[0]])\n",
        "        word_labels.append(wrd_score[0])\n",
        "        color_list.append('blue')\n",
        "        arrays = np.append(arrays, wrd_vector, axis=0)\n",
        "    \n",
        "    # adds the vector for each of the words from list_names to the array\n",
        "    for wrd in list_names:\n",
        "        wrd_vector = model.wv.__getitem__([wrd])\n",
        "        word_labels.append(wrd)\n",
        "        color_list.append('green')\n",
        "        arrays = np.append(arrays, wrd_vector, axis=0)\n",
        "        \n",
        "    # Reduces the dimensionality from 300 to 50 dimensions with PCA\n",
        "    reduc = PCA(n_components=18).fit_transform(arrays)\n",
        "    \n",
        "    # Finds t-SNE coordinates for 2 dimensions\n",
        "    np.set_printoptions(suppress=True)\n",
        "    \n",
        "    Y = TSNE(n_components=2, random_state=0, perplexity=15).fit_transform(reduc)\n",
        "    \n",
        "    # Sets everything up to plot\n",
        "    df = pd.DataFrame({'x': [x for x in Y[:, 0]],\n",
        "                       'y': [y for y in Y[:, 1]],\n",
        "                       'words': word_labels,\n",
        "                       'color': color_list})\n",
        "    \n",
        "    fig, _ = plt.subplots()\n",
        "    fig.set_size_inches(9, 9)\n",
        "    \n",
        "    # Basic plot\n",
        "    p1 = sns.regplot(data=df,\n",
        "                     x=\"x\",\n",
        "                     y=\"y\",\n",
        "                     fit_reg=False,\n",
        "                     marker=\"o\",\n",
        "                     scatter_kws={'s': 40,\n",
        "                                  'facecolors': df['color']\n",
        "                                 }\n",
        "                    )\n",
        "    \n",
        "    # Adds annotations one by one with a loop\n",
        "    for line in range(0, df.shape[0]):\n",
        "         p1.text(df[\"x\"][line],\n",
        "                 df['y'][line],\n",
        "                 '  ' + df[\"words\"][line].title(),\n",
        "                 horizontalalignment='left',\n",
        "                 verticalalignment='bottom', size='medium',\n",
        "                 color=df['color'][line],\n",
        "                 weight='normal'\n",
        "                ).set_size(15)\n",
        "\n",
        "    \n",
        "    plt.xlim(Y[:, 0].min()-50, Y[:, 0].max()+50)\n",
        "    plt.ylim(Y[:, 1].min()-50, Y[:, 1].max()+50)\n",
        "            \n",
        "    plt.title('t-SNE visualization for {}'.format(word.title()))"
      ],
      "execution_count": null,
      "outputs": []
    },
    {
      "cell_type": "code",
      "metadata": {
        "colab": {
          "base_uri": "https://localhost:8080/"
        },
        "id": "Aa4XASwhfceQ",
        "outputId": "51a68380-4a49-4083-af31-9ee43d379c88"
      },
      "source": [
        "sorted(word_freq, key=word_freq.get, reverse=False)[:20]"
      ],
      "execution_count": 50,
      "outputs": [
        {
          "output_type": "execute_result",
          "data": {
            "text/plain": [
              "['fig1.jpg',\n",
              " 'archiwum',\n",
              " 'kart',\n",
              " 'pamięć',\n",
              " 'zrzeszenie',\n",
              " 'fig10.jpg',\n",
              " 'gł',\n",
              " 'mem',\n",
              " 'honorarium',\n",
              " 'podróża',\n",
              " 'służbowy',\n",
              " 'remonta',\n",
              " 'augustyna',\n",
              " 'społ.',\n",
              " 'opłata',\n",
              " 'ww',\n",
              " 'razem',\n",
              " 'fig100.jpg',\n",
              " 'pogłębiać',\n",
              " 'skłaniać']"
            ]
          },
          "metadata": {},
          "execution_count": 50
        }
      ]
    },
    {
      "cell_type": "code",
      "metadata": {
        "colab": {
          "base_uri": "https://localhost:8080/",
          "height": 566
        },
        "id": "mGGwa4ngfXq9",
        "outputId": "be6cb887-e050-4473-d0be-4be1d48f0c6c"
      },
      "source": [
        "tsnescatterplot(w2v_model, 'pax', ['praca', 'działalność', 'człowiek', 'polityczny', 'kraj', 'kościół', 'społeczny','katolicki','czajkowski'])"
      ],
      "execution_count": 51,
      "outputs": [
        {
          "data": {
            "image/png": "[encoded data removed]",
            "text/plain": [
              "<Figure size 648x648 with 1 Axes>"
            ]
          },
          "metadata": {},
          "output_type": "display_data"
        }
      ]
    }
  ]
}