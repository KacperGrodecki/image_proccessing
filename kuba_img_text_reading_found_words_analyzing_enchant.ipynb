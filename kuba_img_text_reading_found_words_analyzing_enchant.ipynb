{
  "nbformat": 4,
  "nbformat_minor": 0,
  "metadata": {
    "colab": {
      "name": "kuba_img_text_reading_found_words_analyzing_enchant.ipynb",
      "provenance": [],
      "collapsed_sections": [],
      "authorship_tag": "ABX9TyM2eyHivTyAlkx2B9r1Vn2P",
      "include_colab_link": true
    },
    "kernelspec": {
      "name": "python3",
      "display_name": "Python 3"
    }
  },
  "cells": [
    {
      "cell_type": "markdown",
      "metadata": {
        "id": "view-in-github",
        "colab_type": "text"
      },
      "source": [
        "<a href=\"https://colab.research.google.com/github/KacperGrodecki/image_proccessing/blob/main/kuba_img_text_reading_found_words_analyzing_enchant.ipynb\" target=\"_parent\"><img src=\"https://colab.research.google.com/assets/colab-badge.svg\" alt=\"Open In Colab\"/></a>"
      ]
    },
    {
      "cell_type": "code",
      "metadata": {
        "id": "IJjlrbzGKZi4",
        "colab": {
          "base_uri": "https://localhost:8080/"
        },
        "outputId": "c6757820-0519-4edb-e382-fe5888129abf"
      },
      "source": [
        "from google.colab import drive\n",
        "drive.mount('/content/drive')"
      ],
      "execution_count": 84,
      "outputs": [
        {
          "output_type": "stream",
          "name": "stdout",
          "text": [
            "Drive already mounted at /content/drive; to attempt to forcibly remount, call drive.mount(\"/content/drive\", force_remount=True).\n"
          ]
        }
      ]
    },
    {
      "cell_type": "code",
      "metadata": {
        "id": "VCQq3xY_FatP",
        "colab": {
          "base_uri": "https://localhost:8080/"
        },
        "outputId": "6c4fc0a2-f5b7-4148-c5cd-349ccf30d591"
      },
      "source": [
        "pip install pyenchant"
      ],
      "execution_count": 85,
      "outputs": [
        {
          "output_type": "stream",
          "name": "stdout",
          "text": [
            "Requirement already satisfied: pyenchant in /usr/local/lib/python3.7/dist-packages (3.2.2)\n"
          ]
        }
      ]
    },
    {
      "cell_type": "code",
      "metadata": {
        "id": "S4o5m7KVGxIw",
        "colab": {
          "base_uri": "https://localhost:8080/"
        },
        "outputId": "d9f875a4-0678-43ff-be9c-5817938ddd79"
      },
      "source": [
        "!apt install -qq enchant"
      ],
      "execution_count": 86,
      "outputs": [
        {
          "output_type": "stream",
          "name": "stdout",
          "text": [
            "enchant is already the newest version (1.6.0-11.1).\n",
            "0 upgraded, 0 newly installed, 0 to remove and 37 not upgraded.\n"
          ]
        }
      ]
    },
    {
      "cell_type": "code",
      "metadata": {
        "id": "GgxGHC6TIr-i",
        "colab": {
          "base_uri": "https://localhost:8080/"
        },
        "outputId": "8216256a-48d2-4252-ae21-41f68470f5f6"
      },
      "source": [
        "!apt-get install myspell-pl"
      ],
      "execution_count": 87,
      "outputs": [
        {
          "output_type": "stream",
          "name": "stdout",
          "text": [
            "Reading package lists... Done\n",
            "Building dependency tree       \n",
            "Reading state information... Done\n",
            "myspell-pl is already the newest version (20170707-1).\n",
            "0 upgraded, 0 newly installed, 0 to remove and 37 not upgraded.\n"
          ]
        }
      ]
    },
    {
      "cell_type": "code",
      "metadata": {
        "id": "2wUfYi8wWZLT"
      },
      "source": [
        "import pandas as pd\n",
        "import cv2\n",
        "import numpy as np\n",
        "import re\n",
        "import matplotlib.pyplot as plt      \n",
        "import pickle\n",
        "from os import listdir\n",
        "from os.path import isfile, join\n",
        "import gc\n",
        "import sys\n",
        "import pickle\n",
        "import string\n",
        "import enchant"
      ],
      "execution_count": 88,
      "outputs": []
    },
    {
      "cell_type": "code",
      "metadata": {
        "id": "NB8HnIDbFUx4",
        "colab": {
          "base_uri": "https://localhost:8080/"
        },
        "outputId": "bba4803d-9ba5-4781-fa17-b81594129978"
      },
      "source": [
        "d = enchant.Dict('PL')\n",
        "d.check(\"guzik\") # False\n",
        "\n"
      ],
      "execution_count": 89,
      "outputs": [
        {
          "output_type": "execute_result",
          "data": {
            "text/plain": [
              "True"
            ]
          },
          "metadata": {},
          "execution_count": 89
        }
      ]
    },
    {
      "cell_type": "code",
      "metadata": {
        "id": "VSCMbCO6Dt6W"
      },
      "source": [
        "text=pd.read_csv('drive/MyDrive/kuba/odczyt_0_85.csv',index_col=0)"
      ],
      "execution_count": 90,
      "outputs": []
    },
    {
      "cell_type": "code",
      "metadata": {
        "colab": {
          "base_uri": "https://localhost:8080/",
          "height": 202
        },
        "id": "OzNEDFKK0Qd6",
        "outputId": "6bcc2392-3483-4b84-edb1-5f5f11215049"
      },
      "source": [
        "text.head()"
      ],
      "execution_count": 91,
      "outputs": [
        {
          "output_type": "execute_result",
          "data": {
            "text/html": [
              "<div>\n",
              "<style scoped>\n",
              "    .dataframe tbody tr th:only-of-type {\n",
              "        vertical-align: middle;\n",
              "    }\n",
              "\n",
              "    .dataframe tbody tr th {\n",
              "        vertical-align: top;\n",
              "    }\n",
              "\n",
              "    .dataframe thead th {\n",
              "        text-align: right;\n",
              "    }\n",
              "</style>\n",
              "<table border=\"1\" class=\"dataframe\">\n",
              "  <thead>\n",
              "    <tr style=\"text-align: right;\">\n",
              "      <th></th>\n",
              "      <th>0</th>\n",
              "    </tr>\n",
              "  </thead>\n",
              "  <tbody>\n",
              "    <tr>\n",
              "      <th>0</th>\n",
              "      <td>drive/MyDrive/kuba/zdjecia/fig1.jpg</td>\n",
              "    </tr>\n",
              "    <tr>\n",
              "      <th>1</th>\n",
              "      <td>Własność\\narchiwum\\nAktotwórca\\nTytuł teczki\\n...</td>\n",
              "    </tr>\n",
              "    <tr>\n",
              "      <th>2</th>\n",
              "      <td>IPN BU 0 639/223</td>\n",
              "    </tr>\n",
              "    <tr>\n",
              "      <th>3</th>\n",
              "      <td>KARTA INFORMACYJNA</td>\n",
              "    </tr>\n",
              "    <tr>\n",
              "      <th>4</th>\n",
              "      <td>Instytut Pamięci Narodowej w Warszawie</td>\n",
              "    </tr>\n",
              "  </tbody>\n",
              "</table>\n",
              "</div>"
            ],
            "text/plain": [
              "                                                   0\n",
              "0                drive/MyDrive/kuba/zdjecia/fig1.jpg\n",
              "1  Własność\\narchiwum\\nAktotwórca\\nTytuł teczki\\n...\n",
              "2                                   IPN BU 0 639/223\n",
              "3                                 KARTA INFORMACYJNA\n",
              "4             Instytut Pamięci Narodowej w Warszawie"
            ]
          },
          "metadata": {},
          "execution_count": 91
        }
      ]
    },
    {
      "cell_type": "code",
      "metadata": {
        "id": "IQfR7Dqfgg1h"
      },
      "source": [
        "from difflib import SequenceMatcher\n",
        "\n",
        "def similar(a, b):\n",
        "    return SequenceMatcher(None, a, b).ratio()"
      ],
      "execution_count": 92,
      "outputs": []
    },
    {
      "cell_type": "code",
      "metadata": {
        "id": "08Amw-9kkmS5"
      },
      "source": [
        "def has_numbers(inputString):\n",
        "    return any(char.isdigit() for char in inputString)"
      ],
      "execution_count": 135,
      "outputs": []
    },
    {
      "cell_type": "code",
      "metadata": {
        "id": "iTo6hrTec4qF"
      },
      "source": [
        "def word_correction_enchant(a):\n",
        "    a=str(a)\n",
        "    if 'drive/MyDrive/kuba/' in a:\n",
        "      return a\n",
        "    correct=''\n",
        "    for word in a.split():\n",
        "        if len(word)>1:\n",
        "            if has_numbers(word) or len(word)<3:\n",
        "              continue\n",
        "            try:\n",
        "              if int(d.check(word))==1:\n",
        "                correct+=word.lower()+' '\n",
        "            except:\n",
        "              pass     \n",
        "    return correct"
      ],
      "execution_count": 136,
      "outputs": []
    },
    {
      "cell_type": "code",
      "metadata": {
        "id": "0-VkBr6pckM9"
      },
      "source": [
        "correct=text.applymap(lambda x: word_correction_enchant(x))#dodać numery stron"
      ],
      "execution_count": 137,
      "outputs": []
    },
    {
      "cell_type": "code",
      "metadata": {
        "colab": {
          "base_uri": "https://localhost:8080/",
          "height": 1000
        },
        "id": "bX7CpgWZzbUv",
        "outputId": "2b11b874-38e0-47ee-ce57-65ef3df505e3"
      },
      "source": [
        "correct.head(40)"
      ],
      "execution_count": 139,
      "outputs": [
        {
          "output_type": "execute_result",
          "data": {
            "text/html": [
              "<div>\n",
              "<style scoped>\n",
              "    .dataframe tbody tr th:only-of-type {\n",
              "        vertical-align: middle;\n",
              "    }\n",
              "\n",
              "    .dataframe tbody tr th {\n",
              "        vertical-align: top;\n",
              "    }\n",
              "\n",
              "    .dataframe thead th {\n",
              "        text-align: right;\n",
              "    }\n",
              "</style>\n",
              "<table border=\"1\" class=\"dataframe\">\n",
              "  <thead>\n",
              "    <tr style=\"text-align: right;\">\n",
              "      <th></th>\n",
              "      <th>0</th>\n",
              "    </tr>\n",
              "  </thead>\n",
              "  <tbody>\n",
              "    <tr>\n",
              "      <th>0</th>\n",
              "      <td>drive/MyDrive/kuba/zdjecia/fig1.jpg</td>\n",
              "    </tr>\n",
              "    <tr>\n",
              "      <th>1</th>\n",
              "      <td>własność archiwum tytuł teczki daty skrajne je...</td>\n",
              "    </tr>\n",
              "    <tr>\n",
              "      <th>2</th>\n",
              "      <td>ipn</td>\n",
              "    </tr>\n",
              "    <tr>\n",
              "      <th>3</th>\n",
              "      <td>karta informacyjna</td>\n",
              "    </tr>\n",
              "    <tr>\n",
              "      <th>4</th>\n",
              "      <td>instytut pamięci narodowej warszawie</td>\n",
              "    </tr>\n",
              "    <tr>\n",
              "      <th>5</th>\n",
              "      <td></td>\n",
              "    </tr>\n",
              "    <tr>\n",
              "      <th>6</th>\n",
              "      <td>msw</td>\n",
              "    </tr>\n",
              "    <tr>\n",
              "      <th>7</th>\n",
              "      <td>tytuł teczki</td>\n",
              "    </tr>\n",
              "    <tr>\n",
              "      <th>8</th>\n",
              "      <td>pax- materiały dotyczące działalności zrzeszenia</td>\n",
              "    </tr>\n",
              "    <tr>\n",
              "      <th>9</th>\n",
              "      <td>daty skrajne</td>\n",
              "    </tr>\n",
              "    <tr>\n",
              "      <th>10</th>\n",
              "      <td>jednostki</td>\n",
              "    </tr>\n",
              "    <tr>\n",
              "      <th>11</th>\n",
              "      <td>archiwalnej</td>\n",
              "    </tr>\n",
              "    <tr>\n",
              "      <th>12</th>\n",
              "      <td>ipn</td>\n",
              "    </tr>\n",
              "    <tr>\n",
              "      <th>13</th>\n",
              "      <td>sygnatura</td>\n",
              "    </tr>\n",
              "    <tr>\n",
              "      <th>14</th>\n",
              "      <td>archiwalna</td>\n",
              "    </tr>\n",
              "    <tr>\n",
              "      <th>15</th>\n",
              "      <td>drive/MyDrive/kuba/zdjecia/fig10.jpg</td>\n",
              "    </tr>\n",
              "    <tr>\n",
              "      <th>16</th>\n",
              "      <td></td>\n",
              "    </tr>\n",
              "    <tr>\n",
              "      <th>17</th>\n",
              "      <td>struktura wykonanie budżetów</td>\n",
              "    </tr>\n",
              "    <tr>\n",
              "      <th>18</th>\n",
              "      <td>katolickich organizacji społecznych</td>\n",
              "    </tr>\n",
              "    <tr>\n",
              "      <th>19</th>\n",
              "      <td>kik rok</td>\n",
              "    </tr>\n",
              "    <tr>\n",
              "      <th>20</th>\n",
              "      <td>stowarzyszenie</td>\n",
              "    </tr>\n",
              "    <tr>\n",
              "      <th>21</th>\n",
              "      <td>realizacja budżetu. rok</td>\n",
              "    </tr>\n",
              "    <tr>\n",
              "      <th>22</th>\n",
              "      <td>gł.</td>\n",
              "    </tr>\n",
              "    <tr>\n",
              "      <th>23</th>\n",
              "      <td>działalność statutowa</td>\n",
              "    </tr>\n",
              "    <tr>\n",
              "      <th>24</th>\n",
              "      <td>pokrycie straty prasy wydawnictw zł.</td>\n",
              "    </tr>\n",
              "    <tr>\n",
              "      <th>25</th>\n",
              "      <td>zł.</td>\n",
              "    </tr>\n",
              "    <tr>\n",
              "      <th>26</th>\n",
              "      <td>mem. zł.</td>\n",
              "    </tr>\n",
              "    <tr>\n",
              "      <th>27</th>\n",
              "      <td>struktura budżetu</td>\n",
              "    </tr>\n",
              "    <tr>\n",
              "      <th>28</th>\n",
              "      <td>płace osobowy fundusz</td>\n",
              "    </tr>\n",
              "    <tr>\n",
              "      <th>29</th>\n",
              "      <td>bezosobowy</td>\n",
              "    </tr>\n",
              "    <tr>\n",
              "      <th>30</th>\n",
              "      <td>honorariów</td>\n",
              "    </tr>\n",
              "    <tr>\n",
              "      <th>31</th>\n",
              "      <td></td>\n",
              "    </tr>\n",
              "    <tr>\n",
              "      <th>32</th>\n",
              "      <td>nagród</td>\n",
              "    </tr>\n",
              "    <tr>\n",
              "      <th>33</th>\n",
              "      <td></td>\n",
              "    </tr>\n",
              "    <tr>\n",
              "      <th>34</th>\n",
              "      <td>podróże służbowe delegacje</td>\n",
              "    </tr>\n",
              "    <tr>\n",
              "      <th>35</th>\n",
              "      <td>koszty utrzymanie</td>\n",
              "    </tr>\n",
              "    <tr>\n",
              "      <th>36</th>\n",
              "      <td>remonty</td>\n",
              "    </tr>\n",
              "    <tr>\n",
              "      <th>37</th>\n",
              "      <td>inne świadczenia</td>\n",
              "    </tr>\n",
              "    <tr>\n",
              "      <th>38</th>\n",
              "      <td></td>\n",
              "    </tr>\n",
              "    <tr>\n",
              "      <th>39</th>\n",
              "      <td></td>\n",
              "    </tr>\n",
              "  </tbody>\n",
              "</table>\n",
              "</div>"
            ],
            "text/plain": [
              "                                                    0\n",
              "0                 drive/MyDrive/kuba/zdjecia/fig1.jpg\n",
              "1   własność archiwum tytuł teczki daty skrajne je...\n",
              "2                                                ipn \n",
              "3                                 karta informacyjna \n",
              "4               instytut pamięci narodowej warszawie \n",
              "5                                                    \n",
              "6                                                msw \n",
              "7                                       tytuł teczki \n",
              "8   pax- materiały dotyczące działalności zrzeszenia \n",
              "9                                       daty skrajne \n",
              "10                                         jednostki \n",
              "11                                       archiwalnej \n",
              "12                                               ipn \n",
              "13                                         sygnatura \n",
              "14                                        archiwalna \n",
              "15               drive/MyDrive/kuba/zdjecia/fig10.jpg\n",
              "16                                                   \n",
              "17                      struktura wykonanie budżetów \n",
              "18               katolickich organizacji społecznych \n",
              "19                                           kik rok \n",
              "20                                    stowarzyszenie \n",
              "21                           realizacja budżetu. rok \n",
              "22                                               gł. \n",
              "23                             działalność statutowa \n",
              "24              pokrycie straty prasy wydawnictw zł. \n",
              "25                                               zł. \n",
              "26                                          mem. zł. \n",
              "27                                 struktura budżetu \n",
              "28                             płace osobowy fundusz \n",
              "29                                        bezosobowy \n",
              "30                                        honorariów \n",
              "31                                                   \n",
              "32                                            nagród \n",
              "33                                                   \n",
              "34                        podróże służbowe delegacje \n",
              "35                                 koszty utrzymanie \n",
              "36                                           remonty \n",
              "37                                  inne świadczenia \n",
              "38                                                   \n",
              "39                                                   "
            ]
          },
          "metadata": {},
          "execution_count": 139
        }
      ]
    },
    {
      "cell_type": "code",
      "metadata": {
        "id": "Un-DAhRAK7jh"
      },
      "source": [
        "correct1 = correct[correct['0']!= '']"
      ],
      "execution_count": 140,
      "outputs": []
    },
    {
      "cell_type": "code",
      "metadata": {
        "colab": {
          "base_uri": "https://localhost:8080/"
        },
        "id": "yiuR0k5w0pyZ",
        "outputId": "75f6986c-c83b-445a-e3c4-ca832af2a497"
      },
      "source": [
        "print(correct1.iloc[300:400].values)"
      ],
      "execution_count": 141,
      "outputs": [
        {
          "output_type": "stream",
          "name": "stdout",
          "text": [
            "[['poprzez ']\n",
            " ['śluby terenowe ']\n",
            " ['terenowe ']\n",
            " ['cechuje ']\n",
            " ['cechuje ']\n",
            " ['winne ']\n",
            " ['linia polityczną ']\n",
            " ['linia polityczną ']\n",
            " ['drive/MyDrive/kuba/zdjecia/fig112.jpg']\n",
            " ['ipn ']\n",
            " ['le. ']\n",
            " ['tezy ']\n",
            " ['wania pracy ']\n",
            " ['pak ']\n",
            " ['specjalne ']\n",
            " ['racuch ']\n",
            " ['drive/MyDrive/kuba/zdjecia/fig113.jpg']\n",
            " ['załącznik zestawu. ważniejszych ']\n",
            " ['załącznik zestawu ważniejszych ']\n",
            " ['informacji ']\n",
            " ['spotkanie pax ']\n",
            " ['aktywem katolickim katowicach ']\n",
            " ['stowarzyszenie pax zorganizowało katowicach spotkanie ']\n",
            " ['rzymskiego korespondenta pax redaktora czajkowskiego ']\n",
            " ['temat wizyty ministra ']\n",
            " ['księżmi działaczami świeckimi temat wizyty ministra watykanie. ']\n",
            " ['wzięli zajmujący się paxie ']\n",
            " ['pracą przewodniczący oddziału ']\n",
            " ['członkowie sekretariatu ']\n",
            " ['kiego katowicach ']\n",
            " ['ok. osób tym księży często- ']\n",
            " ['katowickiej pastorów kościoła luterańskiego ']\n",
            " ['zabrza ']\n",
            " ['redaktor czajkowski omówił problem wizyty min. ']\n",
            " ['kiego punktu stosunku watykanu polski okresie ']\n",
            " ['politycznego charakteru wizyty reakcji prasy ']\n",
            " ['włoskiej światowej oraz strony kół rewizjonistycznych ']\n",
            " ['zachodzie. powiedział ']\n",
            " ['stosunek jana pawła był zawsze jest serdeczny. ']\n",
            " ['uznanie przez jana ']\n",
            " ['polskich ziem zachodnich ustanowienie ']\n",
            " ['przez pawła polskiej administracji kościelnej tych ']\n",
            " ['likwidacja ambasady rządu londyńskiego przy ']\n",
            " ['watykanie odmówienie akredytacji rozmowy ']\n",
            " ['podjęte nominacja kard. spotkanie ']\n",
            " ['podczas którego uzgodniono wspólne działania polski ']\n",
            " ['rzecz pokoju oraz wyrażono chęć ']\n",
            " ['stosunków polska-watykan. red. czajkowski ']\n",
            " ['przełomie roku polska znalazła się orbi- ']\n",
            " ['cie wpływu polityki ']\n",
            " ['drive/MyDrive/kuba/zdjecia/fig114.jpg']\n",
            " ['ipn ']\n",
            " ['ipn ']\n",
            " ['wizyta min. olszowskiego watykanie przebiegała ']\n",
            " ['atmosferze szukania punktu zbliżenia unikania spraw ']\n",
            " ['mogących doprowadzić zadrażnień stosunków między ']\n",
            " ['polską watykanem. papież wyraził szacunek kraju ']\n",
            " ['socjalistycznego jego używając słów partia. ']\n",
            " ['polska rzeczpospolita min. olszowski wyraził ']\n",
            " ['uznanie dla polityki pojednania pokoju watykanu ']\n",
            " ['osobistego wkładu papieża oraz szacunkiem ']\n",
            " ['katolicy polsce wspólnie budują ']\n",
            " ['konsekwencją wizyty min. olszowskiego watykanie ']\n",
            " ['będą dalsze rozmowy między polską watykanem ']\n",
            " ['przyjazd casaroli ']\n",
            " ['które rokują nadzieje osiągnięcie porozumień ']\n",
            " ['bazie konstytucji przepisów przez ']\n",
            " ['wolności religijnej przez ']\n",
            " ['prasa włoska światowa wytworzyła odpowiedni klimat ']\n",
            " ['rozmów którego nie mogły zakłócić ']\n",
            " ['nawet koła rewizjonistów konserwatystów. zarzucały one ']\n",
            " ['czyni zbyt wiele gestów pod adresem komu- ']\n",
            " ['rozbestwia psuje posoborową atmosferę ']\n",
            " ['potęguje kryzys. atmosfera wytrąciła ']\n",
            " ['argumenty kościele cierpiącym milczącym ']\n",
            " ['zachodzie przez niektórych hierarchów polskich. ']\n",
            " ['zdaniem red. czajkowskiego polsce ']\n",
            " ['normalizacji stosunków państwo-kościół. widzi papież ']\n",
            " ['watykan. polska dotychczas była wyspą którą ']\n",
            " ['omijały negatywne zjawiska kontestacji obojętności religijnej. ']\n",
            " ['papież dąży podpisania władzami polskimi porozumień ']\n",
            " ['gdyż jest prądy dotrą również polski. ']\n",
            " ['drive/MyDrive/kuba/zdjecia/fig115.jpg']\n",
            " ['ipn ']\n",
            " ['chce ochronić kościół przed wstrząsami jakie mają miejsce ']\n",
            " ['innych ']\n",
            " ['dyskusji zabrało głos tym księży. ']\n",
            " ['ewentualnym przyjazdem papieża ']\n",
            " ['episkopatu polskiego rozmów polska-watykan norma- ']\n",
            " ['stosunków państwo-kościół rolą biskupa dąbrowskiego ']\n",
            " ['watykanie pobytu problemem administracji ']\n",
            " ['ano ']\n",
            " ['kościelnej diecezjach stanowiskiem działaczy le. ']\n",
            " ['stowarzyszeń katolickich wobec normalizacji stosunków ']\n",
            " ['jeden księży krakowskich poruszył sprawę trudności koś- ']\n",
            " ['twierdząc kościół jest szykanowany przez ']\n",
            " ['władze terenowe. ']\n",
            " ['odpowiedzi udzielił czajkowski. ']\n",
            " ['nie reprezentuje ani ani całości katolików ']\n",
            " ['polsce. sprawie porozumień polska-watykan może mieć ']]\n"
          ]
        }
      ]
    },
    {
      "cell_type": "code",
      "metadata": {
        "id": "OVaZBIX5yxfq"
      },
      "source": [
        "#pip uninstall spacy"
      ],
      "execution_count": 98,
      "outputs": []
    },
    {
      "cell_type": "code",
      "metadata": {
        "colab": {
          "base_uri": "https://localhost:8080/"
        },
        "id": "skP73TjkYSO5",
        "outputId": "4405c9b8-47c3-4cc5-e408-ee2a6287bb36"
      },
      "source": [
        "pip install spacy==2.3.2"
      ],
      "execution_count": 99,
      "outputs": [
        {
          "output_type": "stream",
          "name": "stdout",
          "text": [
            "Requirement already satisfied: spacy==2.3.2 in /usr/local/lib/python3.7/dist-packages (2.3.2)\n",
            "Requirement already satisfied: thinc==7.4.1 in /usr/local/lib/python3.7/dist-packages (from spacy==2.3.2) (7.4.1)\n",
            "Requirement already satisfied: wasabi<1.1.0,>=0.4.0 in /usr/local/lib/python3.7/dist-packages (from spacy==2.3.2) (0.8.2)\n",
            "Requirement already satisfied: cymem<2.1.0,>=2.0.2 in /usr/local/lib/python3.7/dist-packages (from spacy==2.3.2) (2.0.5)\n",
            "Requirement already satisfied: murmurhash<1.1.0,>=0.28.0 in /usr/local/lib/python3.7/dist-packages (from spacy==2.3.2) (1.0.5)\n",
            "Requirement already satisfied: blis<0.5.0,>=0.4.0 in /usr/local/lib/python3.7/dist-packages (from spacy==2.3.2) (0.4.1)\n",
            "Requirement already satisfied: requests<3.0.0,>=2.13.0 in /usr/local/lib/python3.7/dist-packages (from spacy==2.3.2) (2.23.0)\n",
            "Requirement already satisfied: catalogue<1.1.0,>=0.0.7 in /usr/local/lib/python3.7/dist-packages (from spacy==2.3.2) (1.0.0)\n",
            "Requirement already satisfied: numpy>=1.15.0 in /usr/local/lib/python3.7/dist-packages (from spacy==2.3.2) (1.19.5)\n",
            "Requirement already satisfied: plac<1.2.0,>=0.9.6 in /usr/local/lib/python3.7/dist-packages (from spacy==2.3.2) (1.1.3)\n",
            "Requirement already satisfied: preshed<3.1.0,>=3.0.2 in /usr/local/lib/python3.7/dist-packages (from spacy==2.3.2) (3.0.5)\n",
            "Requirement already satisfied: setuptools in /usr/local/lib/python3.7/dist-packages (from spacy==2.3.2) (57.4.0)\n",
            "Requirement already satisfied: srsly<1.1.0,>=1.0.2 in /usr/local/lib/python3.7/dist-packages (from spacy==2.3.2) (1.0.5)\n",
            "Requirement already satisfied: tqdm<5.0.0,>=4.38.0 in /usr/local/lib/python3.7/dist-packages (from spacy==2.3.2) (4.62.3)\n",
            "Requirement already satisfied: importlib-metadata>=0.20 in /usr/local/lib/python3.7/dist-packages (from catalogue<1.1.0,>=0.0.7->spacy==2.3.2) (4.8.1)\n",
            "Requirement already satisfied: typing-extensions>=3.6.4 in /usr/local/lib/python3.7/dist-packages (from importlib-metadata>=0.20->catalogue<1.1.0,>=0.0.7->spacy==2.3.2) (3.7.4.3)\n",
            "Requirement already satisfied: zipp>=0.5 in /usr/local/lib/python3.7/dist-packages (from importlib-metadata>=0.20->catalogue<1.1.0,>=0.0.7->spacy==2.3.2) (3.6.0)\n",
            "Requirement already satisfied: chardet<4,>=3.0.2 in /usr/local/lib/python3.7/dist-packages (from requests<3.0.0,>=2.13.0->spacy==2.3.2) (3.0.4)\n",
            "Requirement already satisfied: urllib3!=1.25.0,!=1.25.1,<1.26,>=1.21.1 in /usr/local/lib/python3.7/dist-packages (from requests<3.0.0,>=2.13.0->spacy==2.3.2) (1.24.3)\n",
            "Requirement already satisfied: certifi>=2017.4.17 in /usr/local/lib/python3.7/dist-packages (from requests<3.0.0,>=2.13.0->spacy==2.3.2) (2021.5.30)\n",
            "Requirement already satisfied: idna<3,>=2.5 in /usr/local/lib/python3.7/dist-packages (from requests<3.0.0,>=2.13.0->spacy==2.3.2) (2.10)\n"
          ]
        }
      ]
    },
    {
      "cell_type": "code",
      "metadata": {
        "colab": {
          "base_uri": "https://localhost:8080/"
        },
        "id": "A-0uiuYNXPad",
        "outputId": "2e2da37e-a752-4a07-c9b7-afb0cebe7b09"
      },
      "source": [
        "!python3 -m spacy download pl_core_news_md\n",
        "#https://github.com/explosion/spaCy/issues/5140"
      ],
      "execution_count": 100,
      "outputs": [
        {
          "output_type": "stream",
          "name": "stdout",
          "text": [
            "Collecting pl_core_news_md==2.3.0\n",
            "  Downloading https://github.com/explosion/spacy-models/releases/download/pl_core_news_md-2.3.0/pl_core_news_md-2.3.0.tar.gz (79.9 MB)\n",
            "\u001b[K     |████████████████████████████████| 79.9 MB 1.6 MB/s \n",
            "\u001b[?25hRequirement already satisfied: spacy<2.4.0,>=2.3.0 in /usr/local/lib/python3.7/dist-packages (from pl_core_news_md==2.3.0) (2.3.2)\n",
            "Requirement already satisfied: tqdm<5.0.0,>=4.38.0 in /usr/local/lib/python3.7/dist-packages (from spacy<2.4.0,>=2.3.0->pl_core_news_md==2.3.0) (4.62.3)\n",
            "Requirement already satisfied: thinc==7.4.1 in /usr/local/lib/python3.7/dist-packages (from spacy<2.4.0,>=2.3.0->pl_core_news_md==2.3.0) (7.4.1)\n",
            "Requirement already satisfied: requests<3.0.0,>=2.13.0 in /usr/local/lib/python3.7/dist-packages (from spacy<2.4.0,>=2.3.0->pl_core_news_md==2.3.0) (2.23.0)\n",
            "Requirement already satisfied: blis<0.5.0,>=0.4.0 in /usr/local/lib/python3.7/dist-packages (from spacy<2.4.0,>=2.3.0->pl_core_news_md==2.3.0) (0.4.1)\n",
            "Requirement already satisfied: wasabi<1.1.0,>=0.4.0 in /usr/local/lib/python3.7/dist-packages (from spacy<2.4.0,>=2.3.0->pl_core_news_md==2.3.0) (0.8.2)\n",
            "Requirement already satisfied: numpy>=1.15.0 in /usr/local/lib/python3.7/dist-packages (from spacy<2.4.0,>=2.3.0->pl_core_news_md==2.3.0) (1.19.5)\n",
            "Requirement already satisfied: srsly<1.1.0,>=1.0.2 in /usr/local/lib/python3.7/dist-packages (from spacy<2.4.0,>=2.3.0->pl_core_news_md==2.3.0) (1.0.5)\n",
            "Requirement already satisfied: cymem<2.1.0,>=2.0.2 in /usr/local/lib/python3.7/dist-packages (from spacy<2.4.0,>=2.3.0->pl_core_news_md==2.3.0) (2.0.5)\n",
            "Requirement already satisfied: setuptools in /usr/local/lib/python3.7/dist-packages (from spacy<2.4.0,>=2.3.0->pl_core_news_md==2.3.0) (57.4.0)\n",
            "Requirement already satisfied: plac<1.2.0,>=0.9.6 in /usr/local/lib/python3.7/dist-packages (from spacy<2.4.0,>=2.3.0->pl_core_news_md==2.3.0) (1.1.3)\n",
            "Requirement already satisfied: preshed<3.1.0,>=3.0.2 in /usr/local/lib/python3.7/dist-packages (from spacy<2.4.0,>=2.3.0->pl_core_news_md==2.3.0) (3.0.5)\n",
            "Requirement already satisfied: catalogue<1.1.0,>=0.0.7 in /usr/local/lib/python3.7/dist-packages (from spacy<2.4.0,>=2.3.0->pl_core_news_md==2.3.0) (1.0.0)\n",
            "Requirement already satisfied: murmurhash<1.1.0,>=0.28.0 in /usr/local/lib/python3.7/dist-packages (from spacy<2.4.0,>=2.3.0->pl_core_news_md==2.3.0) (1.0.5)\n",
            "Requirement already satisfied: importlib-metadata>=0.20 in /usr/local/lib/python3.7/dist-packages (from catalogue<1.1.0,>=0.0.7->spacy<2.4.0,>=2.3.0->pl_core_news_md==2.3.0) (4.8.1)\n",
            "Requirement already satisfied: zipp>=0.5 in /usr/local/lib/python3.7/dist-packages (from importlib-metadata>=0.20->catalogue<1.1.0,>=0.0.7->spacy<2.4.0,>=2.3.0->pl_core_news_md==2.3.0) (3.6.0)\n",
            "Requirement already satisfied: typing-extensions>=3.6.4 in /usr/local/lib/python3.7/dist-packages (from importlib-metadata>=0.20->catalogue<1.1.0,>=0.0.7->spacy<2.4.0,>=2.3.0->pl_core_news_md==2.3.0) (3.7.4.3)\n",
            "Requirement already satisfied: urllib3!=1.25.0,!=1.25.1,<1.26,>=1.21.1 in /usr/local/lib/python3.7/dist-packages (from requests<3.0.0,>=2.13.0->spacy<2.4.0,>=2.3.0->pl_core_news_md==2.3.0) (1.24.3)\n",
            "Requirement already satisfied: certifi>=2017.4.17 in /usr/local/lib/python3.7/dist-packages (from requests<3.0.0,>=2.13.0->spacy<2.4.0,>=2.3.0->pl_core_news_md==2.3.0) (2021.5.30)\n",
            "Requirement already satisfied: idna<3,>=2.5 in /usr/local/lib/python3.7/dist-packages (from requests<3.0.0,>=2.13.0->spacy<2.4.0,>=2.3.0->pl_core_news_md==2.3.0) (2.10)\n",
            "Requirement already satisfied: chardet<4,>=3.0.2 in /usr/local/lib/python3.7/dist-packages (from requests<3.0.0,>=2.13.0->spacy<2.4.0,>=2.3.0->pl_core_news_md==2.3.0) (3.0.4)\n",
            "\u001b[38;5;2m✔ Download and installation successful\u001b[0m\n",
            "You can now load the model via spacy.load('pl_core_news_md')\n"
          ]
        }
      ]
    },
    {
      "cell_type": "code",
      "metadata": {
        "id": "5XrjBdQRWYT6"
      },
      "source": [
        "import spacy  \n",
        "from spacy.lang.pl.examples import sentences "
      ],
      "execution_count": 101,
      "outputs": []
    },
    {
      "cell_type": "code",
      "metadata": {
        "id": "yfde-DjhgMXp"
      },
      "source": [
        "#https://www.kaggle.com/pierremegret/gensim-word2vec-tutorial"
      ],
      "execution_count": 102,
      "outputs": []
    },
    {
      "cell_type": "code",
      "metadata": {
        "id": "sz2XaUcNWd_P"
      },
      "source": [
        "nlp = spacy.load(\"pl_core_news_md\")"
      ],
      "execution_count": 103,
      "outputs": []
    },
    {
      "cell_type": "code",
      "metadata": {
        "id": "p7jv962AZVcX"
      },
      "source": [
        "df=correct1.copy()"
      ],
      "execution_count": 142,
      "outputs": []
    },
    {
      "cell_type": "code",
      "metadata": {
        "id": "Cnw2EdArZLgR"
      },
      "source": [
        "def cleaning(doc):\n",
        "    # Lemmatizes and removes stopwords\n",
        "    # doc needs to be a spacy Doc object\n",
        "    txt = [token.lemma_ for token in doc if not token.is_stop]\n",
        "    # Word2Vec uses context words to learn the vector representation of a target word,\n",
        "    # if a sentence is only one or two words long,\n",
        "    # the benefit for the training is very small\n",
        "    #if len(txt) > 2:\n",
        "    return ' '.join(txt)"
      ],
      "execution_count": 155,
      "outputs": []
    },
    {
      "cell_type": "code",
      "metadata": {
        "id": "uKoKj-OZZPtP"
      },
      "source": [
        "brief_cleaning = (str(row).lower() for row in df['0'])"
      ],
      "execution_count": 157,
      "outputs": []
    },
    {
      "cell_type": "code",
      "metadata": {
        "id": "3nhd_QtRZmcP"
      },
      "source": [
        "from time import time"
      ],
      "execution_count": 107,
      "outputs": []
    },
    {
      "cell_type": "code",
      "metadata": {
        "colab": {
          "base_uri": "https://localhost:8080/"
        },
        "id": "rRhTHpH3Zi2a",
        "outputId": "f2c23310-2b9d-4f5a-cf0b-6eae078b0abf"
      },
      "source": [
        "t = time()\n",
        "\n",
        "txt = [cleaning(doc) for doc in nlp.pipe(brief_cleaning, batch_size=5000, n_threads=-1)]\n",
        "\n",
        "print('Time to clean up everything: {} mins'.format(round((time() - t) / 60, 2)))"
      ],
      "execution_count": 158,
      "outputs": [
        {
          "output_type": "stream",
          "name": "stdout",
          "text": [
            "Time to clean up everything: 0.12 mins\n"
          ]
        }
      ]
    },
    {
      "cell_type": "code",
      "metadata": {
        "colab": {
          "base_uri": "https://localhost:8080/"
        },
        "id": "-PFQwe5mZxzY",
        "outputId": "e21543e8-4704-4aef-8f76-aa85e0c63bc3"
      },
      "source": [
        "df_clean = pd.DataFrame({'clean': txt})\n",
        "df_clean = df_clean.dropna().drop_duplicates()\n",
        "df_clean.shape"
      ],
      "execution_count": 159,
      "outputs": [
        {
          "output_type": "execute_result",
          "data": {
            "text/plain": [
              "(7720, 1)"
            ]
          },
          "metadata": {},
          "execution_count": 159
        }
      ]
    },
    {
      "cell_type": "code",
      "metadata": {
        "colab": {
          "base_uri": "https://localhost:8080/"
        },
        "id": "xbsKMIST3fgS",
        "outputId": "22bdcdb4-e8a6-447a-e588-f363f19c22e5"
      },
      "source": [
        "print(correct1.iloc[370:420].values)"
      ],
      "execution_count": 168,
      "outputs": [
        {
          "output_type": "stream",
          "name": "stdout",
          "text": [
            "[['nawet koła rewizjonistów konserwatystów. zarzucały one ']\n",
            " ['czyni zbyt wiele gestów pod adresem komu- ']\n",
            " ['rozbestwia psuje posoborową atmosferę ']\n",
            " ['potęguje kryzys. atmosfera wytrąciła ']\n",
            " ['argumenty kościele cierpiącym milczącym ']\n",
            " ['zachodzie przez niektórych hierarchów polskich. ']\n",
            " ['zdaniem red. czajkowskiego polsce ']\n",
            " ['normalizacji stosunków państwo-kościół. widzi papież ']\n",
            " ['watykan. polska dotychczas była wyspą którą ']\n",
            " ['omijały negatywne zjawiska kontestacji obojętności religijnej. ']\n",
            " ['papież dąży podpisania władzami polskimi porozumień ']\n",
            " ['gdyż jest prądy dotrą również polski. ']\n",
            " ['drive/MyDrive/kuba/zdjecia/fig115.jpg']\n",
            " ['ipn ']\n",
            " ['chce ochronić kościół przed wstrząsami jakie mają miejsce ']\n",
            " ['innych ']\n",
            " ['dyskusji zabrało głos tym księży. ']\n",
            " ['ewentualnym przyjazdem papieża ']\n",
            " ['episkopatu polskiego rozmów polska-watykan norma- ']\n",
            " ['stosunków państwo-kościół rolą biskupa dąbrowskiego ']\n",
            " ['watykanie pobytu problemem administracji ']\n",
            " ['ano ']\n",
            " ['kościelnej diecezjach stanowiskiem działaczy le. ']\n",
            " ['stowarzyszeń katolickich wobec normalizacji stosunków ']\n",
            " ['jeden księży krakowskich poruszył sprawę trudności koś- ']\n",
            " ['twierdząc kościół jest szykanowany przez ']\n",
            " ['władze terenowe. ']\n",
            " ['odpowiedzi udzielił czajkowski. ']\n",
            " ['nie reprezentuje ani ani całości katolików ']\n",
            " ['polsce. sprawie porozumień polska-watykan może mieć ']\n",
            " ['tylko głos doradczy. polska nie może występować watykanu ']\n",
            " ['rozwiązanie problemu administracji kościelnej diecezjach ']\n",
            " ['jeśli tego nie czyni związek radziecki. ']\n",
            " ['działalność kard. który podburza nacjonalistów ']\n",
            " ['stanowi prowokację wobec watykanu związku ']\n",
            " ['radzieckiego. red. czajkowski sytuacja pax ']\n",
            " ['tykanie uległa znacznej poprawie. ']\n",
            " ['części oficjalnej odbyło się sute przyjęcie dla ']\n",
            " ['wydz. dep. msw dnia ']\n",
            " ['drive/MyDrive/kuba/zdjecia/fig116.jpg']\n",
            " ['ipn ']\n",
            " ['.... ']\n",
            " ['dot. dniu ']\n",
            " ['mona ']\n",
            " ['nada ']\n",
            " ['oli ']\n",
            " ['oli ']\n",
            " ['tory ']\n",
            " ['pas win kopia ']\n",
            " ['dry ']]\n"
          ]
        }
      ]
    },
    {
      "cell_type": "code",
      "metadata": {
        "colab": {
          "base_uri": "https://localhost:8080/"
        },
        "id": "J-1r_jVe3Ran",
        "outputId": "25913f5b-2fc9-440b-de7e-b500f7cdcf97"
      },
      "source": [
        "df_clean.values[300:350]"
      ],
      "execution_count": 165,
      "outputs": [
        {
          "output_type": "execute_result",
          "data": {
            "text/plain": [
              "array([['socjalistyczny używać słowo partia .'],\n",
              "       ['polski rzeczpospolita min . olszowski wyrazić'],\n",
              "       ['uznanie polityka pojednanie pokój watykanu'],\n",
              "       ['osobisty wkład papież szacunek'],\n",
              "       ['katolik polsce wspólnie budować'],\n",
              "       ['konsekwencja wizyta min . olszowskiego watykanie'],\n",
              "       ['daleki rozmowa polski watykanem'],\n",
              "       ['przyjazd casaroli'],\n",
              "       ['rokować nadzieja osiągnięcie porozumienie'],\n",
              "       ['bazia konstytucja przepis'],\n",
              "       ['wolność religijny'],\n",
              "       ['prasa włoski światowy wytworzyć odpowiedny klimat'],\n",
              "       ['rozmowy móc zakłócić'],\n",
              "       ['kół rewizjonista konserwatysta . zarzucać'],\n",
              "       ['czynić zbyt gest adres kto -'],\n",
              "       ['rozbestwia psuć posoborowy atmosfera'],\n",
              "       ['potęgować kryzys . atmosfera wytrącić'],\n",
              "       ['argument kościół cierpieć milczeć'],\n",
              "       ['zachód który hierarcha polski .'],\n",
              "       ['zdanie red . czajkowskiego polsce'],\n",
              "       ['normalizacja stosunki państwo - kościół . widzieć papież'],\n",
              "       ['watykan . polska dotychczas wyspa który'],\n",
              "       ['omijać negatywny zjawisko kontestacja obojętność religijny .'],\n",
              "       ['papież dążyć podpisania władza polski porozumienie'],\n",
              "       ['prąd dotrzeć polski .'],\n",
              "       ['drive / mydrive / kuba / zdjecia / fig115.jpg'],\n",
              "       ['ochronić kościół wstrząs miejsce'],\n",
              "       ['dyskusja zabrać głos księża .'],\n",
              "       ['ewentualny przyjazd papież'],\n",
              "       ['episkopat polski rozmowy polski - watykan norma -'],\n",
              "       ['stosunki państwo - kościół rola biskup dąbrowskiego'],\n",
              "       ['watykanie pobyt problem administracja'],\n",
              "       ['ano'],\n",
              "       ['kościelny diecezja stanowisko działacz le .'],\n",
              "       ['stowarzyszenie katolicki wobec normalizacja stosunki'],\n",
              "       ['księża krakowski poruszyć sprawa trudność koś -'],\n",
              "       ['twierdzić kościół szykanować'],\n",
              "       ['władza terenowy .'],\n",
              "       ['odpowiedź udzielić czajkowski .'],\n",
              "       ['reprezentować całość katolik'],\n",
              "       ['polsce . sprawa porozumienie polski - watykan mieść'],\n",
              "       ['głos doradczy . polska występować watykanu'],\n",
              "       ['rozwiązanie problem administracja kościelny diecezja'],\n",
              "       ['czynić związka radziecki .'],\n",
              "       ['działalność kard . podburzać nacjonalista'],\n",
              "       ['stanowić prowokacja wobec watykanu związek'],\n",
              "       ['radziecki . red . czajkowski sytuacja pax'],\n",
              "       ['tykanie ulec znaczny poprawa .'],\n",
              "       ['część oficjalny odbyć suty przyjęcie'],\n",
              "       ['wydz . dep . msw dzień']], dtype=object)"
            ]
          },
          "metadata": {},
          "execution_count": 165
        }
      ]
    },
    {
      "cell_type": "code",
      "metadata": {
        "id": "oeFJwbsOZ69-"
      },
      "source": [
        "from gensim.models.phrases import Phrases, Phraser"
      ],
      "execution_count": 112,
      "outputs": []
    },
    {
      "cell_type": "code",
      "metadata": {
        "id": "zCGUFxfuZ9QJ"
      },
      "source": [
        "sent = [row.split() for row in df_clean['clean']]"
      ],
      "execution_count": 169,
      "outputs": []
    },
    {
      "cell_type": "code",
      "metadata": {
        "id": "Q0vJUgGrZ_cP"
      },
      "source": [
        "phrases = Phrases(sent, min_count=5, progress_per=100)"
      ],
      "execution_count": 170,
      "outputs": []
    },
    {
      "cell_type": "code",
      "metadata": {
        "id": "FrW4qvgIaSin"
      },
      "source": [
        "bigram = Phraser(phrases)"
      ],
      "execution_count": 171,
      "outputs": []
    },
    {
      "cell_type": "code",
      "metadata": {
        "id": "F5QKToePaaku"
      },
      "source": [
        "sentences = bigram[sent]"
      ],
      "execution_count": 172,
      "outputs": []
    },
    {
      "cell_type": "code",
      "metadata": {
        "id": "INlEdFrMajFe"
      },
      "source": [
        "from collections import defaultdict  # For word frequency"
      ],
      "execution_count": 117,
      "outputs": []
    },
    {
      "cell_type": "code",
      "metadata": {
        "colab": {
          "base_uri": "https://localhost:8080/"
        },
        "id": "E-qp1ubXacpO",
        "outputId": "f6693162-9363-4c92-cb5b-346cc5206b80"
      },
      "source": [
        "word_freq = defaultdict(int)\n",
        "for sent in sentences:\n",
        "    for i in sent:\n",
        "        word_freq[i] += 1\n",
        "len(word_freq)"
      ],
      "execution_count": 174,
      "outputs": [
        {
          "output_type": "execute_result",
          "data": {
            "text/plain": [
              "6311"
            ]
          },
          "metadata": {},
          "execution_count": 174
        }
      ]
    },
    {
      "cell_type": "code",
      "metadata": {
        "colab": {
          "base_uri": "https://localhost:8080/"
        },
        "id": "LzZmJs5taqjX",
        "outputId": "4da56780-8de5-4c64-a05c-bb3fc9254c23"
      },
      "source": [
        "sorted(word_freq, key=word_freq.get, reverse=True)[:20]"
      ],
      "execution_count": 175,
      "outputs": [
        {
          "output_type": "execute_result",
          "data": {
            "text/plain": [
              "['.',\n",
              " '-',\n",
              " 'drive_/',\n",
              " 'mydrive_/',\n",
              " 'kuba_/',\n",
              " 'zdjecia_/',\n",
              " 'pax',\n",
              " 'praca',\n",
              " 'działalność',\n",
              " 'stowarzyszenie',\n",
              " 'sprawa',\n",
              " 'człowiek',\n",
              " 'rozwój',\n",
              " 'należeć',\n",
              " 'swój',\n",
              " 'polityczny',\n",
              " 'dzień',\n",
              " 'społeczny',\n",
              " 'kościół',\n",
              " 'nowy']"
            ]
          },
          "metadata": {},
          "execution_count": 175
        }
      ]
    },
    {
      "cell_type": "code",
      "metadata": {
        "id": "1oRxF2C-axVw"
      },
      "source": [
        "import multiprocessing\n",
        "\n",
        "from gensim.models import Word2Vec"
      ],
      "execution_count": 121,
      "outputs": []
    },
    {
      "cell_type": "code",
      "metadata": {
        "id": "TLseoLeNa1lJ"
      },
      "source": [
        "cores = multiprocessing.cpu_count()"
      ],
      "execution_count": 176,
      "outputs": []
    },
    {
      "cell_type": "code",
      "metadata": {
        "id": "bfxzi8Rqa5WS"
      },
      "source": [
        "w2v_model = Word2Vec(min_count=20,\n",
        "                     window=2,\n",
        "                     size=300,\n",
        "                     sample=6e-5, \n",
        "                     alpha=0.03, \n",
        "                     min_alpha=0.0007, \n",
        "                     negative=20,\n",
        "                     workers=cores-1)"
      ],
      "execution_count": 177,
      "outputs": []
    },
    {
      "cell_type": "code",
      "metadata": {
        "colab": {
          "base_uri": "https://localhost:8080/"
        },
        "id": "GFyTQjESa7gw",
        "outputId": "f22ef04f-6980-40b5-a53c-82c7bac20c56"
      },
      "source": [
        "t = time()\n",
        "\n",
        "w2v_model.build_vocab(sentences, progress_per=10000)\n",
        "\n",
        "print('Time to build vocab: {} mins'.format(round((time() - t) / 60, 2)))"
      ],
      "execution_count": 178,
      "outputs": [
        {
          "output_type": "stream",
          "name": "stdout",
          "text": [
            "Time to build vocab: 0.0 mins\n"
          ]
        }
      ]
    },
    {
      "cell_type": "code",
      "metadata": {
        "colab": {
          "base_uri": "https://localhost:8080/"
        },
        "id": "dCfpZSOUbAH3",
        "outputId": "5d5b7d37-1fe7-40ec-e811-5819002a6d3c"
      },
      "source": [
        "t = time()\n",
        "\n",
        "w2v_model.train(sentences, total_examples=w2v_model.corpus_count, epochs=30, report_delay=1)\n",
        "\n",
        "print('Time to train the model: {} mins'.format(round((time() - t) / 60, 2)))"
      ],
      "execution_count": 179,
      "outputs": [
        {
          "output_type": "stream",
          "name": "stdout",
          "text": [
            "Time to train the model: 0.07 mins\n"
          ]
        }
      ]
    },
    {
      "cell_type": "code",
      "metadata": {
        "id": "LkTd2670bF94"
      },
      "source": [
        "w2v_model.init_sims(replace=True)"
      ],
      "execution_count": 180,
      "outputs": []
    },
    {
      "cell_type": "code",
      "metadata": {
        "colab": {
          "base_uri": "https://localhost:8080/"
        },
        "id": "tWjEX8zEdf9o",
        "outputId": "2bfa3394-358c-40df-abcb-e465c907bc10"
      },
      "source": [
        "sorted(word_freq, key=word_freq.get, reverse=True)[:40]"
      ],
      "execution_count": 181,
      "outputs": [
        {
          "output_type": "execute_result",
          "data": {
            "text/plain": [
              "['.',\n",
              " '-',\n",
              " 'drive_/',\n",
              " 'mydrive_/',\n",
              " 'kuba_/',\n",
              " 'zdjecia_/',\n",
              " 'pax',\n",
              " 'praca',\n",
              " 'działalność',\n",
              " 'stowarzyszenie',\n",
              " 'sprawa',\n",
              " 'człowiek',\n",
              " 'rozwój',\n",
              " 'należeć',\n",
              " 'swój',\n",
              " 'polityczny',\n",
              " 'dzień',\n",
              " 'społeczny',\n",
              " 'kościół',\n",
              " 'nowy',\n",
              " 'polski',\n",
              " 'kraj',\n",
              " 'rola',\n",
              " 'rzecz',\n",
              " 'problem',\n",
              " 'partia',\n",
              " 'rok',\n",
              " 'społeczeństwo',\n",
              " 'potrzeba',\n",
              " 'życie',\n",
              " 'wartość',\n",
              " 'poprzez',\n",
              " 'stosunek',\n",
              " 'gospodarczy',\n",
              " 'państwo',\n",
              " 'sytuacja',\n",
              " 'okres',\n",
              " 'referat',\n",
              " 'władza',\n",
              " 'dyskusja']"
            ]
          },
          "metadata": {},
          "execution_count": 181
        }
      ]
    },
    {
      "cell_type": "code",
      "metadata": {
        "colab": {
          "base_uri": "https://localhost:8080/"
        },
        "id": "efydYfPfbML-",
        "outputId": "5ed52eb4-fdcb-47c1-b43a-be1fd06e51c4"
      },
      "source": [
        "w2v_model.wv.most_similar(positive=[\"pax\"])"
      ],
      "execution_count": 182,
      "outputs": [
        {
          "output_type": "execute_result",
          "data": {
            "text/plain": [
              "[('.', 0.999844491481781),\n",
              " ('-', 0.9998292922973633),\n",
              " ('kultura', 0.9997574687004089),\n",
              " ('rozwój', 0.9997413158416748),\n",
              " ('sprawa', 0.9996953010559082),\n",
              " ('polski', 0.9996799826622009),\n",
              " ('mydrive_/', 0.9996740221977234),\n",
              " ('dzień', 0.9996715784072876),\n",
              " ('sytuacja', 0.9996553659439087),\n",
              " ('polityczny', 0.999650239944458)]"
            ]
          },
          "metadata": {},
          "execution_count": 182
        }
      ]
    },
    {
      "cell_type": "code",
      "metadata": {
        "colab": {
          "base_uri": "https://localhost:8080/"
        },
        "id": "unRJaq3NdnqU",
        "outputId": "fa2d24e0-8a3b-4735-f4da-60db635adbc3"
      },
      "source": [
        "w2v_model.wv.most_similar(negative=[\"pax\"])"
      ],
      "execution_count": 183,
      "outputs": [
        {
          "output_type": "execute_result",
          "data": {
            "text/plain": [
              "[('ośrodek', -0.8909914493560791),\n",
              " ('pomoc', -0.9193365573883057),\n",
              " ('zaangażowanie', -0.9737930297851562),\n",
              " ('następujący', -0.9747750759124756),\n",
              " ('dziedzina', -0.987851083278656),\n",
              " ('ludzki', -0.9907494783401489),\n",
              " ('prasa', -0.9940305948257446),\n",
              " ('taki', -0.9942152500152588),\n",
              " ('inny', -0.9943341612815857),\n",
              " ('czas', -0.994398832321167)]"
            ]
          },
          "metadata": {},
          "execution_count": 183
        }
      ]
    },
    {
      "cell_type": "code",
      "metadata": {
        "colab": {
          "base_uri": "https://localhost:8080/",
          "height": 91
        },
        "id": "RCR5Sog9d-Vo",
        "outputId": "625986e0-4461-4cd5-908e-19a6a1791680"
      },
      "source": [
        "w2v_model.wv.doesnt_match(['pax', 'socjalizm', 'chrze_cija'])"
      ],
      "execution_count": 184,
      "outputs": [
        {
          "output_type": "stream",
          "name": "stderr",
          "text": [
            "/usr/local/lib/python3.7/dist-packages/gensim/models/keyedvectors.py:895: FutureWarning: arrays to stack must be passed as a \"sequence\" type such as list or tuple. Support for non-sequence iterables such as generators is deprecated as of NumPy 1.16 and will raise an error in the future.\n",
            "  vectors = vstack(self.word_vec(word, use_norm=True) for word in used_words).astype(REAL)\n"
          ]
        },
        {
          "output_type": "execute_result",
          "data": {
            "application/vnd.google.colaboratory.intrinsic+json": {
              "type": "string"
            },
            "text/plain": [
              "'pax'"
            ]
          },
          "metadata": {},
          "execution_count": 184
        }
      ]
    },
    {
      "cell_type": "code",
      "metadata": {
        "id": "csqasVVtfSfx"
      },
      "source": [
        "import numpy as np\n",
        "import matplotlib.pyplot as plt\n",
        "%matplotlib inline\n",
        " \n",
        "import seaborn as sns\n",
        "sns.set_style(\"darkgrid\")\n",
        "\n",
        "from sklearn.decomposition import PCA\n",
        "from sklearn.manifold import TSNE"
      ],
      "execution_count": 185,
      "outputs": []
    },
    {
      "cell_type": "code",
      "metadata": {
        "id": "yO7QkfCJfWDK"
      },
      "source": [
        "def tsnescatterplot(model, word, list_names):\n",
        "    \"\"\" Plot in seaborn the results from the t-SNE dimensionality reduction algorithm of the vectors of a query word,\n",
        "    its list of most similar words, and a list of words.\n",
        "    \"\"\"\n",
        "    arrays = np.empty((0, 300), dtype='f')\n",
        "    word_labels = [word]\n",
        "    color_list  = ['red']\n",
        "\n",
        "    # adds the vector of the query word\n",
        "    arrays = np.append(arrays, model.wv.__getitem__([word]), axis=0)\n",
        "    \n",
        "    # gets list of most similar words\n",
        "    close_words = model.wv.most_similar([word])\n",
        "    \n",
        "    # adds the vector for each of the closest words to the array\n",
        "    for wrd_score in close_words:\n",
        "        wrd_vector = model.wv.__getitem__([wrd_score[0]])\n",
        "        word_labels.append(wrd_score[0])\n",
        "        color_list.append('blue')\n",
        "        arrays = np.append(arrays, wrd_vector, axis=0)\n",
        "    \n",
        "    # adds the vector for each of the words from list_names to the array\n",
        "    for wrd in list_names:\n",
        "        wrd_vector = model.wv.__getitem__([wrd])\n",
        "        word_labels.append(wrd)\n",
        "        color_list.append('green')\n",
        "        arrays = np.append(arrays, wrd_vector, axis=0)\n",
        "        \n",
        "    # Reduces the dimensionality from 300 to 50 dimensions with PCA\n",
        "    reduc = PCA(n_components=18).fit_transform(arrays)\n",
        "    \n",
        "    # Finds t-SNE coordinates for 2 dimensions\n",
        "    np.set_printoptions(suppress=True)\n",
        "    \n",
        "    Y = TSNE(n_components=2, random_state=0, perplexity=15).fit_transform(reduc)\n",
        "    \n",
        "    # Sets everything up to plot\n",
        "    df = pd.DataFrame({'x': [x for x in Y[:, 0]],\n",
        "                       'y': [y for y in Y[:, 1]],\n",
        "                       'words': word_labels,\n",
        "                       'color': color_list})\n",
        "    \n",
        "    fig, _ = plt.subplots()\n",
        "    fig.set_size_inches(9, 9)\n",
        "    \n",
        "    # Basic plot\n",
        "    p1 = sns.regplot(data=df,\n",
        "                     x=\"x\",\n",
        "                     y=\"y\",\n",
        "                     fit_reg=False,\n",
        "                     marker=\"o\",\n",
        "                     scatter_kws={'s': 40,\n",
        "                                  'facecolors': df['color']\n",
        "                                 }\n",
        "                    )\n",
        "    \n",
        "    # Adds annotations one by one with a loop\n",
        "    for line in range(0, df.shape[0]):\n",
        "         p1.text(df[\"x\"][line],\n",
        "                 df['y'][line],\n",
        "                 '  ' + df[\"words\"][line].title(),\n",
        "                 horizontalalignment='left',\n",
        "                 verticalalignment='bottom', size='medium',\n",
        "                 color=df['color'][line],\n",
        "                 weight='normal'\n",
        "                ).set_size(15)\n",
        "\n",
        "    \n",
        "    plt.xlim(Y[:, 0].min()-50, Y[:, 0].max()+50)\n",
        "    plt.ylim(Y[:, 1].min()-50, Y[:, 1].max()+50)\n",
        "            \n",
        "    plt.title('t-SNE visualization for {}'.format(word.title()))"
      ],
      "execution_count": 186,
      "outputs": []
    },
    {
      "cell_type": "code",
      "metadata": {
        "colab": {
          "base_uri": "https://localhost:8080/"
        },
        "id": "Aa4XASwhfceQ",
        "outputId": "1e6df38c-07dc-477b-d033-eb2b5c132bdc"
      },
      "source": [
        "sorted(word_freq, key=word_freq.get, reverse=False)[:20]"
      ],
      "execution_count": 187,
      "outputs": [
        {
          "output_type": "execute_result",
          "data": {
            "text/plain": [
              "['fig1.jpg',\n",
              " 'archiwum',\n",
              " 'kart',\n",
              " 'pamięć',\n",
              " 'zrzeszenie',\n",
              " 'fig10.jpg',\n",
              " 'gł',\n",
              " 'mem',\n",
              " 'honorarium',\n",
              " 'podróża',\n",
              " 'służbowy',\n",
              " 'remonta',\n",
              " 'augustyna',\n",
              " 'społ.',\n",
              " 'opłata',\n",
              " 'ww',\n",
              " 'razem',\n",
              " 'fig100.jpg',\n",
              " 'pogłębiać',\n",
              " 'skłaniać']"
            ]
          },
          "metadata": {},
          "execution_count": 187
        }
      ]
    },
    {
      "cell_type": "code",
      "metadata": {
        "colab": {
          "base_uri": "https://localhost:8080/",
          "height": 566
        },
        "id": "mGGwa4ngfXq9",
        "outputId": "5c5568ba-b647-4572-feef-e069901c8b0a"
      },
      "source": [
        "tsnescatterplot(w2v_model, 'pax', ['praca', 'działalność', 'człowiek', 'polityczny', 'kraj', 'kościół', 'społeczny','katolicki'])"
      ],
      "execution_count": 188,
      "outputs": [
        {
          "output_type": "display_data",
          "data": {
            "image/png": "[encoded data removed]",
            "text/plain": [
              "<Figure size 648x648 with 1 Axes>"
            ]
          },
          "metadata": {}
        }
      ]
    }
  ]
}