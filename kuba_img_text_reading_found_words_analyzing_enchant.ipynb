{
  "nbformat": 4,
  "nbformat_minor": 0,
  "metadata": {
    "colab": {
      "name": "kuba_img_text_reading_found_words_analyzing_enchant.ipynb",
      "provenance": [],
      "collapsed_sections": [],
      "authorship_tag": "ABX9TyMB2WEreeD/WEMnE/PLLAnC",
      "include_colab_link": true
    },
    "kernelspec": {
      "name": "python3",
      "display_name": "Python 3"
    }
  },
  "cells": [
    {
      "cell_type": "markdown",
      "metadata": {
        "id": "view-in-github",
        "colab_type": "text"
      },
      "source": [
        "<a href=\"https://colab.research.google.com/github/KacperGrodecki/image_proccessing/blob/main/kuba_img_text_reading_found_words_analyzing_enchant.ipynb\" target=\"_parent\"><img src=\"https://colab.research.google.com/assets/colab-badge.svg\" alt=\"Open In Colab\"/></a>"
      ]
    },
    {
      "cell_type": "code",
      "metadata": {
        "id": "IJjlrbzGKZi4",
        "colab": {
          "base_uri": "https://localhost:8080/"
        },
        "outputId": "d9502011-5474-4b92-c83f-5dd9ac12cfb1"
      },
      "source": [
        "from google.colab import drive\n",
        "drive.mount('/content/drive')"
      ],
      "execution_count": 1,
      "outputs": [
        {
          "output_type": "stream",
          "name": "stdout",
          "text": [
            "Drive already mounted at /content/drive; to attempt to forcibly remount, call drive.mount(\"/content/drive\", force_remount=True).\n"
          ]
        }
      ]
    },
    {
      "cell_type": "code",
      "metadata": {
        "id": "DRZvokFkmu_d"
      },
      "source": [
        "pip uninstall spacy"
      ],
      "execution_count": null,
      "outputs": []
    },
    {
      "cell_type": "code",
      "metadata": {
        "id": "f5OunayamzvS"
      },
      "source": [
        "pip install spacy==2.3.2"
      ],
      "execution_count": null,
      "outputs": []
    },
    {
      "cell_type": "code",
      "metadata": {
        "id": "nl389bLjnFRB"
      },
      "source": [
        "!python3 -m spacy download pl_core_news_md\n",
        "#https://github.com/explosion/spaCy/issues/5140"
      ],
      "execution_count": null,
      "outputs": []
    },
    {
      "cell_type": "code",
      "metadata": {
        "id": "406ek6Ivm9qD"
      },
      "source": [
        "import spacy  \n",
        "from spacy.lang.pl.examples import sentences \n",
        "nlp = spacy.load(\"pl_core_news_md\")"
      ],
      "execution_count": null,
      "outputs": []
    },
    {
      "cell_type": "code",
      "metadata": {
        "id": "VCQq3xY_FatP",
        "colab": {
          "base_uri": "https://localhost:8080/"
        },
        "outputId": "9e97ecd1-bba2-437b-a187-1f5398ba3ae6"
      },
      "source": [
        "pip install pyenchant"
      ],
      "execution_count": 2,
      "outputs": [
        {
          "output_type": "stream",
          "name": "stdout",
          "text": [
            "Requirement already satisfied: pyenchant in /usr/local/lib/python3.7/dist-packages (3.2.2)\n"
          ]
        }
      ]
    },
    {
      "cell_type": "code",
      "metadata": {
        "id": "S4o5m7KVGxIw",
        "colab": {
          "base_uri": "https://localhost:8080/"
        },
        "outputId": "e8098ea3-3786-4597-f63d-b3d6aa97f8e6"
      },
      "source": [
        "!apt install -qq enchant"
      ],
      "execution_count": 3,
      "outputs": [
        {
          "output_type": "stream",
          "name": "stdout",
          "text": [
            "enchant is already the newest version (1.6.0-11.1).\n",
            "0 upgraded, 0 newly installed, 0 to remove and 37 not upgraded.\n"
          ]
        }
      ]
    },
    {
      "cell_type": "code",
      "metadata": {
        "id": "GgxGHC6TIr-i",
        "colab": {
          "base_uri": "https://localhost:8080/"
        },
        "outputId": "70454420-4514-4e9b-8e12-68ff586d1588"
      },
      "source": [
        "!apt-get install myspell-pl"
      ],
      "execution_count": 4,
      "outputs": [
        {
          "output_type": "stream",
          "name": "stdout",
          "text": [
            "Reading package lists... Done\n",
            "Building dependency tree       \n",
            "Reading state information... Done\n",
            "myspell-pl is already the newest version (20170707-1).\n",
            "0 upgraded, 0 newly installed, 0 to remove and 37 not upgraded.\n"
          ]
        }
      ]
    },
    {
      "cell_type": "code",
      "metadata": {
        "id": "2wUfYi8wWZLT"
      },
      "source": [
        "import pandas as pd\n",
        "import cv2\n",
        "import numpy as np\n",
        "import re\n",
        "import matplotlib.pyplot as plt      \n",
        "import pickle\n",
        "from os import listdir\n",
        "from os.path import isfile, join\n",
        "import gc\n",
        "import sys\n",
        "import pickle\n",
        "import string\n",
        "import enchant\n",
        "from time import time\n",
        "from gensim.models.phrases import Phrases, Phraser\n",
        "from collections import defaultdict  # For word frequency\n",
        "import multiprocessing\n",
        "from gensim.models import Word2Vec"
      ],
      "execution_count": 5,
      "outputs": []
    },
    {
      "cell_type": "code",
      "metadata": {
        "id": "NB8HnIDbFUx4",
        "colab": {
          "base_uri": "https://localhost:8080/"
        },
        "outputId": "43f157b7-a0a6-4c81-eaee-a3b298669608"
      },
      "source": [
        "d = enchant.Dict('PL')\n",
        "d.check(\"guzik\") # False\n",
        "\n"
      ],
      "execution_count": 6,
      "outputs": [
        {
          "output_type": "execute_result",
          "data": {
            "text/plain": [
              "True"
            ]
          },
          "metadata": {},
          "execution_count": 6
        }
      ]
    },
    {
      "cell_type": "code",
      "metadata": {
        "id": "VSCMbCO6Dt6W"
      },
      "source": [
        "text=pd.read_csv('drive/MyDrive/kuba/odczyt_0_85.csv',index_col=0)"
      ],
      "execution_count": 7,
      "outputs": []
    },
    {
      "cell_type": "code",
      "metadata": {
        "colab": {
          "base_uri": "https://localhost:8080/",
          "height": 202
        },
        "id": "OzNEDFKK0Qd6",
        "outputId": "dc21c06b-8976-4cc7-8417-8852d65e4ed9"
      },
      "source": [
        "text.head()"
      ],
      "execution_count": 8,
      "outputs": [
        {
          "output_type": "execute_result",
          "data": {
            "text/html": [
              "<div>\n",
              "<style scoped>\n",
              "    .dataframe tbody tr th:only-of-type {\n",
              "        vertical-align: middle;\n",
              "    }\n",
              "\n",
              "    .dataframe tbody tr th {\n",
              "        vertical-align: top;\n",
              "    }\n",
              "\n",
              "    .dataframe thead th {\n",
              "        text-align: right;\n",
              "    }\n",
              "</style>\n",
              "<table border=\"1\" class=\"dataframe\">\n",
              "  <thead>\n",
              "    <tr style=\"text-align: right;\">\n",
              "      <th></th>\n",
              "      <th>0</th>\n",
              "    </tr>\n",
              "  </thead>\n",
              "  <tbody>\n",
              "    <tr>\n",
              "      <th>0</th>\n",
              "      <td>drive/MyDrive/kuba/zdjecia/fig1.jpg</td>\n",
              "    </tr>\n",
              "    <tr>\n",
              "      <th>1</th>\n",
              "      <td>Własność\\narchiwum\\nAktotwórca\\nTytuł teczki\\n...</td>\n",
              "    </tr>\n",
              "    <tr>\n",
              "      <th>2</th>\n",
              "      <td>IPN BU 0 639/223</td>\n",
              "    </tr>\n",
              "    <tr>\n",
              "      <th>3</th>\n",
              "      <td>KARTA INFORMACYJNA</td>\n",
              "    </tr>\n",
              "    <tr>\n",
              "      <th>4</th>\n",
              "      <td>Instytut Pamięci Narodowej w Warszawie</td>\n",
              "    </tr>\n",
              "  </tbody>\n",
              "</table>\n",
              "</div>"
            ],
            "text/plain": [
              "                                                   0\n",
              "0                drive/MyDrive/kuba/zdjecia/fig1.jpg\n",
              "1  Własność\\narchiwum\\nAktotwórca\\nTytuł teczki\\n...\n",
              "2                                   IPN BU 0 639/223\n",
              "3                                 KARTA INFORMACYJNA\n",
              "4             Instytut Pamięci Narodowej w Warszawie"
            ]
          },
          "metadata": {},
          "execution_count": 8
        }
      ]
    },
    {
      "cell_type": "code",
      "metadata": {
        "id": "IQfR7Dqfgg1h"
      },
      "source": [
        "from difflib import SequenceMatcher\n",
        "\n",
        "def similar(a, b):\n",
        "    return SequenceMatcher(None, a, b).ratio()"
      ],
      "execution_count": 9,
      "outputs": []
    },
    {
      "cell_type": "code",
      "metadata": {
        "id": "08Amw-9kkmS5"
      },
      "source": [
        "def has_numbers(inputString):\n",
        "    return any(char.isdigit() for char in inputString)"
      ],
      "execution_count": 10,
      "outputs": []
    },
    {
      "cell_type": "code",
      "metadata": {
        "colab": {
          "base_uri": "https://localhost:8080/"
        },
        "id": "qiEdylnZnUIL",
        "outputId": "ab7f6ab1-3f36-4f83-a09a-f156c7f06fc6"
      },
      "source": [
        "ch='/'\n",
        "ch.isalnum()"
      ],
      "execution_count": 55,
      "outputs": [
        {
          "output_type": "execute_result",
          "data": {
            "text/plain": [
              "False"
            ]
          },
          "metadata": {},
          "execution_count": 55
        }
      ]
    },
    {
      "cell_type": "code",
      "metadata": {
        "id": "iTo6hrTec4qF"
      },
      "source": [
        "def word_correction_enchant(a):\n",
        "    a=str(a)\n",
        "    if 'drive/MyDrive/kuba/' in a:\n",
        "      return a\n",
        "    correct=''\n",
        "    for word in a.split():\n",
        "        word = ''.join(ch for ch in word if ch.isalnum())\n",
        "        if len(word)>1:\n",
        "            if has_numbers(word) or len(word)<3:\n",
        "              continue\n",
        "            try:\n",
        "              if int(d.check(word))==1:\n",
        "                correct+=word.lower()+' '\n",
        "            except:\n",
        "              pass     \n",
        "    return correct"
      ],
      "execution_count": 56,
      "outputs": []
    },
    {
      "cell_type": "code",
      "metadata": {
        "id": "0-VkBr6pckM9"
      },
      "source": [
        "correct=text.applymap(lambda x: word_correction_enchant(x))#dodać numery stron"
      ],
      "execution_count": 57,
      "outputs": []
    },
    {
      "cell_type": "code",
      "metadata": {
        "id": "Un-DAhRAK7jh"
      },
      "source": [
        "correct1 = correct[correct['0']!= '']"
      ],
      "execution_count": 58,
      "outputs": []
    },
    {
      "cell_type": "code",
      "metadata": {
        "colab": {
          "base_uri": "https://localhost:8080/"
        },
        "id": "yiuR0k5w0pyZ",
        "outputId": "6069d1d2-ac93-46e7-cb32-216205a457b3"
      },
      "source": [
        "print(correct1.iloc[300:400].values)"
      ],
      "execution_count": 59,
      "outputs": [
        {
          "output_type": "stream",
          "name": "stdout",
          "text": [
            "[['współpracy ']\n",
            " ['kosi ']\n",
            " ['blokowymi ']\n",
            " ['przy ']\n",
            " ['przy pół ']\n",
            " ['poprzez ']\n",
            " ['poprzez ']\n",
            " ['śluby terenowe ']\n",
            " ['terenowe ']\n",
            " ['cechuje ']\n",
            " ['cechuje ']\n",
            " ['chaotyczność ']\n",
            " ['winne ']\n",
            " ['linia polityczną pax ']\n",
            " ['linia polityczną pań ']\n",
            " ['drive/MyDrive/kuba/zdjecia/fig112.jpg']\n",
            " ['ipn ']\n",
            " ['lei ']\n",
            " ['celu ']\n",
            " ['tezy ']\n",
            " ['wania pracy radach ']\n",
            " ['pak ']\n",
            " ['specjalne ']\n",
            " ['racuch ']\n",
            " ['inf ']\n",
            " ['drive/MyDrive/kuba/zdjecia/fig113.jpg']\n",
            " ['załącznik zestawu ważniejszych ']\n",
            " ['załącznik zestawu ważniejszych ']\n",
            " ['informacji ']\n",
            " ['spotkanie pax ']\n",
            " ['aktywem katolickim katowicach ']\n",
            " ['stowarzyszenie pax zorganizowało katowicach spotkanie ']\n",
            " ['rzymskiego korespondenta pax redaktora czajkowskiego ']\n",
            " ['temat wizyty ministra ']\n",
            " ['księżmi działaczami świeckimi temat wizyty ministra watykanie ']\n",
            " ['wzięli udział zajmujący się paxie ']\n",
            " ['pracą duchowieństwem przewodniczący oddziału ']\n",
            " ['członkowie sekretariatu ']\n",
            " ['kiego katowicach ']\n",
            " ['osób tym księży diec krakowskiej często ']\n",
            " ['katowickiej pastorów kościoła luterańskiego ']\n",
            " ['zabrza bytomia ']\n",
            " ['redaktor czajkowski omówił problem wizyty min ']\n",
            " ['kiego punktu widzenia stosunku watykanu polski okresie ']\n",
            " ['powojennym politycznego charakteru wizyty reakcji prasy ']\n",
            " ['włoskiej światowej oraz strony kół rewizjonistycznych ']\n",
            " ['zachodzie powiedział min ']\n",
            " ['stosunek jana pawła był zawsze jest serdeczny ']\n",
            " ['tym uznanie przez jana ']\n",
            " ['polskich ziem zachodnich północnych ustanowienie ']\n",
            " ['przez pawła polskiej administracji kościelnej tych ']\n",
            " ['ziemiach likwidacja ambasady rządu londyńskiego przy ']\n",
            " ['watykanie odmówienie akredytacji rozmowy ']\n",
            " ['podjęte polską nominacja kard kominka spotkanie ']\n",
            " ['helsinkach ']\n",
            " ['podczas którego uzgodniono wspólne działania polski ']\n",
            " ['rzecz pokoju oraz wyrażono chęć ']\n",
            " ['stosunków red czajkowski uważa ']\n",
            " ['przełomie roku polska znalazła się orbi ']\n",
            " ['cie wpływu polityki watykańskiej ']\n",
            " ['drive/MyDrive/kuba/zdjecia/fig114.jpg']\n",
            " ['ipn ']\n",
            " ['ipn ']\n",
            " ['wizyta min olszowskiego watykanie przebiegała ']\n",
            " ['atmosferze szukania punktu zbliżenia unikania spraw ']\n",
            " ['mogących doprowadzić zadrażnień stosunków między ']\n",
            " ['polską watykanem papież wyraził szacunek kraju ']\n",
            " ['socjalistycznego jego polityki używając słów partia ']\n",
            " ['polska rzeczpospolita ludowa min olszowski wyraził ']\n",
            " ['uznanie dla polityki pojednania pokoju watykanu ']\n",
            " ['osobistego wkładu papieża oraz szacunkiem mówił ']\n",
            " ['katolicy polsce wspólnie budują socjalizm ']\n",
            " ['konsekwencją wizyty min olszowskiego watykanie ']\n",
            " ['będą dalsze rozmowy między polską watykanem ']\n",
            " ['zaproszenie przyjazd casaroli polski ']\n",
            " ['które rokują nadzieje osiągnięcie porozumień ']\n",
            " ['bazie poszanowania konstytucji przepisów przez ']\n",
            " ['kościół wolności religijnej przez państwo ']\n",
            " ['prasa włoska światowa wytworzyła odpowiedni klimat ']\n",
            " ['rozmów którego nie mogły zakłócić ']\n",
            " ['nawet koła rewizjonistów konserwatystów zarzucały one ']\n",
            " ['papieżowi czyni zbyt wiele gestów pod adresem komu ']\n",
            " ['rozbestwia ich psuje posoborową atmosferę ']\n",
            " ['kościele potęguje kryzys atmosfera wytrąciła ']\n",
            " ['argumenty kościele cierpiącym milczącym ']\n",
            " ['zachodzie przez niektórych hierarchów polskich ']\n",
            " ['zdaniem red czajkowskiego polsce ']\n",
            " ['normalizacji stosunków widzi papież ']\n",
            " ['watykan polska dotychczas była wyspą kościele którą ']\n",
            " ['omijały negatywne zjawiska kontestacji obojętności religijnej ']\n",
            " ['papież dąży podpisania władzami polskimi porozumień ']\n",
            " ['gdyż jest przekonany prądy dotrą również polski ']\n",
            " ['drive/MyDrive/kuba/zdjecia/fig115.jpg']\n",
            " ['ipn ']\n",
            " ['chce ochronić kościół przed wstrząsami jakie mają miejsce ']\n",
            " ['innych krajach ']\n",
            " ['dyskusji zabrało głos osób tym księży ']\n",
            " ['się ewentualnym przyjazdem papieża polski ']\n",
            " ['episkopatu polskiego rozmów norma ']\n",
            " ['stosunków rolą biskupa dąbrowskiego ']]\n"
          ]
        }
      ]
    },
    {
      "cell_type": "code",
      "metadata": {
        "id": "AUDkZ-ir4ehx"
      },
      "source": [
        "def nazwiska(x):\n",
        "  if 'gołębiewski' in x:\n",
        "    return 1\n",
        "  else:\n",
        "    return 0"
      ],
      "execution_count": 130,
      "outputs": []
    },
    {
      "cell_type": "code",
      "metadata": {
        "id": "tScXZC296FY5"
      },
      "source": [
        "kuba=correct1.copy()"
      ],
      "execution_count": 143,
      "outputs": []
    },
    {
      "cell_type": "code",
      "metadata": {
        "id": "citCRYtZ4tUg"
      },
      "source": [
        "kuba['swoje']=kuba.applymap(lambda x: nazwiska(x))"
      ],
      "execution_count": 144,
      "outputs": []
    },
    {
      "cell_type": "code",
      "metadata": {
        "colab": {
          "base_uri": "https://localhost:8080/",
          "height": 1000
        },
        "id": "dJzesr2N5ELZ",
        "outputId": "616026d7-8376-4638-c8f6-fed2c26307d2"
      },
      "source": [
        "print(kuba[kuba['swoje']==1])\n",
        "kuba.iloc[5720:5720+30,:]"
      ],
      "execution_count": 166,
      "outputs": [
        {
          "output_type": "stream",
          "name": "stdout",
          "text": [
            "                 0  swoje\n",
            "7408  gołębiewski       1\n"
          ]
        },
        {
          "output_type": "execute_result",
          "data": {
            "text/html": [
              "<div>\n",
              "<style scoped>\n",
              "    .dataframe tbody tr th:only-of-type {\n",
              "        vertical-align: middle;\n",
              "    }\n",
              "\n",
              "    .dataframe tbody tr th {\n",
              "        vertical-align: top;\n",
              "    }\n",
              "\n",
              "    .dataframe thead th {\n",
              "        text-align: right;\n",
              "    }\n",
              "</style>\n",
              "<table border=\"1\" class=\"dataframe\">\n",
              "  <thead>\n",
              "    <tr style=\"text-align: right;\">\n",
              "      <th></th>\n",
              "      <th>0</th>\n",
              "      <th>swoje</th>\n",
              "    </tr>\n",
              "  </thead>\n",
              "  <tbody>\n",
              "    <tr>\n",
              "      <th>7364</th>\n",
              "      <td>ipn</td>\n",
              "      <td>0</td>\n",
              "    </tr>\n",
              "    <tr>\n",
              "      <th>7369</th>\n",
              "      <td>dziełu</td>\n",
              "      <td>0</td>\n",
              "    </tr>\n",
              "    <tr>\n",
              "      <th>7370</th>\n",
              "      <td>iata loli pre zych</td>\n",
              "      <td>0</td>\n",
              "    </tr>\n",
              "    <tr>\n",
              "      <th>7372</th>\n",
              "      <td>załączeniu dot</td>\n",
              "      <td>0</td>\n",
              "    </tr>\n",
              "    <tr>\n",
              "      <th>7373</th>\n",
              "      <td>zarządu oddziału stowarzyszenia pax</td>\n",
              "      <td>0</td>\n",
              "    </tr>\n",
              "    <tr>\n",
              "      <th>7374</th>\n",
              "      <td>odbytej</td>\n",
              "      <td>0</td>\n",
              "    </tr>\n",
              "    <tr>\n",
              "      <th>7375</th>\n",
              "      <td>roku</td>\n",
              "      <td>0</td>\n",
              "    </tr>\n",
              "    <tr>\n",
              "      <th>7386</th>\n",
              "      <td>said fran</td>\n",
              "      <td>0</td>\n",
              "    </tr>\n",
              "    <tr>\n",
              "      <th>7388</th>\n",
              "      <td>adresat</td>\n",
              "      <td>0</td>\n",
              "    </tr>\n",
              "    <tr>\n",
              "      <th>7393</th>\n",
              "      <td>drive/MyDrive/kuba/zdjecia/fig278.jpg</td>\n",
              "      <td>0</td>\n",
              "    </tr>\n",
              "    <tr>\n",
              "      <th>7395</th>\n",
              "      <td>tpn</td>\n",
              "      <td>0</td>\n",
              "    </tr>\n",
              "    <tr>\n",
              "      <th>7396</th>\n",
              "      <td>tajne</td>\n",
              "      <td>0</td>\n",
              "    </tr>\n",
              "    <tr>\n",
              "      <th>7399</th>\n",
              "      <td>dot przebiegu narady zarządu oddziału</td>\n",
              "      <td>0</td>\n",
              "    </tr>\n",
              "    <tr>\n",
              "      <th>7400</th>\n",
              "      <td>stowarzyszenia pax katowicach odbytej</td>\n",
              "      <td>0</td>\n",
              "    </tr>\n",
              "    <tr>\n",
              "      <th>7401</th>\n",
              "      <td>dniach września wiśle</td>\n",
              "      <td>0</td>\n",
              "    </tr>\n",
              "    <tr>\n",
              "      <th>7402</th>\n",
              "      <td>dniach września odbyła się ośrodku</td>\n",
              "      <td>0</td>\n",
              "    </tr>\n",
              "    <tr>\n",
              "      <th>7403</th>\n",
              "      <td>wiśle narada kierowników</td>\n",
              "      <td>0</td>\n",
              "    </tr>\n",
              "    <tr>\n",
              "      <th>7404</th>\n",
              "      <td>zespołów kadrowych oraz niektórych pracowników</td>\n",
              "      <td>0</td>\n",
              "    </tr>\n",
              "    <tr>\n",
              "      <th>7405</th>\n",
              "      <td>pax katowicach</td>\n",
              "      <td>0</td>\n",
              "    </tr>\n",
              "    <tr>\n",
              "      <th>7406</th>\n",
              "      <td>naradzie której uczestniczyło osób wziął udział</td>\n",
              "      <td>0</td>\n",
              "    </tr>\n",
              "    <tr>\n",
              "      <th>7407</th>\n",
              "      <td>członek prezydium stowarzyszenia kierownik szk...</td>\n",
              "      <td>0</td>\n",
              "    </tr>\n",
              "    <tr>\n",
              "      <th>7408</th>\n",
              "      <td>gołębiewski</td>\n",
              "      <td>1</td>\n",
              "    </tr>\n",
              "    <tr>\n",
              "      <th>7409</th>\n",
              "      <td>referat oceniający przebieg tematykę zebrań ze...</td>\n",
              "      <td>0</td>\n",
              "    </tr>\n",
              "    <tr>\n",
              "      <th>7410</th>\n",
              "      <td>omawiający elementy świadomości ideowopolitycz...</td>\n",
              "      <td>0</td>\n",
              "    </tr>\n",
              "    <tr>\n",
              "      <th>7411</th>\n",
              "      <td>wygłosił kierownika szkolenia sekretariatu woj...</td>\n",
              "      <td>0</td>\n",
              "    </tr>\n",
              "    <tr>\n",
              "      <th>7412</th>\n",
              "      <td>jan</td>\n",
              "      <td>0</td>\n",
              "    </tr>\n",
              "    <tr>\n",
              "      <th>7413</th>\n",
              "      <td>ocenę stanu świadomości organizacji wojewódzki...</td>\n",
              "      <td>0</td>\n",
              "    </tr>\n",
              "    <tr>\n",
              "      <th>7414</th>\n",
              "      <td>się takie elementy jak społecznopolityczne zaa...</td>\n",
              "      <td>0</td>\n",
              "    </tr>\n",
              "    <tr>\n",
              "      <th>7415</th>\n",
              "      <td>członków umiejętność oceny faktów zdarzeń oraz...</td>\n",
              "      <td>0</td>\n",
              "    </tr>\n",
              "    <tr>\n",
              "      <th>7416</th>\n",
              "      <td>propozycje dot zmian uzupełnień wytycznych vii...</td>\n",
              "      <td>0</td>\n",
              "    </tr>\n",
              "  </tbody>\n",
              "</table>\n",
              "</div>"
            ],
            "text/plain": [
              "                                                      0  swoje\n",
              "7364                                               ipn       0\n",
              "7369                                            dziełu       0\n",
              "7370                                iata loli pre zych       0\n",
              "7372                                    załączeniu dot       0\n",
              "7373               zarządu oddziału stowarzyszenia pax       0\n",
              "7374                                           odbytej       0\n",
              "7375                                              roku       0\n",
              "7386                                         said fran       0\n",
              "7388                                           adresat       0\n",
              "7393              drive/MyDrive/kuba/zdjecia/fig278.jpg      0\n",
              "7395                                               tpn       0\n",
              "7396                                             tajne       0\n",
              "7399             dot przebiegu narady zarządu oddziału       0\n",
              "7400             stowarzyszenia pax katowicach odbytej       0\n",
              "7401                             dniach września wiśle       0\n",
              "7402                dniach września odbyła się ośrodku       0\n",
              "7403                          wiśle narada kierowników       0\n",
              "7404    zespołów kadrowych oraz niektórych pracowników       0\n",
              "7405                                    pax katowicach       0\n",
              "7406   naradzie której uczestniczyło osób wziął udział       0\n",
              "7407  członek prezydium stowarzyszenia kierownik szk...      0\n",
              "7408                                       gołębiewski       1\n",
              "7409  referat oceniający przebieg tematykę zebrań ze...      0\n",
              "7410  omawiający elementy świadomości ideowopolitycz...      0\n",
              "7411  wygłosił kierownika szkolenia sekretariatu woj...      0\n",
              "7412                                               jan       0\n",
              "7413  ocenę stanu świadomości organizacji wojewódzki...      0\n",
              "7414  się takie elementy jak społecznopolityczne zaa...      0\n",
              "7415  członków umiejętność oceny faktów zdarzeń oraz...      0\n",
              "7416  propozycje dot zmian uzupełnień wytycznych vii...      0"
            ]
          },
          "metadata": {},
          "execution_count": 166
        }
      ]
    },
    {
      "cell_type": "code",
      "metadata": {
        "id": "yfde-DjhgMXp"
      },
      "source": [
        "#https://www.kaggle.com/pierremegret/gensim-word2vec-tutorial"
      ],
      "execution_count": 19,
      "outputs": []
    },
    {
      "cell_type": "code",
      "metadata": {
        "id": "p7jv962AZVcX"
      },
      "source": [
        "df=correct1.copy()"
      ],
      "execution_count": 60,
      "outputs": []
    },
    {
      "cell_type": "code",
      "metadata": {
        "id": "Cnw2EdArZLgR"
      },
      "source": [
        "def cleaning(doc):\n",
        "    # Lemmatizes and removes stopwords\n",
        "    # doc needs to be a spacy Doc object\n",
        "    txt = [token.lemma_ for token in doc if not token.is_stop]\n",
        "    # Word2Vec uses context words to learn the vector representation of a target word,\n",
        "    # if a sentence is only one or two words long,\n",
        "    # the benefit for the training is very small\n",
        "    #if len(txt) > 2:\n",
        "    return ' '.join(txt)"
      ],
      "execution_count": 61,
      "outputs": []
    },
    {
      "cell_type": "code",
      "metadata": {
        "id": "uKoKj-OZZPtP"
      },
      "source": [
        "brief_cleaning = (str(row).lower() for row in df['0'])"
      ],
      "execution_count": 62,
      "outputs": []
    },
    {
      "cell_type": "code",
      "metadata": {
        "colab": {
          "base_uri": "https://localhost:8080/"
        },
        "id": "rRhTHpH3Zi2a",
        "outputId": "5f26d829-c724-46e7-9eb3-eb39011953db"
      },
      "source": [
        "t = time()\n",
        "\n",
        "txt = [cleaning(doc) for doc in nlp.pipe(brief_cleaning, batch_size=5000, n_threads=-1)]\n",
        "\n",
        "print('Time to clean up everything: {} mins'.format(round((time() - t) / 60, 2)))"
      ],
      "execution_count": 63,
      "outputs": [
        {
          "output_type": "stream",
          "name": "stdout",
          "text": [
            "Time to clean up everything: 0.12 mins\n"
          ]
        }
      ]
    },
    {
      "cell_type": "code",
      "metadata": {
        "id": "ntM0Zlns0Gro"
      },
      "source": [
        "nlp_txt='. '.join(txt)\n",
        "doc = nlp(nlp_txt)"
      ],
      "execution_count": 100,
      "outputs": []
    },
    {
      "cell_type": "code",
      "metadata": {
        "id": "5GGfPMwM18dh"
      },
      "source": [
        "#https://realpython.com/natural-language-processing-spacy-python/#part-of-speech-tagging\n",
        "surnames=[]\n",
        "for token in doc:\n",
        "  if token.pos_=='NOUN' and ('ski' in token.text or 'cki' in token.text):\n",
        "    surnames.append(token.text)\n",
        "    "
      ],
      "execution_count": 111,
      "outputs": []
    },
    {
      "cell_type": "code",
      "metadata": {
        "colab": {
          "base_uri": "https://localhost:8080/"
        },
        "id": "CUHsW1kb4LpQ",
        "outputId": "3c73108a-1c31-4cab-c871-634e85960407"
      },
      "source": [
        "for token in doc:\n",
        "  if 'gołębiewski' in token.text:\n",
        "    print(token.text)"
      ],
      "execution_count": 116,
      "outputs": [
        {
          "output_type": "stream",
          "name": "stdout",
          "text": [
            "gołębiewski\n"
          ]
        }
      ]
    },
    {
      "cell_type": "code",
      "metadata": {
        "id": "HRjlgKHr3sjD"
      },
      "source": [
        "set_surnames=set(surnames)"
      ],
      "execution_count": 113,
      "outputs": []
    },
    {
      "cell_type": "code",
      "metadata": {
        "colab": {
          "base_uri": "https://localhost:8080/"
        },
        "id": "-PFQwe5mZxzY",
        "outputId": "804fdd3a-09b7-4504-e22a-324974f0f3a7"
      },
      "source": [
        "df_clean = pd.DataFrame({'clean': txt})\n",
        "df_clean = df_clean.dropna().drop_duplicates()\n",
        "df_clean.shape"
      ],
      "execution_count": 64,
      "outputs": [
        {
          "output_type": "execute_result",
          "data": {
            "text/plain": [
              "(7960, 1)"
            ]
          },
          "metadata": {},
          "execution_count": 64
        }
      ]
    },
    {
      "cell_type": "code",
      "metadata": {
        "colab": {
          "base_uri": "https://localhost:8080/"
        },
        "id": "xbsKMIST3fgS",
        "outputId": "7ca43626-b8b0-4c09-c72d-cce332c17aa0"
      },
      "source": [
        "print(correct1.iloc[370:420].values)"
      ],
      "execution_count": 65,
      "outputs": [
        {
          "output_type": "stream",
          "name": "stdout",
          "text": [
            "[['osobistego wkładu papieża oraz szacunkiem mówił ']\n",
            " ['katolicy polsce wspólnie budują socjalizm ']\n",
            " ['konsekwencją wizyty min olszowskiego watykanie ']\n",
            " ['będą dalsze rozmowy między polską watykanem ']\n",
            " ['zaproszenie przyjazd casaroli polski ']\n",
            " ['które rokują nadzieje osiągnięcie porozumień ']\n",
            " ['bazie poszanowania konstytucji przepisów przez ']\n",
            " ['kościół wolności religijnej przez państwo ']\n",
            " ['prasa włoska światowa wytworzyła odpowiedni klimat ']\n",
            " ['rozmów którego nie mogły zakłócić ']\n",
            " ['nawet koła rewizjonistów konserwatystów zarzucały one ']\n",
            " ['papieżowi czyni zbyt wiele gestów pod adresem komu ']\n",
            " ['rozbestwia ich psuje posoborową atmosferę ']\n",
            " ['kościele potęguje kryzys atmosfera wytrąciła ']\n",
            " ['argumenty kościele cierpiącym milczącym ']\n",
            " ['zachodzie przez niektórych hierarchów polskich ']\n",
            " ['zdaniem red czajkowskiego polsce ']\n",
            " ['normalizacji stosunków widzi papież ']\n",
            " ['watykan polska dotychczas była wyspą kościele którą ']\n",
            " ['omijały negatywne zjawiska kontestacji obojętności religijnej ']\n",
            " ['papież dąży podpisania władzami polskimi porozumień ']\n",
            " ['gdyż jest przekonany prądy dotrą również polski ']\n",
            " ['drive/MyDrive/kuba/zdjecia/fig115.jpg']\n",
            " ['ipn ']\n",
            " ['chce ochronić kościół przed wstrząsami jakie mają miejsce ']\n",
            " ['innych krajach ']\n",
            " ['dyskusji zabrało głos osób tym księży ']\n",
            " ['się ewentualnym przyjazdem papieża polski ']\n",
            " ['episkopatu polskiego rozmów norma ']\n",
            " ['stosunków rolą biskupa dąbrowskiego ']\n",
            " ['watykanie pobytu ministra problemem administracji ']\n",
            " ['wschodnich ano ']\n",
            " ['kościelnej diecezjach wschodnich stanowiskiem działaczy ']\n",
            " ['stowarzyszeń katolickich wobec normalizacji stosunków ']\n",
            " ['jeden księży krakowskich poruszył sprawę trudności koś ']\n",
            " ['polsce twierdząc kościół jest szykanowany przez ']\n",
            " ['władze terenowe ']\n",
            " ['odpowiedzi udzielił red czajkowski podkreślił ']\n",
            " ['nie reprezentuje ani państwa ani całości katolików ']\n",
            " ['polsce sprawie porozumień może mieć ']\n",
            " ['tylko głos doradczy polska nie może występować watykanu ']\n",
            " ['rozwiązanie problemu administracji kościelnej diecezjach ']\n",
            " ['wschodnich jeśli tego nie czyni związek radziecki ']\n",
            " ['działalność kard który podburza nacjonalistów ']\n",
            " ['ukraińskich stanowi prowokację wobec watykanu związku ']\n",
            " ['radzieckiego red czajkowski stwierdził sytuacja pax ']\n",
            " ['tykanie uległa znacznej poprawie ']\n",
            " ['części oficjalnej odbyło się sute przyjęcie dla ']\n",
            " ['spotkania ']\n",
            " ['wydz dep msw dnia ']]\n"
          ]
        }
      ]
    },
    {
      "cell_type": "code",
      "metadata": {
        "colab": {
          "base_uri": "https://localhost:8080/"
        },
        "id": "J-1r_jVe3Ran",
        "outputId": "a64fb3ff-d6bf-493a-e4de-23543ec691b8"
      },
      "source": [
        "df_clean.values[300:350]"
      ],
      "execution_count": 66,
      "outputs": [
        {
          "output_type": "execute_result",
          "data": {
            "text/plain": [
              "array([['ziemia likwidacja ambasada rząd londyński'],\n",
              "       ['watykanie odmówienie akredytacja rozmowa'],\n",
              "       ['podjąć polski nominacja karda kominek spotkanie'],\n",
              "       ['helsinkach'],\n",
              "       ['uzgodnić wspólny działanie polski'],\n",
              "       ['rzecz pokój wyrazić chęć'],\n",
              "       ['stosunki reda czajkowski uważać'],\n",
              "       ['przełom polski znaleźć orbi'],\n",
              "       ['wpływ polityka watykański'],\n",
              "       ['drive / mydrive / kuba / zdjecia / fig114.jpg'],\n",
              "       ['wizyta mina olszowskiego watykanie przebiegać'],\n",
              "       ['atmosfera szukania punkt zbliżenie unikania sprawa'],\n",
              "       ['móc doprowadzić zadrażnienie stosunki'],\n",
              "       ['polski watykanem papież wyrazić szacunek kraj'],\n",
              "       ['socjalistyczny polityka używać słowo partia'],\n",
              "       ['polski rzeczpospolita ludowy mina olszowski wyrazić'],\n",
              "       ['uznanie polityka pojednanie pokój watykanu'],\n",
              "       ['osobisty wkład papież szacunek mówić'],\n",
              "       ['katolik polsce wspólnie budować socjalizm'],\n",
              "       ['konsekwencja wizyta mina olszowskiego watykanie'],\n",
              "       ['daleki rozmowa polski watykanem'],\n",
              "       ['zaproszenie przyjazd casaroli polski'],\n",
              "       ['rokować nadzieja osiągnięcie porozumienie'],\n",
              "       ['bazia poszanowanie konstytucja przepis'],\n",
              "       ['kościół wolność religijny państwo'],\n",
              "       ['prasa włoski światowy wytworzyć odpowiedny klimat'],\n",
              "       ['rozmowy móc zakłócić'],\n",
              "       ['kół rewizjonista konserwatysta zarzucać'],\n",
              "       ['papież czynić zbyt gest adres kto'],\n",
              "       ['rozbestwia psuć posoborowy atmosfera'],\n",
              "       ['kościół potęgować kryzys atmosfera wytrącić'],\n",
              "       ['argument kościół cierpieć milczeć'],\n",
              "       ['zachód który hierarcha polski'],\n",
              "       ['zdanie reda czajkowski polsce'],\n",
              "       ['normalizacja stosunki widzieć papież'],\n",
              "       ['watykan polski dotychczas wyspa kościół który'],\n",
              "       ['omijać negatywny zjawisko kontestacja obojętność religijny'],\n",
              "       ['papież dążyć podpisania władza polski porozumienie'],\n",
              "       ['przekonany prąd dotrzeć polski'],\n",
              "       ['drive / mydrive / kuba / zdjecia / fig115.jpg'],\n",
              "       ['ochronić kościół wstrząs miejsce'],\n",
              "       ['kraj'],\n",
              "       ['dyskusja zabrać głos osoba księża'],\n",
              "       ['ewentualny przyjazd papież polski'],\n",
              "       ['episkopat polski rozmowy norma'],\n",
              "       ['stosunki rola biskup dąbrowskiego'],\n",
              "       ['watykanie pobyt minister problem administracja'],\n",
              "       ['wschodni ano'],\n",
              "       ['kościelny diecezja wschodni stanowisko działacz'],\n",
              "       ['stowarzyszenie katolicki wobec normalizacja stosunki']],\n",
              "      dtype=object)"
            ]
          },
          "metadata": {},
          "execution_count": 66
        }
      ]
    },
    {
      "cell_type": "code",
      "metadata": {
        "id": "VVhBV8v-y0iZ"
      },
      "source": [
        "def surnames(text):\n",
        "  if 'ski' in text:\n",
        "    print(text)"
      ],
      "execution_count": 84,
      "outputs": []
    },
    {
      "cell_type": "code",
      "metadata": {
        "id": "zCGUFxfuZ9QJ"
      },
      "source": [
        "sent = [row.split() for row in df_clean['clean']]"
      ],
      "execution_count": 67,
      "outputs": []
    },
    {
      "cell_type": "code",
      "metadata": {
        "id": "Q0vJUgGrZ_cP"
      },
      "source": [
        "phrases = Phrases(sent, min_count=5, progress_per=100)"
      ],
      "execution_count": 68,
      "outputs": []
    },
    {
      "cell_type": "code",
      "metadata": {
        "id": "FrW4qvgIaSin"
      },
      "source": [
        "bigram = Phraser(phrases)"
      ],
      "execution_count": 69,
      "outputs": []
    },
    {
      "cell_type": "code",
      "metadata": {
        "id": "F5QKToePaaku"
      },
      "source": [
        "sentences = bigram[sent]"
      ],
      "execution_count": 70,
      "outputs": []
    },
    {
      "cell_type": "code",
      "metadata": {
        "colab": {
          "base_uri": "https://localhost:8080/"
        },
        "id": "E-qp1ubXacpO",
        "outputId": "1a600d1f-5fba-48a6-8efc-58e42c6ff26e"
      },
      "source": [
        "word_freq = defaultdict(int)\n",
        "for sent in sentences:\n",
        "    for i in sent:\n",
        "        word_freq[i] += 1\n",
        "len(word_freq)"
      ],
      "execution_count": 71,
      "outputs": [
        {
          "output_type": "execute_result",
          "data": {
            "text/plain": [
              "6774"
            ]
          },
          "metadata": {},
          "execution_count": 71
        }
      ]
    },
    {
      "cell_type": "code",
      "metadata": {
        "id": "COG6Ef8kQsXl",
        "outputId": "8571684f-fa89-470a-b898-e779ccf2c72c",
        "colab": {
          "base_uri": "https://localhost:8080/"
        }
      },
      "source": [
        "surnames_freq = defaultdict(int)\n",
        "for sent in surnames:\n",
        "        surnames_freq[sent] += 1\n",
        "len(surnames_freq)"
      ],
      "execution_count": 177,
      "outputs": [
        {
          "output_type": "execute_result",
          "data": {
            "text/plain": [
              "58"
            ]
          },
          "metadata": {},
          "execution_count": 177
        }
      ]
    },
    {
      "cell_type": "code",
      "metadata": {
        "id": "YWg7s52NRBr2",
        "outputId": "617c24c3-d4c1-45e7-b249-9b60cb446f63",
        "colab": {
          "base_uri": "https://localhost:8080/"
        }
      },
      "source": [
        "sorted(surnames_freq, key=word_freq.get, reverse=True)"
      ],
      "execution_count": 179,
      "outputs": [
        {
          "output_type": "execute_result",
          "data": {
            "text/plain": [
              "['polski',\n",
              " 'duszpasterski',\n",
              " 'piasecki',\n",
              " 'czajkowski',\n",
              " 'wyszyński',\n",
              " 'wyszyńskiego',\n",
              " 'poselski',\n",
              " 'marksistowski',\n",
              " 'marksowski',\n",
              " 'rekowski',\n",
              " 'białeckiego',\n",
              " 'uzyskiwania',\n",
              " 'uzyskiwanie',\n",
              " 'żydowski',\n",
              " 'piaseckiego',\n",
              " 'skierowanie',\n",
              " 'wrocławski',\n",
              " 'antyradziecki',\n",
              " 'prometejski',\n",
              " 'frankowski',\n",
              " 'szczepanowski',\n",
              " 'jaroszewskiego',\n",
              " 'czajkowskiego',\n",
              " 'olszowski',\n",
              " 'dąbrowskiego',\n",
              " 'starowiejski',\n",
              " 'zagórski',\n",
              " 'kudliński',\n",
              " 'drozdowski',\n",
              " 'ziembiński',\n",
              " 'dybowski',\n",
              " 'gąsowski',\n",
              " 'pozyskiwania',\n",
              " 'puławski',\n",
              " 'zabłockiego',\n",
              " 'troski',\n",
              " 'ski',\n",
              " 'brodowskiego',\n",
              " 'piaseckim',\n",
              " 'gołębiewski',\n",
              " 'balicki',\n",
              " 'różycki',\n",
              " 'markowskim',\n",
              " 'markowski',\n",
              " 'markowskiego',\n",
              " 'lipiński',\n",
              " 'morawskiego',\n",
              " 'sułkowski',\n",
              " 'prusiński',\n",
              " 'jabłoński',\n",
              " 'moczyński',\n",
              " 'skizy',\n",
              " 'brodowski',\n",
              " 'dębski',\n",
              " 'janicki',\n",
              " 'jankowski',\n",
              " 'wójcicki',\n",
              " 'rostworowski']"
            ]
          },
          "metadata": {},
          "execution_count": 179
        }
      ]
    },
    {
      "cell_type": "code",
      "metadata": {
        "colab": {
          "base_uri": "https://localhost:8080/"
        },
        "id": "LzZmJs5taqjX",
        "outputId": "5e4e3372-471c-42fb-cbd4-70bcb663f03c"
      },
      "source": [
        "sorted(word_freq, key=word_freq.get, reverse=True)"
      ],
      "execution_count": 185,
      "outputs": [
        {
          "output_type": "execute_result",
          "data": {
            "text/plain": [
              "['drive_/',\n",
              " 'mydrive_/',\n",
              " 'kuba_/',\n",
              " 'zdjecia_/',\n",
              " 'praca',\n",
              " 'pax',\n",
              " 'człowiek',\n",
              " 'działalność',\n",
              " 'stowarzyszenie',\n",
              " 'sprawa',\n",
              " 'rozwój',\n",
              " 'kraj',\n",
              " 'swój',\n",
              " 'należeć',\n",
              " 'kościół',\n",
              " 'polityczny',\n",
              " 'społeczny',\n",
              " 'społeczeństwo',\n",
              " 'dzień',\n",
              " 'partia',\n",
              " 'nowy',\n",
              " 'rola',\n",
              " 'polski',\n",
              " 'problem',\n",
              " 'rzecz',\n",
              " 'życie',\n",
              " 'państwo',\n",
              " 'wartość',\n",
              " 'sytuacja',\n",
              " 'referat',\n",
              " 'osoba',\n",
              " 'polsce',\n",
              " 'dyskusja',\n",
              " 'rok',\n",
              " 'zadanie',\n",
              " 'członek',\n",
              " 'poprzez',\n",
              " 'stosunek',\n",
              " 'katolicki',\n",
              " 'gospodarczy',\n",
              " 'potrzeba',\n",
              " 'władza',\n",
              " 'świat',\n",
              " 'okres',\n",
              " 'naród',\n",
              " 'cena',\n",
              " 'zostać',\n",
              " 'rucho',\n",
              " 'katolik',\n",
              " 'stowarzyszenie_pax',\n",
              " 'który',\n",
              " 'socjalizm',\n",
              " 'istnieć',\n",
              " 'teza',\n",
              " 'cel',\n",
              " 'socjalistyczny',\n",
              " 'kultura',\n",
              " 'bóg',\n",
              " 'wielki',\n",
              " 'pozycja',\n",
              " 'wzrost',\n",
              " 'światopoglądowy',\n",
              " 'grupa',\n",
              " 'polityka',\n",
              " 'prowadzić',\n",
              " 'mówić',\n",
              " 'postawa',\n",
              " 'nasz',\n",
              " 'proces',\n",
              " 'organizacja',\n",
              " 'księża',\n",
              " 'uwaga',\n",
              " 'dot',\n",
              " 'wobec',\n",
              " 'część',\n",
              " 'działanie',\n",
              " 'związek',\n",
              " 'narodowy',\n",
              " 'zmiana',\n",
              " 'aktywność',\n",
              " 'produkcja',\n",
              " 'zakres',\n",
              " 'stanowić',\n",
              " 'czas',\n",
              " 'zarząd',\n",
              " 'podstawowy',\n",
              " 'stać',\n",
              " 'brak',\n",
              " 'konieczność',\n",
              " 'warszawa',\n",
              " 'trudność',\n",
              " 'kontakt',\n",
              " 'mieć',\n",
              " 'środowisko',\n",
              " 'spotkanie',\n",
              " 'udział',\n",
              " 'działacz',\n",
              " 'własny',\n",
              " 'odcinek',\n",
              " 'czynnik',\n",
              " 'zebranie',\n",
              " 'zagadnienie',\n",
              " 'forma',\n",
              " 'historia',\n",
              " 'wynikać',\n",
              " 'zaangażowanie',\n",
              " 'pewny',\n",
              " 'co',\n",
              " 'daleki',\n",
              " 'miejsce',\n",
              " 'wystąpienie',\n",
              " 'różny',\n",
              " 'prasa',\n",
              " 'znaczenie',\n",
              " 'uważać',\n",
              " 'słowo',\n",
              " 'stanowisko',\n",
              " 'występować',\n",
              " 'wynik',\n",
              " 'temat',\n",
              " 'ocena',\n",
              " 'możliwość',\n",
              " 'obecny',\n",
              " 'odbyć',\n",
              " 'podkreślić',\n",
              " 'duży',\n",
              " 'siła',\n",
              " 'wojewódzki',\n",
              " 'taki',\n",
              " 'zespół',\n",
              " 'informacja',\n",
              " 'dziedzina',\n",
              " 'teren',\n",
              " 'wygłosić',\n",
              " 'zakład',\n",
              " 'posiadać',\n",
              " 'opinia',\n",
              " 'przedstawiciel',\n",
              " 'sam',\n",
              " 'ludzki',\n",
              " 'realizacja',\n",
              " 'stan',\n",
              " 'oddział',\n",
              " 'strona',\n",
              " 'inny',\n",
              " 'fakt',\n",
              " 'kierownictwo',\n",
              " 'wysoki',\n",
              " 'osiągnięcie',\n",
              " 'stwierdzić',\n",
              " 'chodzić',\n",
              " 'cały',\n",
              " 'ostatni',\n",
              " 'rzeczywistość',\n",
              " 'materiał',\n",
              " 'artykuł',\n",
              " 'móc',\n",
              " 'aktualny',\n",
              " 'decyzja',\n",
              " 'nastąpić',\n",
              " 'narada',\n",
              " 'ważny',\n",
              " 'punkt_widzenie',\n",
              " 'stosunki',\n",
              " 'żyto',\n",
              " 'realizować',\n",
              " 'program',\n",
              " 'podkreślać',\n",
              " 'następujący',\n",
              " 'szeroki',\n",
              " 'dotyczyć',\n",
              " 'budżet',\n",
              " 'zagraniczny',\n",
              " 'paka',\n",
              " 'rząd',\n",
              " 'zdanie',\n",
              " 'episkopat',\n",
              " 'dobry',\n",
              " 'propozycja',\n",
              " 'zasada',\n",
              " 'rada',\n",
              " 'duchowieństwo',\n",
              " 'myśl',\n",
              " 'organizacyjny',\n",
              " 'pomoc',\n",
              " 'określić',\n",
              " 'szereg',\n",
              " 'sekretariat',\n",
              " 'religijny',\n",
              " 'stąd',\n",
              " 'tworzyć',\n",
              " 'właściwy',\n",
              " 'trzy',\n",
              " 'przedsiębiorstwo',\n",
              " 'chrześcijański',\n",
              " 'pracować',\n",
              " 'pracownik',\n",
              " 'wewnętrzny',\n",
              " 'zorganizować',\n",
              " 'inicjatywa',\n",
              " 'ziemia',\n",
              " 'ośrodek',\n",
              " 'dać',\n",
              " 'przewodniczący',\n",
              " 'aktualnie',\n",
              " 'koncepcja',\n",
              " 'dawać',\n",
              " 'moralny',\n",
              " 'sympozjum',\n",
              " 'przemysł',\n",
              " 'dokonać',\n",
              " 'stworzyć',\n",
              " 'wydawnictwo',\n",
              " 'świadomość',\n",
              " 'prl',\n",
              " 'punkt',\n",
              " 'radziecki',\n",
              " 'musić',\n",
              " 'sens',\n",
              " 'zwłaszcza',\n",
              " 'model',\n",
              " 'tendencja',\n",
              " 'pozytywny',\n",
              " 'środki',\n",
              " 'wierzący',\n",
              " 'zasadniczy',\n",
              " 'wyznaniowy',\n",
              " 'miłość',\n",
              " 'światopogląd',\n",
              " 'nauka',\n",
              " 'wpływ',\n",
              " 'powiedzieć',\n",
              " 'wyrazić',\n",
              " 'dialog',\n",
              " 'wydział',\n",
              " 'jaki',\n",
              " 'wydawać',\n",
              " 'zarówno',\n",
              " 'każdy',\n",
              " 'wymagać',\n",
              " 'ekonomiczny',\n",
              " 'nakład',\n",
              " 'posiedzenie',\n",
              " 'obowiązek',\n",
              " 'statutowy',\n",
              " 'płaca',\n",
              " 'działać',\n",
              " 'ki',\n",
              " 'uczestniczyć',\n",
              " 'dokonywać',\n",
              " 'propaganda',\n",
              " 'ów',\n",
              " 'wytyczna',\n",
              " 'min',\n",
              " 'świecki',\n",
              " 'zachód',\n",
              " 'uznanie',\n",
              " 'ul',\n",
              " 'aaa',\n",
              " 'więź',\n",
              " 'sfera',\n",
              " 'znać',\n",
              " 'wyrażać',\n",
              " 'lud',\n",
              " 'pełny',\n",
              " 'założenie',\n",
              " 'tworzenie',\n",
              " 'szczególnie',\n",
              " 'grzech',\n",
              " 'terenowy',\n",
              " 'wizyta',\n",
              " 'mina',\n",
              " 'zły',\n",
              " 'uchwała',\n",
              " 'rodzaj',\n",
              " 'jeden',\n",
              " 'cela',\n",
              " 'państwowy',\n",
              " 'traktować',\n",
              " 'szczególny',\n",
              " 'poszczególny',\n",
              " 'dobro',\n",
              " 'warunki',\n",
              " 'wybór',\n",
              " 'wysiłek',\n",
              " 'trudny',\n",
              " 'tytuł',\n",
              " 'data',\n",
              " 'akcja',\n",
              " 'biskup',\n",
              " 'kierunek',\n",
              " 'obecnie',\n",
              " 'wynosić',\n",
              " 'ludowy',\n",
              " 'rozmowy',\n",
              " 'winien',\n",
              " 'ramy',\n",
              " 'znak',\n",
              " 'klub',\n",
              " 'tło',\n",
              " 'egz',\n",
              " 'trud',\n",
              " 'tyczny',\n",
              " 'patriotyczny',\n",
              " 'centrala',\n",
              " 'wierzyć',\n",
              " 'droga',\n",
              " 'sojusz',\n",
              " 'konieczny',\n",
              " 'wyraz',\n",
              " 'ponadto',\n",
              " 'podział',\n",
              " 'warunek',\n",
              " 'chwila',\n",
              " 'produkcyjny',\n",
              " 'znajdywać',\n",
              " 'chrześcijanin',\n",
              " 'pierwszy',\n",
              " 'tow',\n",
              " 'jednostka',\n",
              " 'komisja',\n",
              " 'analiza',\n",
              " 'pro',\n",
              " 'linia',\n",
              " 'głos',\n",
              " 'libella',\n",
              " 'postulat',\n",
              " 'cecha',\n",
              " 'drugi',\n",
              " 'przekonanie',\n",
              " 'oczywiście',\n",
              " 'element',\n",
              " 'przeć',\n",
              " 'dokument',\n",
              " 'istnienie',\n",
              " 'hasło',\n",
              " 'prawda',\n",
              " 'patriotyzm',\n",
              " 'spowodować',\n",
              " 'perspektywa',\n",
              " 'miara',\n",
              " 'poinformować',\n",
              " 'kierownictwo_pax',\n",
              " 'stworzenie',\n",
              " 'ilość',\n",
              " 'materialny',\n",
              " 'baza',\n",
              " 'wzgląd',\n",
              " 'duszpasterski',\n",
              " 'struktura',\n",
              " 'zjazd',\n",
              " 'wydać',\n",
              " 'powodować',\n",
              " 'oddział_pax',\n",
              " 'oparcie',\n",
              " 'plan',\n",
              " 'główny',\n",
              " 'budować',\n",
              " 'bazia',\n",
              " 'zjawisko',\n",
              " 'wolny',\n",
              " 'polak',\n",
              " 'przyjąć',\n",
              " 'oceniać',\n",
              " 'być',\n",
              " 'obywatel',\n",
              " 'słuszny',\n",
              " 'typ',\n",
              " 'wówczas',\n",
              " 'mln',\n",
              " 'wyrób',\n",
              " 'teoria',\n",
              " 'wszelki',\n",
              " 'poważny',\n",
              " 'autorytet',\n",
              " 'postęp',\n",
              " 'wraz',\n",
              " 'konferencja',\n",
              " 'mały',\n",
              " 'podwyżka',\n",
              " 'ręka',\n",
              " 'współczesny',\n",
              " 'rodzina',\n",
              " 'twój',\n",
              " 'stawać',\n",
              " 'projekt',\n",
              " 'utrzymanie',\n",
              " 'kierownik',\n",
              " 'itp',\n",
              " 'maj',\n",
              " 'zie',\n",
              " 'wydawniczy',\n",
              " 'współpraca',\n",
              " 'kościelny',\n",
              " 'pokój',\n",
              " 'osobisty',\n",
              " 'wolność',\n",
              " 'twierdzić',\n",
              " 'całość',\n",
              " 'mieść',\n",
              " 'pow',\n",
              " 'boży',\n",
              " 'wiedzieć',\n",
              " 'oko',\n",
              " 'wypowiedź',\n",
              " 'publiczny',\n",
              " 'ciąg',\n",
              " 'poczucie',\n",
              " 'problematyka',\n",
              " 'funkcja',\n",
              " 'pogląd',\n",
              " 'chrześcijaństwo',\n",
              " 'ideologia',\n",
              " 'zakładać',\n",
              " 'kler',\n",
              " 'wniosek',\n",
              " 'indywidualny',\n",
              " 'błąd',\n",
              " 'wyznanie',\n",
              " 'ziemski',\n",
              " 'rfn',\n",
              " 'stary',\n",
              " 'msw',\n",
              " 'pismo',\n",
              " 'służyć',\n",
              " 'przykład',\n",
              " 'rozwijać',\n",
              " 'obrady',\n",
              " 'przyjęcie',\n",
              " 'woj',\n",
              " 'oba',\n",
              " 'oddział_wojewódzki',\n",
              " 'poziom',\n",
              " 'biuro',\n",
              " 'działo',\n",
              " 'radny',\n",
              " 'pani',\n",
              " 'aktyw',\n",
              " 'charakter',\n",
              " 'administracja',\n",
              " 'rozmowa',\n",
              " 'karda',\n",
              " 'widzieć',\n",
              " 'natura',\n",
              " 'historyczny',\n",
              " 'ogólny',\n",
              " 'duch',\n",
              " 'przedmiot',\n",
              " 'znany',\n",
              " 'doceniać',\n",
              " 'gospodarka',\n",
              " 'kulturalny',\n",
              " 'instytucja',\n",
              " 'umysłowy',\n",
              " 'przemysłowy',\n",
              " 'religia',\n",
              " 'płaszczyzna',\n",
              " 'iść',\n",
              " 'podobnie',\n",
              " 'kierowniczy',\n",
              " 'przebieg',\n",
              " 'as',\n",
              " 'trwały',\n",
              " 'budowa',\n",
              " 'stwierdzać',\n",
              " 'podstawa',\n",
              " 'wymiar',\n",
              " 'sukces',\n",
              " 'cza',\n",
              " 'piasecki',\n",
              " 'następnie',\n",
              " 'maa',\n",
              " 'szkoła',\n",
              " 'ideowopolityczny',\n",
              " 'kandydat',\n",
              " 'naczelnik',\n",
              " 'kadry',\n",
              " 'ostatnio',\n",
              " 'www',\n",
              " 'plenum',\n",
              " 'koło',\n",
              " 'reprezentować',\n",
              " 'sto',\n",
              " 'tyn',\n",
              " 'kluba',\n",
              " 'podać',\n",
              " 'uzasadnienie',\n",
              " 'stopień',\n",
              " 'kadra',\n",
              " 'tzn',\n",
              " 'miasto',\n",
              " 'aspekt',\n",
              " 'zachowanie',\n",
              " 'marksista',\n",
              " 'liczyć',\n",
              " 'import',\n",
              " 'iii',\n",
              " 'napięcie',\n",
              " 'wykonywać',\n",
              " 'starać',\n",
              " 'uczestnik',\n",
              " 'stronnictwo',\n",
              " 'posiedzenie_zarząd',\n",
              " 'zjednoczenie_przemysł',\n",
              " 'nakaz',\n",
              " 'wymóg',\n",
              " 'systema',\n",
              " 'należeć_podkreślić',\n",
              " 'powszechny',\n",
              " 'zwracać',\n",
              " 'powyższy',\n",
              " 'zebrać',\n",
              " 'racja',\n",
              " 'jedyny',\n",
              " 'kwestia',\n",
              " 'inspiracja',\n",
              " 'bliski',\n",
              " 'socjalny',\n",
              " 'rolnictwo',\n",
              " 'przyczynić',\n",
              " 'krajowy',\n",
              " 'prosić',\n",
              " 'dawny',\n",
              " 'poprzedni',\n",
              " 'przyroda',\n",
              " 'egzystencja',\n",
              " 'praca_fizyczny',\n",
              " 'konsultacja',\n",
              " 'nadwyżka',\n",
              " 'wskazywać',\n",
              " 'podjąć',\n",
              " 'dep',\n",
              " 'wysoko',\n",
              " 'przedstawić',\n",
              " 'grudzień',\n",
              " 'kontrola',\n",
              " 'szenia',\n",
              " 'era',\n",
              " 'jerzy',\n",
              " 'walka',\n",
              " 'wziąć_udział',\n",
              " 'zajmować',\n",
              " 'przewodniczący_oddział',\n",
              " 'światowy',\n",
              " 'wspólny',\n",
              " 'watykański',\n",
              " 'atmosfera',\n",
              " 'doprowadzić',\n",
              " 'papież',\n",
              " 'porozumienie',\n",
              " 'dotychczas',\n",
              " 'dążyć',\n",
              " 'diecezja',\n",
              " 'rozwiązanie',\n",
              " 'udać',\n",
              " 'inteligencja_katolicki',\n",
              " 'poznanie',\n",
              " 'pała',\n",
              " 'dwa',\n",
              " 'logo',\n",
              " 'opracować',\n",
              " 'treść',\n",
              " 'stwierdzenie',\n",
              " 'instytut_wydawniczy',\n",
              " 'połączyć',\n",
              " 'jednocześnie',\n",
              " 'bądź',\n",
              " 'zbędny',\n",
              " 'chcieć',\n",
              " 'czyn',\n",
              " 'prze',\n",
              " 'niezależnie',\n",
              " 'województwo',\n",
              " 'urząd',\n",
              " 'przewidywać',\n",
              " 'pojęcie',\n",
              " 'realny',\n",
              " 'interpretacja',\n",
              " 'widzenie',\n",
              " 'pytanie',\n",
              " 'kierować',\n",
              " 'proponować',\n",
              " 'departament',\n",
              " 'handlowy',\n",
              " 'tempo',\n",
              " 'poświęcić',\n",
              " 'środek',\n",
              " 'postępowy',\n",
              " 'praktyczny',\n",
              " 'zatrudnienie',\n",
              " 'prawo',\n",
              " 'świadczyć',\n",
              " 'pzpr',\n",
              " 'międzynarodowy',\n",
              " 'europ',\n",
              " 'korzyść',\n",
              " 'młodzież',\n",
              " 'złoty',\n",
              " 'suma',\n",
              " 'zsrr',\n",
              " 'kwota',\n",
              " 'żaden',\n",
              " 'silny',\n",
              " 'finansowy',\n",
              " 'informować',\n",
              " 'potrzebny',\n",
              " 'formacja',\n",
              " 'sobór',\n",
              " 'synod',\n",
              " 'pomiędzy',\n",
              " 'koleja',\n",
              " 'nastrój',\n",
              " 'uznać',\n",
              " 'winna',\n",
              " 'wiara',\n",
              " 'potrzeba_społeczny',\n",
              " 'dzieło',\n",
              " 'przemiana',\n",
              " 'przyszły',\n",
              " 'fax',\n",
              " 'kształtować',\n",
              " 'wieko',\n",
              " 'zawierać',\n",
              " 'złożyć',\n",
              " 'epoka',\n",
              " 'filozofia',\n",
              " 'wychowanie',\n",
              " 'sejm',\n",
              " 'kik',\n",
              " 'strata',\n",
              " 'koszt',\n",
              " 'całokształt',\n",
              " 'miesięcznik',\n",
              " 'kato',\n",
              " 'powstawać',\n",
              " 'wykorzystać',\n",
              " 'objąć',\n",
              " 'cze',\n",
              " 'warszawa_dzień',\n",
              " 'odpowiedni',\n",
              " 'tygodnik',\n",
              " 'katowicach',\n",
              " 'watykanie',\n",
              " 'omówić',\n",
              " 'odpowiedź',\n",
              " 'polska',\n",
              " 'znaczny',\n",
              " 'pat',\n",
              " 'ten',\n",
              " 'zza',\n",
              " 'war',\n",
              " 'mocno',\n",
              " 'ala',\n",
              " 'budzić',\n",
              " 'dyrektor',\n",
              " 'prezydium',\n",
              " 'szkolenie',\n",
              " 'stawiać',\n",
              " 'odpowiedzialność',\n",
              " 'intelektualny',\n",
              " 'powiatowy',\n",
              " 'wchodzić',\n",
              " 'sekretarz',\n",
              " 'dodatkowy',\n",
              " 'przejaw',\n",
              " 'polegać',\n",
              " 'przeciwko',\n",
              " 'obraza',\n",
              " 'krytyka',\n",
              " 'czynność',\n",
              " 'zgodnie',\n",
              " 'otrzymać',\n",
              " 'handel',\n",
              " 'obrót',\n",
              " 'praktyka',\n",
              " 'granica',\n",
              " 'liczba',\n",
              " 'wieść',\n",
              " 'przedstawiać',\n",
              " 'konflikt',\n",
              " 'różnica',\n",
              " 'wypadek',\n",
              " 'prowadzenie',\n",
              " 'większość',\n",
              " 'dochód',\n",
              " 'techniczny',\n",
              " 'użytek',\n",
              " 'inwestycja',\n",
              " 'lista',\n",
              " 'określony',\n",
              " 'korzystny',\n",
              " 'ogromny',\n",
              " 'mgr',\n",
              " 'operacyjny',\n",
              " 'skutek',\n",
              " 'wrzesień',\n",
              " 'hierarchia',\n",
              " 'troska',\n",
              " 'cywilizacja',\n",
              " 'szeroko',\n",
              " 'panowanie',\n",
              " 'materia',\n",
              " 'bardzo',\n",
              " 'żyć',\n",
              " 'budownictwo',\n",
              " 'marksa',\n",
              " 'głównie',\n",
              " 'cywilizacja_praca',\n",
              " 'zwrócić_uwaga',\n",
              " 'potrafić',\n",
              " 'ipn',\n",
              " 'osobowy',\n",
              " 'zainteresowanie',\n",
              " 'powstać',\n",
              " 'inteligencja',\n",
              " 'akceptować',\n",
              " 'wyłącznie',\n",
              " 'młody',\n",
              " 'wydz',\n",
              " 'naczelnik_wydział',\n",
              " 'studium',\n",
              " 'członek_zarząd',\n",
              " 'osobowość',\n",
              " 'naukowy',\n",
              " 'pozostawać',\n",
              " 'zarząd_główny',\n",
              " 'przeciw',\n",
              " 'ars_christiana',\n",
              " 'pol',\n",
              " 'członek_sekretariat',\n",
              " 'watykanu',\n",
              " 'paweł',\n",
              " 'reda',\n",
              " 'znaleźć',\n",
              " 'wkład',\n",
              " 'konstytucja',\n",
              " 'czynić',\n",
              " 'zbyt',\n",
              " 'kto',\n",
              " 'kryzys',\n",
              " 'zabrać_głos',\n",
              " 'woda',\n",
              " 'pole',\n",
              " 'para',\n",
              " 'leżeć',\n",
              " 'jeść',\n",
              " 'lala',\n",
              " 'wow',\n",
              " 'marzec',\n",
              " 'pre',\n",
              " 'tez',\n",
              " 'tuta',\n",
              " 'waga',\n",
              " 'zadać',\n",
              " 'zmierzać',\n",
              " 'otóż',\n",
              " 'wyraźnie',\n",
              " 'zależeć',\n",
              " 'twórczy',\n",
              " 'zgodny',\n",
              " 'powinny',\n",
              " 'rozwojowy',\n",
              " 'nabierać',\n",
              " 'zdawać',\n",
              " 'kierownictwo_polityczny',\n",
              " 'interes',\n",
              " 'skład',\n",
              " 'prezes',\n",
              " 'komórka',\n",
              " 'rynek',\n",
              " 'integracja',\n",
              " 'mało',\n",
              " 'uzasadnić',\n",
              " 'intencja',\n",
              " 'pozytywnie',\n",
              " 'krytyk',\n",
              " 'jedność',\n",
              " 'oddziaływanie',\n",
              " 'wartość_produkcja',\n",
              " 'związanych',\n",
              " 'kształtowanie',\n",
              " 'ilościowy',\n",
              " 'moralność',\n",
              " 'nikt',\n",
              " 'spożycie',\n",
              " 'ostatni_okres',\n",
              " 'konkretny',\n",
              " 'rozumieć',\n",
              " 'przekraczać',\n",
              " 'posiadanie',\n",
              " 'ogół',\n",
              " 'system',\n",
              " 'oczekiwać',\n",
              " 'krytyczny',\n",
              " 'stwarzać',\n",
              " 'powołanie',\n",
              " 'tyle',\n",
              " 'parafia',\n",
              " 'robotnik',\n",
              " 'spełniać',\n",
              " 'uznawać',\n",
              " 'ostatni_rok',\n",
              " 'tematyka',\n",
              " 'baza_gospodarczy',\n",
              " 'nrd',\n",
              " 'dotacja',\n",
              " 'niewierzący',\n",
              " 'administracyjny',\n",
              " 'miniony',\n",
              " 'czerwiec',\n",
              " 'pozostały',\n",
              " 'fundusz',\n",
              " 'paź',\n",
              " 'głosić',\n",
              " 'tożsamość',\n",
              " 'społecznie',\n",
              " 'następować',\n",
              " 'zabieg',\n",
              " 'ars',\n",
              " 'relacja',\n",
              " 'wypowiadać',\n",
              " 'dziecko',\n",
              " 'powód',\n",
              " 'spokój_społeczny',\n",
              " 'spór',\n",
              " 'teologiczny',\n",
              " 'przykazanie',\n",
              " 'ujmować',\n",
              " 'chleb',\n",
              " 'dany',\n",
              " 'zbawienie',\n",
              " 'królestwo',\n",
              " 'tydzień',\n",
              " 'nauczanie',\n",
              " 'byt',\n",
              " 'marks',\n",
              " 'efekt',\n",
              " 'przypadek',\n",
              " 'prymas',\n",
              " 'zakończenie',\n",
              " 'gierka',\n",
              " 'pies',\n",
              " 'mata',\n",
              " 'tzu',\n",
              " 'oda',\n",
              " 'nazwa',\n",
              " 'dokument_dokument',\n",
              " 'instytut',\n",
              " 'fundusz_płaca',\n",
              " 'wania',\n",
              " 'zwiększenie',\n",
              " 'zamierzać',\n",
              " 'miejski',\n",
              " 'zaprosić',\n",
              " 'trakt',\n",
              " 'technika',\n",
              " 'odnośnie',\n",
              " 'moc',\n",
              " 'kula',\n",
              " 'ole',\n",
              " 'naczelny',\n",
              " 'mer',\n",
              " 'wysokość',\n",
              " 'lis',\n",
              " 'anta',\n",
              " 'palić',\n",
              " 'redaktor',\n",
              " 'minister',\n",
              " 'zachodni_północny',\n",
              " 'konsekwencja',\n",
              " 'nadzieja',\n",
              " 'argument',\n",
              " 'normalizacja',\n",
              " 'negatywny',\n",
              " 'episkopat_polski',\n",
              " 'związka',\n",
              " 'ulec',\n",
              " 'tok',\n",
              " 'rem',\n",
              " 'sala',\n",
              " 'los',\n",
              " 'zet',\n",
              " 'pot',\n",
              " 'obóz',\n",
              " 'om',\n",
              " 'obcy',\n",
              " 'plac',\n",
              " 'możliwy',\n",
              " 'wprowadzenie',\n",
              " 'rewizyjny',\n",
              " 'myślić',\n",
              " 'oczekiwanie',\n",
              " 'winno',\n",
              " 'dotychczasowy',\n",
              " 'istota',\n",
              " 'odrębny',\n",
              " 'zmieniać',\n",
              " 'pośredni',\n",
              " 'jakość',\n",
              " 'grunt',\n",
              " 'wydarzenie',\n",
              " 'inspirować',\n",
              " 'personalny',\n",
              " 'humanistyczny',\n",
              " 'len',\n",
              " 'oby',\n",
              " 'oprócz',\n",
              " 'rucho_społecznie',\n",
              " 'powołać',\n",
              " 'kryterium',\n",
              " 'głęboki',\n",
              " 'decydować',\n",
              " 'wskaźnik',\n",
              " 'wziąć',\n",
              " 'rów',\n",
              " 'zawrzeć',\n",
              " 'sprawiedliwość',\n",
              " 'motywacja',\n",
              " 'rewolucja',\n",
              " 'ustrój',\n",
              " 'zjednoczenie',\n",
              " 'zakład_zwarty',\n",
              " 'wytwarzanie',\n",
              " 'komunistyczny',\n",
              " 'odpowiadać',\n",
              " 'centralny',\n",
              " 'odbywać',\n",
              " 'szansa',\n",
              " 'kult',\n",
              " 'uwzględnienie',\n",
              " 'ujęcie',\n",
              " 'masowy',\n",
              " 'zorze',\n",
              " 'udzielać',\n",
              " 'katechetyczny',\n",
              " 'hierarchia_kościelny',\n",
              " 'książkowy',\n",
              " 'etyczny',\n",
              " 'omawiać',\n",
              " 'światopogląd_katolicki',\n",
              " 'porównanie',\n",
              " 'mld',\n",
              " 'sprzedaż',\n",
              " 'jakikolwiek',\n",
              " 'chz',\n",
              " 'dusza',\n",
              " 'prywatny',\n",
              " 'wytwarzać',\n",
              " 'ujawniać',\n",
              " 'usługi',\n",
              " 'obawa',\n",
              " 'zaufanie',\n",
              " 'reforma',\n",
              " 'opozycja',\n",
              " 'rozbieżność',\n",
              " 'kardynał',\n",
              " 'przygotowanie',\n",
              " 'płk',\n",
              " 'konfederacja_naród',\n",
              " 'powstanie',\n",
              " 'towar',\n",
              " 'opracowanie',\n",
              " 'panować',\n",
              " 'wystąpić',\n",
              " 'nacisk',\n",
              " 'zawodowy',\n",
              " 'oczywisty',\n",
              " 'katolicyzm',\n",
              " 'jasny',\n",
              " 'przesłanka',\n",
              " 'zapewnienie',\n",
              " 'wielkość',\n",
              " 'ród',\n",
              " 'duchowy',\n",
              " 'programowy',\n",
              " 'istotny',\n",
              " 'pełnia',\n",
              " 'dobrze',\n",
              " 'wzrastać',\n",
              " 'wyraźny',\n",
              " 'objawienie_biblijny',\n",
              " 'chrystusa',\n",
              " 'jahwe',\n",
              " 'ostry',\n",
              " 'wychodzić',\n",
              " 'bliźni',\n",
              " 'mnich',\n",
              " 'hegla',\n",
              " 'królestwo_wolność',\n",
              " 'podniesienie',\n",
              " 'kłopot',\n",
              " 'polityk',\n",
              " 'kabat',\n",
              " 'jaz',\n",
              " 'wyd',\n",
              " 'caritas',\n",
              " 'uprzejmie',\n",
              " 'poseł',\n",
              " 'zabrać',\n",
              " 'dokument_nazwa',\n",
              " ...]"
            ]
          },
          "metadata": {},
          "execution_count": 185
        }
      ]
    },
    {
      "cell_type": "code",
      "metadata": {
        "id": "33Jbt3-0SMbb"
      },
      "source": [
        "pd_word_freq=pd.DataFrame.from_dict(word_freq, orient='index')"
      ],
      "execution_count": 187,
      "outputs": []
    },
    {
      "cell_type": "code",
      "metadata": {
        "id": "ruqu6rCfSd4f"
      },
      "source": [
        "pd_word_freq_sorted=pd_word_freq.sort_values(by=[0], ascending=False)"
      ],
      "execution_count": 192,
      "outputs": []
    },
    {
      "cell_type": "code",
      "metadata": {
        "id": "gf1tuSz5Szdv",
        "outputId": "7b579bc8-adc8-49e9-cab1-56152dfee96d",
        "colab": {
          "base_uri": "https://localhost:8080/",
          "height": 662
        }
      },
      "source": [
        "pd_word_freq_sorted.head(20)"
      ],
      "execution_count": 194,
      "outputs": [
        {
          "output_type": "execute_result",
          "data": {
            "text/html": [
              "<div>\n",
              "<style scoped>\n",
              "    .dataframe tbody tr th:only-of-type {\n",
              "        vertical-align: middle;\n",
              "    }\n",
              "\n",
              "    .dataframe tbody tr th {\n",
              "        vertical-align: top;\n",
              "    }\n",
              "\n",
              "    .dataframe thead th {\n",
              "        text-align: right;\n",
              "    }\n",
              "</style>\n",
              "<table border=\"1\" class=\"dataframe\">\n",
              "  <thead>\n",
              "    <tr style=\"text-align: right;\">\n",
              "      <th></th>\n",
              "      <th>0</th>\n",
              "    </tr>\n",
              "  </thead>\n",
              "  <tbody>\n",
              "    <tr>\n",
              "      <th>drive_/</th>\n",
              "      <td>345</td>\n",
              "    </tr>\n",
              "    <tr>\n",
              "      <th>kuba_/</th>\n",
              "      <td>345</td>\n",
              "    </tr>\n",
              "    <tr>\n",
              "      <th>zdjecia_/</th>\n",
              "      <td>345</td>\n",
              "    </tr>\n",
              "    <tr>\n",
              "      <th>mydrive_/</th>\n",
              "      <td>345</td>\n",
              "    </tr>\n",
              "    <tr>\n",
              "      <th>praca</th>\n",
              "      <td>268</td>\n",
              "    </tr>\n",
              "    <tr>\n",
              "      <th>pax</th>\n",
              "      <td>254</td>\n",
              "    </tr>\n",
              "    <tr>\n",
              "      <th>człowiek</th>\n",
              "      <td>142</td>\n",
              "    </tr>\n",
              "    <tr>\n",
              "      <th>działalność</th>\n",
              "      <td>136</td>\n",
              "    </tr>\n",
              "    <tr>\n",
              "      <th>stowarzyszenie</th>\n",
              "      <td>131</td>\n",
              "    </tr>\n",
              "    <tr>\n",
              "      <th>sprawa</th>\n",
              "      <td>127</td>\n",
              "    </tr>\n",
              "    <tr>\n",
              "      <th>rozwój</th>\n",
              "      <td>109</td>\n",
              "    </tr>\n",
              "    <tr>\n",
              "      <th>kraj</th>\n",
              "      <td>100</td>\n",
              "    </tr>\n",
              "    <tr>\n",
              "      <th>swój</th>\n",
              "      <td>99</td>\n",
              "    </tr>\n",
              "    <tr>\n",
              "      <th>należeć</th>\n",
              "      <td>92</td>\n",
              "    </tr>\n",
              "    <tr>\n",
              "      <th>kościół</th>\n",
              "      <td>91</td>\n",
              "    </tr>\n",
              "    <tr>\n",
              "      <th>polityczny</th>\n",
              "      <td>88</td>\n",
              "    </tr>\n",
              "    <tr>\n",
              "      <th>społeczny</th>\n",
              "      <td>84</td>\n",
              "    </tr>\n",
              "    <tr>\n",
              "      <th>społeczeństwo</th>\n",
              "      <td>83</td>\n",
              "    </tr>\n",
              "    <tr>\n",
              "      <th>dzień</th>\n",
              "      <td>81</td>\n",
              "    </tr>\n",
              "    <tr>\n",
              "      <th>partia</th>\n",
              "      <td>79</td>\n",
              "    </tr>\n",
              "  </tbody>\n",
              "</table>\n",
              "</div>"
            ],
            "text/plain": [
              "                  0\n",
              "drive_/         345\n",
              "kuba_/          345\n",
              "zdjecia_/       345\n",
              "mydrive_/       345\n",
              "praca           268\n",
              "pax             254\n",
              "człowiek        142\n",
              "działalność     136\n",
              "stowarzyszenie  131\n",
              "sprawa          127\n",
              "rozwój          109\n",
              "kraj            100\n",
              "swój             99\n",
              "należeć          92\n",
              "kościół          91\n",
              "polityczny       88\n",
              "społeczny        84\n",
              "społeczeństwo    83\n",
              "dzień            81\n",
              "partia           79"
            ]
          },
          "metadata": {},
          "execution_count": 194
        }
      ]
    },
    {
      "cell_type": "code",
      "metadata": {
        "id": "TLseoLeNa1lJ"
      },
      "source": [
        "cores = multiprocessing.cpu_count()"
      ],
      "execution_count": 74,
      "outputs": []
    },
    {
      "cell_type": "code",
      "metadata": {
        "id": "bfxzi8Rqa5WS"
      },
      "source": [
        "w2v_model = Word2Vec(min_count=4,\n",
        "                     window=2,\n",
        "                     size=300,\n",
        "                     sample=6e-5, \n",
        "                     alpha=0.03, \n",
        "                     min_alpha=0.0007, \n",
        "                     negative=20,\n",
        "                     workers=cores-1)"
      ],
      "execution_count": 75,
      "outputs": []
    },
    {
      "cell_type": "code",
      "metadata": {
        "colab": {
          "base_uri": "https://localhost:8080/"
        },
        "id": "GFyTQjESa7gw",
        "outputId": "0e234e2a-50a2-4bfa-b604-5117ea400a1b"
      },
      "source": [
        "t = time()\n",
        "\n",
        "w2v_model.build_vocab(sentences, progress_per=100)\n",
        "\n",
        "print('Time to build vocab: {} mins'.format(round((time() - t) / 60, 2)))"
      ],
      "execution_count": 76,
      "outputs": [
        {
          "output_type": "stream",
          "name": "stdout",
          "text": [
            "Time to build vocab: 0.01 mins\n"
          ]
        }
      ]
    },
    {
      "cell_type": "code",
      "metadata": {
        "colab": {
          "base_uri": "https://localhost:8080/"
        },
        "id": "dCfpZSOUbAH3",
        "outputId": "33c3196e-9e15-474e-9a99-f27d1c8e36e1"
      },
      "source": [
        "t = time()\n",
        "\n",
        "w2v_model.train(sentences, total_examples=w2v_model.corpus_count, epochs=30, report_delay=1)\n",
        "\n",
        "print('Time to train the model: {} mins'.format(round((time() - t) / 60, 2)))"
      ],
      "execution_count": 77,
      "outputs": [
        {
          "output_type": "stream",
          "name": "stdout",
          "text": [
            "Time to train the model: 0.09 mins\n"
          ]
        }
      ]
    },
    {
      "cell_type": "code",
      "metadata": {
        "id": "LkTd2670bF94"
      },
      "source": [
        "w2v_model.init_sims(replace=True)"
      ],
      "execution_count": 78,
      "outputs": []
    },
    {
      "cell_type": "code",
      "metadata": {
        "colab": {
          "base_uri": "https://localhost:8080/"
        },
        "id": "iTe3tuuw--uW",
        "outputId": "504ea035-cae4-4b06-f1ae-e1c1beea6c42"
      },
      "source": [
        "word_freq['czajkowski']"
      ],
      "execution_count": 79,
      "outputs": [
        {
          "output_type": "execute_result",
          "data": {
            "text/plain": [
              "5"
            ]
          },
          "metadata": {},
          "execution_count": 79
        }
      ]
    },
    {
      "cell_type": "code",
      "metadata": {
        "colab": {
          "base_uri": "https://localhost:8080/"
        },
        "id": "efydYfPfbML-",
        "outputId": "399fc554-e069-4f5f-9be3-115998108c28"
      },
      "source": [
        "w2v_model.wv.most_similar(positive=[\"czajkowski\"])"
      ],
      "execution_count": 80,
      "outputs": [
        {
          "output_type": "execute_result",
          "data": {
            "text/plain": [
              "[('projekt', 0.9999195337295532),\n",
              " ('przewodniczący', 0.9999194145202637),\n",
              " ('era', 0.9999194145202637),\n",
              " ('kabat', 0.9999192953109741),\n",
              " ('własny', 0.99991774559021),\n",
              " ('zawierać', 0.9999170303344727),\n",
              " ('biskup', 0.9999169111251831),\n",
              " ('nakaz', 0.9999165534973145),\n",
              " ('teoria', 0.999916136264801),\n",
              " ('winna', 0.999916136264801)]"
            ]
          },
          "metadata": {},
          "execution_count": 80
        }
      ]
    },
    {
      "cell_type": "code",
      "metadata": {
        "colab": {
          "base_uri": "https://localhost:8080/"
        },
        "id": "unRJaq3NdnqU",
        "outputId": "2e5859ad-4d4b-4ba1-ce02-0687a66cb324"
      },
      "source": [
        "w2v_model.wv.most_similar(positive=[\"piasecki\"])"
      ],
      "execution_count": 180,
      "outputs": [
        {
          "output_type": "execute_result",
          "data": {
            "text/plain": [
              "[('główny', 0.9999316930770874),\n",
              " ('brak', 0.9999307990074158),\n",
              " ('jeden', 0.99992835521698),\n",
              " ('miejsce', 0.9999279975891113),\n",
              " ('gospodarczy', 0.9999275207519531),\n",
              " ('żyć', 0.9999270439147949),\n",
              " ('ocena', 0.999925434589386),\n",
              " ('działo', 0.9999251961708069),\n",
              " ('rząd', 0.9999251365661621),\n",
              " ('stowarzyszenie_pax', 0.9999251365661621)]"
            ]
          },
          "metadata": {},
          "execution_count": 180
        }
      ]
    },
    {
      "cell_type": "code",
      "metadata": {
        "id": "-6w9_bEQRgQ3",
        "outputId": "bf534647-a898-4cfd-8a5d-cef81279c03d",
        "colab": {
          "base_uri": "https://localhost:8080/"
        }
      },
      "source": [
        "w2v_model.wv.most_similar(positive=[\"wyszyński\"])"
      ],
      "execution_count": 181,
      "outputs": [
        {
          "output_type": "execute_result",
          "data": {
            "text/plain": [
              "[('rodzina', 0.9999311566352844),\n",
              " ('uważać', 0.9999282956123352),\n",
              " ('karty', 0.9999276995658875),\n",
              " ('biskup', 0.9999265670776367),\n",
              " ('zdanie', 0.9999260902404785),\n",
              " ('uchwała', 0.9999260902404785),\n",
              " ('stworzenie', 0.9999258518218994),\n",
              " ('informacja', 0.9999257922172546),\n",
              " ('stowarzyszenie_pax', 0.9999257922172546),\n",
              " ('określony', 0.9999251365661621)]"
            ]
          },
          "metadata": {},
          "execution_count": 181
        }
      ]
    },
    {
      "cell_type": "code",
      "metadata": {
        "id": "s3a7HxhRR08s",
        "outputId": "a6a02408-3c08-48ab-d862-98c2201f325e",
        "colab": {
          "base_uri": "https://localhost:8080/"
        }
      },
      "source": [
        "w2v_model.wv.most_similar(positive=[\"radziecki\"])"
      ],
      "execution_count": 183,
      "outputs": [
        {
          "output_type": "execute_result",
          "data": {
            "text/plain": [
              "[('dodatkowy', 0.9999371767044067),\n",
              " ('społecznie', 0.9999332427978516),\n",
              " ('sam', 0.9999316930770874),\n",
              " ('stan', 0.9999316930770874),\n",
              " ('zsrr', 0.9999301433563232),\n",
              " ('zgoda', 0.9999300837516785),\n",
              " ('kierownictwo', 0.999929666519165),\n",
              " ('głównie', 0.999929666519165),\n",
              " ('element', 0.9999295473098755),\n",
              " ('chrześcijanin', 0.999928891658783)]"
            ]
          },
          "metadata": {},
          "execution_count": 183
        }
      ]
    },
    {
      "cell_type": "code",
      "metadata": {
        "id": "YfBQirNFR7B6",
        "outputId": "6e0cdc9d-9a0f-4cae-a2a2-0a42ae288493",
        "colab": {
          "base_uri": "https://localhost:8080/"
        }
      },
      "source": [
        "w2v_model.wv.most_similar(negative=[\"radziecki\"])"
      ],
      "execution_count": 184,
      "outputs": [
        {
          "output_type": "execute_result",
          "data": {
            "text/plain": [
              "[('mal', 0.08305196464061737),\n",
              " ('mod', 0.03705967962741852),\n",
              " ('zero', 0.009060031734406948),\n",
              " ('bal', -0.10609574615955353),\n",
              " ('wada', -0.9646069407463074),\n",
              " ('jaga', -0.9989528059959412),\n",
              " ('dow', -0.9994471073150635),\n",
              " ('kuba_/', -0.999703049659729),\n",
              " ('jaz', -0.999730110168457),\n",
              " ('ministerstwo', -0.9997433423995972)]"
            ]
          },
          "metadata": {},
          "execution_count": 184
        }
      ]
    },
    {
      "cell_type": "code",
      "metadata": {
        "colab": {
          "base_uri": "https://localhost:8080/",
          "height": 91
        },
        "id": "RCR5Sog9d-Vo",
        "outputId": "b2285227-7d8f-436a-855c-e8cab3c438c1"
      },
      "source": [
        "w2v_model.wv.doesnt_match(['pax', 'socjalizm', 'chrze_cija'])"
      ],
      "execution_count": 47,
      "outputs": [
        {
          "output_type": "stream",
          "name": "stderr",
          "text": [
            "/usr/local/lib/python3.7/dist-packages/gensim/models/keyedvectors.py:895: FutureWarning: arrays to stack must be passed as a \"sequence\" type such as list or tuple. Support for non-sequence iterables such as generators is deprecated as of NumPy 1.16 and will raise an error in the future.\n",
            "  vectors = vstack(self.word_vec(word, use_norm=True) for word in used_words).astype(REAL)\n"
          ]
        },
        {
          "output_type": "execute_result",
          "data": {
            "application/vnd.google.colaboratory.intrinsic+json": {
              "type": "string"
            },
            "text/plain": [
              "'socjalizm'"
            ]
          },
          "metadata": {},
          "execution_count": 47
        }
      ]
    },
    {
      "cell_type": "code",
      "metadata": {
        "id": "csqasVVtfSfx"
      },
      "source": [
        "import numpy as np\n",
        "import matplotlib.pyplot as plt\n",
        "%matplotlib inline\n",
        " \n",
        "import seaborn as sns\n",
        "sns.set_style(\"darkgrid\")\n",
        "\n",
        "from sklearn.decomposition import PCA\n",
        "from sklearn.manifold import TSNE"
      ],
      "execution_count": 48,
      "outputs": []
    },
    {
      "cell_type": "code",
      "metadata": {
        "id": "yO7QkfCJfWDK"
      },
      "source": [
        "def tsnescatterplot(model, word, list_names):\n",
        "    \"\"\" Plot in seaborn the results from the t-SNE dimensionality reduction algorithm of the vectors of a query word,\n",
        "    its list of most similar words, and a list of words.\n",
        "    \"\"\"\n",
        "    arrays = np.empty((0, 300), dtype='f')\n",
        "    word_labels = [word]\n",
        "    color_list  = ['red']\n",
        "\n",
        "    # adds the vector of the query word\n",
        "    arrays = np.append(arrays, model.wv.__getitem__([word]), axis=0)\n",
        "    \n",
        "    # gets list of most similar words\n",
        "    close_words = model.wv.most_similar([word])\n",
        "    \n",
        "    # adds the vector for each of the closest words to the array\n",
        "    for wrd_score in close_words:\n",
        "        wrd_vector = model.wv.__getitem__([wrd_score[0]])\n",
        "        word_labels.append(wrd_score[0])\n",
        "        color_list.append('blue')\n",
        "        arrays = np.append(arrays, wrd_vector, axis=0)\n",
        "    \n",
        "    # adds the vector for each of the words from list_names to the array\n",
        "    for wrd in list_names:\n",
        "        wrd_vector = model.wv.__getitem__([wrd])\n",
        "        word_labels.append(wrd)\n",
        "        color_list.append('green')\n",
        "        arrays = np.append(arrays, wrd_vector, axis=0)\n",
        "        \n",
        "    # Reduces the dimensionality from 300 to 50 dimensions with PCA\n",
        "    reduc = PCA(n_components=18).fit_transform(arrays)\n",
        "    \n",
        "    # Finds t-SNE coordinates for 2 dimensions\n",
        "    np.set_printoptions(suppress=True)\n",
        "    \n",
        "    Y = TSNE(n_components=2, random_state=0, perplexity=15).fit_transform(reduc)\n",
        "    \n",
        "    # Sets everything up to plot\n",
        "    df = pd.DataFrame({'x': [x for x in Y[:, 0]],\n",
        "                       'y': [y for y in Y[:, 1]],\n",
        "                       'words': word_labels,\n",
        "                       'color': color_list})\n",
        "    \n",
        "    fig, _ = plt.subplots()\n",
        "    fig.set_size_inches(9, 9)\n",
        "    \n",
        "    # Basic plot\n",
        "    p1 = sns.regplot(data=df,\n",
        "                     x=\"x\",\n",
        "                     y=\"y\",\n",
        "                     fit_reg=False,\n",
        "                     marker=\"o\",\n",
        "                     scatter_kws={'s': 40,\n",
        "                                  'facecolors': df['color']\n",
        "                                 }\n",
        "                    )\n",
        "    \n",
        "    # Adds annotations one by one with a loop\n",
        "    for line in range(0, df.shape[0]):\n",
        "         p1.text(df[\"x\"][line],\n",
        "                 df['y'][line],\n",
        "                 '  ' + df[\"words\"][line].title(),\n",
        "                 horizontalalignment='left',\n",
        "                 verticalalignment='bottom', size='medium',\n",
        "                 color=df['color'][line],\n",
        "                 weight='normal'\n",
        "                ).set_size(15)\n",
        "\n",
        "    \n",
        "    plt.xlim(Y[:, 0].min()-50, Y[:, 0].max()+50)\n",
        "    plt.ylim(Y[:, 1].min()-50, Y[:, 1].max()+50)\n",
        "            \n",
        "    plt.title('t-SNE visualization for {}'.format(word.title()))"
      ],
      "execution_count": null,
      "outputs": []
    },
    {
      "cell_type": "code",
      "metadata": {
        "colab": {
          "base_uri": "https://localhost:8080/",
          "height": 566
        },
        "id": "mGGwa4ngfXq9",
        "outputId": "ee6efadb-f554-41af-ebdb-5a1451ed75a5"
      },
      "source": [
        "tsnescatterplot(w2v_model, 'pax', ['praca', 'działalność', 'człowiek', 'polityczny', 'kraj', 'kościół', 'społeczny','katolicki','czajkowski',\n",
        "                                   'czajkowski','wyszyński'])"
      ],
      "execution_count": 182,
      "outputs": [
        {
          "output_type": "display_data",
          "data": {
            "image/png": "[encoded data removed]",
            "text/plain": [
              "<Figure size 648x648 with 1 Axes>"
            ]
          },
          "metadata": {}
        }
      ]
    }
  ]
}