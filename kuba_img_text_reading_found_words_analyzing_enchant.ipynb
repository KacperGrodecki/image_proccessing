{
  "nbformat": 4,
  "nbformat_minor": 0,
  "metadata": {
    "colab": {
      "name": "kuba_img_text_reading_found_words_analyzing_enchant.ipynb",
      "provenance": [],
      "collapsed_sections": [],
      "authorship_tag": "ABX9TyOTpAyerkAYRbdJIPr6QaRs",
      "include_colab_link": true
    },
    "kernelspec": {
      "name": "python3",
      "display_name": "Python 3"
    }
  },
  "cells": [
    {
      "cell_type": "markdown",
      "metadata": {
        "id": "view-in-github",
        "colab_type": "text"
      },
      "source": [
        "<a href=\"https://colab.research.google.com/github/KacperGrodecki/image_proccessing/blob/main/kuba_img_text_reading_found_words_analyzing_enchant.ipynb\" target=\"_parent\"><img src=\"https://colab.research.google.com/assets/colab-badge.svg\" alt=\"Open In Colab\"/></a>"
      ]
    },
    {
      "cell_type": "code",
      "metadata": {
        "id": "IJjlrbzGKZi4",
        "colab": {
          "base_uri": "https://localhost:8080/"
        },
        "outputId": "b4db9a8f-b9dc-41e8-f659-be2be1d79c45"
      },
      "source": [
        "from google.colab import drive\n",
        "drive.mount('/content/drive')"
      ],
      "execution_count": 189,
      "outputs": [
        {
          "output_type": "stream",
          "name": "stdout",
          "text": [
            "Drive already mounted at /content/drive; to attempt to forcibly remount, call drive.mount(\"/content/drive\", force_remount=True).\n"
          ]
        }
      ]
    },
    {
      "cell_type": "code",
      "metadata": {
        "id": "VCQq3xY_FatP",
        "colab": {
          "base_uri": "https://localhost:8080/"
        },
        "outputId": "ddf17693-0b9a-4acb-ca68-84e4e3c3f464"
      },
      "source": [
        "pip install pyenchant"
      ],
      "execution_count": 190,
      "outputs": [
        {
          "output_type": "stream",
          "name": "stdout",
          "text": [
            "Requirement already satisfied: pyenchant in /usr/local/lib/python3.7/dist-packages (3.2.2)\n"
          ]
        }
      ]
    },
    {
      "cell_type": "code",
      "metadata": {
        "id": "S4o5m7KVGxIw",
        "colab": {
          "base_uri": "https://localhost:8080/"
        },
        "outputId": "054f66d4-c7d6-498a-8f64-2f7ffb0b9004"
      },
      "source": [
        "!apt install -qq enchant"
      ],
      "execution_count": 191,
      "outputs": [
        {
          "output_type": "stream",
          "name": "stdout",
          "text": [
            "enchant is already the newest version (1.6.0-11.1).\n",
            "0 upgraded, 0 newly installed, 0 to remove and 37 not upgraded.\n"
          ]
        }
      ]
    },
    {
      "cell_type": "code",
      "metadata": {
        "id": "GgxGHC6TIr-i",
        "colab": {
          "base_uri": "https://localhost:8080/"
        },
        "outputId": "57e64136-ff28-484d-8947-80cc808e58b7"
      },
      "source": [
        "!apt-get install myspell-pl"
      ],
      "execution_count": 192,
      "outputs": [
        {
          "output_type": "stream",
          "name": "stdout",
          "text": [
            "Reading package lists... Done\n",
            "Building dependency tree       \n",
            "Reading state information... Done\n",
            "myspell-pl is already the newest version (20170707-1).\n",
            "0 upgraded, 0 newly installed, 0 to remove and 37 not upgraded.\n"
          ]
        }
      ]
    },
    {
      "cell_type": "code",
      "metadata": {
        "id": "2wUfYi8wWZLT"
      },
      "source": [
        "import pandas as pd\n",
        "import cv2\n",
        "import numpy as np\n",
        "import re\n",
        "import matplotlib.pyplot as plt      \n",
        "import pickle\n",
        "from os import listdir\n",
        "from os.path import isfile, join\n",
        "import gc\n",
        "import sys\n",
        "import pickle\n",
        "import string\n",
        "import enchant"
      ],
      "execution_count": 193,
      "outputs": []
    },
    {
      "cell_type": "code",
      "metadata": {
        "id": "NB8HnIDbFUx4",
        "colab": {
          "base_uri": "https://localhost:8080/"
        },
        "outputId": "3b1b1fd2-7953-44f6-f052-5e657710248a"
      },
      "source": [
        "d = enchant.Dict('PL')\n",
        "d.check(\"guzik\") # False\n",
        "\n"
      ],
      "execution_count": 194,
      "outputs": [
        {
          "output_type": "execute_result",
          "data": {
            "text/plain": [
              "True"
            ]
          },
          "metadata": {},
          "execution_count": 194
        }
      ]
    },
    {
      "cell_type": "code",
      "metadata": {
        "id": "VSCMbCO6Dt6W"
      },
      "source": [
        "text=pd.read_csv('drive/MyDrive/kuba/odczyt_0_85.csv',index_col=0)"
      ],
      "execution_count": 195,
      "outputs": []
    },
    {
      "cell_type": "code",
      "metadata": {
        "colab": {
          "base_uri": "https://localhost:8080/",
          "height": 202
        },
        "id": "OzNEDFKK0Qd6",
        "outputId": "2da0c7a5-99a9-4449-9cae-a5dc1b9310d3"
      },
      "source": [
        "text.head()"
      ],
      "execution_count": 196,
      "outputs": [
        {
          "output_type": "execute_result",
          "data": {
            "text/html": [
              "<div>\n",
              "<style scoped>\n",
              "    .dataframe tbody tr th:only-of-type {\n",
              "        vertical-align: middle;\n",
              "    }\n",
              "\n",
              "    .dataframe tbody tr th {\n",
              "        vertical-align: top;\n",
              "    }\n",
              "\n",
              "    .dataframe thead th {\n",
              "        text-align: right;\n",
              "    }\n",
              "</style>\n",
              "<table border=\"1\" class=\"dataframe\">\n",
              "  <thead>\n",
              "    <tr style=\"text-align: right;\">\n",
              "      <th></th>\n",
              "      <th>0</th>\n",
              "    </tr>\n",
              "  </thead>\n",
              "  <tbody>\n",
              "    <tr>\n",
              "      <th>0</th>\n",
              "      <td>drive/MyDrive/kuba/zdjecia/fig1.jpg</td>\n",
              "    </tr>\n",
              "    <tr>\n",
              "      <th>1</th>\n",
              "      <td>Własność\\narchiwum\\nAktotwórca\\nTytuł teczki\\n...</td>\n",
              "    </tr>\n",
              "    <tr>\n",
              "      <th>2</th>\n",
              "      <td>IPN BU 0 639/223</td>\n",
              "    </tr>\n",
              "    <tr>\n",
              "      <th>3</th>\n",
              "      <td>KARTA INFORMACYJNA</td>\n",
              "    </tr>\n",
              "    <tr>\n",
              "      <th>4</th>\n",
              "      <td>Instytut Pamięci Narodowej w Warszawie</td>\n",
              "    </tr>\n",
              "  </tbody>\n",
              "</table>\n",
              "</div>"
            ],
            "text/plain": [
              "                                                   0\n",
              "0                drive/MyDrive/kuba/zdjecia/fig1.jpg\n",
              "1  Własność\\narchiwum\\nAktotwórca\\nTytuł teczki\\n...\n",
              "2                                   IPN BU 0 639/223\n",
              "3                                 KARTA INFORMACYJNA\n",
              "4             Instytut Pamięci Narodowej w Warszawie"
            ]
          },
          "metadata": {},
          "execution_count": 196
        }
      ]
    },
    {
      "cell_type": "code",
      "metadata": {
        "id": "IQfR7Dqfgg1h"
      },
      "source": [
        "from difflib import SequenceMatcher\n",
        "\n",
        "def similar(a, b):\n",
        "    return SequenceMatcher(None, a, b).ratio()"
      ],
      "execution_count": 197,
      "outputs": []
    },
    {
      "cell_type": "code",
      "metadata": {
        "id": "08Amw-9kkmS5"
      },
      "source": [
        "def has_numbers(inputString):\n",
        "    return any(char.isdigit() for char in inputString)"
      ],
      "execution_count": 198,
      "outputs": []
    },
    {
      "cell_type": "code",
      "metadata": {
        "id": "iTo6hrTec4qF"
      },
      "source": [
        "def word_correction_enchant(a):\n",
        "    a=str(a)\n",
        "    if 'drive/MyDrive/kuba/' in a:\n",
        "      return a\n",
        "    correct=''\n",
        "    for word in a.split():\n",
        "        if len(word)>1:\n",
        "            if has_numbers(word) or len(word)<3:\n",
        "              continue\n",
        "            try:\n",
        "              if int(d.check(word))==1:\n",
        "                correct+=word.lower()+' '\n",
        "            except:\n",
        "              pass     \n",
        "    return correct"
      ],
      "execution_count": 199,
      "outputs": []
    },
    {
      "cell_type": "code",
      "metadata": {
        "id": "0-VkBr6pckM9"
      },
      "source": [
        "correct=text.applymap(lambda x: word_correction_enchant(x))#dodać numery stron"
      ],
      "execution_count": 200,
      "outputs": []
    },
    {
      "cell_type": "code",
      "metadata": {
        "id": "Un-DAhRAK7jh"
      },
      "source": [
        "correct1 = correct[correct['0']!= '']"
      ],
      "execution_count": 202,
      "outputs": []
    },
    {
      "cell_type": "code",
      "metadata": {
        "colab": {
          "base_uri": "https://localhost:8080/"
        },
        "id": "yiuR0k5w0pyZ",
        "outputId": "8b15f499-44dd-402d-8db7-35b010c80e20"
      },
      "source": [
        "print(correct1.iloc[300:400].values)"
      ],
      "execution_count": 203,
      "outputs": [
        {
          "output_type": "stream",
          "name": "stdout",
          "text": [
            "[['poprzez ']\n",
            " ['śluby terenowe ']\n",
            " ['terenowe ']\n",
            " ['cechuje ']\n",
            " ['cechuje ']\n",
            " ['winne ']\n",
            " ['linia polityczną ']\n",
            " ['linia polityczną ']\n",
            " ['drive/MyDrive/kuba/zdjecia/fig112.jpg']\n",
            " ['ipn ']\n",
            " ['le. ']\n",
            " ['tezy ']\n",
            " ['wania pracy ']\n",
            " ['pak ']\n",
            " ['specjalne ']\n",
            " ['racuch ']\n",
            " ['drive/MyDrive/kuba/zdjecia/fig113.jpg']\n",
            " ['załącznik zestawu. ważniejszych ']\n",
            " ['załącznik zestawu ważniejszych ']\n",
            " ['informacji ']\n",
            " ['spotkanie pax ']\n",
            " ['aktywem katolickim katowicach ']\n",
            " ['stowarzyszenie pax zorganizowało katowicach spotkanie ']\n",
            " ['rzymskiego korespondenta pax redaktora czajkowskiego ']\n",
            " ['temat wizyty ministra ']\n",
            " ['księżmi działaczami świeckimi temat wizyty ministra watykanie. ']\n",
            " ['wzięli zajmujący się paxie ']\n",
            " ['pracą przewodniczący oddziału ']\n",
            " ['członkowie sekretariatu ']\n",
            " ['kiego katowicach ']\n",
            " ['ok. osób tym księży często- ']\n",
            " ['katowickiej pastorów kościoła luterańskiego ']\n",
            " ['zabrza ']\n",
            " ['redaktor czajkowski omówił problem wizyty min. ']\n",
            " ['kiego punktu stosunku watykanu polski okresie ']\n",
            " ['politycznego charakteru wizyty reakcji prasy ']\n",
            " ['włoskiej światowej oraz strony kół rewizjonistycznych ']\n",
            " ['zachodzie. powiedział ']\n",
            " ['stosunek jana pawła był zawsze jest serdeczny. ']\n",
            " ['uznanie przez jana ']\n",
            " ['polskich ziem zachodnich ustanowienie ']\n",
            " ['przez pawła polskiej administracji kościelnej tych ']\n",
            " ['likwidacja ambasady rządu londyńskiego przy ']\n",
            " ['watykanie odmówienie akredytacji rozmowy ']\n",
            " ['podjęte nominacja kard. spotkanie ']\n",
            " ['podczas którego uzgodniono wspólne działania polski ']\n",
            " ['rzecz pokoju oraz wyrażono chęć ']\n",
            " ['stosunków polska-watykan. red. czajkowski ']\n",
            " ['przełomie roku polska znalazła się orbi- ']\n",
            " ['cie wpływu polityki ']\n",
            " ['drive/MyDrive/kuba/zdjecia/fig114.jpg']\n",
            " ['ipn ']\n",
            " ['ipn ']\n",
            " ['wizyta min. olszowskiego watykanie przebiegała ']\n",
            " ['atmosferze szukania punktu zbliżenia unikania spraw ']\n",
            " ['mogących doprowadzić zadrażnień stosunków między ']\n",
            " ['polską watykanem. papież wyraził szacunek kraju ']\n",
            " ['socjalistycznego jego używając słów partia. ']\n",
            " ['polska rzeczpospolita min. olszowski wyraził ']\n",
            " ['uznanie dla polityki pojednania pokoju watykanu ']\n",
            " ['osobistego wkładu papieża oraz szacunkiem ']\n",
            " ['katolicy polsce wspólnie budują ']\n",
            " ['konsekwencją wizyty min. olszowskiego watykanie ']\n",
            " ['będą dalsze rozmowy między polską watykanem ']\n",
            " ['przyjazd casaroli ']\n",
            " ['które rokują nadzieje osiągnięcie porozumień ']\n",
            " ['bazie konstytucji przepisów przez ']\n",
            " ['wolności religijnej przez ']\n",
            " ['prasa włoska światowa wytworzyła odpowiedni klimat ']\n",
            " ['rozmów którego nie mogły zakłócić ']\n",
            " ['nawet koła rewizjonistów konserwatystów. zarzucały one ']\n",
            " ['czyni zbyt wiele gestów pod adresem komu- ']\n",
            " ['rozbestwia psuje posoborową atmosferę ']\n",
            " ['potęguje kryzys. atmosfera wytrąciła ']\n",
            " ['argumenty kościele cierpiącym milczącym ']\n",
            " ['zachodzie przez niektórych hierarchów polskich. ']\n",
            " ['zdaniem red. czajkowskiego polsce ']\n",
            " ['normalizacji stosunków państwo-kościół. widzi papież ']\n",
            " ['watykan. polska dotychczas była wyspą którą ']\n",
            " ['omijały negatywne zjawiska kontestacji obojętności religijnej. ']\n",
            " ['papież dąży podpisania władzami polskimi porozumień ']\n",
            " ['gdyż jest prądy dotrą również polski. ']\n",
            " ['drive/MyDrive/kuba/zdjecia/fig115.jpg']\n",
            " ['ipn ']\n",
            " ['chce ochronić kościół przed wstrząsami jakie mają miejsce ']\n",
            " ['innych ']\n",
            " ['dyskusji zabrało głos tym księży. ']\n",
            " ['ewentualnym przyjazdem papieża ']\n",
            " ['episkopatu polskiego rozmów polska-watykan norma- ']\n",
            " ['stosunków państwo-kościół rolą biskupa dąbrowskiego ']\n",
            " ['watykanie pobytu problemem administracji ']\n",
            " ['ano ']\n",
            " ['kościelnej diecezjach stanowiskiem działaczy le. ']\n",
            " ['stowarzyszeń katolickich wobec normalizacji stosunków ']\n",
            " ['jeden księży krakowskich poruszył sprawę trudności koś- ']\n",
            " ['twierdząc kościół jest szykanowany przez ']\n",
            " ['władze terenowe. ']\n",
            " ['odpowiedzi udzielił czajkowski. ']\n",
            " ['nie reprezentuje ani ani całości katolików ']\n",
            " ['polsce. sprawie porozumień polska-watykan może mieć ']]\n"
          ]
        }
      ]
    },
    {
      "cell_type": "code",
      "metadata": {
        "id": "OVaZBIX5yxfq"
      },
      "source": [
        "#pip uninstall spacy"
      ],
      "execution_count": 204,
      "outputs": []
    },
    {
      "cell_type": "code",
      "metadata": {
        "colab": {
          "base_uri": "https://localhost:8080/"
        },
        "id": "skP73TjkYSO5",
        "outputId": "89e522a1-9df1-43bf-b6c0-d7a3b7da9222"
      },
      "source": [
        "pip install spacy==2.3.2"
      ],
      "execution_count": 205,
      "outputs": [
        {
          "output_type": "stream",
          "name": "stdout",
          "text": [
            "Requirement already satisfied: spacy==2.3.2 in /usr/local/lib/python3.7/dist-packages (2.3.2)\n",
            "Requirement already satisfied: preshed<3.1.0,>=3.0.2 in /usr/local/lib/python3.7/dist-packages (from spacy==2.3.2) (3.0.5)\n",
            "Requirement already satisfied: blis<0.5.0,>=0.4.0 in /usr/local/lib/python3.7/dist-packages (from spacy==2.3.2) (0.4.1)\n",
            "Requirement already satisfied: wasabi<1.1.0,>=0.4.0 in /usr/local/lib/python3.7/dist-packages (from spacy==2.3.2) (0.8.2)\n",
            "Requirement already satisfied: tqdm<5.0.0,>=4.38.0 in /usr/local/lib/python3.7/dist-packages (from spacy==2.3.2) (4.62.3)\n",
            "Requirement already satisfied: catalogue<1.1.0,>=0.0.7 in /usr/local/lib/python3.7/dist-packages (from spacy==2.3.2) (1.0.0)\n",
            "Requirement already satisfied: plac<1.2.0,>=0.9.6 in /usr/local/lib/python3.7/dist-packages (from spacy==2.3.2) (1.1.3)\n",
            "Requirement already satisfied: cymem<2.1.0,>=2.0.2 in /usr/local/lib/python3.7/dist-packages (from spacy==2.3.2) (2.0.5)\n",
            "Requirement already satisfied: srsly<1.1.0,>=1.0.2 in /usr/local/lib/python3.7/dist-packages (from spacy==2.3.2) (1.0.5)\n",
            "Requirement already satisfied: setuptools in /usr/local/lib/python3.7/dist-packages (from spacy==2.3.2) (57.4.0)\n",
            "Requirement already satisfied: numpy>=1.15.0 in /usr/local/lib/python3.7/dist-packages (from spacy==2.3.2) (1.19.5)\n",
            "Requirement already satisfied: thinc==7.4.1 in /usr/local/lib/python3.7/dist-packages (from spacy==2.3.2) (7.4.1)\n",
            "Requirement already satisfied: murmurhash<1.1.0,>=0.28.0 in /usr/local/lib/python3.7/dist-packages (from spacy==2.3.2) (1.0.5)\n",
            "Requirement already satisfied: requests<3.0.0,>=2.13.0 in /usr/local/lib/python3.7/dist-packages (from spacy==2.3.2) (2.23.0)\n",
            "Requirement already satisfied: importlib-metadata>=0.20 in /usr/local/lib/python3.7/dist-packages (from catalogue<1.1.0,>=0.0.7->spacy==2.3.2) (4.8.1)\n",
            "Requirement already satisfied: zipp>=0.5 in /usr/local/lib/python3.7/dist-packages (from importlib-metadata>=0.20->catalogue<1.1.0,>=0.0.7->spacy==2.3.2) (3.6.0)\n",
            "Requirement already satisfied: typing-extensions>=3.6.4 in /usr/local/lib/python3.7/dist-packages (from importlib-metadata>=0.20->catalogue<1.1.0,>=0.0.7->spacy==2.3.2) (3.7.4.3)\n",
            "Requirement already satisfied: urllib3!=1.25.0,!=1.25.1,<1.26,>=1.21.1 in /usr/local/lib/python3.7/dist-packages (from requests<3.0.0,>=2.13.0->spacy==2.3.2) (1.24.3)\n",
            "Requirement already satisfied: certifi>=2017.4.17 in /usr/local/lib/python3.7/dist-packages (from requests<3.0.0,>=2.13.0->spacy==2.3.2) (2021.5.30)\n",
            "Requirement already satisfied: chardet<4,>=3.0.2 in /usr/local/lib/python3.7/dist-packages (from requests<3.0.0,>=2.13.0->spacy==2.3.2) (3.0.4)\n",
            "Requirement already satisfied: idna<3,>=2.5 in /usr/local/lib/python3.7/dist-packages (from requests<3.0.0,>=2.13.0->spacy==2.3.2) (2.10)\n"
          ]
        }
      ]
    },
    {
      "cell_type": "code",
      "metadata": {
        "colab": {
          "base_uri": "https://localhost:8080/"
        },
        "id": "A-0uiuYNXPad",
        "outputId": "1b4f594a-e350-46ae-bde5-cf39ff5b7b2d"
      },
      "source": [
        "!python3 -m spacy download pl_core_news_md\n",
        "#https://github.com/explosion/spaCy/issues/5140"
      ],
      "execution_count": 206,
      "outputs": [
        {
          "output_type": "stream",
          "name": "stdout",
          "text": [
            "Collecting pl_core_news_md==2.3.0\n",
            "  Downloading https://github.com/explosion/spacy-models/releases/download/pl_core_news_md-2.3.0/pl_core_news_md-2.3.0.tar.gz (79.9 MB)\n",
            "\u001b[K     |████████████████████████████████| 79.9 MB 1.3 MB/s \n",
            "\u001b[?25hRequirement already satisfied: spacy<2.4.0,>=2.3.0 in /usr/local/lib/python3.7/dist-packages (from pl_core_news_md==2.3.0) (2.3.2)\n",
            "Requirement already satisfied: requests<3.0.0,>=2.13.0 in /usr/local/lib/python3.7/dist-packages (from spacy<2.4.0,>=2.3.0->pl_core_news_md==2.3.0) (2.23.0)\n",
            "Requirement already satisfied: setuptools in /usr/local/lib/python3.7/dist-packages (from spacy<2.4.0,>=2.3.0->pl_core_news_md==2.3.0) (57.4.0)\n",
            "Requirement already satisfied: preshed<3.1.0,>=3.0.2 in /usr/local/lib/python3.7/dist-packages (from spacy<2.4.0,>=2.3.0->pl_core_news_md==2.3.0) (3.0.5)\n",
            "Requirement already satisfied: blis<0.5.0,>=0.4.0 in /usr/local/lib/python3.7/dist-packages (from spacy<2.4.0,>=2.3.0->pl_core_news_md==2.3.0) (0.4.1)\n",
            "Requirement already satisfied: srsly<1.1.0,>=1.0.2 in /usr/local/lib/python3.7/dist-packages (from spacy<2.4.0,>=2.3.0->pl_core_news_md==2.3.0) (1.0.5)\n",
            "Requirement already satisfied: thinc==7.4.1 in /usr/local/lib/python3.7/dist-packages (from spacy<2.4.0,>=2.3.0->pl_core_news_md==2.3.0) (7.4.1)\n",
            "Requirement already satisfied: plac<1.2.0,>=0.9.6 in /usr/local/lib/python3.7/dist-packages (from spacy<2.4.0,>=2.3.0->pl_core_news_md==2.3.0) (1.1.3)\n",
            "Requirement already satisfied: catalogue<1.1.0,>=0.0.7 in /usr/local/lib/python3.7/dist-packages (from spacy<2.4.0,>=2.3.0->pl_core_news_md==2.3.0) (1.0.0)\n",
            "Requirement already satisfied: numpy>=1.15.0 in /usr/local/lib/python3.7/dist-packages (from spacy<2.4.0,>=2.3.0->pl_core_news_md==2.3.0) (1.19.5)\n",
            "Requirement already satisfied: cymem<2.1.0,>=2.0.2 in /usr/local/lib/python3.7/dist-packages (from spacy<2.4.0,>=2.3.0->pl_core_news_md==2.3.0) (2.0.5)\n",
            "Requirement already satisfied: tqdm<5.0.0,>=4.38.0 in /usr/local/lib/python3.7/dist-packages (from spacy<2.4.0,>=2.3.0->pl_core_news_md==2.3.0) (4.62.3)\n",
            "Requirement already satisfied: murmurhash<1.1.0,>=0.28.0 in /usr/local/lib/python3.7/dist-packages (from spacy<2.4.0,>=2.3.0->pl_core_news_md==2.3.0) (1.0.5)\n",
            "Requirement already satisfied: wasabi<1.1.0,>=0.4.0 in /usr/local/lib/python3.7/dist-packages (from spacy<2.4.0,>=2.3.0->pl_core_news_md==2.3.0) (0.8.2)\n",
            "Requirement already satisfied: importlib-metadata>=0.20 in /usr/local/lib/python3.7/dist-packages (from catalogue<1.1.0,>=0.0.7->spacy<2.4.0,>=2.3.0->pl_core_news_md==2.3.0) (4.8.1)\n",
            "Requirement already satisfied: typing-extensions>=3.6.4 in /usr/local/lib/python3.7/dist-packages (from importlib-metadata>=0.20->catalogue<1.1.0,>=0.0.7->spacy<2.4.0,>=2.3.0->pl_core_news_md==2.3.0) (3.7.4.3)\n",
            "Requirement already satisfied: zipp>=0.5 in /usr/local/lib/python3.7/dist-packages (from importlib-metadata>=0.20->catalogue<1.1.0,>=0.0.7->spacy<2.4.0,>=2.3.0->pl_core_news_md==2.3.0) (3.6.0)\n",
            "Requirement already satisfied: chardet<4,>=3.0.2 in /usr/local/lib/python3.7/dist-packages (from requests<3.0.0,>=2.13.0->spacy<2.4.0,>=2.3.0->pl_core_news_md==2.3.0) (3.0.4)\n",
            "Requirement already satisfied: urllib3!=1.25.0,!=1.25.1,<1.26,>=1.21.1 in /usr/local/lib/python3.7/dist-packages (from requests<3.0.0,>=2.13.0->spacy<2.4.0,>=2.3.0->pl_core_news_md==2.3.0) (1.24.3)\n",
            "Requirement already satisfied: idna<3,>=2.5 in /usr/local/lib/python3.7/dist-packages (from requests<3.0.0,>=2.13.0->spacy<2.4.0,>=2.3.0->pl_core_news_md==2.3.0) (2.10)\n",
            "Requirement already satisfied: certifi>=2017.4.17 in /usr/local/lib/python3.7/dist-packages (from requests<3.0.0,>=2.13.0->spacy<2.4.0,>=2.3.0->pl_core_news_md==2.3.0) (2021.5.30)\n",
            "\u001b[38;5;2m✔ Download and installation successful\u001b[0m\n",
            "You can now load the model via spacy.load('pl_core_news_md')\n"
          ]
        }
      ]
    },
    {
      "cell_type": "code",
      "metadata": {
        "id": "5XrjBdQRWYT6"
      },
      "source": [
        "import spacy  \n",
        "from spacy.lang.pl.examples import sentences "
      ],
      "execution_count": 207,
      "outputs": []
    },
    {
      "cell_type": "code",
      "metadata": {
        "id": "yfde-DjhgMXp"
      },
      "source": [
        "#https://www.kaggle.com/pierremegret/gensim-word2vec-tutorial"
      ],
      "execution_count": 208,
      "outputs": []
    },
    {
      "cell_type": "code",
      "metadata": {
        "id": "sz2XaUcNWd_P"
      },
      "source": [
        "nlp = spacy.load(\"pl_core_news_md\")"
      ],
      "execution_count": 209,
      "outputs": []
    },
    {
      "cell_type": "code",
      "metadata": {
        "id": "p7jv962AZVcX"
      },
      "source": [
        "df=correct1.copy()"
      ],
      "execution_count": 210,
      "outputs": []
    },
    {
      "cell_type": "code",
      "metadata": {
        "id": "Cnw2EdArZLgR"
      },
      "source": [
        "def cleaning(doc):\n",
        "    # Lemmatizes and removes stopwords\n",
        "    # doc needs to be a spacy Doc object\n",
        "    txt = [token.lemma_ for token in doc if not token.is_stop]\n",
        "    # Word2Vec uses context words to learn the vector representation of a target word,\n",
        "    # if a sentence is only one or two words long,\n",
        "    # the benefit for the training is very small\n",
        "    #if len(txt) > 2:\n",
        "    return ' '.join(txt)"
      ],
      "execution_count": 211,
      "outputs": []
    },
    {
      "cell_type": "code",
      "metadata": {
        "id": "uKoKj-OZZPtP"
      },
      "source": [
        "brief_cleaning = (str(row).lower() for row in df['0'])"
      ],
      "execution_count": 212,
      "outputs": []
    },
    {
      "cell_type": "code",
      "metadata": {
        "id": "3nhd_QtRZmcP"
      },
      "source": [
        "from time import time"
      ],
      "execution_count": 213,
      "outputs": []
    },
    {
      "cell_type": "code",
      "metadata": {
        "colab": {
          "base_uri": "https://localhost:8080/"
        },
        "id": "rRhTHpH3Zi2a",
        "outputId": "3a6c70a6-f1ef-4c4e-ae11-a62f0e1ed069"
      },
      "source": [
        "t = time()\n",
        "\n",
        "txt = [cleaning(doc) for doc in nlp.pipe(brief_cleaning, batch_size=5000, n_threads=-1)]\n",
        "\n",
        "print('Time to clean up everything: {} mins'.format(round((time() - t) / 60, 2)))"
      ],
      "execution_count": 214,
      "outputs": [
        {
          "output_type": "stream",
          "name": "stdout",
          "text": [
            "Time to clean up everything: 0.13 mins\n"
          ]
        }
      ]
    },
    {
      "cell_type": "code",
      "metadata": {
        "colab": {
          "base_uri": "https://localhost:8080/"
        },
        "id": "-PFQwe5mZxzY",
        "outputId": "3d0ecf36-58c8-4136-f0f7-3a6f3b44089c"
      },
      "source": [
        "df_clean = pd.DataFrame({'clean': txt})\n",
        "df_clean = df_clean.dropna().drop_duplicates()\n",
        "df_clean.shape"
      ],
      "execution_count": 215,
      "outputs": [
        {
          "output_type": "execute_result",
          "data": {
            "text/plain": [
              "(7720, 1)"
            ]
          },
          "metadata": {},
          "execution_count": 215
        }
      ]
    },
    {
      "cell_type": "code",
      "metadata": {
        "colab": {
          "base_uri": "https://localhost:8080/"
        },
        "id": "xbsKMIST3fgS",
        "outputId": "ca08c201-1fc5-4594-f72a-1da900e3cc19"
      },
      "source": [
        "print(correct1.iloc[370:420].values)"
      ],
      "execution_count": 216,
      "outputs": [
        {
          "output_type": "stream",
          "name": "stdout",
          "text": [
            "[['nawet koła rewizjonistów konserwatystów. zarzucały one ']\n",
            " ['czyni zbyt wiele gestów pod adresem komu- ']\n",
            " ['rozbestwia psuje posoborową atmosferę ']\n",
            " ['potęguje kryzys. atmosfera wytrąciła ']\n",
            " ['argumenty kościele cierpiącym milczącym ']\n",
            " ['zachodzie przez niektórych hierarchów polskich. ']\n",
            " ['zdaniem red. czajkowskiego polsce ']\n",
            " ['normalizacji stosunków państwo-kościół. widzi papież ']\n",
            " ['watykan. polska dotychczas była wyspą którą ']\n",
            " ['omijały negatywne zjawiska kontestacji obojętności religijnej. ']\n",
            " ['papież dąży podpisania władzami polskimi porozumień ']\n",
            " ['gdyż jest prądy dotrą również polski. ']\n",
            " ['drive/MyDrive/kuba/zdjecia/fig115.jpg']\n",
            " ['ipn ']\n",
            " ['chce ochronić kościół przed wstrząsami jakie mają miejsce ']\n",
            " ['innych ']\n",
            " ['dyskusji zabrało głos tym księży. ']\n",
            " ['ewentualnym przyjazdem papieża ']\n",
            " ['episkopatu polskiego rozmów polska-watykan norma- ']\n",
            " ['stosunków państwo-kościół rolą biskupa dąbrowskiego ']\n",
            " ['watykanie pobytu problemem administracji ']\n",
            " ['ano ']\n",
            " ['kościelnej diecezjach stanowiskiem działaczy le. ']\n",
            " ['stowarzyszeń katolickich wobec normalizacji stosunków ']\n",
            " ['jeden księży krakowskich poruszył sprawę trudności koś- ']\n",
            " ['twierdząc kościół jest szykanowany przez ']\n",
            " ['władze terenowe. ']\n",
            " ['odpowiedzi udzielił czajkowski. ']\n",
            " ['nie reprezentuje ani ani całości katolików ']\n",
            " ['polsce. sprawie porozumień polska-watykan może mieć ']\n",
            " ['tylko głos doradczy. polska nie może występować watykanu ']\n",
            " ['rozwiązanie problemu administracji kościelnej diecezjach ']\n",
            " ['jeśli tego nie czyni związek radziecki. ']\n",
            " ['działalność kard. który podburza nacjonalistów ']\n",
            " ['stanowi prowokację wobec watykanu związku ']\n",
            " ['radzieckiego. red. czajkowski sytuacja pax ']\n",
            " ['tykanie uległa znacznej poprawie. ']\n",
            " ['części oficjalnej odbyło się sute przyjęcie dla ']\n",
            " ['wydz. dep. msw dnia ']\n",
            " ['drive/MyDrive/kuba/zdjecia/fig116.jpg']\n",
            " ['ipn ']\n",
            " ['.... ']\n",
            " ['dot. dniu ']\n",
            " ['mona ']\n",
            " ['nada ']\n",
            " ['oli ']\n",
            " ['oli ']\n",
            " ['tory ']\n",
            " ['pas win kopia ']\n",
            " ['dry ']]\n"
          ]
        }
      ]
    },
    {
      "cell_type": "code",
      "metadata": {
        "colab": {
          "base_uri": "https://localhost:8080/"
        },
        "id": "J-1r_jVe3Ran",
        "outputId": "0f48a152-1471-47be-8be5-e31486117e3b"
      },
      "source": [
        "df_clean.values[300:350]"
      ],
      "execution_count": 217,
      "outputs": [
        {
          "output_type": "execute_result",
          "data": {
            "text/plain": [
              "array([['socjalistyczny używać słowo partia .'],\n",
              "       ['polski rzeczpospolita min . olszowski wyrazić'],\n",
              "       ['uznanie polityka pojednanie pokój watykanu'],\n",
              "       ['osobisty wkład papież szacunek'],\n",
              "       ['katolik polsce wspólnie budować'],\n",
              "       ['konsekwencja wizyta min . olszowskiego watykanie'],\n",
              "       ['daleki rozmowa polski watykanem'],\n",
              "       ['przyjazd casaroli'],\n",
              "       ['rokować nadzieja osiągnięcie porozumienie'],\n",
              "       ['bazia konstytucja przepis'],\n",
              "       ['wolność religijny'],\n",
              "       ['prasa włoski światowy wytworzyć odpowiedny klimat'],\n",
              "       ['rozmowy móc zakłócić'],\n",
              "       ['kół rewizjonista konserwatysta . zarzucać'],\n",
              "       ['czynić zbyt gest adres kto -'],\n",
              "       ['rozbestwia psuć posoborowy atmosfera'],\n",
              "       ['potęgować kryzys . atmosfera wytrącić'],\n",
              "       ['argument kościół cierpieć milczeć'],\n",
              "       ['zachód który hierarcha polski .'],\n",
              "       ['zdanie red . czajkowskiego polsce'],\n",
              "       ['normalizacja stosunki państwo - kościół . widzieć papież'],\n",
              "       ['watykan . polska dotychczas wyspa który'],\n",
              "       ['omijać negatywny zjawisko kontestacja obojętność religijny .'],\n",
              "       ['papież dążyć podpisania władza polski porozumienie'],\n",
              "       ['prąd dotrzeć polski .'],\n",
              "       ['drive / mydrive / kuba / zdjecia / fig115.jpg'],\n",
              "       ['ochronić kościół wstrząs miejsce'],\n",
              "       ['dyskusja zabrać głos księża .'],\n",
              "       ['ewentualny przyjazd papież'],\n",
              "       ['episkopat polski rozmowy polski - watykan norma -'],\n",
              "       ['stosunki państwo - kościół rola biskup dąbrowskiego'],\n",
              "       ['watykanie pobyt problem administracja'],\n",
              "       ['ano'],\n",
              "       ['kościelny diecezja stanowisko działacz le .'],\n",
              "       ['stowarzyszenie katolicki wobec normalizacja stosunki'],\n",
              "       ['księża krakowski poruszyć sprawa trudność koś -'],\n",
              "       ['twierdzić kościół szykanować'],\n",
              "       ['władza terenowy .'],\n",
              "       ['odpowiedź udzielić czajkowski .'],\n",
              "       ['reprezentować całość katolik'],\n",
              "       ['polsce . sprawa porozumienie polski - watykan mieść'],\n",
              "       ['głos doradczy . polska występować watykanu'],\n",
              "       ['rozwiązanie problem administracja kościelny diecezja'],\n",
              "       ['czynić związka radziecki .'],\n",
              "       ['działalność kard . podburzać nacjonalista'],\n",
              "       ['stanowić prowokacja wobec watykanu związek'],\n",
              "       ['radziecki . red . czajkowski sytuacja pax'],\n",
              "       ['tykanie ulec znaczny poprawa .'],\n",
              "       ['część oficjalny odbyć suty przyjęcie'],\n",
              "       ['wydz . dep . msw dzień']], dtype=object)"
            ]
          },
          "metadata": {},
          "execution_count": 217
        }
      ]
    },
    {
      "cell_type": "code",
      "metadata": {
        "id": "oeFJwbsOZ69-"
      },
      "source": [
        "from gensim.models.phrases import Phrases, Phraser"
      ],
      "execution_count": 218,
      "outputs": []
    },
    {
      "cell_type": "code",
      "metadata": {
        "id": "zCGUFxfuZ9QJ"
      },
      "source": [
        "sent = [row.split() for row in df_clean['clean']]"
      ],
      "execution_count": 219,
      "outputs": []
    },
    {
      "cell_type": "code",
      "metadata": {
        "id": "Q0vJUgGrZ_cP"
      },
      "source": [
        "phrases = Phrases(sent, min_count=5, progress_per=100)"
      ],
      "execution_count": 220,
      "outputs": []
    },
    {
      "cell_type": "code",
      "metadata": {
        "id": "FrW4qvgIaSin"
      },
      "source": [
        "bigram = Phraser(phrases)"
      ],
      "execution_count": 221,
      "outputs": []
    },
    {
      "cell_type": "code",
      "metadata": {
        "id": "F5QKToePaaku"
      },
      "source": [
        "sentences = bigram[sent]"
      ],
      "execution_count": 222,
      "outputs": []
    },
    {
      "cell_type": "code",
      "metadata": {
        "id": "INlEdFrMajFe"
      },
      "source": [
        "from collections import defaultdict  # For word frequency"
      ],
      "execution_count": 223,
      "outputs": []
    },
    {
      "cell_type": "code",
      "metadata": {
        "colab": {
          "base_uri": "https://localhost:8080/"
        },
        "id": "E-qp1ubXacpO",
        "outputId": "a800a6a2-57fe-4070-b268-4b00d2964397"
      },
      "source": [
        "word_freq = defaultdict(int)\n",
        "for sent in sentences:\n",
        "    for i in sent:\n",
        "        word_freq[i] += 1\n",
        "len(word_freq)"
      ],
      "execution_count": 224,
      "outputs": [
        {
          "output_type": "execute_result",
          "data": {
            "text/plain": [
              "6311"
            ]
          },
          "metadata": {},
          "execution_count": 224
        }
      ]
    },
    {
      "cell_type": "code",
      "metadata": {
        "colab": {
          "base_uri": "https://localhost:8080/"
        },
        "id": "WfwYGTJf_-8I",
        "outputId": "8a21c7ea-f949-4a7a-946f-59261bc83748"
      },
      "source": [
        "word_freq['praca']"
      ],
      "execution_count": 249,
      "outputs": [
        {
          "output_type": "execute_result",
          "data": {
            "text/plain": [
              "224"
            ]
          },
          "metadata": {},
          "execution_count": 249
        }
      ]
    },
    {
      "cell_type": "code",
      "metadata": {
        "colab": {
          "base_uri": "https://localhost:8080/"
        },
        "id": "LzZmJs5taqjX",
        "outputId": "dcb0fb9d-2f84-4323-a719-c93d3b05d239"
      },
      "source": [
        "sorted(word_freq, key=word_freq.get, reverse=True)[:20]"
      ],
      "execution_count": 225,
      "outputs": [
        {
          "output_type": "execute_result",
          "data": {
            "text/plain": [
              "['.',\n",
              " '-',\n",
              " 'drive_/',\n",
              " 'mydrive_/',\n",
              " 'kuba_/',\n",
              " 'zdjecia_/',\n",
              " 'pax',\n",
              " 'praca',\n",
              " 'działalność',\n",
              " 'stowarzyszenie',\n",
              " 'sprawa',\n",
              " 'człowiek',\n",
              " 'rozwój',\n",
              " 'należeć',\n",
              " 'swój',\n",
              " 'polityczny',\n",
              " 'dzień',\n",
              " 'społeczny',\n",
              " 'kościół',\n",
              " 'nowy']"
            ]
          },
          "metadata": {},
          "execution_count": 225
        }
      ]
    },
    {
      "cell_type": "code",
      "metadata": {
        "id": "1oRxF2C-axVw"
      },
      "source": [
        "import multiprocessing\n",
        "\n",
        "from gensim.models import Word2Vec"
      ],
      "execution_count": 226,
      "outputs": []
    },
    {
      "cell_type": "code",
      "metadata": {
        "id": "TLseoLeNa1lJ"
      },
      "source": [
        "cores = multiprocessing.cpu_count()"
      ],
      "execution_count": 227,
      "outputs": []
    },
    {
      "cell_type": "code",
      "metadata": {
        "id": "bfxzi8Rqa5WS"
      },
      "source": [
        "w2v_model = Word2Vec(min_count=4,\n",
        "                     window=2,\n",
        "                     size=300,\n",
        "                     sample=6e-5, \n",
        "                     alpha=0.03, \n",
        "                     min_alpha=0.0007, \n",
        "                     negative=20,\n",
        "                     workers=cores-1)"
      ],
      "execution_count": 254,
      "outputs": []
    },
    {
      "cell_type": "code",
      "metadata": {
        "colab": {
          "base_uri": "https://localhost:8080/"
        },
        "id": "GFyTQjESa7gw",
        "outputId": "eff3060e-80e7-4465-e813-10526632ec20"
      },
      "source": [
        "t = time()\n",
        "\n",
        "w2v_model.build_vocab(sentences, progress_per=100)\n",
        "\n",
        "print('Time to build vocab: {} mins'.format(round((time() - t) / 60, 2)))"
      ],
      "execution_count": 255,
      "outputs": [
        {
          "output_type": "stream",
          "name": "stdout",
          "text": [
            "Time to build vocab: 0.01 mins\n"
          ]
        }
      ]
    },
    {
      "cell_type": "code",
      "metadata": {
        "colab": {
          "base_uri": "https://localhost:8080/"
        },
        "id": "dCfpZSOUbAH3",
        "outputId": "dbd1a324-6071-411f-f905-1267d8506627"
      },
      "source": [
        "t = time()\n",
        "\n",
        "w2v_model.train(sentences, total_examples=w2v_model.corpus_count, epochs=30, report_delay=1)\n",
        "\n",
        "print('Time to train the model: {} mins'.format(round((time() - t) / 60, 2)))"
      ],
      "execution_count": 256,
      "outputs": [
        {
          "output_type": "stream",
          "name": "stdout",
          "text": [
            "Time to train the model: 0.09 mins\n"
          ]
        }
      ]
    },
    {
      "cell_type": "code",
      "metadata": {
        "id": "LkTd2670bF94"
      },
      "source": [
        "w2v_model.init_sims(replace=True)"
      ],
      "execution_count": 257,
      "outputs": []
    },
    {
      "cell_type": "code",
      "metadata": {
        "colab": {
          "base_uri": "https://localhost:8080/"
        },
        "id": "iTe3tuuw--uW",
        "outputId": "3ded9c85-26ad-425e-e798-ba3f180719b4"
      },
      "source": [
        "word_freq['czajkowski']"
      ],
      "execution_count": 258,
      "outputs": [
        {
          "output_type": "execute_result",
          "data": {
            "text/plain": [
              "4"
            ]
          },
          "metadata": {},
          "execution_count": 258
        }
      ]
    },
    {
      "cell_type": "code",
      "metadata": {
        "colab": {
          "base_uri": "https://localhost:8080/"
        },
        "id": "efydYfPfbML-",
        "outputId": "ba0211f3-7e80-4d83-a9fc-e1341bf2f018"
      },
      "source": [
        "w2v_model.wv.most_similar(positive=[\"czajkowski\"])"
      ],
      "execution_count": 263,
      "outputs": [
        {
          "output_type": "execute_result",
          "data": {
            "text/plain": [
              "[('zdawać', 0.9999262094497681),\n",
              " ('chrześcijanin', 0.9999228715896606),\n",
              " ('stworzyć', 0.9999227523803711),\n",
              " ('mały', 0.9999226927757263),\n",
              " ('spotkać', 0.999922513961792),\n",
              " ('teza', 0.9999210238456726),\n",
              " ('mówić', 0.9999204874038696),\n",
              " ('oddziaływanie', 0.9999200105667114),\n",
              " ('parafia', 0.9999194741249084),\n",
              " ('sfera', 0.9999189376831055)]"
            ]
          },
          "metadata": {},
          "execution_count": 263
        }
      ]
    },
    {
      "cell_type": "code",
      "metadata": {
        "colab": {
          "base_uri": "https://localhost:8080/"
        },
        "id": "unRJaq3NdnqU",
        "outputId": "175027f8-0e66-4f70-96d1-43c5b4f77b39"
      },
      "source": [
        "w2v_model.wv.most_similar(negative=[\"czajkowski\"])"
      ],
      "execution_count": 264,
      "outputs": [
        {
          "output_type": "execute_result",
          "data": {
            "text/plain": [
              "[('tez', 0.021648451685905457),\n",
              " ('wiec', -0.05045374482870102),\n",
              " ('rota', -0.9885035753250122),\n",
              " ('bom', -0.9990671873092651),\n",
              " ('mal', -0.9992461800575256),\n",
              " ('bal', -0.9994416236877441),\n",
              " ('dow', -0.9995112419128418),\n",
              " ('wę', -0.9995450377464294),\n",
              " ('pawa', -0.9996192455291748),\n",
              " ('drive_/', -0.999666154384613)]"
            ]
          },
          "metadata": {},
          "execution_count": 264
        }
      ]
    },
    {
      "cell_type": "code",
      "metadata": {
        "colab": {
          "base_uri": "https://localhost:8080/",
          "height": 91
        },
        "id": "RCR5Sog9d-Vo",
        "outputId": "0e7f11a0-470a-4ce3-9429-9f7b886c79d8"
      },
      "source": [
        "w2v_model.wv.doesnt_match(['pax', 'socjalizm', 'chrze_cija'])"
      ],
      "execution_count": 261,
      "outputs": [
        {
          "output_type": "stream",
          "name": "stderr",
          "text": [
            "/usr/local/lib/python3.7/dist-packages/gensim/models/keyedvectors.py:895: FutureWarning: arrays to stack must be passed as a \"sequence\" type such as list or tuple. Support for non-sequence iterables such as generators is deprecated as of NumPy 1.16 and will raise an error in the future.\n",
            "  vectors = vstack(self.word_vec(word, use_norm=True) for word in used_words).astype(REAL)\n"
          ]
        },
        {
          "output_type": "execute_result",
          "data": {
            "application/vnd.google.colaboratory.intrinsic+json": {
              "type": "string"
            },
            "text/plain": [
              "'pax'"
            ]
          },
          "metadata": {},
          "execution_count": 261
        }
      ]
    },
    {
      "cell_type": "code",
      "metadata": {
        "id": "eA-kBou3_YzV"
      },
      "source": [
        ""
      ],
      "execution_count": null,
      "outputs": []
    },
    {
      "cell_type": "code",
      "metadata": {
        "id": "csqasVVtfSfx"
      },
      "source": [
        "import numpy as np\n",
        "import matplotlib.pyplot as plt\n",
        "%matplotlib inline\n",
        " \n",
        "import seaborn as sns\n",
        "sns.set_style(\"darkgrid\")\n",
        "\n",
        "from sklearn.decomposition import PCA\n",
        "from sklearn.manifold import TSNE"
      ],
      "execution_count": 236,
      "outputs": []
    },
    {
      "cell_type": "code",
      "metadata": {
        "id": "yO7QkfCJfWDK"
      },
      "source": [
        "def tsnescatterplot(model, word, list_names):\n",
        "    \"\"\" Plot in seaborn the results from the t-SNE dimensionality reduction algorithm of the vectors of a query word,\n",
        "    its list of most similar words, and a list of words.\n",
        "    \"\"\"\n",
        "    arrays = np.empty((0, 300), dtype='f')\n",
        "    word_labels = [word]\n",
        "    color_list  = ['red']\n",
        "\n",
        "    # adds the vector of the query word\n",
        "    arrays = np.append(arrays, model.wv.__getitem__([word]), axis=0)\n",
        "    \n",
        "    # gets list of most similar words\n",
        "    close_words = model.wv.most_similar([word])\n",
        "    \n",
        "    # adds the vector for each of the closest words to the array\n",
        "    for wrd_score in close_words:\n",
        "        wrd_vector = model.wv.__getitem__([wrd_score[0]])\n",
        "        word_labels.append(wrd_score[0])\n",
        "        color_list.append('blue')\n",
        "        arrays = np.append(arrays, wrd_vector, axis=0)\n",
        "    \n",
        "    # adds the vector for each of the words from list_names to the array\n",
        "    for wrd in list_names:\n",
        "        wrd_vector = model.wv.__getitem__([wrd])\n",
        "        word_labels.append(wrd)\n",
        "        color_list.append('green')\n",
        "        arrays = np.append(arrays, wrd_vector, axis=0)\n",
        "        \n",
        "    # Reduces the dimensionality from 300 to 50 dimensions with PCA\n",
        "    reduc = PCA(n_components=18).fit_transform(arrays)\n",
        "    \n",
        "    # Finds t-SNE coordinates for 2 dimensions\n",
        "    np.set_printoptions(suppress=True)\n",
        "    \n",
        "    Y = TSNE(n_components=2, random_state=0, perplexity=15).fit_transform(reduc)\n",
        "    \n",
        "    # Sets everything up to plot\n",
        "    df = pd.DataFrame({'x': [x for x in Y[:, 0]],\n",
        "                       'y': [y for y in Y[:, 1]],\n",
        "                       'words': word_labels,\n",
        "                       'color': color_list})\n",
        "    \n",
        "    fig, _ = plt.subplots()\n",
        "    fig.set_size_inches(9, 9)\n",
        "    \n",
        "    # Basic plot\n",
        "    p1 = sns.regplot(data=df,\n",
        "                     x=\"x\",\n",
        "                     y=\"y\",\n",
        "                     fit_reg=False,\n",
        "                     marker=\"o\",\n",
        "                     scatter_kws={'s': 40,\n",
        "                                  'facecolors': df['color']\n",
        "                                 }\n",
        "                    )\n",
        "    \n",
        "    # Adds annotations one by one with a loop\n",
        "    for line in range(0, df.shape[0]):\n",
        "         p1.text(df[\"x\"][line],\n",
        "                 df['y'][line],\n",
        "                 '  ' + df[\"words\"][line].title(),\n",
        "                 horizontalalignment='left',\n",
        "                 verticalalignment='bottom', size='medium',\n",
        "                 color=df['color'][line],\n",
        "                 weight='normal'\n",
        "                ).set_size(15)\n",
        "\n",
        "    \n",
        "    plt.xlim(Y[:, 0].min()-50, Y[:, 0].max()+50)\n",
        "    plt.ylim(Y[:, 1].min()-50, Y[:, 1].max()+50)\n",
        "            \n",
        "    plt.title('t-SNE visualization for {}'.format(word.title()))"
      ],
      "execution_count": 237,
      "outputs": []
    },
    {
      "cell_type": "code",
      "metadata": {
        "colab": {
          "base_uri": "https://localhost:8080/"
        },
        "id": "Aa4XASwhfceQ",
        "outputId": "ef12773e-a555-48c9-bf53-a0bf94b86ce9"
      },
      "source": [
        "sorted(word_freq, key=word_freq.get, reverse=False)[:20]"
      ],
      "execution_count": 238,
      "outputs": [
        {
          "output_type": "execute_result",
          "data": {
            "text/plain": [
              "['fig1.jpg',\n",
              " 'archiwum',\n",
              " 'kart',\n",
              " 'pamięć',\n",
              " 'zrzeszenie',\n",
              " 'fig10.jpg',\n",
              " 'gł',\n",
              " 'mem',\n",
              " 'honorarium',\n",
              " 'podróża',\n",
              " 'służbowy',\n",
              " 'remonta',\n",
              " 'augustyna',\n",
              " 'społ.',\n",
              " 'opłata',\n",
              " 'ww',\n",
              " 'razem',\n",
              " 'fig100.jpg',\n",
              " 'pogłębiać',\n",
              " 'skłaniać']"
            ]
          },
          "metadata": {},
          "execution_count": 238
        }
      ]
    },
    {
      "cell_type": "code",
      "metadata": {
        "colab": {
          "base_uri": "https://localhost:8080/",
          "height": 566
        },
        "id": "mGGwa4ngfXq9",
        "outputId": "1dad79e2-cebb-437b-9e09-d49ed9193e6e"
      },
      "source": [
        "tsnescatterplot(w2v_model, 'pax', ['praca', 'działalność', 'człowiek', 'polityczny', 'kraj', 'kościół', 'społeczny','katolicki','czajkowski'])"
      ],
      "execution_count": 262,
      "outputs": [
        {
          "output_type": "display_data",
          "data": {
            "image/png": "[encoded data removed]",
            "text/plain": [
              "<Figure size 648x648 with 1 Axes>"
            ]
          },
          "metadata": {}
        }
      ]
    }
  ]
}