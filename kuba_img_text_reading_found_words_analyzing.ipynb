{
  "nbformat": 4,
  "nbformat_minor": 0,
  "metadata": {
    "colab": {
      "name": "kuba_img_text_reading_found_words_analyzing.ipynb",
      "provenance": [],
      "collapsed_sections": [],
      "authorship_tag": "ABX9TyNE0YXTlV8FZvoYz7HarT05",
      "include_colab_link": true
    },
    "kernelspec": {
      "display_name": "Python 3",
      "name": "python3"
    }
  },
  "cells": [
    {
      "cell_type": "markdown",
      "metadata": {
        "id": "view-in-github",
        "colab_type": "text"
      },
      "source": [
        "<a href=\"https://colab.research.google.com/github/KacperGrodecki/image_proccessing/blob/main/kuba_img_text_reading_found_words_analyzing.ipynb\" target=\"_parent\"><img src=\"https://colab.research.google.com/assets/colab-badge.svg\" alt=\"Open In Colab\"/></a>"
      ]
    },
    {
      "cell_type": "code",
      "metadata": {
        "colab": {
          "base_uri": "https://localhost:8080/"
        },
        "id": "IJjlrbzGKZi4",
        "outputId": "4b96bcaa-c87c-4db8-ed3b-e3a01db21c72"
      },
      "source": [
        "from google.colab import drive\n",
        "drive.mount('/content/drive')"
      ],
      "execution_count": 1,
      "outputs": [
        {
          "output_type": "stream",
          "name": "stdout",
          "text": [
            "Drive already mounted at /content/drive; to attempt to forcibly remount, call drive.mount(\"/content/drive\", force_remount=True).\n"
          ]
        }
      ]
    },
    {
      "cell_type": "code",
      "metadata": {
        "id": "Emd5hsZQNPjv",
        "outputId": "ee1d983f-6859-449a-82fd-9951d34b73e6",
        "colab": {
          "base_uri": "https://localhost:8080/"
        }
      },
      "source": [
        "pip install pyenchant"
      ],
      "execution_count": 2,
      "outputs": [
        {
          "output_type": "stream",
          "name": "stdout",
          "text": [
            "Requirement already satisfied: pyenchant in /usr/local/lib/python3.7/dist-packages (3.2.2)\n"
          ]
        }
      ]
    },
    {
      "cell_type": "code",
      "metadata": {
        "id": "6Ez7bGfcNR8A",
        "outputId": "35bee260-effe-4fd9-856e-ae03bc91eb02",
        "colab": {
          "base_uri": "https://localhost:8080/"
        }
      },
      "source": [
        "!apt install -qq enchant"
      ],
      "execution_count": 3,
      "outputs": [
        {
          "output_type": "stream",
          "name": "stdout",
          "text": [
            "enchant is already the newest version (1.6.0-11.1).\n",
            "0 upgraded, 0 newly installed, 0 to remove and 37 not upgraded.\n"
          ]
        }
      ]
    },
    {
      "cell_type": "code",
      "metadata": {
        "id": "lLIbXAReNU7u",
        "outputId": "78bedc3c-0166-4302-86f5-1ff702179bbd",
        "colab": {
          "base_uri": "https://localhost:8080/"
        }
      },
      "source": [
        "!apt-get install myspell-pl"
      ],
      "execution_count": 4,
      "outputs": [
        {
          "output_type": "stream",
          "name": "stdout",
          "text": [
            "Reading package lists... Done\n",
            "Building dependency tree       \n",
            "Reading state information... Done\n",
            "myspell-pl is already the newest version (20170707-1).\n",
            "0 upgraded, 0 newly installed, 0 to remove and 37 not upgraded.\n"
          ]
        }
      ]
    },
    {
      "cell_type": "code",
      "metadata": {
        "id": "2wUfYi8wWZLT"
      },
      "source": [
        "import enchant\n",
        "import pandas as pd\n",
        "import cv2\n",
        "import numpy as np\n",
        "import re\n",
        "import matplotlib.pyplot as plt      \n",
        "import pickle\n",
        "from os import listdir\n",
        "from os.path import isfile, join\n",
        "import gc\n",
        "import sys\n",
        "import pickle\n",
        "import string"
      ],
      "execution_count": 5,
      "outputs": []
    },
    {
      "cell_type": "code",
      "metadata": {
        "id": "qHqBFd0FNa16"
      },
      "source": [
        "d = enchant.Dict('PL')"
      ],
      "execution_count": 6,
      "outputs": []
    },
    {
      "cell_type": "code",
      "metadata": {
        "id": "VSCMbCO6Dt6W"
      },
      "source": [
        "text=pd.read_csv('drive/MyDrive/kuba/odczyt_0_85.csv',index_col=0)"
      ],
      "execution_count": 7,
      "outputs": []
    },
    {
      "cell_type": "code",
      "metadata": {
        "colab": {
          "base_uri": "https://localhost:8080/",
          "height": 665
        },
        "id": "JM-8dUOrcvXM",
        "outputId": "7ab8dec1-593b-4dd3-e5dc-f69f88855327"
      },
      "source": [
        "text.tail(20)"
      ],
      "execution_count": 8,
      "outputs": [
        {
          "output_type": "execute_result",
          "data": {
            "text/html": [
              "<div>\n",
              "<style scoped>\n",
              "    .dataframe tbody tr th:only-of-type {\n",
              "        vertical-align: middle;\n",
              "    }\n",
              "\n",
              "    .dataframe tbody tr th {\n",
              "        vertical-align: top;\n",
              "    }\n",
              "\n",
              "    .dataframe thead th {\n",
              "        text-align: right;\n",
              "    }\n",
              "</style>\n",
              "<table border=\"1\" class=\"dataframe\">\n",
              "  <thead>\n",
              "    <tr style=\"text-align: right;\">\n",
              "      <th></th>\n",
              "      <th>0</th>\n",
              "    </tr>\n",
              "  </thead>\n",
              "  <tbody>\n",
              "    <tr>\n",
              "      <th>13667</th>\n",
              "      <td>nowymi i prasą paxowską; Machowski - nt. kolpo...</td>\n",
              "    </tr>\n",
              "    <tr>\n",
              "      <th>13668</th>\n",
              "      <td>PAX, W dyskusji zebrało głos 15 osób w tym Rei...</td>\n",
              "    </tr>\n",
              "    <tr>\n",
              "      <th>13669</th>\n",
              "      <td>wicz, Dębrowski, Podsumowania dyskusji dokonał...</td>\n",
              "    </tr>\n",
              "    <tr>\n",
              "      <th>13670</th>\n",
              "      <td>W rererciech, podsumowaniu orcz dyskusji na uwagę</td>\n",
              "    </tr>\n",
              "    <tr>\n",
              "      <th>13671</th>\n",
              "      <td>zasługują:</td>\n",
              "    </tr>\n",
              "    <tr>\n",
              "      <th>13672</th>\n",
              "      <td>tcena kciolicyzmu w Polsce . Stwierdzano, że:</td>\n",
              "    </tr>\n",
              "    <tr>\n",
              "      <th>13673</th>\n",
              "      <td>ccena kciolicyzmu w Polsce , Stwierdzano, że:</td>\n",
              "    </tr>\n",
              "    <tr>\n",
              "      <th>13674</th>\n",
              "      <td>część biskupów i duchowieńsiwa wyraża niezadow...</td>\n",
              "    </tr>\n",
              "    <tr>\n",
              "      <th>13675</th>\n",
              "      <td>z zarysowsujęcych się możliwości normalizacji ...</td>\n",
              "    </tr>\n",
              "    <tr>\n",
              "      <th>13676</th>\n",
              "      <td>między Polską a Watykanem;</td>\n",
              "    </tr>\n",
              "    <tr>\n",
              "      <th>13677</th>\n",
              "      <td>w związku z reformą oświaty i wychowenia oraz ...</td>\n",
              "    </tr>\n",
              "    <tr>\n",
              "      <th>13678</th>\n",
              "      <td>dostosowania katechizacji do nowych warunków u...</td>\n",
              "    </tr>\n",
              "    <tr>\n",
              "      <th>13679</th>\n",
              "      <td>się katostrofalny stan nauki religii w punktac...</td>\n",
              "    </tr>\n",
              "    <tr>\n",
              "      <th>13680</th>\n",
              "      <td>nych oraz brak inicjatyw u księży w zakresie u...</td>\n",
              "    </tr>\n",
              "    <tr>\n",
              "      <th>13681</th>\n",
              "      <td>pracy no tym odcinku;</td>\n",
              "    </tr>\n",
              "    <tr>\n",
              "      <th>13682</th>\n",
              "      <td>w środo /iskach katolików świeckich /\"Znak\", C...</td>\n",
              "    </tr>\n",
              "    <tr>\n",
              "      <th>13683</th>\n",
              "      <td>narosta rozkład organizacyjny, spowodowany bra...</td>\n",
              "    </tr>\n",
              "    <tr>\n",
              "      <th>13684</th>\n",
              "      <td>gramu działania. Świadczy to o bezsensowności ...</td>\n",
              "    </tr>\n",
              "    <tr>\n",
              "      <th>13685</th>\n",
              "      <td>tzw. trójpolówki katolickiej w Polsce;</td>\n",
              "    </tr>\n",
              "    <tr>\n",
              "      <th>13686</th>\n",
              "      <td>99 z 348</td>\n",
              "    </tr>\n",
              "  </tbody>\n",
              "</table>\n",
              "</div>"
            ],
            "text/plain": [
              "                                                       0\n",
              "13667  nowymi i prasą paxowską; Machowski - nt. kolpo...\n",
              "13668  PAX, W dyskusji zebrało głos 15 osób w tym Rei...\n",
              "13669  wicz, Dębrowski, Podsumowania dyskusji dokonał...\n",
              "13670  W rererciech, podsumowaniu orcz dyskusji na uwagę\n",
              "13671                                         zasługują:\n",
              "13672      tcena kciolicyzmu w Polsce . Stwierdzano, że:\n",
              "13673      ccena kciolicyzmu w Polsce , Stwierdzano, że:\n",
              "13674  część biskupów i duchowieńsiwa wyraża niezadow...\n",
              "13675  z zarysowsujęcych się możliwości normalizacji ...\n",
              "13676                         między Polską a Watykanem;\n",
              "13677  w związku z reformą oświaty i wychowenia oraz ...\n",
              "13678  dostosowania katechizacji do nowych warunków u...\n",
              "13679  się katostrofalny stan nauki religii w punktac...\n",
              "13680  nych oraz brak inicjatyw u księży w zakresie u...\n",
              "13681                              pracy no tym odcinku;\n",
              "13682  w środo /iskach katolików świeckich /\"Znak\", C...\n",
              "13683  narosta rozkład organizacyjny, spowodowany bra...\n",
              "13684  gramu działania. Świadczy to o bezsensowności ...\n",
              "13685             tzw. trójpolówki katolickiej w Polsce;\n",
              "13686                                           99 z 348"
            ]
          },
          "metadata": {},
          "execution_count": 8
        }
      ]
    },
    {
      "cell_type": "code",
      "metadata": {
        "id": "teg4i3b9cVMY"
      },
      "source": [
        "#check dictionary correction\n",
        "string_pl=string.ascii_lowercase+'ąśćęó'\n",
        "\n",
        "file='drive/MyDrive/kuba/odm.txt'\n",
        "\n",
        "\n",
        "def make_dict(file):\n",
        "    with open(file, encoding='UTF8') as f:\n",
        "        lines = f.readlines()\n",
        "    dict_pl = []\n",
        "    for line in lines:\n",
        "        word=line.split()\n",
        "        dict_pl.append(word)\n",
        " \n",
        "    return [item.replace(',','') for sublist in dict_pl for item in sublist]\n",
        "\n",
        "dict_pl=make_dict(file)\n",
        "\n",
        "def check_pl(text):\n",
        "    return text in dict_pl \n",
        "\n",
        "def dicts_pl():\n",
        "    dicts=[None]*len(string_pl)\n",
        "    i=0\n",
        "    for ch in string_pl:\n",
        "        dicts[i]=[x for x in dict_pl if x[0]==ch ]\n",
        "        i+=1\n",
        "    return dicts\n",
        "        \n",
        "\n",
        "dicts=dicts_pl()\n",
        "\n",
        "key=[None]*len(string_pl)\n",
        "i=0\n",
        "for ch in string_pl:\n",
        "        key[i]=ch\n",
        "        i+=1\n",
        "\n",
        "def check_string_pl(a):\n",
        "    result=0\n",
        "    a=''.join(filter(whitelist.__contains__, a))\n",
        "    for word in a.split():\n",
        "       # print(word,' ',check_pl(word))\n",
        "        result+=int(check_pl_alfabet(word.lower()))\n",
        "    if len(a.split())>0:\n",
        "        return result/len(a.split())\n",
        "    else:\n",
        "        return 0\n",
        "\n",
        "def word_correction(a):\n",
        "    for word in a.split():\n",
        "        if len(word)>1:\n",
        "            if check_string_pl(word.lower())<1:\n",
        "                for i in range(0,len(word)+1):\n",
        "                    if i==0:\n",
        "                        for replace in String_pl:\n",
        "                            word_new=replace+word[1:]\n",
        "                            if check_pl_alfabet(word_new):\n",
        "                                print(word_new)\n",
        "                    else:\n",
        "                        for replace in String_pl:\n",
        "                            word_new=word[:i]+replace+word[i+1:]\n",
        "                            if check_pl_alfabet(word_new):\n",
        "                                print(word_new)"
      ],
      "execution_count": 9,
      "outputs": []
    },
    {
      "cell_type": "code",
      "metadata": {
        "id": "umVg09PgeGXg"
      },
      "source": [
        "from difflib import SequenceMatcher\n",
        "\n",
        "def similar(a, b):\n",
        "    return SequenceMatcher(None, a, b).ratio()"
      ],
      "execution_count": 10,
      "outputs": []
    },
    {
      "cell_type": "code",
      "metadata": {
        "id": "GYZRHp1IVqhD"
      },
      "source": [
        "import re"
      ],
      "execution_count": 11,
      "outputs": []
    },
    {
      "cell_type": "code",
      "metadata": {
        "id": "CDbxbwkqWBKE"
      },
      "source": [
        "#text='\\sdv\\bf#'"
      ],
      "execution_count": 12,
      "outputs": []
    },
    {
      "cell_type": "code",
      "metadata": {
        "id": "mtaoyr3uVskz"
      },
      "source": [
        "#re.sub(r'\\W+', '', text)"
      ],
      "execution_count": 13,
      "outputs": []
    },
    {
      "cell_type": "code",
      "metadata": {
        "id": "iTo6hrTec4qF"
      },
      "source": [
        "def word_correction(a):\n",
        "    a=str(a)\n",
        "    correct=[]\n",
        "    for word in a.split():\n",
        "        word=re.sub(r'\\W+', '', word)\n",
        "        if len(word)>1:\n",
        "            if word.isnumeric():\n",
        "              continue\n",
        "            try:\n",
        "              #print('word',word)\n",
        "              if int(d.check(word))==1:\n",
        "                return word\n",
        "              else:\n",
        "                #print('word',word)\n",
        "                letter_dict=dicts[ord(word.lower()[0])-97]\n",
        "                for local in letter_dict:\n",
        "                  score=similar(word.lower(),local)\n",
        "                  if score>=0.9 and score<1:\n",
        "                    print('sencence ',a,'word',word,' local ',local,' score ',score)\n",
        "                #maximum=max([similar(word.lower(),local) for local in letter_dict])\n",
        "                #print(word,' ',maximum)\n",
        "                correct.append(maximum)\n",
        "            except:\n",
        "              pass\n",
        "    return np.array(correct)"
      ],
      "execution_count": 15,
      "outputs": []
    },
    {
      "cell_type": "code",
      "metadata": {
        "colab": {
          "base_uri": "https://localhost:8080/"
        },
        "id": "0-VkBr6pckM9",
        "outputId": "237e97a3-bf8b-46a1-fadd-d76a85e6043e"
      },
      "source": [
        "correct=text.applymap(lambda x: word_correction(x))"
      ],
      "execution_count": null,
      "outputs": [
        {
          "output_type": "stream",
          "name": "stdout",
          "text": [
            "sencence  6. Gimnazjam św, Augustyna word Gimnazjam  local  gimnazja  score  0.9411764705882353\n",
            "sencence  6. Gimnazjam św, Augustyna word Gimnazjam  local  gimnazjami  score  0.9473684210526315\n",
            "sencence  / konierencje, kursy, zjazdy, word konierencje  local  konferencje  score  0.9090909090909091\n",
            "sencence  pogłębiejące się trudności wewnąirzkościelne powodują, word pogłębiejące  local  pogłębiające  score  0.9166666666666666\n",
            "sencence  gotowywanie materiałów pomocniczych do pracy duszpas= word gotowywanie  local  gotowanie  score  0.9\n",
            "sencence  terskiej księży, artykuły zamieszczane w miesięczniku word terskiej  local  twerskiej  score  0.9411764705882353\n",
            "sencence  terskiej księży; artykuły zamieszczane w miesięczniku word terskiej  local  twerskiej  score  0.9411764705882353\n",
            "sencence  uŻycie i Myśl\" mają służyć księżom i inteligencji kato- word uŻycie  local  ulżycie  score  0.9230769230769231\n",
            "sencence  uŻycie i Myśl\" mają służyć księżom i inteligencji kato- word uŻycie  local  użyci  score  0.9090909090909091\n",
            "sencence  uŻycie i Myśl\" mają służyć księżom i inteligencji kato- word uŻycie  local  użyciem  score  0.9230769230769231\n",
            "sencence  uŻycie i Myśl\" mają służyć księżom i inteligencji kato- word uŻycie  local  użyjcie  score  0.9230769230769231\n",
            "sencence  uŻycie i Myśl\" mają służyć księżom i inteligencji kato- word uŻycie  local  używcie  score  0.9230769230769231\n",
            "sencence  lickiej; word lickiej  local  laickiej  score  0.9333333333333333\n",
            "sencence  lickiej; word lickiej  local  linckiej  score  0.9333333333333333\n",
            "sencence  zenik świadomości ideowo-politycznej u niektórych word zenik  local  zewnik  score  0.9090909090909091\n",
            "sencence  w płoceniu składek, notowane są przykłady fałszowania word płoceniu  local  poceniu  score  0.9333333333333333\n",
            "sencence  wywać będą mogli wyłącznie odpowiedzialni pracownicy PA word wywać  local  wyrwać  score  0.9090909090909091\n",
            "sencence  wywać będą mogli wyłącznie odpowiedzialni pracownicy PA word wywać  local  wywarć  score  0.9090909090909091\n",
            "sencence  wywać będą mogli wyłącznie odpowiedzialni pracownicy PA word wywać  local  wywiać  score  0.9090909090909091\n",
            "sencence  wywać będą mogli wyłącznie odpowiedzialni pracownicy PA word wywać  local  wyzwać  score  0.9090909090909091\n",
            "sencence  wywać będą mogli wyłącznie odpowiedzialni pracownicy PA word wywać  local  wzywać  score  0.9090909090909091\n",
            "sencence  wywać będą mogli wyłącznie odpowiedzialni pracownicy PA word wywać  local  wżywać  score  0.9090909090909091\n",
            "sencence  dewocjonalii. word dewocjonalii  local  dewocjonalia  score  0.9166666666666666\n",
            "sencence  dewocjonalii. word dewocjonalii  local  dewocjonaliami  score  0.9230769230769231\n",
            "sencence  W trokcie obrad zatwierdzono przyjęcie 513 nowych kan- word trokcie  local  trocie  score  0.9230769230769231\n",
            "sencence  | -gekowskiego\n",
            "Woj 1 word gekowskiego  local  gejowskiego  score  0.9090909090909091\n",
            "sencence  | -gekowskiego\n",
            "Woj 1 word gekowskiego  local  gierkowskiego  score  0.9166666666666666\n",
            "sencence  lajne word lajne  local  lajnie  score  0.9090909090909091\n",
            "sencence  112:\n",
            "3:12 2 © 12 a\n",
            "\"SEWIE) AA\n",
            "\" 4s word SEWIE  local  selwie  score  0.9090909090909091\n",
            "sencence  112:\n",
            "3:12 2 © 12 a\n",
            "\"SEWIE) AA\n",
            "\" 4s word SEWIE  local  serwie  score  0.9090909090909091\n",
            "sencence  112:\n",
            "3:12 2 © 12 a\n",
            "\"SEWIE) AA\n",
            "\" 4s word SEWIE  local  siewie  score  0.9090909090909091\n",
            "sencence  112:\n",
            "3:12 2 © 12 a\n",
            "\"SEWIE) AA\n",
            "\" 4s word SEWIE  local  stewie  score  0.9090909090909091\n",
            "sencence  uwzzlę nicejcy' b word nicejcy  local  nicejscy  score  0.9333333333333333\n",
            "sencence  uleuciwa propożcje «w wytorze tzuwatów i word wytorze  local  wyorze  score  0.9230769230769231\n",
            "sencence  uleuciwa propożcje «w wytorze tzuwatów i word wytorze  local  wytrze  score  0.9230769230769231\n",
            "sencence  uleuciwa propożcje «w wytorze tzuwatów i word wytorze  local  wytworze  score  0.9333333333333333\n",
            "sencence  Llmig przee: „sorzamie kćr zalintr.szowań, anużowa. word przee  local  przede  score  0.9090909090909091\n",
            "sencence  Llmig przee: „sorzamie kćr zalintr.szowań, anużowa. word przee  local  przeje  score  0.9090909090909091\n",
            "sencence  Llmig przee: „sorzamie kćr zalintr.szowań, anużowa. word przee  local  przeze  score  0.9090909090909091\n",
            "sencence  z p - - - - l m » - 7 . — a a e _ 2 u\n",
            "lnia przaz; (.ovzenie kóz zainte.szcuań, Anoużowa. word ovzenie  local  ozenie  score  0.9230769230769231\n",
            "sencence  iDokum, Wydaw, nieperiecyczne word Wydaw  local  wydław  score  0.9090909090909091\n",
            "sencence  cćziałalności gospocarczej \"Ars Christiana\" w wysokości : word gospocarczej  local  gospodarczej  score  0.9166666666666666\n",
            "sencence  OEYCZ%z2: \"BLADTO\" 210, „la word BLADTO  local  blado  score  0.9090909090909091\n",
            "sencence  pea 7 . LZ. ?\n",
            "u ROWK=JE . OLtEŁ word ROWKJE  local  rowkuje  score  0.9230769230769231\n",
            "sencence  Z£EZCILILIORŚRZ GODEJ word GODEJ  local  godnej  score  0.9090909090909091\n",
            "sencence  \"LTCLU oubyła s1$ « «niu 9.1,1374 r, v.avic= word oubyła  local  obyła  score  0.9090909090909091\n",
            "sencence  orcz zejaczierie uziatiliosci rcunych z raswie= word raswie  local  rasie  score  0.9090909090909091\n",
            "sencence  orcz zejaczierie uziatiliosci rcunych z raswie= word raswie  local  rasowie  score  0.9230769230769231\n",
            "sencence  orcz zejaczierie uziatiliosci rcunych z raswie= word raswie  local  rawie  score  0.9090909090909091\n",
            "sencence   „rzygotowania Piza Go obcnhoców RMci-lecia PAL word rzygotowania  local  rozgotowania  score  0.9166666666666666\n",
            "sencence   „rzygotowania Pi:a ao obcnowów M_CLi-lecia PAL word rzygotowania  local  rozgotowania  score  0.9166666666666666\n",
            "sencence  . rozsyijania precy kulturalicj poprzez word rozsyijania  local  rozsiania  score  0.9\n",
            "sencence  . rozsyijania precy kulturalicj poprzez word rozsyijania  local  rozsypiania  score  0.9090909090909091\n",
            "sencence  « rozzijanie precy kulturaliej poprzez word rozzijanie  local  rozbijanie  score  0.9\n",
            "sencence  « rozzijanie precy kulturaliej poprzez word rozzijanie  local  rozdzianie  score  0.9\n",
            "sencence  « rozzijanie precy kulturaliej poprzez word rozzijanie  local  rozmijanie  score  0.9\n",
            "sencence  « rozzijanie precy kulturaliej poprzez word rozzijanie  local  rozpijanie  score  0.9\n",
            "sencence  « rozzijanie precy kulturaliej poprzez word rozzijanie  local  rozwijanie  score  0.9\n",
            "sencence  « rozzijanie precy kulturaliej poprzez word kulturaliej  local  kulturalnej  score  0.9090909090909091\n",
            "sencence  « rozzijanie precy kulturaliej poprzez word kulturaliej  local  kulturalnie  score  0.9090909090909091\n",
            "sencence  « rozzijanie precy kulturaliej poprzez word kulturaliej  local  kulturalniej  score  0.9565217391304348\n",
            "sencence  płodnowe i chaotycznore, fe:atyka oiczy- word płodnowe  local  płodowe  score  0.9333333333333333\n",
            "sencence  płodnowe i chaotycznore, fe:atyka oiczy- word chaotycznore  local  chaotyczne  score  0.9090909090909091\n",
            "sencence  specjali.e tezy jIo.bveuicze Guo ulkierun:0— word specjalie  local  specjale  score  0.9411764705882353\n",
            "sencence  specjali.e tezy jIo.bveuicze Guo ulkierun:0— word specjalie  local  specjalnie  score  0.9473684210526315\n",
            "sencence  LULZ ]\n",
            "ziełów;\n",
            ", word ziełów  local  ziłów  score  0.9090909090909091\n",
            "sencence  brecy reunych, szcze.óliuie w racuch giuin- word brecy  local  brechy  score  0.9090909090909091\n",
            "sencence  chowskiej i katowickiej oroz 2 pastorów kościoła luterańskiego word chowskiej  local  chabowskiej  score  0.9\n",
            "sencence  chowskiej i katowickiej oroz 2 pastorów kościoła luterańskiego word chowskiej  local  chodowskiej  score  0.9\n",
            "sencence  chowskiej i katowickiej oroz 2 pastorów kościoła luterańskiego word chowskiej  local  chynowskiej  score  0.9\n",
            "sencence  chowskiej i katowickiej oroz 2 pastorów kościoła luterańskiego word chowskiej  local  czchowskiej  score  0.9\n",
            "sencence  i Watykane na rzecz pokoju oraz wyrażono chęć normali- word Watykane  local  wtykane  score  0.9333333333333333\n",
            "sencence  nistów, rozbestwia ich, psuje posoborową atmosferę word nistów  local  nitów  score  0.9090909090909091\n",
            "sencence  cioła w Polsce, twierdząc że Kościół jest szykanowany przez word cioła  local  ciołka  score  0.9090909090909091\n",
            "sencence  cioła w Polsce, twierdząc że Kościół jest szykanowany przez word cioła  local  ciosła  score  0.9090909090909091\n",
            "sencence  ników spotkania, word ników  local  nicków  score  0.9090909090909091\n",
            "sencence  ników spotkania, word ników  local  niklów  score  0.9090909090909091\n",
            "sencence  Stona: actywvnonc Ao DCZENIA GAS. aósdh lo cwia nii word Stona  local  setona  score  0.9090909090909091\n",
            "sencence  Stona: actywvnonc Ao DCZENIA GAS. aósdh lo cwia nii word Stona  local  stlona  score  0.9090909090909091\n",
            "sencence  Stona: actywvnonc Ao DCZENIA GAS. aósdh lo cwia nii word Stona  local  stonka  score  0.9090909090909091\n",
            "sencence  Stona: actywvnonc Ao DCZENIA GAS. aósdh lo cwia nii word Stona  local  storna  score  0.9090909090909091\n",
            "sencence  Stona: actywvnonc Ao DCZENIA GAS. aósdh lo cwia nii word Stona  local  strona  score  0.9090909090909091\n",
            "sencence  Stona: actywvnonc Ao DCZENIA GAS. aósdh lo cwia nii word Stona  local  sztona  score  0.9090909090909091\n",
            "sencence  CIWEÓD POZWOJU A ZLOAŃCENUJO RU: Giy Ma kKietu nen nuje je\n",
            "———S LL DQMĄ)D DM >) LLL NN NNNn- a... WO NW word POZWOJU  local  powoju  score  0.9230769230769231\n",
            "sencence  cowanie spoiecmiej polityki pansiaae uPIBŁODEU mówi, ne pora i word cowanie  local  chowanie  score  0.9333333333333333\n",
            "sencence  cowanie spoiecmiej polityki pansiaae uPIBŁODEU mówi, ne pora i word cowanie  local  cwanie  score  0.9230769230769231\n",
            "sencence  odpowied cialo 1 Losy 1 pEnyYDZĄ W U Natty SOCZI UP a word odpowied  local  odpowie  score  0.9333333333333333\n",
            "sencence  odpowied cialo 1 Losy 1 pEnyYDZĄ W U Natty SOCZI UP a word odpowied  local  odpowiedz  score  0.9411764705882353\n",
            "sencence  odpowied cialo 1 Losy 1 pEnyYDZĄ W U Natty SOCZI UP a word odpowied  local  odpowiedź  score  0.9411764705882353\n",
            "sencence  GJi wemsiuwzuocjelistycznych, arcejpkujęc poliuy, porLii word poliuy  local  poliu  score  0.9090909090909091\n",
            "sencence  trolski. Porozwideńnie jmOZe mike muiCZEniIE ©PottaLi 0. NNODIENNZNA word trolski  local  troski  score  0.9230769230769231\n",
            "sencence  trolski. Porozwideńnie jmOZe mike muiCZEniIE ©PottaLi 0. NNODIENNZNA word trolski  local  tyrolski  score  0.9333333333333333\n",
            "sencence  soeptyczne, mtóniasy watyman i rzęd PRL patrzy ne to m judniem word soeptyczne  local  sceptyczne  score  0.9\n",
            "sencence  soeptyczne, mtóniasy watyman i rzęd PRL patrzy ne to m judniem word soeptyczne  local  septyczne  score  0.9473684210526315\n",
            "sencence  soeptyczne, mtóniasy watyman i rzęd PRL patrzy ne to m judniem word soeptyczne  local  septycznej  score  0.9\n",
            "sencence  soeptyczne, mtóniasy watyman i rzęd PRL patrzy ne to m judniem word soeptyczne  local  skeptyczne  score  0.9\n",
            "sencence  soeptyczne, mtóniasy watyman i rzęd PRL patrzy ne to m judniem word soeptyczne  local  sonetyczne  score  0.9\n",
            "sencence  paUbie e HOPANASUNECJA płaatiawiiay CZE AeCpo ua edia rue ejr word paUbie  local  pabie  score  0.9090909090909091\n",
            "sencence  paUbie e HOPANASUNECJA płaatiawiiay CZE AeCpo ua edia rue ejr word paUbie  local  pałubie  score  0.9230769230769231\n",
            "sencence  paUbie e HOPANASUNECJA płaatiawiiay CZE AeCpo ua edia rue ejr word paUbie  local  pubie  score  0.9090909090909091\n",
            "sencence  Geczywircie istuiejc cii jży proble: word proble  local  problem  score  0.9230769230769231\n",
            "sencence  w roluce onowięzuje rozumy „wriotynu i tezeżwy dude wnzeja= word roluce  local  rolce  score  0.9090909090909091\n",
            "sencence  /. Puz=ie/ ar badzcie Ev crt: ze 9) a = - e +. a. act: 3 e 4 , e: »\n",
            "z 1 . ba \"3 ta 5 * . = . . a 8 ' * . |\n",
            ".. k tak — av wot - 9 —Y a - *.. t 4 w . - word Puzie  local  pauzie  score  0.9090909090909091\n",
            "sencence  /. Puz=ie/ ar badzcie Ev crt: ze 9) a = - e +. a. act: 3 e 4 , e: »\n",
            "z 1 . ba \"3 ta 5 * . = . . a 8 ' * . |\n",
            ".. k tak — av wot - 9 —Y a - *.. t 4 w . - word Puzie  local  puazie  score  0.9090909090909091\n",
            "sencence  /. Puz=ie/ ar badzcie Ev crt: ze 9) a = - e +. a. act: 3 e 4 , e: »\n",
            "z 1 . ba \"3 ta 5 * . = . . a 8 ' * . |\n",
            ".. k tak — av wot - 9 —Y a - *.. t 4 w . - word Puzie  local  pudzie  score  0.9090909090909091\n",
            "sencence  OtU44 ObeCne tytuacja, w hiwduwy pz word ObeCne  local  obecnej  score  0.9230769230769231\n",
            "sencence  OtU44 ObeCne tytuacja, w hiwduwy pz word ObeCne  local  obecnie  score  0.9230769230769231\n",
            "sencence  OtU44 ObeCne tytuacja, w hiwduwy pz word tytuacja  local  tytulacja  score  0.9411764705882353\n",
            "sencence  A peopia a\". 3 , oo , A tn yy] FE SANA a ,\n",
            "ugzzyst ine GZ „UODLECZEC NADE CAE, NYSE word peopia  local  popia  score  0.9090909090909091\n",
            "sencence  rehabiLitacju UyGewaci MARCOWYCH * word rehabiLitacju  local  rehabilitacja  score  0.9230769230769231\n",
            "sencence  rehabiLitacju UyGewaci MARCOWYCH * word rehabiLitacju  local  rehabilitacją  score  0.9230769230769231\n",
            "sencence  rehabiLitacju UyGewaci MARCOWYCH * word rehabiLitacju  local  rehabilitacje  score  0.9230769230769231\n",
            "sencence  rehabiLitacju UyGewaci MARCOWYCH * word rehabiLitacju  local  rehabilitację  score  0.9230769230769231\n",
            "sencence  rehabiLitacju UyGewaci MARCOWYCH * word rehabiLitacju  local  rehabilitacji  score  0.9230769230769231\n",
            "sencence  rehabiLitacju UyGewaci MARCOWYCH * word rehabiLitacju  local  rehabilitacjo  score  0.9230769230769231\n",
            "sencence  rehabiLitacju UyGewaci MARCOWYCH * word rehabiLitacju  local  rehabilitacyj  score  0.9230769230769231\n",
            "sencence  rehabi\n",
            "nabilit\n",
            "Li tacj:\n",
            "va PDT\n",
            "a s.» zer\n",
            "\"t.4/ SNA 1\n",
            "J Ch |\" e:\n",
            "v \"SLD ÓW word nabilit  local  nabili  score  0.9230769230769231\n",
            "sencence  miescjć przeńe uuzyetkin w uobweż i wydzjncej pracy, word przeńe  local  przeń  score  0.9090909090909091\n",
            "sencence  pzez oBlote e Low Wibo jonami die GA word oBlote  local  oblot  score  0.9090909090909091\n",
            "sencence  pzez oBlote e Low Wibo jonami die GA word oBlote  local  oblotem  score  0.9230769230769231\n",
            "sencence  I\n",
            "Pac.ite, word Pacite  local  pacie  score  0.9090909090909091\n",
            "sencence  \"e posnie onuziczjyw nie wej Aoescłbego Sy W A kT je o word posnie  local  ponie  score  0.9090909090909091\n",
            "sencence  \"e posnie onuziczjyw nie wej Aoescłbego Sy W A kT je o word posnie  local  posunie  score  0.9230769230769231\n",
            "sencence  Fauraże Gm3 tą €uuenie! Gim Mu, ony Gta ULOGO L= word Fauraże  local  furaże  score  0.9230769230769231\n",
            "sencence  NIENIE e! NOO]. KIE word NIENIE  local  nenie  score  0.9090909090909091\n",
            "sencence  NIENIE e! NOO]. KIE word NIENIE  local  niecnie  score  0.9230769230769231\n",
            "sencence   paaDzenie poruzejżo woywa ew pwaię word woywa  local  worywa  score  0.9090909090909091\n",
            "sencence   paaDzenie poruzejżo woywa ew pwaię word woywa  local  wotywa  score  0.9090909090909091\n"
          ]
        }
      ]
    },
    {
      "cell_type": "code",
      "metadata": {
        "id": "TQndVl4KbtBX"
      },
      "source": [
        "np.save('drive/MyDrive/kuba/zapis_numpy.csv',np.array(correct))"
      ],
      "execution_count": null,
      "outputs": []
    }
  ]
}