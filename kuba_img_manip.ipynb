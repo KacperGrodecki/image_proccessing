{
  "nbformat": 4,
  "nbformat_minor": 0,
  "metadata": {
    "colab": {
      "name": "kuba_img_manip.ipynb",
      "provenance": [],
      "collapsed_sections": [],
      "authorship_tag": "ABX9TyM5PgNy9ClHXbZAfKyMkxL6",
      "include_colab_link": true
    },
    "kernelspec": {
      "name": "python3",
      "display_name": "Python 3"
    }
  },
  "cells": [
    {
      "cell_type": "markdown",
      "metadata": {
        "id": "view-in-github",
        "colab_type": "text"
      },
      "source": [
        "<a href=\"https://colab.research.google.com/github/KacperGrodecki/image_proccessing/blob/main/kuba_img_manip.ipynb\" target=\"_parent\"><img src=\"https://colab.research.google.com/assets/colab-badge.svg\" alt=\"Open In Colab\"/></a>"
      ]
    },
    {
      "cell_type": "code",
      "metadata": {
        "id": "IJjlrbzGKZi4",
        "colab": {
          "base_uri": "https://localhost:8080/"
        },
        "outputId": "1661e103-128c-44a2-bf94-d897ccbdba11"
      },
      "source": [
        "from google.colab import drive\n",
        "drive.mount('/content/drive')"
      ],
      "execution_count": 1,
      "outputs": [
        {
          "output_type": "stream",
          "name": "stdout",
          "text": [
            "Mounted at /content/drive\n"
          ]
        }
      ]
    },
    {
      "cell_type": "code",
      "metadata": {
        "colab": {
          "base_uri": "https://localhost:8080/"
        },
        "id": "EaccDd3JEho8",
        "outputId": "80dcb0b4-ad15-4bd9-c174-25befb543494"
      },
      "source": [
        "!apt-get install poppler-utils \n",
        "!apt-get install tesseract-ocr-pol\n",
        "!apt-get install libleptonica-dev \n",
        "!apt-get install tesseract-ocr\n",
        "!apt-get install tesseract-ocr-dev\n",
        "!apt-get install libtesseract-dev"
      ],
      "execution_count": 2,
      "outputs": [
        {
          "output_type": "stream",
          "name": "stdout",
          "text": [
            "Reading package lists... Done\n",
            "Building dependency tree       \n",
            "Reading state information... Done\n",
            "The following NEW packages will be installed:\n",
            "  poppler-utils\n",
            "0 upgraded, 1 newly installed, 0 to remove and 37 not upgraded.\n",
            "Need to get 154 kB of archives.\n",
            "After this operation, 613 kB of additional disk space will be used.\n",
            "Get:1 http://archive.ubuntu.com/ubuntu bionic-updates/main amd64 poppler-utils amd64 0.62.0-2ubuntu2.12 [154 kB]\n",
            "Fetched 154 kB in 1s (119 kB/s)\n",
            "Selecting previously unselected package poppler-utils.\n",
            "(Reading database ... 155047 files and directories currently installed.)\n",
            "Preparing to unpack .../poppler-utils_0.62.0-2ubuntu2.12_amd64.deb ...\n",
            "Unpacking poppler-utils (0.62.0-2ubuntu2.12) ...\n",
            "Setting up poppler-utils (0.62.0-2ubuntu2.12) ...\n",
            "Processing triggers for man-db (2.8.3-2ubuntu0.1) ...\n",
            "Reading package lists... Done\n",
            "Building dependency tree       \n",
            "Reading state information... Done\n",
            "The following additional packages will be installed:\n",
            "  tesseract-ocr tesseract-ocr-eng tesseract-ocr-osd\n",
            "The following NEW packages will be installed:\n",
            "  tesseract-ocr tesseract-ocr-eng tesseract-ocr-osd tesseract-ocr-pol\n",
            "0 upgraded, 4 newly installed, 0 to remove and 37 not upgraded.\n",
            "Need to get 6,404 kB of archives.\n",
            "After this operation, 20.6 MB of additional disk space will be used.\n",
            "Get:1 http://archive.ubuntu.com/ubuntu bionic/universe amd64 tesseract-ocr-eng all 4.00~git24-0e00fe6-1.2 [1,588 kB]\n",
            "Get:2 http://archive.ubuntu.com/ubuntu bionic/universe amd64 tesseract-ocr-osd all 4.00~git24-0e00fe6-1.2 [2,989 kB]\n",
            "Get:3 http://archive.ubuntu.com/ubuntu bionic/universe amd64 tesseract-ocr amd64 4.00~git2288-10f4998a-2 [218 kB]\n",
            "Get:4 http://archive.ubuntu.com/ubuntu bionic/universe amd64 tesseract-ocr-pol all 4.00~git24-0e00fe6-1.2 [1,609 kB]\n",
            "Fetched 6,404 kB in 3s (2,263 kB/s)\n",
            "Selecting previously unselected package tesseract-ocr-eng.\n",
            "(Reading database ... 155075 files and directories currently installed.)\n",
            "Preparing to unpack .../tesseract-ocr-eng_4.00~git24-0e00fe6-1.2_all.deb ...\n",
            "Unpacking tesseract-ocr-eng (4.00~git24-0e00fe6-1.2) ...\n",
            "Selecting previously unselected package tesseract-ocr-osd.\n",
            "Preparing to unpack .../tesseract-ocr-osd_4.00~git24-0e00fe6-1.2_all.deb ...\n",
            "Unpacking tesseract-ocr-osd (4.00~git24-0e00fe6-1.2) ...\n",
            "Selecting previously unselected package tesseract-ocr.\n",
            "Preparing to unpack .../tesseract-ocr_4.00~git2288-10f4998a-2_amd64.deb ...\n",
            "Unpacking tesseract-ocr (4.00~git2288-10f4998a-2) ...\n",
            "Selecting previously unselected package tesseract-ocr-pol.\n",
            "Preparing to unpack .../tesseract-ocr-pol_4.00~git24-0e00fe6-1.2_all.deb ...\n",
            "Unpacking tesseract-ocr-pol (4.00~git24-0e00fe6-1.2) ...\n",
            "Setting up tesseract-ocr-osd (4.00~git24-0e00fe6-1.2) ...\n",
            "Setting up tesseract-ocr-eng (4.00~git24-0e00fe6-1.2) ...\n",
            "Setting up tesseract-ocr (4.00~git2288-10f4998a-2) ...\n",
            "Setting up tesseract-ocr-pol (4.00~git24-0e00fe6-1.2) ...\n",
            "Processing triggers for man-db (2.8.3-2ubuntu0.1) ...\n",
            "Reading package lists... Done\n",
            "Building dependency tree       \n",
            "Reading state information... Done\n",
            "The following NEW packages will be installed:\n",
            "  libleptonica-dev\n",
            "0 upgraded, 1 newly installed, 0 to remove and 37 not upgraded.\n",
            "Need to get 1,308 kB of archives.\n",
            "After this operation, 5,966 kB of additional disk space will be used.\n",
            "Get:1 http://archive.ubuntu.com/ubuntu bionic/universe amd64 libleptonica-dev amd64 1.75.3-3 [1,308 kB]\n",
            "Fetched 1,308 kB in 2s (639 kB/s)\n",
            "Selecting previously unselected package libleptonica-dev.\n",
            "(Reading database ... 155126 files and directories currently installed.)\n",
            "Preparing to unpack .../libleptonica-dev_1.75.3-3_amd64.deb ...\n",
            "Unpacking libleptonica-dev (1.75.3-3) ...\n",
            "Setting up libleptonica-dev (1.75.3-3) ...\n",
            "Reading package lists... Done\n",
            "Building dependency tree       \n",
            "Reading state information... Done\n",
            "tesseract-ocr is already the newest version (4.00~git2288-10f4998a-2).\n",
            "tesseract-ocr set to manually installed.\n",
            "0 upgraded, 0 newly installed, 0 to remove and 37 not upgraded.\n",
            "Reading package lists... Done\n",
            "Building dependency tree       \n",
            "Reading state information... Done\n",
            "Package tesseract-ocr-dev is not available, but is referred to by another package.\n",
            "This may mean that the package is missing, has been obsoleted, or\n",
            "is only available from another source\n",
            "However the following packages replace it:\n",
            "  libtesseract-dev\n",
            "\n",
            "E: Package 'tesseract-ocr-dev' has no installation candidate\n",
            "Reading package lists... Done\n",
            "Building dependency tree       \n",
            "Reading state information... Done\n",
            "The following NEW packages will be installed:\n",
            "  libtesseract-dev\n",
            "0 upgraded, 1 newly installed, 0 to remove and 37 not upgraded.\n",
            "Need to get 1,447 kB of archives.\n",
            "After this operation, 7,824 kB of additional disk space will be used.\n",
            "Get:1 http://archive.ubuntu.com/ubuntu bionic/universe amd64 libtesseract-dev amd64 4.00~git2288-10f4998a-2 [1,447 kB]\n",
            "Fetched 1,447 kB in 2s (704 kB/s)\n",
            "Selecting previously unselected package libtesseract-dev.\n",
            "(Reading database ... 155169 files and directories currently installed.)\n",
            "Preparing to unpack .../libtesseract-dev_4.00~git2288-10f4998a-2_amd64.deb ...\n",
            "Unpacking libtesseract-dev (4.00~git2288-10f4998a-2) ...\n",
            "Setting up libtesseract-dev (4.00~git2288-10f4998a-2) ...\n"
          ]
        }
      ]
    },
    {
      "cell_type": "code",
      "metadata": {
        "colab": {
          "base_uri": "https://localhost:8080/"
        },
        "id": "e6FImYcoRS3q",
        "outputId": "69dea0c0-73ec-4e1e-8f29-6f1d7a054d91"
      },
      "source": [
        "pip install pytesseract "
      ],
      "execution_count": 3,
      "outputs": [
        {
          "output_type": "stream",
          "name": "stdout",
          "text": [
            "Collecting pytesseract\n",
            "  Downloading pytesseract-0.3.8.tar.gz (14 kB)\n",
            "Requirement already satisfied: Pillow in /usr/local/lib/python3.7/dist-packages (from pytesseract) (7.1.2)\n",
            "Building wheels for collected packages: pytesseract\n",
            "  Building wheel for pytesseract (setup.py) ... \u001b[?25l\u001b[?25hdone\n",
            "  Created wheel for pytesseract: filename=pytesseract-0.3.8-py2.py3-none-any.whl size=14072 sha256=2e446fbed6881c6c819920a9113c84d0b0b888fdee68112bdccf6cddb3f71147\n",
            "  Stored in directory: /root/.cache/pip/wheels/a4/89/b9/3f11250225d0f90e5454fcc30fd1b7208db226850715aa9ace\n",
            "Successfully built pytesseract\n",
            "Installing collected packages: pytesseract\n",
            "Successfully installed pytesseract-0.3.8\n"
          ]
        }
      ]
    },
    {
      "cell_type": "code",
      "metadata": {
        "id": "zBEZ4rsZX7GZ",
        "colab": {
          "base_uri": "https://localhost:8080/"
        },
        "outputId": "c1b931da-2eef-410f-e44d-d1df0a28208f"
      },
      "source": [
        "pip install autocorrect"
      ],
      "execution_count": 4,
      "outputs": [
        {
          "output_type": "stream",
          "name": "stdout",
          "text": [
            "Collecting autocorrect\n",
            "  Downloading autocorrect-2.5.0.tar.gz (622 kB)\n",
            "\u001b[K     |████████████████████████████████| 622 kB 2.7 MB/s \n",
            "\u001b[?25hBuilding wheels for collected packages: autocorrect\n",
            "  Building wheel for autocorrect (setup.py) ... \u001b[?25l\u001b[?25hdone\n",
            "  Created wheel for autocorrect: filename=autocorrect-2.5.0-py3-none-any.whl size=621851 sha256=dc56066a0c758833e341e5c3291cc79790edd7c37a2295a74b2275e9d2edc7d4\n",
            "  Stored in directory: /root/.cache/pip/wheels/3d/8e/bd/f6fd900a056a031bf710a00bca338d86f43b83f0c25ab5242f\n",
            "Successfully built autocorrect\n",
            "Installing collected packages: autocorrect\n",
            "Successfully installed autocorrect-2.5.0\n"
          ]
        }
      ]
    },
    {
      "cell_type": "code",
      "metadata": {
        "id": "qF2jJdIWKQd2"
      },
      "source": [
        "from PIL import Image \n",
        "import pytesseract \n",
        "import sys \n",
        "import os\n",
        "import pandas as pd\n",
        "import cv2 \n",
        "import os\n",
        "from PIL import Image\n",
        "from pytesseract import image_to_string\n",
        "import numpy as np\n",
        "from matplotlib import pyplot as plt\n",
        "import os\n",
        "os.environ[\"CUDA_VISIBLE_DEVICES\"] = \"1\"\n",
        "from autocorrect import Speller\n",
        "from matplotlib.pyplot import figure\n"
      ],
      "execution_count": 5,
      "outputs": []
    },
    {
      "cell_type": "code",
      "metadata": {
        "id": "JquV3LFqbmlh"
      },
      "source": [
        "def fig_prepare(file):\n",
        "  rgb_image = cv2.imread(file)\n",
        "  gray_image = cv2.cvtColor(rgb_image, cv2.COLOR_BGR2GRAY)\n",
        "  kernelSizes = (11, 11)\n",
        "  gray_image_blurred = cv2.blur(gray_image,kernelSizes)\n",
        "  gray_image_copy=gray_image.copy()\n",
        "  gray_image_copy[(gray_image_blurred<150)&(gray_image_blurred>130)]=200\n",
        "  \n",
        "  return gray_image_copy"
      ],
      "execution_count": 9,
      "outputs": []
    },
    {
      "cell_type": "code",
      "metadata": {
        "id": "x_Nmuy_jc13h"
      },
      "source": [
        "def text_from_image(image):\n",
        "  image_correct=fig_prepare(image)\n",
        "  custom_config_letters = r'--oem 3 --psm 3'\n",
        "  custom_config_digits = r'--oem 3 --psm 3 outputbase digits'\n",
        "  return (image_to_string(image_correct, lang='pol',config=custom_config_letters)),(image_to_string(image_correct, lang='pol',config=custom_config_digits))"
      ],
      "execution_count": 7,
      "outputs": []
    },
    {
      "cell_type": "code",
      "metadata": {
        "id": "secY8MVRdsOE"
      },
      "source": [
        "myText,myDigits=text_from_image('drive/MyDrive/kuba/fig10.jpg')"
      ],
      "execution_count": 13,
      "outputs": []
    },
    {
      "cell_type": "code",
      "metadata": {
        "colab": {
          "base_uri": "https://localhost:8080/"
        },
        "id": "PNlm2UCxAZFg",
        "outputId": "a6fc65b4-1e9f-4489-eb44-33b5da259f0c"
      },
      "source": [
        "print(myText)"
      ],
      "execution_count": 14,
      "outputs": [
        {
          "output_type": "stream",
          "name": "stdout",
          "text": [
            " \n",
            "\n",
            "Załątżi0Ho 639/223\n",
            "\n",
            "STRUKTURA I WYKONANIE BUDŻETÓW\n",
            "\n",
            "„ERŚ_ + EDR, SG A rok. 131\n",
            "\n",
            "wwa www WWW W WWW WW WWW WWWWW —- | a i m R a m m\n",
            "\n",
            "STOWARZYSZENIE \"PAX\"\n",
            "\n",
            "Realizacja budżetu: za rok 1971 : 147 sR.\n",
            "- działalność statutowa j sę -386,720.000.7 - ah,\n",
            "- pokrycie straty prasy i wyiawńicw - 28.680,000. = zR,\n",
            "\n",
            "a= «| zza ana—\n",
            "\n",
            "razem: m; _ 63 «400.000, zł. zł .\n",
            "\n",
            "| oai Wawie = zezczzzzzztza\n",
            "\n",
            "Z DRES\n",
            ". Płace / osobowy fundusz \"=\n",
            "narzuty, bezosobowy funiusz |\n",
            "płac, Fundusz KOROZABIŚKY - 19.305,000,- zł,\n",
            "\n",
            "2. Fundusz nagród R Z * _/275.000.- zł.\n",
            "dw Podróże służbowe 4 delegacje z 2.900.000.,7 zł,\n",
            "„ Koszty biurowe/'utrzytnanie\n",
            ",, pomieszczeń, remonty bieżąc-\n",
            "7 ce i inne świadczenia 7 - 4,200.000.,= zł,\n",
            "\n",
            "1.600, 000, = zł,\n",
            "150. 000. = zł,\n",
            "\n",
            "3* Transport\n",
            "6. Gimnazjam św, Augustyna\n",
            "\n",
            "7. Działalność społ.-palityczna\n",
            "+ /// komierencje, kursy, zjazdy,\n",
            "(| zespoły, akcje, działalność\n",
            "\n",
            "zagraniczna/\n",
            "\n",
            "= 8.240.,000,-= zł.\n",
            "\n",
            "8. Pokrycie straty prasy i wyda-\n",
            "wnictw = 28, 880.000. = zł.\n",
            "\n",
            "9, Podatki, opłaty = 50,000,= zł,\n",
            "\n",
            "razem : 85-460, O00.=zb.\n",
            "\n",
            "Budżet równoważ; ;\n",
            "\n",
            "- wpłata z nadwyżki z całokształtu\n",
            "działalności gospodarczej ZZG\n",
            "\n",
            "365 520.000. = zł,\n",
            "\n",
            "10 z 348\n",
            "\n",
            "s\n",
            "PF\n",
            "(b\n",
            "\f\n"
          ]
        }
      ]
    }
  ]
}