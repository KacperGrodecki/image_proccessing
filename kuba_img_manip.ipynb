{
  "nbformat": 4,
  "nbformat_minor": 0,
  "metadata": {
    "colab": {
      "name": "kuba_img_manip.ipynb",
      "provenance": [],
      "collapsed_sections": [],
      "authorship_tag": "ABX9TyPvw8LH3fv5XaXz0s6jz1Wz",
      "include_colab_link": true
    },
    "kernelspec": {
      "name": "python3",
      "display_name": "Python 3"
    }
  },
  "cells": [
    {
      "cell_type": "markdown",
      "metadata": {
        "id": "view-in-github",
        "colab_type": "text"
      },
      "source": [
        "<a href=\"https://colab.research.google.com/github/KacperGrodecki/image_proccessing/blob/0.0.3/kuba_img_manip.ipynb\" target=\"_parent\"><img src=\"https://colab.research.google.com/assets/colab-badge.svg\" alt=\"Open In Colab\"/></a>"
      ]
    },
    {
      "cell_type": "code",
      "metadata": {
        "id": "IJjlrbzGKZi4",
        "colab": {
          "base_uri": "https://localhost:8080/"
        },
        "outputId": "422fb3fa-ccda-4cf4-d28d-a99571945f82"
      },
      "source": [
        "from google.colab import drive\n",
        "drive.mount('/content/drive')"
      ],
      "execution_count": 1,
      "outputs": [
        {
          "output_type": "stream",
          "text": [
            "Mounted at /content/drive\n"
          ],
          "name": "stdout"
        }
      ]
    },
    {
      "cell_type": "code",
      "metadata": {
        "id": "pctnyzlu1WcE"
      },
      "source": [
        "#pip install -U pip setuptools"
      ],
      "execution_count": 2,
      "outputs": []
    },
    {
      "cell_type": "code",
      "metadata": {
        "colab": {
          "base_uri": "https://localhost:8080/"
        },
        "id": "H6TJd5fiFgs1",
        "outputId": "bd6db0f4-4ede-4358-fe62-6cf559e9d831"
      },
      "source": [
        "!apt-get update"
      ],
      "execution_count": 3,
      "outputs": [
        {
          "output_type": "stream",
          "text": [
            "\r0% [Working]\r            \rGet:1 https://cloud.r-project.org/bin/linux/ubuntu bionic-cran40/ InRelease [3,626 B]\n",
            "\r0% [Connecting to archive.ubuntu.com (91.189.88.142)] [Connecting to security.u\r0% [Connecting to archive.ubuntu.com (91.189.88.142)] [Connecting to security.u\r0% [1 InRelease gpgv 3,626 B] [Connecting to archive.ubuntu.com (91.189.88.142)\r                                                                               \rIgn:2 https://developer.download.nvidia.com/compute/cuda/repos/ubuntu1804/x86_64  InRelease\n",
            "\r0% [1 InRelease gpgv 3,626 B] [Connecting to archive.ubuntu.com (91.189.88.142)\r                                                                               \rIgn:3 https://developer.download.nvidia.com/compute/machine-learning/repos/ubuntu1804/x86_64  InRelease\n",
            "\r0% [1 InRelease gpgv 3,626 B] [Connecting to archive.ubuntu.com (91.189.88.142)\r                                                                               \rGet:4 https://developer.download.nvidia.com/compute/cuda/repos/ubuntu1804/x86_64  Release [697 B]\n",
            "\r0% [1 InRelease gpgv 3,626 B] [Connecting to archive.ubuntu.com (91.189.88.142)\r0% [1 InRelease gpgv 3,626 B] [Connecting to archive.ubuntu.com (91.189.88.142)\r                                                                               \rHit:5 https://developer.download.nvidia.com/compute/machine-learning/repos/ubuntu1804/x86_64  Release\n",
            "\r0% [1 InRelease gpgv 3,626 B] [Waiting for headers] [Waiting for headers] [Wait\r                                                                               \rGet:6 http://security.ubuntu.com/ubuntu bionic-security InRelease [88.7 kB]\n",
            "Get:7 https://developer.download.nvidia.com/compute/cuda/repos/ubuntu1804/x86_64  Release.gpg [836 B]\n",
            "Get:8 http://ppa.launchpad.net/c2d4u.team/c2d4u4.0+/ubuntu bionic InRelease [15.9 kB]\n",
            "Hit:9 http://archive.ubuntu.com/ubuntu bionic InRelease\n",
            "Get:10 http://archive.ubuntu.com/ubuntu bionic-updates InRelease [88.7 kB]\n",
            "Hit:12 http://ppa.launchpad.net/cran/libgit2/ubuntu bionic InRelease\n",
            "Ign:13 https://developer.download.nvidia.com/compute/cuda/repos/ubuntu1804/x86_64  Packages\n",
            "Get:13 https://developer.download.nvidia.com/compute/cuda/repos/ubuntu1804/x86_64  Packages [602 kB]\n",
            "Get:14 http://archive.ubuntu.com/ubuntu bionic-backports InRelease [74.6 kB]\n",
            "Hit:15 http://ppa.launchpad.net/deadsnakes/ppa/ubuntu bionic InRelease\n",
            "Hit:16 http://ppa.launchpad.net/graphics-drivers/ppa/ubuntu bionic InRelease\n",
            "Get:17 http://security.ubuntu.com/ubuntu bionic-security/main amd64 Packages [1,964 kB]\n",
            "Get:18 http://security.ubuntu.com/ubuntu bionic-security/universe amd64 Packages [1,396 kB]\n",
            "Get:19 http://ppa.launchpad.net/c2d4u.team/c2d4u4.0+/ubuntu bionic/main Sources [1,745 kB]\n",
            "Get:20 http://archive.ubuntu.com/ubuntu bionic-updates/universe amd64 Packages [2,163 kB]\n",
            "Get:21 http://ppa.launchpad.net/c2d4u.team/c2d4u4.0+/ubuntu bionic/main amd64 Packages [893 kB]\n",
            "Get:22 http://archive.ubuntu.com/ubuntu bionic-updates/main amd64 Packages [2,394 kB]\n",
            "Fetched 11.4 MB in 4s (2,834 kB/s)\n",
            "Reading package lists... Done\n"
          ],
          "name": "stdout"
        }
      ]
    },
    {
      "cell_type": "code",
      "metadata": {
        "colab": {
          "base_uri": "https://localhost:8080/"
        },
        "id": "EaccDd3JEho8",
        "outputId": "d8cd07b0-5df2-4242-e50b-926174eb6150"
      },
      "source": [
        "!apt-get install poppler-utils \r\n",
        "!apt-get install tesseract-ocr-pol\r\n",
        "!apt-get install libleptonica-dev \r\n",
        "!apt-get install tesseract-ocr\r\n",
        "!apt-get install tesseract-ocr-dev\r\n",
        "!apt-get install libtesseract-dev"
      ],
      "execution_count": 4,
      "outputs": [
        {
          "output_type": "stream",
          "text": [
            "Reading package lists... Done\n",
            "Building dependency tree       \n",
            "Reading state information... Done\n",
            "The following NEW packages will be installed:\n",
            "  poppler-utils\n",
            "0 upgraded, 1 newly installed, 0 to remove and 45 not upgraded.\n",
            "Need to get 154 kB of archives.\n",
            "After this operation, 613 kB of additional disk space will be used.\n",
            "Get:1 http://archive.ubuntu.com/ubuntu bionic-updates/main amd64 poppler-utils amd64 0.62.0-2ubuntu2.12 [154 kB]\n",
            "Fetched 154 kB in 1s (198 kB/s)\n",
            "Selecting previously unselected package poppler-utils.\n",
            "(Reading database ... 160975 files and directories currently installed.)\n",
            "Preparing to unpack .../poppler-utils_0.62.0-2ubuntu2.12_amd64.deb ...\n",
            "Unpacking poppler-utils (0.62.0-2ubuntu2.12) ...\n",
            "Setting up poppler-utils (0.62.0-2ubuntu2.12) ...\n",
            "Processing triggers for man-db (2.8.3-2ubuntu0.1) ...\n",
            "Reading package lists... Done\n",
            "Building dependency tree       \n",
            "Reading state information... Done\n",
            "The following additional packages will be installed:\n",
            "  tesseract-ocr tesseract-ocr-eng tesseract-ocr-osd\n",
            "The following NEW packages will be installed:\n",
            "  tesseract-ocr tesseract-ocr-eng tesseract-ocr-osd tesseract-ocr-pol\n",
            "0 upgraded, 4 newly installed, 0 to remove and 45 not upgraded.\n",
            "Need to get 6,404 kB of archives.\n",
            "After this operation, 20.6 MB of additional disk space will be used.\n",
            "Get:1 http://archive.ubuntu.com/ubuntu bionic/universe amd64 tesseract-ocr-eng all 4.00~git24-0e00fe6-1.2 [1,588 kB]\n",
            "Get:2 http://archive.ubuntu.com/ubuntu bionic/universe amd64 tesseract-ocr-osd all 4.00~git24-0e00fe6-1.2 [2,989 kB]\n",
            "Get:3 http://archive.ubuntu.com/ubuntu bionic/universe amd64 tesseract-ocr amd64 4.00~git2288-10f4998a-2 [218 kB]\n",
            "Get:4 http://archive.ubuntu.com/ubuntu bionic/universe amd64 tesseract-ocr-pol all 4.00~git24-0e00fe6-1.2 [1,609 kB]\n",
            "Fetched 6,404 kB in 2s (3,736 kB/s)\n",
            "Selecting previously unselected package tesseract-ocr-eng.\n",
            "(Reading database ... 161003 files and directories currently installed.)\n",
            "Preparing to unpack .../tesseract-ocr-eng_4.00~git24-0e00fe6-1.2_all.deb ...\n",
            "Unpacking tesseract-ocr-eng (4.00~git24-0e00fe6-1.2) ...\n",
            "Selecting previously unselected package tesseract-ocr-osd.\n",
            "Preparing to unpack .../tesseract-ocr-osd_4.00~git24-0e00fe6-1.2_all.deb ...\n",
            "Unpacking tesseract-ocr-osd (4.00~git24-0e00fe6-1.2) ...\n",
            "Selecting previously unselected package tesseract-ocr.\n",
            "Preparing to unpack .../tesseract-ocr_4.00~git2288-10f4998a-2_amd64.deb ...\n",
            "Unpacking tesseract-ocr (4.00~git2288-10f4998a-2) ...\n",
            "Selecting previously unselected package tesseract-ocr-pol.\n",
            "Preparing to unpack .../tesseract-ocr-pol_4.00~git24-0e00fe6-1.2_all.deb ...\n",
            "Unpacking tesseract-ocr-pol (4.00~git24-0e00fe6-1.2) ...\n",
            "Setting up tesseract-ocr-osd (4.00~git24-0e00fe6-1.2) ...\n",
            "Setting up tesseract-ocr-eng (4.00~git24-0e00fe6-1.2) ...\n",
            "Setting up tesseract-ocr (4.00~git2288-10f4998a-2) ...\n",
            "Setting up tesseract-ocr-pol (4.00~git24-0e00fe6-1.2) ...\n",
            "Processing triggers for man-db (2.8.3-2ubuntu0.1) ...\n",
            "Reading package lists... Done\n",
            "Building dependency tree       \n",
            "Reading state information... Done\n",
            "The following NEW packages will be installed:\n",
            "  libleptonica-dev\n",
            "0 upgraded, 1 newly installed, 0 to remove and 45 not upgraded.\n",
            "Need to get 1,308 kB of archives.\n",
            "After this operation, 5,966 kB of additional disk space will be used.\n",
            "Get:1 http://archive.ubuntu.com/ubuntu bionic/universe amd64 libleptonica-dev amd64 1.75.3-3 [1,308 kB]\n",
            "Fetched 1,308 kB in 1s (1,050 kB/s)\n",
            "Selecting previously unselected package libleptonica-dev.\n",
            "(Reading database ... 161054 files and directories currently installed.)\n",
            "Preparing to unpack .../libleptonica-dev_1.75.3-3_amd64.deb ...\n",
            "Unpacking libleptonica-dev (1.75.3-3) ...\n",
            "Setting up libleptonica-dev (1.75.3-3) ...\n",
            "Reading package lists... Done\n",
            "Building dependency tree       \n",
            "Reading state information... Done\n",
            "tesseract-ocr is already the newest version (4.00~git2288-10f4998a-2).\n",
            "tesseract-ocr set to manually installed.\n",
            "0 upgraded, 0 newly installed, 0 to remove and 45 not upgraded.\n",
            "Reading package lists... Done\n",
            "Building dependency tree       \n",
            "Reading state information... Done\n",
            "Package tesseract-ocr-dev is not available, but is referred to by another package.\n",
            "This may mean that the package is missing, has been obsoleted, or\n",
            "is only available from another source\n",
            "However the following packages replace it:\n",
            "  libtesseract-dev\n",
            "\n",
            "E: Package 'tesseract-ocr-dev' has no installation candidate\n",
            "Reading package lists... Done\n",
            "Building dependency tree       \n",
            "Reading state information... Done\n",
            "The following NEW packages will be installed:\n",
            "  libtesseract-dev\n",
            "0 upgraded, 1 newly installed, 0 to remove and 45 not upgraded.\n",
            "Need to get 1,447 kB of archives.\n",
            "After this operation, 7,824 kB of additional disk space will be used.\n",
            "Get:1 http://archive.ubuntu.com/ubuntu bionic/universe amd64 libtesseract-dev amd64 4.00~git2288-10f4998a-2 [1,447 kB]\n",
            "Fetched 1,447 kB in 1s (1,169 kB/s)\n",
            "Selecting previously unselected package libtesseract-dev.\n",
            "(Reading database ... 161097 files and directories currently installed.)\n",
            "Preparing to unpack .../libtesseract-dev_4.00~git2288-10f4998a-2_amd64.deb ...\n",
            "Unpacking libtesseract-dev (4.00~git2288-10f4998a-2) ...\n",
            "Setting up libtesseract-dev (4.00~git2288-10f4998a-2) ...\n"
          ],
          "name": "stdout"
        }
      ]
    },
    {
      "cell_type": "code",
      "metadata": {
        "colab": {
          "base_uri": "https://localhost:8080/"
        },
        "id": "hUqScylNRG8c",
        "outputId": "f2979541-d5dd-49f4-d713-396bc691a512"
      },
      "source": [
        "pip install pdf2image"
      ],
      "execution_count": 5,
      "outputs": [
        {
          "output_type": "stream",
          "text": [
            "Collecting pdf2image\n",
            "  Downloading https://files.pythonhosted.org/packages/03/62/089030fd16ab3e5c245315d63c80b29250b8f9e4579b5a09306eb7e7539c/pdf2image-1.14.0-py3-none-any.whl\n",
            "Requirement already satisfied: pillow in /usr/local/lib/python3.7/dist-packages (from pdf2image) (7.0.0)\n",
            "Installing collected packages: pdf2image\n",
            "Successfully installed pdf2image-1.14.0\n"
          ],
          "name": "stdout"
        }
      ]
    },
    {
      "cell_type": "code",
      "metadata": {
        "colab": {
          "base_uri": "https://localhost:8080/"
        },
        "id": "e6FImYcoRS3q",
        "outputId": "087deb75-faa9-4e12-95be-c0233b4cec7d"
      },
      "source": [
        "pip install pytesseract "
      ],
      "execution_count": 6,
      "outputs": [
        {
          "output_type": "stream",
          "text": [
            "Collecting pytesseract\n",
            "  Downloading https://files.pythonhosted.org/packages/a0/e6/a4e9fc8a93c1318540e8de6d8d4beb5749b7960388a7c7f27799fc2dd016/pytesseract-0.3.7.tar.gz\n",
            "Requirement already satisfied: Pillow in /usr/local/lib/python3.7/dist-packages (from pytesseract) (7.0.0)\n",
            "Building wheels for collected packages: pytesseract\n",
            "  Building wheel for pytesseract (setup.py) ... \u001b[?25l\u001b[?25hdone\n",
            "  Created wheel for pytesseract: filename=pytesseract-0.3.7-py2.py3-none-any.whl size=13945 sha256=51f19ebc477d920562fe4b2f13f68c82aeb7d05a2c411842ac534011f861ca34\n",
            "  Stored in directory: /root/.cache/pip/wheels/81/20/7e/1dd0daad1575d5260916bb1e9781246430647adaef4b3ca3b3\n",
            "Successfully built pytesseract\n",
            "Installing collected packages: pytesseract\n",
            "Successfully installed pytesseract-0.3.7\n"
          ],
          "name": "stdout"
        }
      ]
    },
    {
      "cell_type": "code",
      "metadata": {
        "id": "zBEZ4rsZX7GZ",
        "colab": {
          "base_uri": "https://localhost:8080/"
        },
        "outputId": "562b57c4-7f3e-45e4-9d10-649114a3237f"
      },
      "source": [
        "pip install autocorrect"
      ],
      "execution_count": 7,
      "outputs": [
        {
          "output_type": "stream",
          "text": [
            "Collecting autocorrect\n",
            "\u001b[?25l  Downloading https://files.pythonhosted.org/packages/16/a8/1fc332535fc26db807fa48bdb54070355b83a36c797451c3d563bc190fa8/autocorrect-2.3.0.tar.gz (621kB)\n",
            "\r\u001b[K     |▌                               | 10kB 13.9MB/s eta 0:00:01\r\u001b[K     |█                               | 20kB 20.1MB/s eta 0:00:01\r\u001b[K     |█▋                              | 30kB 11.1MB/s eta 0:00:01\r\u001b[K     |██                              | 40kB 9.0MB/s eta 0:00:01\r\u001b[K     |██▋                             | 51kB 7.5MB/s eta 0:00:01\r\u001b[K     |███▏                            | 61kB 6.8MB/s eta 0:00:01\r\u001b[K     |███▊                            | 71kB 7.4MB/s eta 0:00:01\r\u001b[K     |████▏                           | 81kB 7.6MB/s eta 0:00:01\r\u001b[K     |████▊                           | 92kB 7.5MB/s eta 0:00:01\r\u001b[K     |█████▎                          | 102kB 7.9MB/s eta 0:00:01\r\u001b[K     |█████▉                          | 112kB 7.9MB/s eta 0:00:01\r\u001b[K     |██████▎                         | 122kB 7.9MB/s eta 0:00:01\r\u001b[K     |██████▉                         | 133kB 7.9MB/s eta 0:00:01\r\u001b[K     |███████▍                        | 143kB 7.9MB/s eta 0:00:01\r\u001b[K     |████████                        | 153kB 7.9MB/s eta 0:00:01\r\u001b[K     |████████▍                       | 163kB 7.9MB/s eta 0:00:01\r\u001b[K     |█████████                       | 174kB 7.9MB/s eta 0:00:01\r\u001b[K     |█████████▌                      | 184kB 7.9MB/s eta 0:00:01\r\u001b[K     |██████████                      | 194kB 7.9MB/s eta 0:00:01\r\u001b[K     |██████████▌                     | 204kB 7.9MB/s eta 0:00:01\r\u001b[K     |███████████                     | 215kB 7.9MB/s eta 0:00:01\r\u001b[K     |███████████▋                    | 225kB 7.9MB/s eta 0:00:01\r\u001b[K     |████████████▏                   | 235kB 7.9MB/s eta 0:00:01\r\u001b[K     |████████████▋                   | 245kB 7.9MB/s eta 0:00:01\r\u001b[K     |█████████████▏                  | 256kB 7.9MB/s eta 0:00:01\r\u001b[K     |█████████████▊                  | 266kB 7.9MB/s eta 0:00:01\r\u001b[K     |██████████████▎                 | 276kB 7.9MB/s eta 0:00:01\r\u001b[K     |██████████████▊                 | 286kB 7.9MB/s eta 0:00:01\r\u001b[K     |███████████████▎                | 296kB 7.9MB/s eta 0:00:01\r\u001b[K     |███████████████▉                | 307kB 7.9MB/s eta 0:00:01\r\u001b[K     |████████████████▍               | 317kB 7.9MB/s eta 0:00:01\r\u001b[K     |████████████████▉               | 327kB 7.9MB/s eta 0:00:01\r\u001b[K     |█████████████████▍              | 337kB 7.9MB/s eta 0:00:01\r\u001b[K     |██████████████████              | 348kB 7.9MB/s eta 0:00:01\r\u001b[K     |██████████████████▍             | 358kB 7.9MB/s eta 0:00:01\r\u001b[K     |███████████████████             | 368kB 7.9MB/s eta 0:00:01\r\u001b[K     |███████████████████▌            | 378kB 7.9MB/s eta 0:00:01\r\u001b[K     |████████████████████            | 389kB 7.9MB/s eta 0:00:01\r\u001b[K     |████████████████████▌           | 399kB 7.9MB/s eta 0:00:01\r\u001b[K     |█████████████████████           | 409kB 7.9MB/s eta 0:00:01\r\u001b[K     |█████████████████████▋          | 419kB 7.9MB/s eta 0:00:01\r\u001b[K     |██████████████████████▏         | 430kB 7.9MB/s eta 0:00:01\r\u001b[K     |██████████████████████▋         | 440kB 7.9MB/s eta 0:00:01\r\u001b[K     |███████████████████████▏        | 450kB 7.9MB/s eta 0:00:01\r\u001b[K     |███████████████████████▊        | 460kB 7.9MB/s eta 0:00:01\r\u001b[K     |████████████████████████▎       | 471kB 7.9MB/s eta 0:00:01\r\u001b[K     |████████████████████████▊       | 481kB 7.9MB/s eta 0:00:01\r\u001b[K     |█████████████████████████▎      | 491kB 7.9MB/s eta 0:00:01\r\u001b[K     |█████████████████████████▉      | 501kB 7.9MB/s eta 0:00:01\r\u001b[K     |██████████████████████████▍     | 512kB 7.9MB/s eta 0:00:01\r\u001b[K     |██████████████████████████▉     | 522kB 7.9MB/s eta 0:00:01\r\u001b[K     |███████████████████████████▍    | 532kB 7.9MB/s eta 0:00:01\r\u001b[K     |████████████████████████████    | 542kB 7.9MB/s eta 0:00:01\r\u001b[K     |████████████████████████████▌   | 552kB 7.9MB/s eta 0:00:01\r\u001b[K     |█████████████████████████████   | 563kB 7.9MB/s eta 0:00:01\r\u001b[K     |█████████████████████████████▌  | 573kB 7.9MB/s eta 0:00:01\r\u001b[K     |██████████████████████████████  | 583kB 7.9MB/s eta 0:00:01\r\u001b[K     |██████████████████████████████▋ | 593kB 7.9MB/s eta 0:00:01\r\u001b[K     |███████████████████████████████ | 604kB 7.9MB/s eta 0:00:01\r\u001b[K     |███████████████████████████████▋| 614kB 7.9MB/s eta 0:00:01\r\u001b[K     |████████████████████████████████| 624kB 7.9MB/s \n",
            "\u001b[?25hBuilding wheels for collected packages: autocorrect\n",
            "  Building wheel for autocorrect (setup.py) ... \u001b[?25l\u001b[?25hdone\n",
            "  Created wheel for autocorrect: filename=autocorrect-2.3.0-cp37-none-any.whl size=621587 sha256=8a8bb21f10ba2319c51e9330c7dc724360aaebe4846372a07e8e387569812cfd\n",
            "  Stored in directory: /root/.cache/pip/wheels/cc/1c/30/6b0199afbd20eef5959f5eaa0ead86aeef84391740482b2279\n",
            "Successfully built autocorrect\n",
            "Installing collected packages: autocorrect\n",
            "Successfully installed autocorrect-2.3.0\n"
          ],
          "name": "stdout"
        }
      ]
    },
    {
      "cell_type": "code",
      "metadata": {
        "colab": {
          "base_uri": "https://localhost:8080/"
        },
        "id": "YaipGPz_nbfJ",
        "outputId": "4ef6724c-ee40-4453-c13b-3651e89c5b4a"
      },
      "source": [
        "pip install pyMorfologik"
      ],
      "execution_count": 8,
      "outputs": [
        {
          "output_type": "stream",
          "text": [
            "Collecting pyMorfologik\n",
            "\u001b[?25l  Downloading https://files.pythonhosted.org/packages/a7/98/16b09bebbd5b129324d1807b54b404d60a40427744eb09b9070241cc2b2d/pyMorfologik-0.2.2.zip (3.6MB)\n",
            "\u001b[K     |████████████████████████████████| 3.6MB 7.5MB/s \n",
            "\u001b[?25hBuilding wheels for collected packages: pyMorfologik\n",
            "  Building wheel for pyMorfologik (setup.py) ... \u001b[?25l\u001b[?25hdone\n",
            "  Created wheel for pyMorfologik: filename=pyMorfologik-0.2.2-cp37-none-any.whl size=3595631 sha256=c254954b138c77bfe282561b6172892d09a24cfe83d1c5eace5c0cd195f590a7\n",
            "  Stored in directory: /root/.cache/pip/wheels/f2/cf/60/df541f25f6920db234591899b6d09fe8757e818f9d3bbba131\n",
            "Successfully built pyMorfologik\n",
            "Installing collected packages: pyMorfologik\n",
            "Successfully installed pyMorfologik-0.2.2\n"
          ],
          "name": "stdout"
        }
      ]
    },
    {
      "cell_type": "code",
      "metadata": {
        "colab": {
          "base_uri": "https://localhost:8080/"
        },
        "id": "M6S-v958ppFW",
        "outputId": "f8df844d-d3af-4180-9cd0-e953572a29f3"
      },
      "source": [
        "pip install spacy"
      ],
      "execution_count": 9,
      "outputs": [
        {
          "output_type": "stream",
          "text": [
            "Requirement already satisfied: spacy in /usr/local/lib/python3.7/dist-packages (2.2.4)\n",
            "Requirement already satisfied: requests<3.0.0,>=2.13.0 in /usr/local/lib/python3.7/dist-packages (from spacy) (2.23.0)\n",
            "Requirement already satisfied: srsly<1.1.0,>=1.0.2 in /usr/local/lib/python3.7/dist-packages (from spacy) (1.0.5)\n",
            "Requirement already satisfied: plac<1.2.0,>=0.9.6 in /usr/local/lib/python3.7/dist-packages (from spacy) (1.1.3)\n",
            "Requirement already satisfied: setuptools in /usr/local/lib/python3.7/dist-packages (from spacy) (54.0.0)\n",
            "Requirement already satisfied: wasabi<1.1.0,>=0.4.0 in /usr/local/lib/python3.7/dist-packages (from spacy) (0.8.2)\n",
            "Requirement already satisfied: catalogue<1.1.0,>=0.0.7 in /usr/local/lib/python3.7/dist-packages (from spacy) (1.0.0)\n",
            "Requirement already satisfied: numpy>=1.15.0 in /usr/local/lib/python3.7/dist-packages (from spacy) (1.19.5)\n",
            "Requirement already satisfied: thinc==7.4.0 in /usr/local/lib/python3.7/dist-packages (from spacy) (7.4.0)\n",
            "Requirement already satisfied: murmurhash<1.1.0,>=0.28.0 in /usr/local/lib/python3.7/dist-packages (from spacy) (1.0.5)\n",
            "Requirement already satisfied: cymem<2.1.0,>=2.0.2 in /usr/local/lib/python3.7/dist-packages (from spacy) (2.0.5)\n",
            "Requirement already satisfied: tqdm<5.0.0,>=4.38.0 in /usr/local/lib/python3.7/dist-packages (from spacy) (4.41.1)\n",
            "Requirement already satisfied: blis<0.5.0,>=0.4.0 in /usr/local/lib/python3.7/dist-packages (from spacy) (0.4.1)\n",
            "Requirement already satisfied: preshed<3.1.0,>=3.0.2 in /usr/local/lib/python3.7/dist-packages (from spacy) (3.0.5)\n",
            "Requirement already satisfied: certifi>=2017.4.17 in /usr/local/lib/python3.7/dist-packages (from requests<3.0.0,>=2.13.0->spacy) (2020.12.5)\n",
            "Requirement already satisfied: idna<3,>=2.5 in /usr/local/lib/python3.7/dist-packages (from requests<3.0.0,>=2.13.0->spacy) (2.10)\n",
            "Requirement already satisfied: urllib3!=1.25.0,!=1.25.1,<1.26,>=1.21.1 in /usr/local/lib/python3.7/dist-packages (from requests<3.0.0,>=2.13.0->spacy) (1.24.3)\n",
            "Requirement already satisfied: chardet<4,>=3.0.2 in /usr/local/lib/python3.7/dist-packages (from requests<3.0.0,>=2.13.0->spacy) (3.0.4)\n",
            "Requirement already satisfied: importlib-metadata>=0.20; python_version < \"3.8\" in /usr/local/lib/python3.7/dist-packages (from catalogue<1.1.0,>=0.0.7->spacy) (3.7.0)\n",
            "Requirement already satisfied: zipp>=0.5 in /usr/local/lib/python3.7/dist-packages (from importlib-metadata>=0.20; python_version < \"3.8\"->catalogue<1.1.0,>=0.0.7->spacy) (3.4.1)\n",
            "Requirement already satisfied: typing-extensions>=3.6.4; python_version < \"3.8\" in /usr/local/lib/python3.7/dist-packages (from importlib-metadata>=0.20; python_version < \"3.8\"->catalogue<1.1.0,>=0.0.7->spacy) (3.7.4.3)\n"
          ],
          "name": "stdout"
        }
      ]
    },
    {
      "cell_type": "code",
      "metadata": {
        "colab": {
          "base_uri": "https://localhost:8080/"
        },
        "id": "IjGJeYmJp0r_",
        "outputId": "dc93f34b-30df-4a45-beea-522fb0371b28"
      },
      "source": [
        "pip install https://storage.googleapis.com/spacy-pl-public-models/pl_model-1.0.0.tar.gz"
      ],
      "execution_count": 10,
      "outputs": [
        {
          "output_type": "stream",
          "text": [
            "Collecting https://storage.googleapis.com/spacy-pl-public-models/pl_model-1.0.0.tar.gz\n",
            "\u001b[?25l  Downloading https://storage.googleapis.com/spacy-pl-public-models/pl_model-1.0.0.tar.gz (478.5MB)\n",
            "\u001b[K     |████████████████████████████████| 478.5MB 34kB/s \n",
            "\u001b[?25hRequirement already satisfied: spacy<3.0,>=2.1 in /usr/local/lib/python3.7/dist-packages (from pl-model==1.0.0) (2.2.4)\n",
            "Requirement already satisfied: setuptools in /usr/local/lib/python3.7/dist-packages (from spacy<3.0,>=2.1->pl-model==1.0.0) (54.0.0)\n",
            "Requirement already satisfied: numpy>=1.15.0 in /usr/local/lib/python3.7/dist-packages (from spacy<3.0,>=2.1->pl-model==1.0.0) (1.19.5)\n",
            "Requirement already satisfied: srsly<1.1.0,>=1.0.2 in /usr/local/lib/python3.7/dist-packages (from spacy<3.0,>=2.1->pl-model==1.0.0) (1.0.5)\n",
            "Requirement already satisfied: plac<1.2.0,>=0.9.6 in /usr/local/lib/python3.7/dist-packages (from spacy<3.0,>=2.1->pl-model==1.0.0) (1.1.3)\n",
            "Requirement already satisfied: thinc==7.4.0 in /usr/local/lib/python3.7/dist-packages (from spacy<3.0,>=2.1->pl-model==1.0.0) (7.4.0)\n",
            "Requirement already satisfied: wasabi<1.1.0,>=0.4.0 in /usr/local/lib/python3.7/dist-packages (from spacy<3.0,>=2.1->pl-model==1.0.0) (0.8.2)\n",
            "Requirement already satisfied: preshed<3.1.0,>=3.0.2 in /usr/local/lib/python3.7/dist-packages (from spacy<3.0,>=2.1->pl-model==1.0.0) (3.0.5)\n",
            "Requirement already satisfied: tqdm<5.0.0,>=4.38.0 in /usr/local/lib/python3.7/dist-packages (from spacy<3.0,>=2.1->pl-model==1.0.0) (4.41.1)\n",
            "Requirement already satisfied: catalogue<1.1.0,>=0.0.7 in /usr/local/lib/python3.7/dist-packages (from spacy<3.0,>=2.1->pl-model==1.0.0) (1.0.0)\n",
            "Requirement already satisfied: murmurhash<1.1.0,>=0.28.0 in /usr/local/lib/python3.7/dist-packages (from spacy<3.0,>=2.1->pl-model==1.0.0) (1.0.5)\n",
            "Requirement already satisfied: blis<0.5.0,>=0.4.0 in /usr/local/lib/python3.7/dist-packages (from spacy<3.0,>=2.1->pl-model==1.0.0) (0.4.1)\n",
            "Requirement already satisfied: requests<3.0.0,>=2.13.0 in /usr/local/lib/python3.7/dist-packages (from spacy<3.0,>=2.1->pl-model==1.0.0) (2.23.0)\n",
            "Requirement already satisfied: cymem<2.1.0,>=2.0.2 in /usr/local/lib/python3.7/dist-packages (from spacy<3.0,>=2.1->pl-model==1.0.0) (2.0.5)\n",
            "Requirement already satisfied: importlib-metadata>=0.20; python_version < \"3.8\" in /usr/local/lib/python3.7/dist-packages (from catalogue<1.1.0,>=0.0.7->spacy<3.0,>=2.1->pl-model==1.0.0) (3.7.0)\n",
            "Requirement already satisfied: certifi>=2017.4.17 in /usr/local/lib/python3.7/dist-packages (from requests<3.0.0,>=2.13.0->spacy<3.0,>=2.1->pl-model==1.0.0) (2020.12.5)\n",
            "Requirement already satisfied: chardet<4,>=3.0.2 in /usr/local/lib/python3.7/dist-packages (from requests<3.0.0,>=2.13.0->spacy<3.0,>=2.1->pl-model==1.0.0) (3.0.4)\n",
            "Requirement already satisfied: idna<3,>=2.5 in /usr/local/lib/python3.7/dist-packages (from requests<3.0.0,>=2.13.0->spacy<3.0,>=2.1->pl-model==1.0.0) (2.10)\n",
            "Requirement already satisfied: urllib3!=1.25.0,!=1.25.1,<1.26,>=1.21.1 in /usr/local/lib/python3.7/dist-packages (from requests<3.0.0,>=2.13.0->spacy<3.0,>=2.1->pl-model==1.0.0) (1.24.3)\n",
            "Requirement already satisfied: typing-extensions>=3.6.4; python_version < \"3.8\" in /usr/local/lib/python3.7/dist-packages (from importlib-metadata>=0.20; python_version < \"3.8\"->catalogue<1.1.0,>=0.0.7->spacy<3.0,>=2.1->pl-model==1.0.0) (3.7.4.3)\n",
            "Requirement already satisfied: zipp>=0.5 in /usr/local/lib/python3.7/dist-packages (from importlib-metadata>=0.20; python_version < \"3.8\"->catalogue<1.1.0,>=0.0.7->spacy<3.0,>=2.1->pl-model==1.0.0) (3.4.1)\n",
            "Building wheels for collected packages: pl-model\n",
            "  Building wheel for pl-model (setup.py) ... \u001b[?25l\u001b[?25hdone\n",
            "  Created wheel for pl-model: filename=pl_model-1.0.0-cp37-none-any.whl size=479195213 sha256=64ec476fb1774ca574735a48a7f1fa0f618bf3e4541489d070a685c91ea04382\n",
            "  Stored in directory: /root/.cache/pip/wheels/12/8d/a6/857273304be1575302e8735a32df0ccadd20cc79cf54ce644d\n",
            "Successfully built pl-model\n",
            "Installing collected packages: pl-model\n",
            "Successfully installed pl-model-1.0.0\n"
          ],
          "name": "stdout"
        }
      ]
    },
    {
      "cell_type": "code",
      "metadata": {
        "id": "E-ojtCvdt3AB"
      },
      "source": [
        ""
      ],
      "execution_count": 10,
      "outputs": []
    },
    {
      "cell_type": "code",
      "metadata": {
        "colab": {
          "base_uri": "https://localhost:8080/"
        },
        "id": "kpBM4kavqfqr",
        "outputId": "2f940269-0a31-4e02-c96c-8a9eee19d85b"
      },
      "source": [
        "pip install https://github.com/spacy-pl/spaCy/archive/pl-release/lemmatizer-tagmap-and-tests.zip"
      ],
      "execution_count": 11,
      "outputs": [
        {
          "output_type": "stream",
          "text": [
            "Collecting https://github.com/spacy-pl/spaCy/archive/pl-release/lemmatizer-tagmap-and-tests.zip\n",
            "\u001b[?25l  Downloading https://github.com/spacy-pl/spaCy/archive/pl-release/lemmatizer-tagmap-and-tests.zip\n",
            "\u001b[K     | 13.6MB 15.0MB/s\n",
            "\u001b[?25h  Installing build dependencies ... \u001b[?25l\u001b[?25hdone\n",
            "  Getting requirements to build wheel ... \u001b[?25l\u001b[?25herror\n",
            "\u001b[31mERROR: Command errored out with exit status 1: /usr/bin/python3 /usr/local/lib/python3.7/dist-packages/pip/_vendor/pep517/_in_process.py get_requires_for_build_wheel /tmp/tmp4ahyn5lw Check the logs for full command output.\u001b[0m\n"
          ],
          "name": "stdout"
        }
      ]
    },
    {
      "cell_type": "code",
      "metadata": {
        "colab": {
          "base_uri": "https://localhost:8080/"
        },
        "id": "glKzKtBv_lp5",
        "outputId": "0ca90cd0-ed92-4531-afcb-298a89ea9071"
      },
      "source": [
        "!python -m pip install 'drive/MyDrive/Colab Notebooks/pl_spacy_model_morfeusz-0.1.3.tar.gz'\r\n",
        "#!python -m pip install 'drive/MyDrive/Colab Notebooks/pl_spacy_model-0.1.0.tar.gz'"
      ],
      "execution_count": 12,
      "outputs": [
        {
          "output_type": "stream",
          "text": [
            "Processing ./drive/MyDrive/Colab Notebooks/pl_spacy_model_morfeusz-0.1.3.tar.gz\n",
            "Collecting spacy==2.3.2\n",
            "\u001b[?25l  Downloading https://files.pythonhosted.org/packages/55/24/70c615f5b22440c679a4132b81eee67d1dfd70d159505a28ff949c78a1ac/spacy-2.3.2-cp37-cp37m-manylinux1_x86_64.whl (9.9MB)\n",
            "\u001b[K     |████████████████████████████████| 9.9MB 5.2MB/s \n",
            "\u001b[?25hCollecting distance\n",
            "\u001b[?25l  Downloading https://files.pythonhosted.org/packages/5c/1a/883e47df323437aefa0d0a92ccfb38895d9416bd0b56262c2e46a47767b8/Distance-0.1.3.tar.gz (180kB)\n",
            "\u001b[K     |████████████████████████████████| 184kB 33.4MB/s \n",
            "\u001b[?25hRequirement already satisfied: keras==2.4.3 in /usr/local/lib/python3.7/dist-packages (from pl-spacy-model-morfeusz==0.1.3) (2.4.3)\n",
            "Requirement already satisfied: numpy in /usr/local/lib/python3.7/dist-packages (from pl-spacy-model-morfeusz==0.1.3) (1.19.5)\n",
            "Collecting tensorflow==2.3.1\n",
            "\u001b[?25l  Downloading https://files.pythonhosted.org/packages/eb/18/374af421dfbe74379a458e58ab40cf46b35c3206ce8e183e28c1c627494d/tensorflow-2.3.1-cp37-cp37m-manylinux2010_x86_64.whl (320.4MB)\n",
            "\u001b[K     |████████████████████████████████| 320.4MB 33kB/s \n",
            "\u001b[?25hCollecting thinc==7.4.1\n",
            "\u001b[?25l  Downloading https://files.pythonhosted.org/packages/1b/4e/6f16cfebb0dd68cc8a9a973eba8e01ee7b960dc563edb12a3ee397473e32/thinc-7.4.1-cp37-cp37m-manylinux1_x86_64.whl (2.1MB)\n",
            "\u001b[K     |████████████████████████████████| 2.1MB 45.3MB/s \n",
            "\u001b[?25hRequirement already satisfied: tqdm<5.0.0,>=4.38.0 in /usr/local/lib/python3.7/dist-packages (from spacy==2.3.2->pl-spacy-model-morfeusz==0.1.3) (4.41.1)\n",
            "Requirement already satisfied: setuptools in /usr/local/lib/python3.7/dist-packages (from spacy==2.3.2->pl-spacy-model-morfeusz==0.1.3) (54.0.0)\n",
            "Requirement already satisfied: requests<3.0.0,>=2.13.0 in /usr/local/lib/python3.7/dist-packages (from spacy==2.3.2->pl-spacy-model-morfeusz==0.1.3) (2.23.0)\n",
            "Requirement already satisfied: srsly<1.1.0,>=1.0.2 in /usr/local/lib/python3.7/dist-packages (from spacy==2.3.2->pl-spacy-model-morfeusz==0.1.3) (1.0.5)\n",
            "Requirement already satisfied: catalogue<1.1.0,>=0.0.7 in /usr/local/lib/python3.7/dist-packages (from spacy==2.3.2->pl-spacy-model-morfeusz==0.1.3) (1.0.0)\n",
            "Requirement already satisfied: plac<1.2.0,>=0.9.6 in /usr/local/lib/python3.7/dist-packages (from spacy==2.3.2->pl-spacy-model-morfeusz==0.1.3) (1.1.3)\n",
            "Requirement already satisfied: cymem<2.1.0,>=2.0.2 in /usr/local/lib/python3.7/dist-packages (from spacy==2.3.2->pl-spacy-model-morfeusz==0.1.3) (2.0.5)\n",
            "Requirement already satisfied: murmurhash<1.1.0,>=0.28.0 in /usr/local/lib/python3.7/dist-packages (from spacy==2.3.2->pl-spacy-model-morfeusz==0.1.3) (1.0.5)\n",
            "Requirement already satisfied: blis<0.5.0,>=0.4.0 in /usr/local/lib/python3.7/dist-packages (from spacy==2.3.2->pl-spacy-model-morfeusz==0.1.3) (0.4.1)\n",
            "Requirement already satisfied: wasabi<1.1.0,>=0.4.0 in /usr/local/lib/python3.7/dist-packages (from spacy==2.3.2->pl-spacy-model-morfeusz==0.1.3) (0.8.2)\n",
            "Requirement already satisfied: preshed<3.1.0,>=3.0.2 in /usr/local/lib/python3.7/dist-packages (from spacy==2.3.2->pl-spacy-model-morfeusz==0.1.3) (3.0.5)\n",
            "Requirement already satisfied: h5py in /usr/local/lib/python3.7/dist-packages (from keras==2.4.3->pl-spacy-model-morfeusz==0.1.3) (2.10.0)\n",
            "Requirement already satisfied: scipy>=0.14 in /usr/local/lib/python3.7/dist-packages (from keras==2.4.3->pl-spacy-model-morfeusz==0.1.3) (1.4.1)\n",
            "Requirement already satisfied: pyyaml in /usr/local/lib/python3.7/dist-packages (from keras==2.4.3->pl-spacy-model-morfeusz==0.1.3) (3.13)\n",
            "Requirement already satisfied: absl-py>=0.7.0 in /usr/local/lib/python3.7/dist-packages (from tensorflow==2.3.1->pl-spacy-model-morfeusz==0.1.3) (0.10.0)\n",
            "Requirement already satisfied: tensorboard<3,>=2.3.0 in /usr/local/lib/python3.7/dist-packages (from tensorflow==2.3.1->pl-spacy-model-morfeusz==0.1.3) (2.4.1)\n",
            "Requirement already satisfied: six>=1.12.0 in /usr/local/lib/python3.7/dist-packages (from tensorflow==2.3.1->pl-spacy-model-morfeusz==0.1.3) (1.15.0)\n",
            "Requirement already satisfied: opt-einsum>=2.3.2 in /usr/local/lib/python3.7/dist-packages (from tensorflow==2.3.1->pl-spacy-model-morfeusz==0.1.3) (3.3.0)\n",
            "Requirement already satisfied: wheel>=0.26 in /usr/local/lib/python3.7/dist-packages (from tensorflow==2.3.1->pl-spacy-model-morfeusz==0.1.3) (0.36.2)\n",
            "Requirement already satisfied: grpcio>=1.8.6 in /usr/local/lib/python3.7/dist-packages (from tensorflow==2.3.1->pl-spacy-model-morfeusz==0.1.3) (1.32.0)\n",
            "Requirement already satisfied: gast==0.3.3 in /usr/local/lib/python3.7/dist-packages (from tensorflow==2.3.1->pl-spacy-model-morfeusz==0.1.3) (0.3.3)\n",
            "Requirement already satisfied: keras-preprocessing<1.2,>=1.1.1 in /usr/local/lib/python3.7/dist-packages (from tensorflow==2.3.1->pl-spacy-model-morfeusz==0.1.3) (1.1.2)\n",
            "Collecting tensorflow-estimator<2.4.0,>=2.3.0\n",
            "\u001b[?25l  Downloading https://files.pythonhosted.org/packages/e9/ed/5853ec0ae380cba4588eab1524e18ece1583b65f7ae0e97321f5ff9dfd60/tensorflow_estimator-2.3.0-py2.py3-none-any.whl (459kB)\n",
            "\u001b[K     |████████████████████████████████| 460kB 44.4MB/s \n",
            "\u001b[?25hRequirement already satisfied: astunparse==1.6.3 in /usr/local/lib/python3.7/dist-packages (from tensorflow==2.3.1->pl-spacy-model-morfeusz==0.1.3) (1.6.3)\n",
            "Requirement already satisfied: wrapt>=1.11.1 in /usr/local/lib/python3.7/dist-packages (from tensorflow==2.3.1->pl-spacy-model-morfeusz==0.1.3) (1.12.1)\n",
            "Requirement already satisfied: protobuf>=3.9.2 in /usr/local/lib/python3.7/dist-packages (from tensorflow==2.3.1->pl-spacy-model-morfeusz==0.1.3) (3.12.4)\n",
            "Requirement already satisfied: google-pasta>=0.1.8 in /usr/local/lib/python3.7/dist-packages (from tensorflow==2.3.1->pl-spacy-model-morfeusz==0.1.3) (0.2.0)\n",
            "Requirement already satisfied: termcolor>=1.1.0 in /usr/local/lib/python3.7/dist-packages (from tensorflow==2.3.1->pl-spacy-model-morfeusz==0.1.3) (1.1.0)\n",
            "Requirement already satisfied: urllib3!=1.25.0,!=1.25.1,<1.26,>=1.21.1 in /usr/local/lib/python3.7/dist-packages (from requests<3.0.0,>=2.13.0->spacy==2.3.2->pl-spacy-model-morfeusz==0.1.3) (1.24.3)\n",
            "Requirement already satisfied: idna<3,>=2.5 in /usr/local/lib/python3.7/dist-packages (from requests<3.0.0,>=2.13.0->spacy==2.3.2->pl-spacy-model-morfeusz==0.1.3) (2.10)\n",
            "Requirement already satisfied: chardet<4,>=3.0.2 in /usr/local/lib/python3.7/dist-packages (from requests<3.0.0,>=2.13.0->spacy==2.3.2->pl-spacy-model-morfeusz==0.1.3) (3.0.4)\n",
            "Requirement already satisfied: certifi>=2017.4.17 in /usr/local/lib/python3.7/dist-packages (from requests<3.0.0,>=2.13.0->spacy==2.3.2->pl-spacy-model-morfeusz==0.1.3) (2020.12.5)\n",
            "Requirement already satisfied: importlib-metadata>=0.20; python_version < \"3.8\" in /usr/local/lib/python3.7/dist-packages (from catalogue<1.1.0,>=0.0.7->spacy==2.3.2->pl-spacy-model-morfeusz==0.1.3) (3.7.0)\n",
            "Requirement already satisfied: markdown>=2.6.8 in /usr/local/lib/python3.7/dist-packages (from tensorboard<3,>=2.3.0->tensorflow==2.3.1->pl-spacy-model-morfeusz==0.1.3) (3.3.4)\n",
            "Requirement already satisfied: google-auth-oauthlib<0.5,>=0.4.1 in /usr/local/lib/python3.7/dist-packages (from tensorboard<3,>=2.3.0->tensorflow==2.3.1->pl-spacy-model-morfeusz==0.1.3) (0.4.3)\n",
            "Requirement already satisfied: google-auth<2,>=1.6.3 in /usr/local/lib/python3.7/dist-packages (from tensorboard<3,>=2.3.0->tensorflow==2.3.1->pl-spacy-model-morfeusz==0.1.3) (1.27.1)\n",
            "Requirement already satisfied: tensorboard-plugin-wit>=1.6.0 in /usr/local/lib/python3.7/dist-packages (from tensorboard<3,>=2.3.0->tensorflow==2.3.1->pl-spacy-model-morfeusz==0.1.3) (1.8.0)\n",
            "Requirement already satisfied: werkzeug>=0.11.15 in /usr/local/lib/python3.7/dist-packages (from tensorboard<3,>=2.3.0->tensorflow==2.3.1->pl-spacy-model-morfeusz==0.1.3) (1.0.1)\n",
            "Requirement already satisfied: zipp>=0.5 in /usr/local/lib/python3.7/dist-packages (from importlib-metadata>=0.20; python_version < \"3.8\"->catalogue<1.1.0,>=0.0.7->spacy==2.3.2->pl-spacy-model-morfeusz==0.1.3) (3.4.1)\n",
            "Requirement already satisfied: typing-extensions>=3.6.4; python_version < \"3.8\" in /usr/local/lib/python3.7/dist-packages (from importlib-metadata>=0.20; python_version < \"3.8\"->catalogue<1.1.0,>=0.0.7->spacy==2.3.2->pl-spacy-model-morfeusz==0.1.3) (3.7.4.3)\n",
            "Requirement already satisfied: requests-oauthlib>=0.7.0 in /usr/local/lib/python3.7/dist-packages (from google-auth-oauthlib<0.5,>=0.4.1->tensorboard<3,>=2.3.0->tensorflow==2.3.1->pl-spacy-model-morfeusz==0.1.3) (1.3.0)\n",
            "Requirement already satisfied: pyasn1-modules>=0.2.1 in /usr/local/lib/python3.7/dist-packages (from google-auth<2,>=1.6.3->tensorboard<3,>=2.3.0->tensorflow==2.3.1->pl-spacy-model-morfeusz==0.1.3) (0.2.8)\n",
            "Requirement already satisfied: cachetools<5.0,>=2.0.0 in /usr/local/lib/python3.7/dist-packages (from google-auth<2,>=1.6.3->tensorboard<3,>=2.3.0->tensorflow==2.3.1->pl-spacy-model-morfeusz==0.1.3) (4.2.1)\n",
            "Requirement already satisfied: rsa<5,>=3.1.4; python_version >= \"3.6\" in /usr/local/lib/python3.7/dist-packages (from google-auth<2,>=1.6.3->tensorboard<3,>=2.3.0->tensorflow==2.3.1->pl-spacy-model-morfeusz==0.1.3) (4.7.2)\n",
            "Requirement already satisfied: oauthlib>=3.0.0 in /usr/local/lib/python3.7/dist-packages (from requests-oauthlib>=0.7.0->google-auth-oauthlib<0.5,>=0.4.1->tensorboard<3,>=2.3.0->tensorflow==2.3.1->pl-spacy-model-morfeusz==0.1.3) (3.1.0)\n",
            "Requirement already satisfied: pyasn1<0.5.0,>=0.4.6 in /usr/local/lib/python3.7/dist-packages (from pyasn1-modules>=0.2.1->google-auth<2,>=1.6.3->tensorboard<3,>=2.3.0->tensorflow==2.3.1->pl-spacy-model-morfeusz==0.1.3) (0.4.8)\n",
            "Building wheels for collected packages: pl-spacy-model-morfeusz, distance\n",
            "  Building wheel for pl-spacy-model-morfeusz (setup.py) ... \u001b[?25l\u001b[?25hdone\n",
            "  Created wheel for pl-spacy-model-morfeusz: filename=pl_spacy_model_morfeusz-0.1.3-cp37-none-any.whl size=229138617 sha256=5c7187cf6f63fefcb0796dce4581cf881fccb4125a24dea06ec5f7c91d2b5964\n",
            "  Stored in directory: /root/.cache/pip/wheels/fd/3e/ad/939ea835dc8cde007c7c0fd6f6902279398e6003a59c3ff181\n",
            "  Building wheel for distance (setup.py) ... \u001b[?25l\u001b[?25hdone\n",
            "  Created wheel for distance: filename=Distance-0.1.3-cp37-none-any.whl size=16261 sha256=55f6ffb972dfe692f4e1389e15e22655c644fdf6d117449455c3d97f3a92c99d\n",
            "  Stored in directory: /root/.cache/pip/wheels/d5/aa/e1/dbba9e7b6d397d645d0f12db1c66dbae9c5442b39b001db18e\n",
            "Successfully built pl-spacy-model-morfeusz distance\n",
            "\u001b[31mERROR: tensorflow 2.3.1 has requirement numpy<1.19.0,>=1.16.0, but you'll have numpy 1.19.5 which is incompatible.\u001b[0m\n",
            "Installing collected packages: thinc, spacy, distance, tensorflow-estimator, tensorflow, pl-spacy-model-morfeusz\n",
            "  Found existing installation: thinc 7.4.0\n",
            "    Uninstalling thinc-7.4.0:\n",
            "      Successfully uninstalled thinc-7.4.0\n",
            "  Found existing installation: spacy 2.2.4\n",
            "    Uninstalling spacy-2.2.4:\n",
            "      Successfully uninstalled spacy-2.2.4\n",
            "  Found existing installation: tensorflow-estimator 2.4.0\n",
            "    Uninstalling tensorflow-estimator-2.4.0:\n",
            "      Successfully uninstalled tensorflow-estimator-2.4.0\n",
            "  Found existing installation: tensorflow 2.4.1\n",
            "    Uninstalling tensorflow-2.4.1:\n",
            "      Successfully uninstalled tensorflow-2.4.1\n",
            "Successfully installed distance-0.1.3 pl-spacy-model-morfeusz-0.1.3 spacy-2.3.2 tensorflow-2.3.1 tensorflow-estimator-2.3.0 thinc-7.4.1\n"
          ],
          "name": "stdout"
        }
      ]
    },
    {
      "cell_type": "code",
      "metadata": {
        "colab": {
          "base_uri": "https://localhost:8080/",
          "height": 352
        },
        "id": "5nNQXSxJHHtv",
        "outputId": "f2aaa3c4-9168-4876-a40b-be1ddd1e55e2"
      },
      "source": [
        "#import spacy\r\n",
        "#nlp=spacy.load('pl_spacy_model_morfeusz')\r\n",
        "#nlp = spacy.load('pl_spacy_model')"
      ],
      "execution_count": 13,
      "outputs": [
        {
          "output_type": "error",
          "ename": "OSError",
          "evalue": "ignored",
          "traceback": [
            "\u001b[0;31m---------------------------------------------------------------------------\u001b[0m",
            "\u001b[0;31mOSError\u001b[0m                                   Traceback (most recent call last)",
            "\u001b[0;32m<ipython-input-13-6688206cddab>\u001b[0m in \u001b[0;36m<module>\u001b[0;34m()\u001b[0m\n\u001b[1;32m      1\u001b[0m \u001b[0;32mimport\u001b[0m \u001b[0mspacy\u001b[0m\u001b[0;34m\u001b[0m\u001b[0;34m\u001b[0m\u001b[0m\n\u001b[1;32m      2\u001b[0m \u001b[0;31m#nlp=spacy.load('pl_spacy_model_morfeusz')\u001b[0m\u001b[0;34m\u001b[0m\u001b[0;34m\u001b[0m\u001b[0;34m\u001b[0m\u001b[0m\n\u001b[0;32m----> 3\u001b[0;31m \u001b[0mnlp\u001b[0m \u001b[0;34m=\u001b[0m \u001b[0mspacy\u001b[0m\u001b[0;34m.\u001b[0m\u001b[0mload\u001b[0m\u001b[0;34m(\u001b[0m\u001b[0;34m'pl_spacy_model'\u001b[0m\u001b[0;34m)\u001b[0m\u001b[0;34m\u001b[0m\u001b[0;34m\u001b[0m\u001b[0m\n\u001b[0m",
            "\u001b[0;32m/usr/local/lib/python3.7/dist-packages/spacy/__init__.py\u001b[0m in \u001b[0;36mload\u001b[0;34m(name, **overrides)\u001b[0m\n\u001b[1;32m     28\u001b[0m     \u001b[0;32mif\u001b[0m \u001b[0mdepr_path\u001b[0m \u001b[0;32mnot\u001b[0m \u001b[0;32min\u001b[0m \u001b[0;34m(\u001b[0m\u001b[0;32mTrue\u001b[0m\u001b[0;34m,\u001b[0m \u001b[0;32mFalse\u001b[0m\u001b[0;34m,\u001b[0m \u001b[0;32mNone\u001b[0m\u001b[0;34m)\u001b[0m\u001b[0;34m:\u001b[0m\u001b[0;34m\u001b[0m\u001b[0;34m\u001b[0m\u001b[0m\n\u001b[1;32m     29\u001b[0m         \u001b[0mwarnings\u001b[0m\u001b[0;34m.\u001b[0m\u001b[0mwarn\u001b[0m\u001b[0;34m(\u001b[0m\u001b[0mWarnings\u001b[0m\u001b[0;34m.\u001b[0m\u001b[0mW001\u001b[0m\u001b[0;34m.\u001b[0m\u001b[0mformat\u001b[0m\u001b[0;34m(\u001b[0m\u001b[0mpath\u001b[0m\u001b[0;34m=\u001b[0m\u001b[0mdepr_path\u001b[0m\u001b[0;34m)\u001b[0m\u001b[0;34m,\u001b[0m \u001b[0mDeprecationWarning\u001b[0m\u001b[0;34m)\u001b[0m\u001b[0;34m\u001b[0m\u001b[0;34m\u001b[0m\u001b[0m\n\u001b[0;32m---> 30\u001b[0;31m     \u001b[0;32mreturn\u001b[0m \u001b[0mutil\u001b[0m\u001b[0;34m.\u001b[0m\u001b[0mload_model\u001b[0m\u001b[0;34m(\u001b[0m\u001b[0mname\u001b[0m\u001b[0;34m,\u001b[0m \u001b[0;34m**\u001b[0m\u001b[0moverrides\u001b[0m\u001b[0;34m)\u001b[0m\u001b[0;34m\u001b[0m\u001b[0;34m\u001b[0m\u001b[0m\n\u001b[0m\u001b[1;32m     31\u001b[0m \u001b[0;34m\u001b[0m\u001b[0m\n\u001b[1;32m     32\u001b[0m \u001b[0;34m\u001b[0m\u001b[0m\n",
            "\u001b[0;32m/usr/local/lib/python3.7/dist-packages/spacy/util.py\u001b[0m in \u001b[0;36mload_model\u001b[0;34m(name, **overrides)\u001b[0m\n\u001b[1;32m    173\u001b[0m     \u001b[0;32melif\u001b[0m \u001b[0mhasattr\u001b[0m\u001b[0;34m(\u001b[0m\u001b[0mname\u001b[0m\u001b[0;34m,\u001b[0m \u001b[0;34m\"exists\"\u001b[0m\u001b[0;34m)\u001b[0m\u001b[0;34m:\u001b[0m  \u001b[0;31m# Path or Path-like to model data\u001b[0m\u001b[0;34m\u001b[0m\u001b[0;34m\u001b[0m\u001b[0m\n\u001b[1;32m    174\u001b[0m         \u001b[0;32mreturn\u001b[0m \u001b[0mload_model_from_path\u001b[0m\u001b[0;34m(\u001b[0m\u001b[0mname\u001b[0m\u001b[0;34m,\u001b[0m \u001b[0;34m**\u001b[0m\u001b[0moverrides\u001b[0m\u001b[0;34m)\u001b[0m\u001b[0;34m\u001b[0m\u001b[0;34m\u001b[0m\u001b[0m\n\u001b[0;32m--> 175\u001b[0;31m     \u001b[0;32mraise\u001b[0m \u001b[0mIOError\u001b[0m\u001b[0;34m(\u001b[0m\u001b[0mErrors\u001b[0m\u001b[0;34m.\u001b[0m\u001b[0mE050\u001b[0m\u001b[0;34m.\u001b[0m\u001b[0mformat\u001b[0m\u001b[0;34m(\u001b[0m\u001b[0mname\u001b[0m\u001b[0;34m=\u001b[0m\u001b[0mname\u001b[0m\u001b[0;34m)\u001b[0m\u001b[0;34m)\u001b[0m\u001b[0;34m\u001b[0m\u001b[0;34m\u001b[0m\u001b[0m\n\u001b[0m\u001b[1;32m    176\u001b[0m \u001b[0;34m\u001b[0m\u001b[0m\n\u001b[1;32m    177\u001b[0m \u001b[0;34m\u001b[0m\u001b[0m\n",
            "\u001b[0;31mOSError\u001b[0m: [E050] Can't find model 'pl_spacy_model'. It doesn't seem to be a shortcut link, a Python package or a valid path to a data directory."
          ]
        }
      ]
    },
    {
      "cell_type": "code",
      "metadata": {
        "id": "7mQMjLvDvbPo"
      },
      "source": [
        "\r\n",
        "#doc = nlp(\"bla bla mm scg mama sfb VD SDV jdciABDiBxhdhgzhDV 't \") \r\n",
        "#for token in doc:\r\n",
        "#    print(token.text in nlp.vocab)\r\n"
      ],
      "execution_count": 14,
      "outputs": []
    },
    {
      "cell_type": "code",
      "metadata": {
        "id": "qF2jJdIWKQd2"
      },
      "source": [
        "from PIL import Image \n",
        "import pytesseract \n",
        "import sys \n",
        "from pdf2image import convert_from_path \n",
        "import os\n",
        "import pandas as pd\n",
        "import cv2 \n",
        "from pdf2image import pdfinfo_from_path,convert_from_path\n",
        "import os\n",
        "from PIL import Image\n",
        "from pytesseract import image_to_string\n",
        "import numpy as np\n",
        "from matplotlib import pyplot as plt\n",
        "import os\n",
        "os.environ[\"CUDA_VISIBLE_DEVICES\"] = \"1\"\n",
        "from autocorrect import Speller\n",
        "from matplotlib.pyplot import figure\n"
      ],
      "execution_count": 15,
      "outputs": []
    },
    {
      "cell_type": "code",
      "metadata": {
        "id": "OJ8r4kaheSLy",
        "colab": {
          "base_uri": "https://localhost:8080/"
        },
        "outputId": "36f7d2c5-9587-4d7a-f6da-32c887f97c74"
      },
      "source": [
        "spell = Speller('pl')"
      ],
      "execution_count": 16,
      "outputs": [
        {
          "output_type": "stream",
          "text": [
            "dictionary for this language not found, downloading...\n",
            "__________________________________________________\n",
            ">>>>>>>>>>>>>>>>>>>>>>>>>>>>>>>>>>>>>>>>>>>>>>>>>>\n",
            "done!\n"
          ],
          "name": "stdout"
        }
      ]
    },
    {
      "cell_type": "code",
      "metadata": {
        "id": "JquV3LFqbmlh"
      },
      "source": [
        "def fig_prepare(image):\r\n",
        "  \r\n",
        "  kernel_3x3 = np.ones((3, 3), np.float32) / 9\r\n",
        "\r\n",
        "  kernel_sharpening = np.array([[-1,-1,-1], \r\n",
        "                                [-1, 9,-1],\r\n",
        "                                [-1,-1,-1]])\r\n",
        "\r\n",
        "  blurred = cv2.filter2D(image, -1, kernel_3x3)\r\n",
        "  sharpened = cv2.filter2D(blurred, -1, kernel_sharpening)\r\n",
        "\r\n",
        "  blurred = cv2.filter2D(sharpened, -1, kernel_3x3)\r\n",
        "  sharpened = cv2.filter2D(blurred, -1, kernel_sharpening)\r\n",
        "\r\n",
        "  lower=np.array([0,0,0])\r\n",
        "  upper=np.array([100,100,100])\r\n",
        "\r\n",
        "  mask = cv2.inRange(sharpened, lower, upper)\r\n",
        "  \r\n",
        "  return 255-mask"
      ],
      "execution_count": 17,
      "outputs": []
    },
    {
      "cell_type": "code",
      "metadata": {
        "id": "x_Nmuy_jc13h"
      },
      "source": [
        "def text_from_file(image):\r\n",
        "  image_correct=fig_prepare(image)\r\n",
        "  custom_config_letters = r'--oem 3 --psm 3'\r\n",
        "  custom_config_digits = r'--oem 3 --psm 3 outputbase digits'\r\n",
        "  return (image_to_string(image_correct, lang='pol',config=custom_config_letters)),(image_to_string(image_correct, lang='pol',config=custom_config_digits))"
      ],
      "execution_count": 18,
      "outputs": []
    },
    {
      "cell_type": "code",
      "metadata": {
        "id": "3ZnASCQ6fq1r"
      },
      "source": [
        "def text_from_image(image):\r\n",
        "  image_correct=image\r\n",
        "  custom_config_letters = r'--oem 3 --psm 3'\r\n",
        "  custom_config_digits = r'--oem 3 --psm 3 outputbase digits'\r\n",
        "  return (image_to_string(image_correct, lang='pol',config=custom_config_letters)),(image_to_string(image_correct, lang='pol',config=custom_config_digits))"
      ],
      "execution_count": 19,
      "outputs": []
    },
    {
      "cell_type": "code",
      "metadata": {
        "id": "vgomKGc1HNfC"
      },
      "source": [
        "import re\r\n",
        "def hasNumbers(inputString):\r\n",
        "   return any(char.isdigit() for char in inputString)"
      ],
      "execution_count": 20,
      "outputs": []
    },
    {
      "cell_type": "code",
      "metadata": {
        "id": "qZlTMvqWiecU"
      },
      "source": [
        "def mask_from_cropped(cropped):\r\n",
        "          kernel = cv2.getStructuringElement(cv2.MORPH_ELLIPSE, (9, 9))\r\n",
        "          dilated = cv2.dilate(cropped, kernel)\r\n",
        "          eroded=cv2.erode(dilated,kernel)\r\n",
        "\r\n",
        "          kernel_3x3 = np.ones((3, 3), np.float32) / 9\r\n",
        "\r\n",
        "          kernel_sharpening = np.array([[-1,-1,-1], \r\n",
        "                                [-1, 9,-1],\r\n",
        "                                [-1,-1,-1]])\r\n",
        "\r\n",
        "          blurred = cv2.filter2D(eroded, -1, kernel_3x3)\r\n",
        "          sharpened = cv2.filter2D(blurred, -1, kernel_sharpening)\r\n",
        "\r\n",
        "          blurred = cv2.filter2D(sharpened, -1, kernel_3x3)\r\n",
        "          sharpened = cv2.filter2D(blurred, -1, kernel_sharpening)\r\n",
        "\r\n",
        "          \r\n",
        "\r\n",
        "          lower=np.array([0,0,0])\r\n",
        "          upper=np.array([130,130,130])\r\n",
        "\r\n",
        "          return cv2.inRange(sharpened, lower, upper)"
      ],
      "execution_count": 21,
      "outputs": []
    },
    {
      "cell_type": "code",
      "metadata": {
        "id": "aqzVth1xy2Mi"
      },
      "source": [
        "def countrurs(gray,ythresh): \r\n",
        "  thresh=255-gray\r\n",
        "  # use morphology erode to blur horizontally\r\n",
        "  kernel = cv2.getStructuringElement(cv2.MORPH_RECT, (151, 3))\r\n",
        "  morph = cv2.morphologyEx(thresh, cv2.MORPH_DILATE, kernel)\r\n",
        "\r\n",
        "  #figure(figsize=(20,50))\r\n",
        "  #plt.imshow(morph)\r\n",
        "  #plt.show() \r\n",
        "\r\n",
        "  # use morphology open to remove thin lines from dotted lines\r\n",
        "  kernel = cv2.getStructuringElement(cv2.MORPH_RECT, (3, 17))\r\n",
        "  morph = cv2.morphologyEx(morph, cv2.MORPH_OPEN, kernel)\r\n",
        "\r\n",
        "  #figure(figsize=(20,50))\r\n",
        "  #plt.imshow(morph)\r\n",
        "  #plt.show() \r\n",
        "\r\n",
        "  # find contours\r\n",
        "  cntrs = cv2.findContours(morph, cv2.RETR_EXTERNAL, cv2.CHAIN_APPROX_SIMPLE)\r\n",
        "  cntrs = cntrs[0] if len(cntrs) == 2 else cntrs[1]\r\n",
        "\r\n",
        "  # find the topmost box\r\n",
        "\r\n",
        "  for c in cntrs:\r\n",
        "        box = cv2.boundingRect(c)\r\n",
        "        x,y,w,h = box\r\n",
        "        if y < ythresh:\r\n",
        "            topbox = box\r\n",
        "            ythresh = y\r\n",
        "  return cntrs[::-1],topbox"
      ],
      "execution_count": 22,
      "outputs": []
    },
    {
      "cell_type": "code",
      "metadata": {
        "id": "dgO3Fb5nEn4q"
      },
      "source": [
        "def countrurs_canny(gray,ythresh): \r\n",
        "  thresh=255-gray\r\n",
        "  thresh== cv2.Canny(thresh, 30, 200) \r\n",
        "  # use morphology erode to blur horizontally\r\n",
        "  kernel = cv2.getStructuringElement(cv2.MORPH_RECT, (151, 3))\r\n",
        "  morph = cv2.morphologyEx(thresh, cv2.MORPH_DILATE, kernel)\r\n",
        "\r\n",
        "  figure(figsize=(20,50))\r\n",
        "  plt.imshow(morph)\r\n",
        "  plt.show() \r\n",
        "\r\n",
        "  # use morphology open to remove thin lines from dotted lines\r\n",
        "  kernel = cv2.getStructuringElement(cv2.MORPH_RECT, (3, 17))\r\n",
        "  morph = cv2.morphologyEx(morph, cv2.MORPH_OPEN, kernel)\r\n",
        "\r\n",
        "  figure(figsize=(20,50))\r\n",
        "  plt.imshow(morph)\r\n",
        "  plt.show() \r\n",
        "\r\n",
        "  # find contours\r\n",
        "  cntrs = cv2.findContours(morph, cv2.RETR_EXTERNAL, cv2.CHAIN_APPROX_SIMPLE)\r\n",
        "  cntrs = cntrs[0] if len(cntrs) == 2 else cntrs[1]\r\n",
        "\r\n",
        "  # find the topmost box\r\n",
        "\r\n",
        "  for c in cntrs:\r\n",
        "        box = cv2.boundingRect(c)\r\n",
        "        x,y,w,h = box\r\n",
        "        if y < ythresh:\r\n",
        "            topbox = box\r\n",
        "            ythresh = y\r\n",
        "  return cntrs[::-1],topbox"
      ],
      "execution_count": 23,
      "outputs": []
    },
    {
      "cell_type": "code",
      "metadata": {
        "colab": {
          "base_uri": "https://localhost:8080/",
          "height": 803
        },
        "id": "qtej5oJWamEK",
        "outputId": "b0c6ccf9-ae0f-42e7-863c-9fc4d5ea7ffb"
      },
      "source": [
        "file='drive/MyDrive/kuba/resolution500/fig1.jpg'\r\n",
        "image = cv2.imread(file)\r\n",
        "gray=fig_prepare(image)\r\n",
        "\r\n",
        "image = cv2.imread(file)\r\n",
        "result = gray.copy()\r\n",
        "ythresh=1000\r\n",
        "cntrs,topbox=countrurs(gray,ythresh)\r\n",
        "#cntrs=cntrs[::-1]\r\n",
        "i=0\r\n",
        "figures=[]\r\n",
        "text=[]\r\n",
        "for c in cntrs:\r\n",
        "      box = cv2.boundingRect(c)\r\n",
        "      if box != topbox:\r\n",
        "        i=i+1\r\n",
        "        if i==11:\r\n",
        "          x,y,w,h = box\r\n",
        "          cv2.rectangle(result, (x, y), (x+w, y+h), (0, 0, 255), 2)\r\n",
        "          cropped = image[y:y + h, x:x + w]  \r\n",
        "    \r\n",
        "          mask = mask_from_cropped(cropped)\r\n",
        "          board=30\r\n",
        "          cropped_board = cv2.copyMakeBorder( cropped, board,board, board, board,cv2.BORDER_CONSTANT, value=[190, 190, 190])\r\n",
        "          mask_board = cv2.copyMakeBorder( mask, board, board, board, board, cv2.BORDER_CONSTANT)\r\n",
        "\r\n",
        "          analyze_figures(cropped_board,mask_board,i)\r\n",
        "          \r\n"
      ],
      "execution_count": 87,
      "outputs": [
        {
          "output_type": "stream",
          "text": [
            "11\n",
            "- KATOLICKICH -\n",
            "- ORGANIZACJI -\n",
            "- SPOŁECZNYCH -\n",
            "- : -\n",
            "problem\n",
            "-  -\n",
            "full sentence  KATOLICKICH ORGANIZACJI SPOŁECZNYCH :  avg len  8.25 number of words  4   [11, 11, 11, 0]\n",
            "next method\n",
            "- KATOLICKICH -\n",
            "- ORGANIZACJI -\n",
            "- SPOŁECZNYCH -\n",
            "- : -\n",
            "problem\n",
            "-  -\n",
            "full sentence  KATOLICKICH ORGANIZACJI SPOŁECZNYCH :  avg len  8.25 number of words  4   [11, 11, 11, 0]\n",
            "next method\n",
            "- KATOLICKICH -\n",
            "- ORGANIZACJI -\n",
            "- SPOŁECZNYCH -\n",
            "- : -\n",
            "problem\n",
            "-  -\n",
            "full sentence  KATOLICKICH ORGANIZACJI SPOŁECZNYCH :  avg len  8.25 number of words  4   [11, 11, 11, 0]\n",
            "next method\n",
            "- KATOLICKICH -\n",
            "- ORGANIZACJI -\n",
            "- SPOŁECZNYCH -\n",
            "- : -\n",
            "problem\n",
            "-  -\n",
            "full sentence  KATOLICKICH ORGANIZACJI SPOŁECZNYCH :  avg len  8.25 number of words  4   [11, 11, 11, 0]\n",
            "next method\n"
          ],
          "name": "stdout"
        },
        {
          "output_type": "display_data",
          "data": {
            "image/png": "[encoded data removed]",
            "text/plain": [
              "<Figure size 1440x3600 with 1 Axes>"
            ]
          },
          "metadata": {
            "tags": [],
            "needs_background": "light"
          }
        },
        {
          "output_type": "display_data",
          "data": {
            "image/png": "[encoded data removed]",
            "text/plain": [
              "<Figure size 1440x3600 with 1 Axes>"
            ]
          },
          "metadata": {
            "tags": [],
            "needs_background": "light"
          }
        }
      ]
    },
    {
      "cell_type": "code",
      "metadata": {
        "id": "2MRxf8FVK0AB"
      },
      "source": [
        "def analyze_figures(cropped_board,mask_board,i):\r\n",
        "   if re.search('[a-zA-Z]',image_to_string(cropped_board,lang='pol',config = r'--oem 3 --psm 3')) or re.search('[a-zA-Z]',image_to_string(mask_board, lang='pol',config= r'--oem 3 --psm 3')):\r\n",
        "              print(i)\r\n",
        "              string_dig_crop=image_to_string(cropped_board,lang='pol',config = r'outputbase digits')#r'--oem 3 --psm 3 outputbase digits'\r\n",
        "              string_dig_mask=image_to_string(mask_board, lang='pol',config = r'outputbase digits')\r\n",
        "              string_let_crop=image_to_string(cropped_board,lang='pol')\r\n",
        "              string_let_mask=image_to_string(mask_board, lang='pol')\r\n",
        "              \r\n",
        "              senteces=[string_dig_crop,string_dig_mask,string_let_crop,string_let_mask]\r\n",
        "      \r\n",
        "              letter=''\r\n",
        "              word_new=''\r\n",
        "              sentence=''\r\n",
        "              sentence_new=''\r\n",
        "              w_len=[]\r\n",
        "\r\n",
        "              for sen in senteces:\r\n",
        "                for s in sen:\r\n",
        "                  if s.isspace():\r\n",
        "                    word_new=word_new.join(letter)\r\n",
        "                    print('-',word_new,'-')\r\n",
        "                    if word_new.find(':')!= -1:\r\n",
        "                      print('problem')\r\n",
        "                    else:\r\n",
        "                      w_len.append(len(word_new))\r\n",
        "                    letter=''\r\n",
        "                    sentence=sentence+' '+word_new\r\n",
        "                    word_new=''\r\n",
        "                  else:\r\n",
        "                    letter=letter+s\r\n",
        "                sentence_new=sentence_new.join(sentence)\r\n",
        "                print('full sentence',sentence_new,'avg len ',sum(w_len)/len(w_len),'number of words ',len(w_len),' ',w_len)\r\n",
        "                sentence=''\r\n",
        "                sentence_new=''\r\n",
        "                w_len=[]\r\n",
        "                print('next method')\r\n",
        "               \r\n",
        "\r\n",
        "              figure(figsize=(20,50))\r\n",
        "              plt.imshow(cropped_board)\r\n",
        "              plt.show() \r\n",
        "              figure(figsize=(20,50))\r\n",
        "              plt.imshow(mask_board)\r\n",
        "              plt.show() "
      ],
      "execution_count": 86,
      "outputs": []
    },
    {
      "cell_type": "code",
      "metadata": {
        "id": "zpPSDLA9eX1X"
      },
      "source": [
        ""
      ],
      "execution_count": null,
      "outputs": []
    },
    {
      "cell_type": "code",
      "metadata": {
        "id": "OWGZTzhD7k5j"
      },
      "source": [
        "for i in range(0,80):\r\n",
        "    print(i)\r\n",
        "    if i>0:\r\n",
        "      figure(figsize=(20,50))\r\n",
        "      plt.imshow(figures[i])\r\n",
        "      plt.show() \r\n",
        "      #broades(figures[i])\r\n",
        "    if i>30:\r\n",
        "      break\r\n"
      ],
      "execution_count": null,
      "outputs": []
    },
    {
      "cell_type": "code",
      "metadata": {
        "id": "b_eikOEIF3jq"
      },
      "source": [
        "def broades(fig):\r\n",
        "  for board in [20]:\r\n",
        "        print(board)\r\n",
        "        mask = mask_from_cropped(fig)\r\n",
        "        mask_broad = cv2.copyMakeBorder( mask, board,board, board, board,cv2.BORDER_CONSTANT)\r\n",
        "        fig_broad = cv2.copyMakeBorder( fig, board,board, board, board,cv2.BORDER_CONSTANT)\r\n",
        "  \r\n",
        "        print('mask_broad',image_to_string(mask_broad,lang='pol'))\r\n",
        "        print('mask_broad_dig',image_to_string(mask_broad,lang='pol',config = r'--oem 3 --psm 3 outputbase digits'))\r\n",
        "        print('fig_broad_dig',image_to_string(fig_broad,lang='pol',config = r'--oem 3 --psm 3 outputbase digits'))\r\n",
        "        figure(figsize=(20,50))\r\n",
        "        plt.imshow(mask_broad)\r\n",
        "        plt.show() "
      ],
      "execution_count": null,
      "outputs": []
    },
    {
      "cell_type": "code",
      "metadata": {
        "id": "oB0Umza3FXe0"
      },
      "source": [
        "for i in range(0,80):\r\n",
        "    #print(i)\r\n",
        "    if i==21:\r\n",
        "      figure(figsize=(20,50))\r\n",
        "      plt.imshow(figures[i])\r\n",
        "      plt.show() \r\n",
        "      broades(figures[i])\r\n",
        "    if i>30:\r\n",
        "      break"
      ],
      "execution_count": null,
      "outputs": []
    }
  ]
}