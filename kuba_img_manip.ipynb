{
  "nbformat": 4,
  "nbformat_minor": 0,
  "metadata": {
    "colab": {
      "name": "kuba_img_manip.ipynb",
      "provenance": [],
      "collapsed_sections": [],
      "authorship_tag": "ABX9TyPzfeYzqZ93ULcBEvJxYyAp",
      "include_colab_link": true
    },
    "kernelspec": {
      "name": "python3",
      "display_name": "Python 3"
    }
  },
  "cells": [
    {
      "cell_type": "markdown",
      "metadata": {
        "id": "view-in-github",
        "colab_type": "text"
      },
      "source": [
        "<a href=\"https://colab.research.google.com/github/KacperGrodecki/image_proccessing/blob/main/kuba_img_manip.ipynb\" target=\"_parent\"><img src=\"https://colab.research.google.com/assets/colab-badge.svg\" alt=\"Open In Colab\"/></a>"
      ]
    },
    {
      "cell_type": "code",
      "metadata": {
        "id": "IJjlrbzGKZi4",
        "colab": {
          "base_uri": "https://localhost:8080/"
        },
        "outputId": "dd9c88df-c88a-41b3-f307-997221458827"
      },
      "source": [
        "from google.colab import drive\n",
        "drive.mount('/content/drive')"
      ],
      "execution_count": 1,
      "outputs": [
        {
          "output_type": "stream",
          "name": "stdout",
          "text": [
            "Drive already mounted at /content/drive; to attempt to forcibly remount, call drive.mount(\"/content/drive\", force_remount=True).\n"
          ]
        }
      ]
    },
    {
      "cell_type": "code",
      "metadata": {
        "colab": {
          "base_uri": "https://localhost:8080/"
        },
        "id": "EaccDd3JEho8",
        "outputId": "d51edb7b-750c-479f-b410-6049ee5613df"
      },
      "source": [
        "!apt-get install poppler-utils \n",
        "!apt-get install tesseract-ocr-pol\n",
        "!apt-get install libleptonica-dev \n",
        "!apt-get install tesseract-ocr\n",
        "!apt-get install tesseract-ocr-dev\n",
        "!apt-get install libtesseract-dev"
      ],
      "execution_count": 2,
      "outputs": [
        {
          "output_type": "stream",
          "name": "stdout",
          "text": [
            "Reading package lists... Done\n",
            "Building dependency tree       \n",
            "Reading state information... Done\n",
            "poppler-utils is already the newest version (0.62.0-2ubuntu2.12).\n",
            "0 upgraded, 0 newly installed, 0 to remove and 37 not upgraded.\n",
            "Reading package lists... Done\n",
            "Building dependency tree       \n",
            "Reading state information... Done\n",
            "tesseract-ocr-pol is already the newest version (4.00~git24-0e00fe6-1.2).\n",
            "0 upgraded, 0 newly installed, 0 to remove and 37 not upgraded.\n",
            "Reading package lists... Done\n",
            "Building dependency tree       \n",
            "Reading state information... Done\n",
            "libleptonica-dev is already the newest version (1.75.3-3).\n",
            "0 upgraded, 0 newly installed, 0 to remove and 37 not upgraded.\n",
            "Reading package lists... Done\n",
            "Building dependency tree       \n",
            "Reading state information... Done\n",
            "tesseract-ocr is already the newest version (4.00~git2288-10f4998a-2).\n",
            "0 upgraded, 0 newly installed, 0 to remove and 37 not upgraded.\n",
            "Reading package lists... Done\n",
            "Building dependency tree       \n",
            "Reading state information... Done\n",
            "Package tesseract-ocr-dev is not available, but is referred to by another package.\n",
            "This may mean that the package is missing, has been obsoleted, or\n",
            "is only available from another source\n",
            "However the following packages replace it:\n",
            "  libtesseract-dev\n",
            "\n",
            "E: Package 'tesseract-ocr-dev' has no installation candidate\n",
            "Reading package lists... Done\n",
            "Building dependency tree       \n",
            "Reading state information... Done\n",
            "libtesseract-dev is already the newest version (4.00~git2288-10f4998a-2).\n",
            "0 upgraded, 0 newly installed, 0 to remove and 37 not upgraded.\n"
          ]
        }
      ]
    },
    {
      "cell_type": "code",
      "metadata": {
        "colab": {
          "base_uri": "https://localhost:8080/"
        },
        "id": "e6FImYcoRS3q",
        "outputId": "803a6312-f1cf-455e-f98a-006e8d028fd7"
      },
      "source": [
        "pip install pytesseract "
      ],
      "execution_count": 3,
      "outputs": [
        {
          "output_type": "stream",
          "name": "stdout",
          "text": [
            "Requirement already satisfied: pytesseract in /usr/local/lib/python3.7/dist-packages (0.3.8)\n",
            "Requirement already satisfied: Pillow in /usr/local/lib/python3.7/dist-packages (from pytesseract) (7.1.2)\n"
          ]
        }
      ]
    },
    {
      "cell_type": "code",
      "metadata": {
        "id": "zBEZ4rsZX7GZ",
        "colab": {
          "base_uri": "https://localhost:8080/"
        },
        "outputId": "138b6b21-8495-4ce0-eebd-925aa39aa88d"
      },
      "source": [
        "pip install autocorrect"
      ],
      "execution_count": 4,
      "outputs": [
        {
          "output_type": "stream",
          "name": "stdout",
          "text": [
            "Requirement already satisfied: autocorrect in /usr/local/lib/python3.7/dist-packages (2.5.0)\n"
          ]
        }
      ]
    },
    {
      "cell_type": "code",
      "metadata": {
        "id": "nR0h04aHZUO-",
        "outputId": "05699ea1-f7d4-479d-ea22-1580669dd6a7",
        "colab": {
          "base_uri": "https://localhost:8080/"
        }
      },
      "source": [
        "pip uninstall opencv-python"
      ],
      "execution_count": 5,
      "outputs": [
        {
          "output_type": "stream",
          "name": "stdout",
          "text": [
            "Found existing installation: opencv-python 4.5.3.56\n",
            "Uninstalling opencv-python-4.5.3.56:\n",
            "  Would remove:\n",
            "    /usr/local/lib/python3.7/dist-packages/cv2/*\n",
            "    /usr/local/lib/python3.7/dist-packages/opencv_python-4.5.3.56.dist-info/*\n",
            "    /usr/local/lib/python3.7/dist-packages/opencv_python.libs/libQt5Core-d92f2856.so.5.15.0\n",
            "    /usr/local/lib/python3.7/dist-packages/opencv_python.libs/libQt5Gui-ca084835.so.5.15.0\n",
            "    /usr/local/lib/python3.7/dist-packages/opencv_python.libs/libQt5Test-9d4ee57e.so.5.15.0\n",
            "    /usr/local/lib/python3.7/dist-packages/opencv_python.libs/libQt5Widgets-0e1d98b5.so.5.15.0\n",
            "    /usr/local/lib/python3.7/dist-packages/opencv_python.libs/libQt5XcbQpa-70670cdb.so.5.15.0\n",
            "    /usr/local/lib/python3.7/dist-packages/opencv_python.libs/libX11-xcb-1ae4fd0e.so.1.0.0\n",
            "    /usr/local/lib/python3.7/dist-packages/opencv_python.libs/libXau-00ec42fe.so.6.0.0\n",
            "    /usr/local/lib/python3.7/dist-packages/opencv_python.libs/libavcodec-8daa01ff.so.58.109.100\n",
            "    /usr/local/lib/python3.7/dist-packages/opencv_python.libs/libavformat-06a336f2.so.58.61.100\n",
            "    /usr/local/lib/python3.7/dist-packages/opencv_python.libs/libavutil-01d48d95.so.56.60.100\n",
            "    /usr/local/lib/python3.7/dist-packages/opencv_python.libs/libbz2-a273e504.so.1.0.6\n",
            "    /usr/local/lib/python3.7/dist-packages/opencv_python.libs/libcrypto-098682aa.so.1.1\n",
            "    /usr/local/lib/python3.7/dist-packages/opencv_python.libs/libfreetype-8d3bcff4.so.6.14.0\n",
            "    /usr/local/lib/python3.7/dist-packages/opencv_python.libs/libpng15-c2ffaf3d.so.15.13.0\n",
            "    /usr/local/lib/python3.7/dist-packages/opencv_python.libs/libssl-f3db6a3b.so.1.1\n",
            "    /usr/local/lib/python3.7/dist-packages/opencv_python.libs/libswresample-4767dc06.so.3.8.100\n",
            "    /usr/local/lib/python3.7/dist-packages/opencv_python.libs/libswscale-2d2bce5d.so.5.8.100\n",
            "    /usr/local/lib/python3.7/dist-packages/opencv_python.libs/libvpx-14094576.so.6.3.0\n",
            "    /usr/local/lib/python3.7/dist-packages/opencv_python.libs/libxcb-icccm-413c9f41.so.4.0.0\n",
            "    /usr/local/lib/python3.7/dist-packages/opencv_python.libs/libxcb-image-e82a276d.so.0.0.0\n",
            "    /usr/local/lib/python3.7/dist-packages/opencv_python.libs/libxcb-keysyms-21015570.so.1.0.0\n",
            "    /usr/local/lib/python3.7/dist-packages/opencv_python.libs/libxcb-randr-a96a5a87.so.0.1.0\n",
            "    /usr/local/lib/python3.7/dist-packages/opencv_python.libs/libxcb-render-637b984a.so.0.0.0\n",
            "    /usr/local/lib/python3.7/dist-packages/opencv_python.libs/libxcb-render-util-43ce00f5.so.0.0.0\n",
            "    /usr/local/lib/python3.7/dist-packages/opencv_python.libs/libxcb-shape-25c2b258.so.0.0.0\n",
            "    /usr/local/lib/python3.7/dist-packages/opencv_python.libs/libxcb-shm-7a199f70.so.0.0.0\n",
            "    /usr/local/lib/python3.7/dist-packages/opencv_python.libs/libxcb-sync-89374f40.so.1.0.0\n",
            "    /usr/local/lib/python3.7/dist-packages/opencv_python.libs/libxcb-util-4d666913.so.1.0.0\n",
            "    /usr/local/lib/python3.7/dist-packages/opencv_python.libs/libxcb-xfixes-9be3ba6f.so.0.0.0\n",
            "    /usr/local/lib/python3.7/dist-packages/opencv_python.libs/libxcb-xinerama-ae147f87.so.0.0.0\n",
            "    /usr/local/lib/python3.7/dist-packages/opencv_python.libs/libxcb-xkb-9ba31ab3.so.1.0.0\n",
            "    /usr/local/lib/python3.7/dist-packages/opencv_python.libs/libxkbcommon-71ae2972.so.0.0.0\n",
            "    /usr/local/lib/python3.7/dist-packages/opencv_python.libs/libxkbcommon-x11-c65ed502.so.0.0.0\n",
            "    /usr/local/lib/python3.7/dist-packages/opencv_python.libs/libz-d8a329de.so.1.2.7\n",
            "Proceed (y/n)? y\n",
            "  Successfully uninstalled opencv-python-4.5.3.56\n"
          ]
        }
      ]
    },
    {
      "cell_type": "code",
      "metadata": {
        "id": "-qtyC-wZYnQE",
        "outputId": "295d5436-e247-4a96-829c-e6e4cdb52263",
        "colab": {
          "base_uri": "https://localhost:8080/"
        }
      },
      "source": [
        "pip install opencv-python==4.5.3.56"
      ],
      "execution_count": 6,
      "outputs": [
        {
          "output_type": "stream",
          "name": "stdout",
          "text": [
            "Collecting opencv-python==4.5.3.56\n",
            "  Using cached opencv_python-4.5.3.56-cp37-cp37m-manylinux2014_x86_64.whl (49.9 MB)\n",
            "Requirement already satisfied: numpy>=1.14.5 in /usr/local/lib/python3.7/dist-packages (from opencv-python==4.5.3.56) (1.19.5)\n",
            "Installing collected packages: opencv-python\n",
            "\u001b[31mERROR: pip's dependency resolver does not currently take into account all the packages that are installed. This behaviour is the source of the following dependency conflicts.\n",
            "albumentations 0.1.12 requires imgaug<0.2.7,>=0.2.5, but you have imgaug 0.2.9 which is incompatible.\u001b[0m\n",
            "Successfully installed opencv-python-4.5.3.56\n"
          ]
        }
      ]
    },
    {
      "cell_type": "code",
      "metadata": {
        "id": "qF2jJdIWKQd2"
      },
      "source": [
        "from PIL import Image \n",
        "import pytesseract \n",
        "import sys \n",
        "import os\n",
        "import pandas as pd\n",
        "import cv2 \n",
        "import os\n",
        "from PIL import Image\n",
        "from pytesseract import image_to_string\n",
        "import numpy as np\n",
        "from matplotlib import pyplot as plt\n",
        "import os\n",
        "os.environ[\"CUDA_VISIBLE_DEVICES\"] = \"1\"\n",
        "from autocorrect import Speller\n",
        "from matplotlib.pyplot import figure\n"
      ],
      "execution_count": 7,
      "outputs": []
    },
    {
      "cell_type": "code",
      "metadata": {
        "id": "JquV3LFqbmlh"
      },
      "source": [
        "def fig_prepare(file):\n",
        "  rgb_image = cv2.imread(file)\n",
        "  gray_image = cv2.cvtColor(rgb_image, cv2.COLOR_BGR2GRAY)\n",
        "  kernelSizes = (11, 11)\n",
        "  gray_image_blurred = cv2.blur(gray_image,kernelSizes)\n",
        "  gray_image_copy=gray_image.copy()\n",
        "  gray_image_copy[(gray_image_blurred<150)&(gray_image_blurred>130)]=200\n",
        "  \n",
        "  return gray_image_copy"
      ],
      "execution_count": 8,
      "outputs": []
    },
    {
      "cell_type": "code",
      "metadata": {
        "id": "x_Nmuy_jc13h"
      },
      "source": [
        "def text_from_image(image):\n",
        "  image_correct=fig_prepare(image)\n",
        "  custom_config_letters = r'--oem 3 --psm 3'\n",
        "  custom_config_digits = r'--oem 3 --psm 3 outputbase digits'\n",
        "  return (image_to_string(image_correct, lang='pol',config=custom_config_letters)),(image_to_string(image_correct, lang='pol',config=custom_config_digits))"
      ],
      "execution_count": 9,
      "outputs": []
    },
    {
      "cell_type": "code",
      "metadata": {
        "id": "secY8MVRdsOE"
      },
      "source": [
        "#myText,myDigits=text_from_image('drive/MyDrive/kuba/fig253.jpg')"
      ],
      "execution_count": 10,
      "outputs": []
    },
    {
      "cell_type": "code",
      "metadata": {
        "id": "hRJhYdteEJ72",
        "outputId": "b1bcdb8d-e56e-41de-bf5e-77d4e9db2b52",
        "colab": {
          "base_uri": "https://localhost:8080/",
          "height": 71
        }
      },
      "source": [
        "'''\n",
        "  rgb_image = cv2.imread('drive/MyDrive/kuba/fig253.jpg')\n",
        "\n",
        "  gray_image = cv2.cvtColor(rgb_image, cv2.COLOR_BGR2GRAY)\n",
        "\n",
        "  unique, counts = np.unique(gray_image, return_counts=True)\n",
        "  hist_max=np.argmax(counts[120:180])+120\n",
        "\n",
        "  kernelSizes = (11, 11)\n",
        "  gray_image_blurred = cv2.blur(gray_image,kernelSizes)\n",
        "  gray_image_copy=gray_image.copy()\n",
        "  gray_image_copy[(gray_image<hist_max+15)&(gray_image>hist_max-15)]=hist_max_all+10\n",
        "  '''"
      ],
      "execution_count": 11,
      "outputs": [
        {
          "output_type": "execute_result",
          "data": {
            "application/vnd.google.colaboratory.intrinsic+json": {
              "type": "string"
            },
            "text/plain": [
              "\"\\n  rgb_image = cv2.imread('drive/MyDrive/kuba/fig253.jpg')\\n\\n  gray_image = cv2.cvtColor(rgb_image, cv2.COLOR_BGR2GRAY)\\n\\n  unique, counts = np.unique(gray_image, return_counts=True)\\n  hist_max=np.argmax(counts[120:180])+120\\n\\n  kernelSizes = (11, 11)\\n  gray_image_blurred = cv2.blur(gray_image,kernelSizes)\\n  gray_image_copy=gray_image.copy()\\n  gray_image_copy[(gray_image<hist_max+15)&(gray_image>hist_max-15)]=hist_max_all+10\\n  \""
            ]
          },
          "metadata": {},
          "execution_count": 11
        }
      ]
    },
    {
      "cell_type": "code",
      "metadata": {
        "colab": {
          "base_uri": "https://localhost:8080/",
          "height": 88
        },
        "id": "EwDZsKcVEgmO",
        "outputId": "337c27ef-8b44-4a40-b17d-ff1e4581dd8f"
      },
      "source": [
        "'''\n",
        "rgb_image = cv2.imread('drive/MyDrive/kuba/fig253.jpg')\n",
        "gray_image = cv2.cvtColor(rgb_image, cv2.COLOR_BGR2GRAY)\n",
        "#_ = plt.hist(image.ravel(), bins = 256, color = 'orange', )\n",
        "_ = plt.hist(gray_image[:, :].ravel(), bins = 256, color = 'red', alpha = 0.5)\n",
        "_ = plt.hist(gray_image_blurred[:, :].ravel(), bins = 256, color = 'red', alpha = 0.5)\n",
        "_ = plt.xlabel('Intensity Value')\n",
        "_ = plt.ylabel('Count')\n",
        "plt.ylim(0,100000)\n",
        "plt.xlim(100,250)\n",
        "plt.show()\n",
        "#w histogramie trzeba znaleźć dwa maksima- zarówno tła jak i napisu. przepisać zakres napisu do zakresu tła\n",
        "'''"
      ],
      "execution_count": 12,
      "outputs": [
        {
          "output_type": "execute_result",
          "data": {
            "application/vnd.google.colaboratory.intrinsic+json": {
              "type": "string"
            },
            "text/plain": [
              "\"\\nrgb_image = cv2.imread('drive/MyDrive/kuba/fig253.jpg')\\ngray_image = cv2.cvtColor(rgb_image, cv2.COLOR_BGR2GRAY)\\n#_ = plt.hist(image.ravel(), bins = 256, color = 'orange', )\\n_ = plt.hist(gray_image[:, :].ravel(), bins = 256, color = 'red', alpha = 0.5)\\n_ = plt.hist(gray_image_blurred[:, :].ravel(), bins = 256, color = 'red', alpha = 0.5)\\n_ = plt.xlabel('Intensity Value')\\n_ = plt.ylabel('Count')\\nplt.ylim(0,100000)\\nplt.xlim(100,250)\\nplt.show()\\n#w histogramie trzeba znaleźć dwa maksima- zarówno tła jak i napisu. przepisać zakres napisu do zakresu tła\\n\""
            ]
          },
          "metadata": {},
          "execution_count": 12
        }
      ]
    },
    {
      "cell_type": "code",
      "metadata": {
        "id": "EoSlroREi6g-"
      },
      "source": [
        "#gray_image.flatten()"
      ],
      "execution_count": 13,
      "outputs": []
    },
    {
      "cell_type": "code",
      "metadata": {
        "id": "-fHFWMm_hoth"
      },
      "source": [
        "#unique, counts = np.unique(gray_image, return_counts=True)"
      ],
      "execution_count": 14,
      "outputs": []
    },
    {
      "cell_type": "code",
      "metadata": {
        "id": "EhZt-JraiclX"
      },
      "source": [
        "#plt.scatter(unique,counts)"
      ],
      "execution_count": 15,
      "outputs": []
    },
    {
      "cell_type": "code",
      "metadata": {
        "id": "ZNPttSNajz9u"
      },
      "source": [
        "#hist_max=np.argmax(counts[120:180])+120"
      ],
      "execution_count": 16,
      "outputs": []
    },
    {
      "cell_type": "code",
      "metadata": {
        "id": "j5x5o8vUkpqx"
      },
      "source": [
        "#hist_max_all=np.argmax(counts)"
      ],
      "execution_count": 17,
      "outputs": []
    },
    {
      "cell_type": "code",
      "metadata": {
        "id": "FZlXo1klEQLV"
      },
      "source": [
        "#plt.imshow(gray_image_copy)"
      ],
      "execution_count": 18,
      "outputs": []
    },
    {
      "cell_type": "code",
      "metadata": {
        "id": "FPoaAUORE4Fc"
      },
      "source": [
        "#custom_config_letters = r'--oem 3 --psm 3'\n",
        "#print(image_to_string(gray_image_copy, lang='pol',config=custom_config_letters))"
      ],
      "execution_count": 19,
      "outputs": []
    },
    {
      "cell_type": "code",
      "metadata": {
        "id": "ficYBeG-lFD1"
      },
      "source": [
        "#plt.figure(figsize=(15,15))\n",
        "#plt.imshow(gray_image_copy)"
      ],
      "execution_count": 20,
      "outputs": []
    },
    {
      "cell_type": "code",
      "metadata": {
        "id": "ovu50toAmhBN"
      },
      "source": [
        "#custom_config_letters = r'--oem 3 --psm 3'\n",
        "#print(image_to_string(gray_image_copy, lang='pol',config=custom_config_letters))"
      ],
      "execution_count": 21,
      "outputs": []
    },
    {
      "cell_type": "code",
      "metadata": {
        "id": "2wUfYi8wWZLT"
      },
      "source": [
        "import pytesseract\n",
        "#pytesseract.pytesseract.tesseract_cmd = r'C:\\Program Files\\Tesseract-OCR\\tesseract'\n",
        "import pandas as pd\n",
        "import cv2\n",
        "from PIL import Image,ImageTk\n",
        "from pytesseract import image_to_string\n",
        "import numpy as np\n",
        "import re\n",
        "import matplotlib.pyplot as plt      \n",
        "from skimage import io, color, morphology\n",
        "import pickle\n",
        "from os import listdir\n",
        "from os.path import isfile, join\n",
        "import gc\n",
        "import sys"
      ],
      "execution_count": 22,
      "outputs": []
    },
    {
      "cell_type": "code",
      "metadata": {
        "id": "ZGIh2lJJWtAN"
      },
      "source": [
        "class Run():\n",
        "\n",
        "    def __init__(self):\n",
        "        #print('start')\n",
        "        self.countter = 0\n",
        "        self.countter1 = 0\n",
        "        self.labels = []\n",
        "        self.xywh = []\n",
        "        self.xywh1 = []\n",
        "        self.path = 'drive/MyDrive/kuba/'\n",
        "        self.files = [f for f in listdir(self.path) if isfile(join(self.path, f))]\n",
        "        self.files.sort()\n",
        "        self.contours = 0\n",
        "\n",
        "    def setNumber(self,i):\n",
        "        self.file_nr = i\n",
        "\n",
        "    def openFile(self):\n",
        "        #print('opening file')\n",
        "        self.file = self.path + self.files[self.file_nr]\n",
        "        #print(self.file)\n",
        "\n",
        "\n",
        "    def findContour(self,ImageProcessing):\n",
        "        print('find_contours')\n",
        "        print('figure preprocessing')\n",
        "        fig_prepared = ImageProcessing.figPrepare(self.file)\n",
        "        print('figure prepered')\n",
        "        print('find contours')\n",
        "        self.contours, self.xywh = ImageProcessing.find_contours(fig_prepared)\n",
        "        print('liczba konturów ', len(self.contours))\n",
        "        return self.contours\n",
        "\n",
        "    def readText(self, cropped_board):\n",
        "        #print('analyze figures')\n",
        "        crop = Image.fromarray(cropped_board)\n",
        "        try:\n",
        "            let_crop = image_to_string(cropped_board, lang='pol', config='--psm 7 --oem 3')\n",
        "        except:\n",
        "            let_crop = ''\n",
        "        try:\n",
        "            div_crop = image_to_string(cropped_board, lang='pol', config='--psm 6 --oem 3')\n",
        "        except:\n",
        "            let_crop = ''\n",
        "        if re.search('[a-zA-Z]', let_crop) or re.search('[a-zA-Z]', div_crop):\n",
        "            dig_crop = image_to_string(cropped_board, lang='pol', config='--psm 7 --oem 3 -c tessedit_char_whitelist=0123456789')  # r'--oem 3 --psm 3 outputbase digits'\n",
        "            # let_board=image_to_string(cropped_board, lang='pol',config = '--psm 13 --oem3')\n",
        "            # plt.imshow(crop)\n",
        "            # plt.show()\n",
        "            # input('Press Enter to countinue')\n",
        "            print(let_crop, div_crop)\n",
        "            return let_crop, div_crop\n",
        "        else:\n",
        "            return '',''"
      ],
      "execution_count": 23,
      "outputs": []
    },
    {
      "cell_type": "code",
      "metadata": {
        "id": "JHn3W6gUWvQp"
      },
      "source": [
        "class ImageProcessing:\n",
        "\n",
        "    def figPrepare(self, file):\n",
        "        rgb_image = cv2.imread(file)\n",
        "\n",
        "        gray_image = cv2.cvtColor(rgb_image, cv2.COLOR_BGR2GRAY)\n",
        "\n",
        "        #plt.figure(figsize=(15,15))\n",
        "        #plt.imshow(gray_image)\n",
        "        #plt.show()\n",
        "        \n",
        "\n",
        "        #plt.figure(figsize=(15,15))\n",
        "        #plt.imshow(gray_image_copy)\n",
        "        #plt.show()\n",
        "        ###########################################to musi być###########\n",
        "        lower_blue=np.array([0])\n",
        "        upper_blue=np.array([120])\n",
        "        mask=cv2.inRange(gray_image,lower_blue,upper_blue)\n",
        "\n",
        "        res=cv2.bitwise_and(gray_image,gray_image,mask=mask)\n",
        "        res[mask==0]=[255]\n",
        "        board=int(res.shape[1]*0.01)\n",
        "        res[:,:board]=255\n",
        "        res[:,-board:]=255\n",
        "\n",
        "\n",
        "        return res#gray_image_copy\n",
        "\n",
        "    def countrurs(self, gray, ythresh):\n",
        "        thresh = 255 - gray\n",
        "        # use morphology erode to blur horizontally\n",
        "        kernel = cv2.getStructuringElement(cv2.MORPH_RECT, (151, 3))\n",
        "        morph = cv2.morphologyEx(thresh, cv2.MORPH_DILATE, kernel)\n",
        "\n",
        "        # use morphology open to remove thin lines from dotted lines\n",
        "        kernel = cv2.getStructuringElement(cv2.MORPH_RECT, (3, 17))\n",
        "        morph = cv2.morphologyEx(morph, cv2.MORPH_OPEN, kernel)\n",
        "\n",
        "        # find contours\n",
        "        # tzreba wywietlić kontury z obrazkiem\n",
        "        cntrs = cv2.findContours(morph, cv2.RETR_EXTERNAL, cv2.CHAIN_APPROX_SIMPLE)\n",
        "        #####################################################3\n",
        "        #print('kontury  len ',len(cntrs))\n",
        "        cntrs = cntrs[0] if len(cntrs) == 2 else cntrs[1]\n",
        "        #print('kontury  len pop',len(cntrs[0]))\n",
        "        #cntrs=cntrs[0]\n",
        "        ##########################################\n",
        "\n",
        "        #plt.figure(figsize=(15,15))\n",
        "        #plt.imshow(morph)\n",
        "        #plt.show()\n",
        "\n",
        "       \n",
        "\n",
        "\n",
        "        # find the topmost box\n",
        "\n",
        "        for c in cntrs:\n",
        "            box = cv2.boundingRect(c)\n",
        "            x, y, w, h = box\n",
        "            if y < ythresh:\n",
        "                topbox = box\n",
        "                ythresh = y\n",
        "        \n",
        "        #plt.figure(figsize=(15,15))\n",
        "        #plt.imshow(morph)\n",
        "        #plt.show()\n",
        "        return cntrs[::-1], topbox\n",
        "\n",
        "    # loading contours\n",
        "    def image_correction(self,gray_image):\n",
        "\n",
        "        #gray_image = cv2.cvtColor(image, cv2.COLOR_BGR2GRAY)\n",
        "        unique, counts = np.unique(gray_image, return_counts=True)\n",
        "        hist_max=np.argmax(counts[120:180])+120\n",
        "        hist_max_all=np.argmax(counts)\n",
        "        \n",
        "        kernelSizes = (11, 11)\n",
        "        gray_image_blurred = cv2.blur(gray_image,kernelSizes)\n",
        "        gray_image_copy=gray_image.copy()\n",
        "        gray_image_copy[(gray_image<hist_max+20)&(gray_image>hist_max-20)]=hist_max_all+10\n",
        "\n",
        "        return gray_image_copy\n",
        "\n",
        "    def find_contours(self, file):\n",
        "        print('find contours ')\n",
        "        # file=path+file+'.jpg'\n",
        "        image = file\n",
        "        #gray=self.fig_prepare(image)\n",
        "\n",
        "        #plt.figure(figsize=(15,15))\n",
        "        #plt.imshow(image)\n",
        "        #plt.show()\n",
        "\n",
        "        #image = cv2.imread(file)\n",
        "        result = image.copy()\n",
        "        result=self.image_correction(image)####################test-podmieniona linijka wyzej#########\n",
        "        ythresh = 1000\n",
        "        cntrs, topbox = self.countrurs(image, ythresh)\n",
        "        i = 0\n",
        "        images = []\n",
        "        xywh = []\n",
        "        for c in cntrs:\n",
        "            box = cv2.boundingRect(c)\n",
        "            if box != topbox:\n",
        "                i = i + 1\n",
        "                x, y, w, h = box\n",
        "\n",
        "                xywh.append([x, y, w, h])\n",
        "\n",
        "                cv2.rectangle(result, (x, y), (x + w, y + h), (0, 0, 255), 2)\n",
        "                cropped = image[y:y + h, x:x + w]\n",
        "\n",
        "                # mask,mask1 = self.mask_from_cropped(cropped)\n",
        "                board = 50\n",
        "                cropped_board = cv2.copyMakeBorder(cropped, board, board, board, board, cv2.BORDER_CONSTANT,\n",
        "                                                   value=[255, 255, 255])\n",
        "                # mask = cv2.copyMakeBorder( mask, board, board, board, board, cv2.BORDER_CONSTANT,value=[255, 255, 255])\n",
        "                # mask1 = cv2.copyMakeBorder( mask1, board, board, board, board, cv2.BORDER_CONSTANT,value=[255, 255, 255])\n",
        "\n",
        "                images.append(cropped_board)\n",
        "        return images, xywh\n"
      ],
      "execution_count": 37,
      "outputs": []
    },
    {
      "cell_type": "code",
      "metadata": {
        "colab": {
          "base_uri": "https://localhost:8080/"
        },
        "id": "KLJ0LxxfWUU4",
        "outputId": "4b51a931-693d-4370-ed9a-14cf63cc9ae2"
      },
      "source": [
        "\n",
        "imageProcessing=ImageProcessing()\n",
        "run=Run()\n",
        "\n",
        "for i in range(0,400):\n",
        "    print('-------------------------',i,'--------------------------')\n",
        "    #ImageProcessing\n",
        "    run.setNumber(i)\n",
        "    run.openFile()\n",
        "    contours=run.findContour(imageProcessing)\n",
        "    print(len(contours))\n",
        "    j=0\n",
        "    text=[]\n",
        "    for contour in contours:\n",
        "        print(j)\n",
        "        line,div=run.readText(contour)\n",
        "        text.append([line,div])\n",
        "        j+=1\n",
        "    text_df=pd.DataFrame(np.array(text))\n",
        "    print(j,' text_df shape ',text_df.shape)\n",
        " #   break"
      ],
      "execution_count": null,
      "outputs": [
        {
          "output_type": "stream",
          "name": "stdout",
          "text": [
            "------------------------- 0 --------------------------\n",
            "find_contours\n",
            "figure preprocessing\n",
            "figure prepered\n",
            "find contours\n",
            "find contours \n",
            "liczba konturów  20\n",
            "20\n",
            "0\n",
            "\f Własność\n",
            "archiwum\n",
            "Aktotwórca\n",
            "Tytuł teczki\n",
            "Daty skrajne\n",
            "jednostki\n",
            "archiwalnej\n",
            "Stara sygnatura\n",
            "Sygnatura\n",
            "archiwalna\n",
            "\f\n",
            "1\n",
            "IPN BU 0 639/223\n",
            "\f IPN BU 0 639/223\n",
            "\f\n",
            "2\n",
            "KARTA INFORMACYJNA\n",
            "\f KARTA INFORMACYJNA\n",
            "\f\n",
            "3\n",
            "r.\n",
            "\f r.\n",
            "\f\n",
            "4\n",
            "Własność\n",
            "\f Własność\n",
            "\f\n",
            "5\n",
            "Instytut Pamięci Narodowej w Warszawie\n",
            "\f Instytut Pamięci Narodowej w Warszawie\n",
            "\f\n",
            "6\n",
            "archiwum\n",
            "\f archiwum\n",
            "\f\n",
            "7\n",
            "Aktotwórca\n",
            "\f Aktotwórca\n",
            "\f\n",
            "8\n",
            "MSW\n",
            "\f MSW\n",
            "\f\n",
            "9\n",
            "10\n",
            "Tytuł teczki\n",
            "\f Tytuł teczki\n",
            "\f\n",
            "11\n",
            "PAX- materiały dotyczące działalności zrzeszenia\n",
            "\f PAX- materiały dotyczące działalności zrzeszenia\n",
            "\f\n",
            "12\n",
            "Daty skrajne\n",
            "\f Daty skrajne\n",
            "\f\n",
            "13\n",
            "jednostki\n",
            "\f jednostki\n",
            "\f\n",
            "14\n",
            "archiwalnej\n",
            "\f archiwalnej\n",
            "\f\n",
            "15\n",
            "16\n",
            "IPN BU 0639/223\n",
            "\f IPN BU 0639/223\n",
            "\f\n",
            "17\n",
            "Sygnatura\n",
            "\f Sygnatura\n",
            "\f\n",
            "18\n",
            "archiwalna\n",
            "\f archiwalna\n",
            "\f\n",
            "19\n",
            "1 z 348\n",
            "\f 1 z 348\n",
            "\f\n",
            "20  text_df shape  (20, 2)\n",
            "------------------------- 1 --------------------------\n",
            "find_contours\n",
            "figure preprocessing\n",
            "figure prepered\n",
            "find contours\n",
            "find contours \n",
            "liczba konturów  69\n",
            "69\n",
            "0\n",
            "A\n",
            "\f A\n",
            "\f\n",
            "1\n",
            "b r\n",
            "\f b r\n",
            "\f\n",
            "2\n",
            "3\n",
            "rad\n",
            "\f =\n",
            ".\n",
            "\f\n",
            "4\n",
            "5\n",
            "Za ałą EZEHO 639/223\n",
            "\f Za ałą EZEHO 639/223\n",
            "\f\n",
            "6\n",
            "STRUKTURA I WYKONANIE BUDŻETÓW\n",
            "\f STRUKTURA I WYKONANIE BUDŻETÓW\n",
            "\f\n",
            "7\n",
            "e «am GW UR WER WM UTW WW WW «a Rz WUW WWW W\n",
            "\f \f\n",
            "8\n",
            "KATOLICKICH ORGANIZACJI SPOŁECZNYCH :\n",
            "\f KATOLICKICH ORGANIZACJI SPOŁECZNYCH :\n",
            "\f\n",
            "9\n",
            "ip suk w w w W w A Ww w w W wi ww w w w i ww w w W w w w W m wa m CZY wa w w A w W ww <a a WA w A a W m\n",
            "\f \f\n",
            "10\n",
            "\"PAX\", ChSS, KIK za rok 1971\n",
            "\f \"PAX\", ChSS, KIK za rok 1971\n",
            "\f\n",
            "11\n",
            "w «m cRRTRĘUWRCRKKKRUWWWWW WKKW WUW ZUW TY MM eu uwa WWW iWM w dY <R uwR\n",
            "\f w «m cRRTRĘUWRCRKKKRUWWWWW WKKW WUW ZUW TY MM eu uwa WWW iWM w dY <R uwR\n",
            "\f\n",
            "12\n",
            "STOWARZYSZENIE \"PAX\"\n",
            "\f STOWARZYSZENIE \"PAX\"\n",
            "\f\n",
            "13\n",
            "m wake CR=M RT RUR WW TW WWRWWW\n",
            "\f \f\n",
            "14\n",
            "Realizacja budżetu. za rok 1971:\n",
            "\f Realizacja budżetu. za rok 1971:\n",
            "\f\n",
            "15\n",
            "= 36, 720, 000,7 GŁ.\n",
            "\f = 36, 720, 000,7 GŁ.\n",
            "\f\n",
            "16\n",
            "- działalność statutowa\n",
            "\f - działalność statutowa\n",
            "\f\n",
            "17\n",
            "- pokrycie straty prasy i wydawnictw - 28.680.000.\" zł.\n",
            "\f - pokrycie straty prasy i wydawnictw - 28.680.000.\" zł.\n",
            "\f\n",
            "18\n",
            "19\n",
            "a „| a a m m a w w a m a A wę m mw\n",
            "\f a „| a a m m a w w a m a A wę m mw\n",
            "\f\n",
            "20\n",
            "__..razem;_ 65.400.000, - zł.\n",
            "\f — mem. 65.400.000, zł.\n",
            "\f\n",
            "21\n",
            "- «Ta u cRWW AM www WW WWW WW\n",
            "\f \f\n",
            "22\n",
            "Struktura budżetu :\n",
            "\f Struktura budżetu :\n",
            "\f\n",
            "23\n",
            "24\n",
            "1. Płace / osobowy fundusz płac,\n",
            "\f 1. Płace / osobowy fundusz płac,\n",
            "\f\n",
            "25\n",
            "narzuty, bezosobowy fum'usz\n",
            "\f narzuty, bezosobowy fum'usz\n",
            "\f\n",
            "26\n",
            "płac, Fumdusz honorariów /\n",
            "\f płac, Fumdusz honorariów /\n",
            "\f\n",
            "27\n",
            "28\n",
            "275.000.” zł,\n",
            "\f 275.000.” zł,\n",
            "\f\n",
            "29\n",
            "2. Lundusz nagród\n",
            "\f 2. Lundusz nagród\n",
            "\f\n",
            "30\n",
            "31\n",
            "- 2.900.000,” zł,\n",
            "\f - 2.900.000,” zł,\n",
            "\f\n",
            "32\n",
            "3. Podróże służbowe i delegacje\n",
            "\f 3. Podróże służbowe i delegacje\n",
            "\f\n",
            "33\n",
            "4. Koszty biurowe/ utrzymanie\n",
            "\f 4. Koszty biurowe/ utrzymanie\n",
            "\f\n",
            "34\n",
            "pomieszczeń, remonty bieżąc-\n",
            "\f pomieszczeń, remonty bieżąc-\n",
            "\f\n",
            "35\n",
            "ce i inne świadczenia /\n",
            "\f ce i inne świadczenia /\n",
            "\f\n",
            "36\n",
            "4 . 200. 000,7 zł,\n",
            "\f 4 . 200. 000,7 zł,\n",
            "\f\n",
            "37\n",
            "= 1.600.000,- zł,\n",
            "\f = 1.600.000,- zł,\n",
            "\f\n",
            "38\n",
            "5. Transport\n",
            "\f 5. Transport\n",
            "\f\n",
            "39\n",
            "40\n",
            "150.000.” zł.\n",
            "\f 150.000.” zł.\n",
            "\f\n",
            "41\n",
            "6. Gimnazjam św, Augustyna\n",
            "\f 6. Gimnazjam św, Augustyna\n",
            "\f\n",
            "42\n",
            "7. Działalność społ.-polityczna\n",
            "\f 7. Działalność społ.-polityczna\n",
            "\f\n",
            "43\n",
            "/ konierencje, kursy, zjazdy,\n",
            "\f / konierencje, kursy, zjazdy,\n",
            "\f\n",
            "44\n",
            "zespoły, akcje, działalność\n",
            "\f zespoły, akcje, działalność\n",
            "\f\n",
            "45\n",
            "zagraniczna/\n",
            "\f zagraniczna/\n",
            "\f\n",
            "46\n",
            "8.240,000,- zł.\n",
            "\f 8.240,000,- zł.\n",
            "\f\n",
            "47\n"
          ]
        }
      ]
    },
    {
      "cell_type": "code",
      "metadata": {
        "id": "ZzdxNxZfxjiB"
      },
      "source": [
        "\n",
        "import pytesseract\n",
        "#pytesseract.pytesseract.tesseract_cmd = r'C:\\Program Files\\Tesseract-OCR\\tesseract'\n",
        "import pandas as pd\n",
        "import cv2\n",
        "from PIL import Image,ImageTk\n",
        "from pytesseract import image_to_string\n",
        "import numpy as np\n",
        "import re\n",
        "import matplotlib.pyplot as plt      \n",
        "from tkinter.filedialog import askopenfilename\n",
        "from skimage import io, color, morphology\n",
        "import pickle\n",
        "from os import listdir\n",
        "from os.path import isfile, join\n",
        "import gc\n",
        "import sys"
      ],
      "execution_count": null,
      "outputs": []
    },
    {
      "cell_type": "code",
      "metadata": {
        "id": "aCpWHpkXxK0B"
      },
      "source": [
        "class Run():\n",
        "\n",
        "    def __init__(self):\n",
        "        print('start')\n",
        "        self.countter = 0\n",
        "        self.countter1 = 0\n",
        "        self.labels = []\n",
        "        self.xywh = []\n",
        "        self.xywh1 = []\n",
        "        self.path = 'drive/MyDrive/kuba/'\n",
        "        self.files = [f for f in listdir(self.path) if isfile(join(self.path, f))]\n",
        "        self.files.sort()\n",
        "        self.contours = 0\n",
        "\n",
        "    def setNumber(self,i):\n",
        "        self.file_nr = i\n",
        "\n",
        "    def openFile(self):\n",
        "        print('opening file')\n",
        "        self.file = self.path + self.files[self.file_nr]\n",
        "        print(self.file)\n",
        "\n",
        "\n",
        "    def findContour(self,ImageProcessing):\n",
        "        print('find_contours')\n",
        "        print('figure preprocessing')\n",
        "        fig_prepared = ImageProcessing.figPrepare(self.file)\n",
        "        print('figure prepered')\n",
        "        print('find contours')\n",
        "        self.contours, self.xywh = ImageProcessing.find_contours(fig_prepared)\n",
        "        print('liczba konturów ', len(self.contours))\n",
        "        return self.contours\n",
        "\n",
        "    def readText(self, cropped_board):\n",
        "        print('analyze figures')\n",
        "        crop = Image.fromarray(cropped_board)\n",
        "        try:\n",
        "            let_crop = image_to_string(cropped_board, lang='pol', config='--psm 7 --oem 3')\n",
        "        except:\n",
        "            let_crop = ''\n",
        "        try:\n",
        "            div_crop = image_to_string(cropped_board, lang='pol', config='--psm 6 --oem 3')\n",
        "        except:\n",
        "            let_crop = ''\n",
        "        if re.search('[a-zA-Z]', let_crop) or re.search('[a-zA-Z]', div_crop):\n",
        "            dig_crop = image_to_string(cropped_board, lang='pol', config='--psm 7 --oem 3 -c tessedit_char_whitelist=0123456789')  # r'--oem 3 --psm 3 outputbase digits'\n",
        "            # let_board=image_to_string(cropped_board, lang='pol',config = '--psm 13 --oem3')\n",
        "            # plt.imshow(crop)\n",
        "            # plt.show()\n",
        "            # input('Press Enter to countinue')\n",
        "            print(let_crop, div_crop)\n",
        "            return let_crop, div_crop\n",
        "        else:\n",
        "            return '',''\n",
        "\n",
        "class ImageProcessing:\n",
        "\n",
        "    def figPrepare(self, file):\n",
        "        rgb_image = cv2.imread(file)\n",
        "        gray_image = cv2.cvtColor(rgb_image, cv2.COLOR_BGR2GRAY)\n",
        "        kernelSizes = (11, 11)\n",
        "        gray_image_blurred = cv2.blur(gray_image,kernelSizes)\n",
        "        gray_image_copy=gray_image.copy()\n",
        "        gray_image_copy[(gray_image_blurred<150)&(gray_image_blurred>130)]=200\n",
        "\n",
        "        return gray_image_copy\n",
        "\n",
        "    def countrurs(self, gray, ythresh):\n",
        "        thresh = 255 - gray\n",
        "        # use morphology erode to blur horizontally\n",
        "        kernel = cv2.getStructuringElement(cv2.MORPH_RECT, (151, 3))\n",
        "        morph = cv2.morphologyEx(thresh, cv2.MORPH_DILATE, kernel)\n",
        "\n",
        "        # use morphology open to remove thin lines from dotted lines\n",
        "        kernel = cv2.getStructuringElement(cv2.MORPH_RECT, (3, 17))\n",
        "        morph = cv2.morphologyEx(morph, cv2.MORPH_OPEN, kernel)\n",
        "\n",
        "        # find contours\n",
        "        # tzreba wywietlić kontury z obrazkiem\n",
        "        cntrs = cv2.findContours(morph, cv2.RETR_EXTERNAL, cv2.CHAIN_APPROX_SIMPLE)\n",
        "        cntrs = cntrs[0] if len(cntrs) == 2 else cntrs[1]\n",
        "\n",
        "        # find the topmost box\n",
        "\n",
        "        for c in cntrs:\n",
        "            box = cv2.boundingRect(c)\n",
        "            x, y, w, h = box\n",
        "            if y < ythresh:\n",
        "                topbox = box\n",
        "                ythresh = y\n",
        "        return cntrs[::-1], topbox\n",
        "\n",
        "    # loading contours\n",
        "    def find_contours(self, file):\n",
        "        print('find contours ')\n",
        "        # file=path+file+'.jpg'\n",
        "        image = file\n",
        "        # gray=self.fig_prepare(image)\n",
        "\n",
        "        # image = cv2.imread(file)\n",
        "        result = image.copy()\n",
        "        ythresh = 1000\n",
        "        cntrs, topbox = self.countrurs(image, ythresh)\n",
        "        i = 0\n",
        "        images = []\n",
        "        xywh = []\n",
        "        for c in cntrs:\n",
        "            box = cv2.boundingRect(c)\n",
        "            if box != topbox:\n",
        "                i = i + 1\n",
        "                x, y, w, h = box\n",
        "\n",
        "                xywh.append([x, y, w, h])\n",
        "\n",
        "                cv2.rectangle(result, (x, y), (x + w, y + h), (0, 0, 255), 2)\n",
        "                cropped = image[y:y + h, x:x + w]\n",
        "\n",
        "                # mask,mask1 = self.mask_from_cropped(cropped)\n",
        "                board = 50\n",
        "                cropped_board = cv2.copyMakeBorder(cropped, board, board, board, board, cv2.BORDER_CONSTANT,\n",
        "                                                   value=[255, 255, 255])\n",
        "                # mask = cv2.copyMakeBorder( mask, board, board, board, board, cv2.BORDER_CONSTANT,value=[255, 255, 255])\n",
        "                # mask1 = cv2.copyMakeBorder( mask1, board, board, board, board, cv2.BORDER_CONSTANT,value=[255, 255, 255])\n",
        "\n",
        "                images.append(cropped_board)\n",
        "        return images, xywh"
      ],
      "execution_count": null,
      "outputs": []
    },
    {
      "cell_type": "code",
      "metadata": {
        "id": "1AHlL37yxH86"
      },
      "source": [
        "imageProcessing=ImageProcessing()\n",
        "run=Run()\n",
        "\n",
        "for i in range(0,400):\n",
        "    print('-------------------------',i,'--------------------------')\n",
        "    #ImageProcessing\n",
        "    run.setNumber(i)\n",
        "    run.openFile()\n",
        "    contours=run.findContour(imageProcessing)\n",
        "    print(len(contours))\n",
        "    j=0\n",
        "    text=[]\n",
        "    for contour in contours:\n",
        "        print(j)\n",
        "        line,div=run.readText(contour)\n",
        "        text.append([line,div])\n",
        "        j+=1\n",
        "    text_df=pd.DataFrame(np.array(text))\n",
        "    print(j,' text_df shape ',text_df.shape)\n",
        " #   break"
      ],
      "execution_count": null,
      "outputs": []
    },
    {
      "cell_type": "code",
      "metadata": {
        "id": "O4-q9h0Fa2uh"
      },
      "source": [
        "'''\n",
        "imageProcessing=ImageProcessing()\n",
        "run=Run()\n",
        "\n",
        "for i in range(0,400):\n",
        "    print('-------------------------',i,'--------------------------')\n",
        "    #ImageProcessing\n",
        "    run.setNumber(i)\n",
        "    run.openFile()\n",
        "    contours=run.findContour(imageProcessing)\n",
        "    print(len(contours))\n",
        "    j=0\n",
        "    text=[]\n",
        "    for contour in contours:\n",
        "        print(j)\n",
        "        line,div=run.readText(contour)\n",
        "        text.append([line,div])\n",
        "        j+=1\n",
        "    text_df=pd.DataFrame(np.array(text))\n",
        "    print(j,' text_df shape ',text_df.shape)\n",
        " #   break"
      ],
      "execution_count": null,
      "outputs": []
    }
  ]
}