{
 "cells": [
  {
   "cell_type": "code",
   "execution_count": 41,
   "metadata": {
    "colab": {
     "base_uri": "https://localhost:8080/",
     "height": 352
    },
    "id": "5nNQXSxJHHtv",
    "outputId": "6bbc4683-ee06-44f1-cd4a-14b1dcde983c",
    "scrolled": true
   },
   "outputs": [],
   "source": [
    "import spacy\n",
    "nlp=spacy.load('pl_spacy_model_morfeusz')\n",
    "#nlp = spacy.load('pl_spacy_model')"
   ]
  },
  {
   "cell_type": "code",
   "execution_count": 18,
   "metadata": {
    "id": "qF2jJdIWKQd2"
   },
   "outputs": [],
   "source": [
    "from PIL import Image \n",
    "import pytesseract \n",
    "import sys \n",
    "import os\n",
    "import pandas as pd\n",
    "import cv2 \n",
    "import os\n",
    "from PIL import Image\n",
    "from pytesseract import image_to_string\n",
    "import numpy as np\n",
    "from matplotlib import pyplot as plt\n",
    "import os\n",
    "from autocorrect import Speller\n",
    "from matplotlib.pyplot import figure\n"
   ]
  },
  {
   "cell_type": "code",
   "execution_count": 19,
   "metadata": {
    "id": "OJ8r4kaheSLy"
   },
   "outputs": [],
   "source": [
    "spell = Speller('pl')"
   ]
  },
  {
   "cell_type": "code",
   "execution_count": 20,
   "metadata": {
    "id": "JquV3LFqbmlh"
   },
   "outputs": [],
   "source": [
    "def fig_prepare(image):\n",
    "  \n",
    "  kernel_3x3 = np.ones((3, 3), np.float32) / 9\n",
    "\n",
    "  kernel_sharpening = np.array([[-1,-1,-1], \n",
    "                                [-1, 9,-1],\n",
    "                                [-1,-1,-1]])\n",
    "\n",
    "  blurred = cv2.filter2D(image, -1, kernel_3x3)\n",
    "  sharpened = cv2.filter2D(blurred, -1, kernel_sharpening)\n",
    "\n",
    "  blurred = cv2.filter2D(sharpened, -1, kernel_3x3)\n",
    "  sharpened = cv2.filter2D(blurred, -1, kernel_sharpening)\n",
    "\n",
    "  lower=np.array([0,0,0])\n",
    "  upper=np.array([100,100,100])\n",
    "\n",
    "  mask = cv2.inRange(sharpened, lower, upper)\n",
    "  \n",
    "  return 255-mask"
   ]
  },
  {
   "cell_type": "code",
   "execution_count": 21,
   "metadata": {
    "id": "x_Nmuy_jc13h"
   },
   "outputs": [],
   "source": [
    "def text_from_file(image):\n",
    "  image_correct=fig_prepare(image)\n",
    "  custom_config_letters = r'--oem 3 --psm 3'\n",
    "  custom_config_digits = r'--oem 3 --psm 3 outputbase digits'\n",
    "  return (image_to_string(image_correct, lang='pol',config=custom_config_letters)),(image_to_string(image_correct, lang='pol',config=custom_config_digits))"
   ]
  },
  {
   "cell_type": "code",
   "execution_count": 22,
   "metadata": {
    "id": "3ZnASCQ6fq1r"
   },
   "outputs": [],
   "source": [
    "def text_from_image(image):\n",
    "  image_correct=image\n",
    "  custom_config_letters = r'--oem 3 --psm 3'\n",
    "  custom_config_digits = r'--oem 3 --psm 3 outputbase digits'\n",
    "  return (image_to_string(image_correct, lang='pol',config=custom_config_letters)),(image_to_string(image_correct, lang='pol',config=custom_config_digits))"
   ]
  },
  {
   "cell_type": "code",
   "execution_count": 23,
   "metadata": {
    "id": "vgomKGc1HNfC"
   },
   "outputs": [],
   "source": [
    "import re\n",
    "def hasNumbers(inputString):\n",
    "   return any(char.isdigit() for char in inputString)"
   ]
  },
  {
   "cell_type": "code",
   "execution_count": 24,
   "metadata": {
    "id": "qZlTMvqWiecU"
   },
   "outputs": [],
   "source": [
    "def mask_from_cropped(cropped):\n",
    "          kernel = cv2.getStructuringElement(cv2.MORPH_ELLIPSE, (9, 9))\n",
    "          dilated = cv2.dilate(cropped, kernel)\n",
    "          eroded=cv2.erode(dilated,kernel)\n",
    "\n",
    "          kernel_3x3 = np.ones((3, 3), np.float32) / 9\n",
    "\n",
    "          kernel_sharpening = np.array([[-1,-1,-1], \n",
    "                                [-1, 9,-1],\n",
    "                                [-1,-1,-1]])\n",
    "\n",
    "          blurred = cv2.filter2D(eroded, -1, kernel_3x3)\n",
    "          sharpened = cv2.filter2D(blurred, -1, kernel_sharpening)\n",
    "\n",
    "          blurred = cv2.filter2D(sharpened, -1, kernel_3x3)\n",
    "          sharpened = cv2.filter2D(blurred, -1, kernel_sharpening)\n",
    "\n",
    "          \n",
    "\n",
    "          lower=np.array([0,0,0])\n",
    "          upper=np.array([130,130,130])\n",
    "\n",
    "          return cv2.inRange(sharpened, lower, upper)"
   ]
  },
  {
   "cell_type": "code",
   "execution_count": 25,
   "metadata": {
    "id": "aqzVth1xy2Mi"
   },
   "outputs": [],
   "source": [
    "def countrurs(gray,ythresh): \n",
    "  thresh=255-gray\n",
    "  # use morphology erode to blur horizontally\n",
    "  kernel = cv2.getStructuringElement(cv2.MORPH_RECT, (151, 3))\n",
    "  morph = cv2.morphologyEx(thresh, cv2.MORPH_DILATE, kernel)\n",
    "\n",
    "  # use morphology open to remove thin lines from dotted lines\n",
    "  kernel = cv2.getStructuringElement(cv2.MORPH_RECT, (3, 17))\n",
    "  morph = cv2.morphologyEx(morph, cv2.MORPH_OPEN, kernel)\n",
    "\n",
    "\n",
    "  # find contours\n",
    "  cntrs = cv2.findContours(morph, cv2.RETR_EXTERNAL, cv2.CHAIN_APPROX_SIMPLE)\n",
    "  cntrs = cntrs[0] if len(cntrs) == 2 else cntrs[1]\n",
    "\n",
    "  # find the topmost box\n",
    "  for c in cntrs:\n",
    "        box = cv2.boundingRect(c)\n",
    "        x,y,w,h = box\n",
    "        if y < ythresh:\n",
    "            topbox = box\n",
    "            ythresh = y\n",
    "  return cntrs[::-1],topbox"
   ]
  },
  {
   "cell_type": "code",
   "execution_count": 27,
   "metadata": {
    "id": "bj63Z4cRcAsO"
   },
   "outputs": [],
   "source": [
    "def string_clean(word):\n",
    "  word_new=word\n",
    "  for char in word:\n",
    "    if char.isalnum():\n",
    "      pass\n",
    "    else:\n",
    "      word_new = word.replace(char, \"\")\n",
    "  return word_new"
   ]
  },
  {
   "cell_type": "code",
   "execution_count": 37,
   "metadata": {
    "id": "s9tyjjzPnkGG"
   },
   "outputs": [],
   "source": [
    "file_d=open('/home/kacper/Pobrane/slowa.txt','r')\n",
    "dictionary=[]\n",
    "while file_d.readline():\n",
    "    dictionary.append(file_d.readline().replace('\\n',''))"
   ]
  },
  {
   "cell_type": "code",
   "execution_count": 42,
   "metadata": {},
   "outputs": [],
   "source": [
    "import morfeusz2\n",
    "morf = morfeusz2.Morfeusz()"
   ]
  },
  {
   "cell_type": "code",
   "execution_count": 98,
   "metadata": {},
   "outputs": [],
   "source": [
    "def morfeusz(word):\n",
    "    text=morf.analyse(word)\n",
    "    for t in text:\n",
    "        if t[2][1] in dictionary:\n",
    "            return 1\n",
    "    return 0"
   ]
  },
  {
   "cell_type": "code",
   "execution_count": 102,
   "metadata": {},
   "outputs": [
    {
     "data": {
      "text/plain": [
       "0"
      ]
     },
     "execution_count": 102,
     "metadata": {},
     "output_type": "execute_result"
    }
   ],
   "source": [
    "morfeusz('pax')"
   ]
  },
  {
   "cell_type": "code",
   "execution_count": 396,
   "metadata": {},
   "outputs": [],
   "source": [
    "from __future__ import print_function\n",
    "from ipywidgets import interact, interactive, fixed, interact_manual\n",
    "import ipywidgets as widgets\n",
    "from IPython.display import display\n",
    "\n"
   ]
  },
  {
   "cell_type": "code",
   "execution_count": 405,
   "metadata": {},
   "outputs": [],
   "source": [
    "def Correct(_,log=True):\n",
    "        with out:\n",
    "         logic[0]=log\n",
    "def notCorrect(_):\n",
    "    #print(\"not correct readout\")\n",
    "    return Correct(_,False)"
   ]
  },
  {
   "cell_type": "code",
   "execution_count": 407,
   "metadata": {},
   "outputs": [],
   "source": [
    "\n",
    "def display_question():\n",
    "    button_Correct=widgets.Button(description='correct')\n",
    "    button_notCorrect=widgets.Button(description='not correct')\n",
    "    out=widgets.Output()\n",
    "\n",
    "    logic=[True]\n",
    "\n",
    "    button_Correct.on_click(Correct)\n",
    "    button_notCorrect.on_click(notCorrect)\n",
    "    buttons = widgets.HBox((button_Correct,button_notCorrect))\n",
    "    widgets.VBox((buttons,out))\n",
    "    display(buttons) \n"
   ]
  },
  {
   "cell_type": "code",
   "execution_count": 408,
   "metadata": {},
   "outputs": [
    {
     "data": {
      "text/plain": [
       "<function __main__.display_question()>"
      ]
     },
     "execution_count": 408,
     "metadata": {},
     "output_type": "execute_result"
    }
   ],
   "source": [
    "display_question"
   ]
  },
  {
   "cell_type": "code",
   "execution_count": 377,
   "metadata": {},
   "outputs": [
    {
     "name": "stdout",
     "output_type": "stream",
     "text": [
      "Hello, please push the continue button\n"
     ]
    },
    {
     "data": {
      "application/vnd.jupyter.widget-view+json": {
       "model_id": "9116a0af2eea454482894bc15fca613d",
       "version_major": 2,
       "version_minor": 0
      },
      "text/plain": [
       "Button(description='continue', style=ButtonStyle())"
      ]
     },
     "metadata": {},
     "output_type": "display_data"
    },
    {
     "data": {
      "application/vnd.jupyter.widget-view+json": {
       "model_id": "4d29ef3a41ed46ff94b2189158f13642",
       "version_major": 2,
       "version_minor": 0
      },
      "text/plain": [
       "Output()"
      ]
     },
     "metadata": {},
     "output_type": "display_data"
    }
   ],
   "source": [
    "output = widgets.Output()\n",
    "logic=[True]\n",
    "@output.capture(clear_output=False,wait=True) # based on https://github.com/jupyter-widgets/ipywidgets/issues/1846 and https://ipywidgets.readthedocs.io/en/latest/examples/Output%20Widget.html\n",
    "def sayHello(logic):\n",
    "    logic=[False]\n",
    "    print(\"You have pushed the button, congratulations I guess.\")\n",
    "\n",
    "run_button = widgets.Button(\n",
    "      description = 'continue'\n",
    ")\n",
    "print(\"Hello, please push the continue button\")\n",
    "run_button.on_click(sayHello)\n",
    "display(run_button)\n",
    "output"
   ]
  },
  {
   "cell_type": "code",
   "execution_count": 378,
   "metadata": {},
   "outputs": [
    {
     "data": {
      "text/plain": [
       "True"
      ]
     },
     "execution_count": 378,
     "metadata": {},
     "output_type": "execute_result"
    }
   ],
   "source": [
    "logic[0]"
   ]
  },
  {
   "cell_type": "code",
   "execution_count": 448,
   "metadata": {},
   "outputs": [],
   "source": [
    "from functools import wraps\n",
    "def yield_for_change(widget, attribute):\n",
    "    \"\"\"Pause a generator to wait for a widget change event.\n",
    "\n",
    "    This is a decorator for a generator function which pauses the generator on yield\n",
    "    until the given widget attribute changes. The new value of the attribute is\n",
    "    sent to the generator and is the value of the yield.\n",
    "    \"\"\"\n",
    "    def f(iterator):\n",
    "        @wraps(iterator)\n",
    "        def inner():\n",
    "            i = iterator()\n",
    "            def next_i(change):\n",
    "                try:\n",
    "                    i.send(change.new)\n",
    "                except StopIteration as e:\n",
    "                    widget.unobserve(next_i, attribute)\n",
    "            widget.observe(next_i, attribute)\n",
    "            # start the generator\n",
    "            next(i)\n",
    "        return inner\n",
    "    return f"
   ]
  },
  {
   "cell_type": "code",
   "execution_count": 557,
   "metadata": {},
   "outputs": [],
   "source": [
    "def fsentences(sentences):\n",
    "    print('start fsentences')\n",
    "    letter,word_new,sentence,sentence_new='','','',''\n",
    "    w_len,exists,correctness=[],[],[0,0,0,0]\n",
    "\n",
    "    for sen in sentences:\n",
    "                print('start loop in fsentences')\n",
    "                for s in sen[0]:\n",
    "                  if s.isspace():\n",
    "                    word_new=word_new.join(letter)\n",
    "                    \n",
    "                    word_new=string_clean(word_new)\n",
    "                    \n",
    "                    if word_new:\n",
    "                      w_len.append(len(word_new))\n",
    "                      if morfeusz(word_new):\n",
    "                        exists.append(1)\n",
    "                      else:\n",
    "                        exists.append(0)\n",
    "                    letter=''\n",
    "                    sentence=sentence+' '+word_new\n",
    "                    word_new=''\n",
    "                  else:\n",
    "                    letter=letter+s\n",
    "                sentence_new=sentence_new.join(sentence)\n",
    "                np_w_len=np.array(w_len)\n",
    "                np_exists=np.array(exists)\n",
    "              \n",
    "                if w_len:\n",
    "                    print('full sentence',sentence_new)\n",
    "                    print('numeric analysis ','std ',np.std(np_w_len),'mean ',np.mean(np_w_len),'length ',np_w_len.shape)\n",
    "                    print('dictionary analysis ','std ',np.std(np_exists),'mean ',np.mean(np_exists),'length ',np_exists.shape)\n",
    "                sentence=''\n",
    "                sentence_new=''\n",
    "                w_len=[]\n",
    "                exists=[]\n",
    "                print('next method\\n')"
   ]
  },
  {
   "cell_type": "code",
   "execution_count": 558,
   "metadata": {
    "id": "xcr6gDN1b-Pw"
   },
   "outputs": [],
   "source": [
    "def analyze_figures(cropped_board,mask_board):\n",
    "   print('start analyze')\n",
    "   correctnes_list=[]\n",
    "   if re.search('[a-zA-Z]',image_to_string(cropped_board,lang='pol',config = r'--oem 3 --psm 3')) or re.search('[a-zA-Z]',image_to_string(mask_board, lang='pol',config= r'--oem 3 --psm 3')):\n",
    "              print('image to analyze')\n",
    "              string_dig_crop=image_to_string(cropped_board,lang='pol',config = r'outputbase digits')#r'--oem 3 --psm 3 outputbase digits'\n",
    "              print('string_dig_crop')\n",
    "              string_dig_mask=image_to_string(mask_board, lang='pol',config = r'outputbase digits')\n",
    "              print('string_dig_mask')\n",
    "              string_let_crop=image_to_string(cropped_board,lang='pol')\n",
    "              print('string_let_crop')\n",
    "              string_let_mask=image_to_string(mask_board, lang='pol')\n",
    "              print('string_let_mask')\n",
    "              x0,x1,x2,x3=0,1,2,3\n",
    "              print('x0,x1,x2,x3=')\n",
    "              sentences=[[string_dig_crop,x0],[string_dig_mask,x1],[string_let_crop,x2],[string_let_mask,x3]]\n",
    "              print('sentences ',sentences)\n",
    "              fsentences(sentences)\n",
    "              print('figures printing')\n",
    "              figure(figsize=(20,50))\n",
    "              plt.imshow(cropped_board)\n",
    "              plt.show() \n",
    "              figure(figsize=(20,50))\n",
    "              plt.imshow(mask_board)\n",
    "              plt.show() \n",
    "              print('figures printed')\n",
    "   else:\n",
    "        print('not analysing')"
   ]
  },
  {
   "cell_type": "code",
   "execution_count": 527,
   "metadata": {
    "id": "qtej5oJWamEK"
   },
   "outputs": [],
   "source": [
    "file='/home/kacper/resolution500/fig1.jpg'\n",
    "image = cv2.imread(file)\n",
    "gray=fig_prepare(image)\n",
    "\n",
    "image = cv2.imread(file)\n",
    "result = gray.copy()\n",
    "ythresh=1000\n",
    "cntrs,topbox=countrurs(gray,ythresh)\n",
    "i=0\n",
    "images=[]\n",
    "for c in cntrs:\n",
    "      box = cv2.boundingRect(c)\n",
    "      if box != topbox:\n",
    "          i=i+1\n",
    "          x,y,w,h = box\n",
    "          cv2.rectangle(result, (x, y), (x+w, y+h), (0, 0, 255), 2)\n",
    "          cropped = image[y:y + h, x:x + w]  \n",
    "    \n",
    "          mask = mask_from_cropped(cropped)\n",
    "          board=30\n",
    "          cropped_board = cv2.copyMakeBorder( cropped, board,board, board, board,cv2.BORDER_CONSTANT, value=[190, 190, 190])\n",
    "          mask_board = cv2.copyMakeBorder( mask, board, board, board, board, cv2.BORDER_CONSTANT)\n",
    "          im=[cropped_board,mask_board ]\n",
    "          images.append(im)  \n",
    "          #correctnes_list=analyze_figures(cropped_board,mask_board)"
   ]
  },
  {
   "cell_type": "code",
   "execution_count": 528,
   "metadata": {},
   "outputs": [],
   "source": [
    "#stworz interface\n",
    "#otworz katalog, potem kolejne pliki w petli\n",
    "#dla konretnego pliku stworz liste konturow\n",
    "# dla konkretnego kontura okresl poprawnosc i zapisz tabele"
   ]
  },
  {
   "cell_type": "code",
   "execution_count": 540,
   "metadata": {},
   "outputs": [],
   "source": [
    "from IPython.display import clear_output"
   ]
  },
  {
   "cell_type": "code",
   "execution_count": 559,
   "metadata": {},
   "outputs": [],
   "source": [
    "def wait_for_change(widget):\n",
    "    future = asyncio.Future()\n",
    "    def getvalue(change):\n",
    "        future.set_result(change.description)\n",
    "        widget.on_click(getvalue, remove=True) \n",
    "        # we need to free up the binding to getvalue to avoid an InvalidState error\n",
    "        # buttons don't support unobserve\n",
    "        # so use `remove=True` \n",
    "    widget.on_click(getvalue)\n",
    "    return future\n",
    "\n",
    "async def f():\n",
    "    for i in list_to_tag:\n",
    "        print(\"going to tag {}\".format(len(i)))\n",
    "        cropped_board,mask_board =i\n",
    "        analyze_figures(cropped_board,mask_board)\n",
    "        \n",
    "        x = await wait_for_change(button)\n",
    "        print(\"tagged {} with {}\".format(len(i), x))\n",
    "        #clear_output(wait=True) czyszczenie do douczenia\n",
    "\n",
    "button = Button(description=\"correct?\")\n",
    "#create list of files/images/folders\n",
    "#list_to_tag = [\"one\", \"two\", \"three\", \"four\"]\n",
    "list_to_tag = images"
   ]
  },
  {
   "cell_type": "code",
   "execution_count": 560,
   "metadata": {},
   "outputs": [
    {
     "data": {
      "text/plain": [
       "78"
      ]
     },
     "execution_count": 560,
     "metadata": {},
     "output_type": "execute_result"
    }
   ],
   "source": [
    "len(list_to_tag)"
   ]
  },
  {
   "cell_type": "code",
   "execution_count": 561,
   "metadata": {},
   "outputs": [
    {
     "data": {
      "application/vnd.jupyter.widget-view+json": {
       "model_id": "e341ecf7a0414897b46fa0ee8340a209",
       "version_major": 2,
       "version_minor": 0
      },
      "text/plain": [
       "Button(description='correct?', style=ButtonStyle())"
      ]
     },
     "metadata": {},
     "output_type": "display_data"
    },
    {
     "name": "stdout",
     "output_type": "stream",
     "text": [
      "going to tag 2\n",
      "start analyze\n",
      "not analysing\n",
      "tagged 2 with correct?\n",
      "going to tag 2\n",
      "start analyze\n",
      "not analysing\n",
      "tagged 2 with correct?\n",
      "going to tag 2\n",
      "start analyze\n",
      "not analysing\n",
      "tagged 2 with correct?\n",
      "going to tag 2\n",
      "start analyze\n",
      "image to analyze\n",
      "string_dig_crop\n",
      "string_dig_mask\n",
      "string_let_crop\n",
      "string_let_mask\n",
      "x0,x1,x2,x3=\n",
      "sentences  [['\\x0c', 0], ['\\x0c', 1], ['IZ\\n\\x0c', 2], ['\\x0c', 3]]\n",
      "start fsentences\n",
      "start loop in fsentences\n",
      "next method\n",
      "\n",
      "start loop in fsentences\n",
      "next method\n",
      "\n",
      "start loop in fsentences\n",
      "full sentence  IZ \n",
      "numeric analysis  std  0.0 mean  2.0 length  (1,)\n",
      "dictionary analysis  std  0.0 mean  0.0 length  (1,)\n",
      "next method\n",
      "\n",
      "start loop in fsentences\n",
      "next method\n",
      "\n",
      "figures printing\n"
     ]
    },
    {
     "data": {
      "image/png": "[encoded data removed]",
      "text/plain": [
       "<Figure size 1440x3600 with 1 Axes>"
      ]
     },
     "metadata": {
      "needs_background": "light"
     },
     "output_type": "display_data"
    },
    {
     "data": {
      "image/png": "[encoded data removed]",
      "text/plain": [
       "<Figure size 1440x3600 with 1 Axes>"
      ]
     },
     "metadata": {
      "needs_background": "light"
     },
     "output_type": "display_data"
    },
    {
     "name": "stdout",
     "output_type": "stream",
     "text": [
      "figures printed\n"
     ]
    }
   ],
   "source": [
    "\n",
    "asyncio.create_task(f())\n",
    "button"
   ]
  },
  {
   "cell_type": "code",
   "execution_count": null,
   "metadata": {},
   "outputs": [],
   "source": []
  }
 ],
 "metadata": {
  "colab": {
   "collapsed_sections": [],
   "name": "kuba_img_manip.ipynb",
   "provenance": []
  },
  "kernelspec": {
   "display_name": "Python 3",
   "language": "python",
   "name": "python3"
  },
  "language_info": {
   "codemirror_mode": {
    "name": "ipython",
    "version": 3
   },
   "file_extension": ".py",
   "mimetype": "text/x-python",
   "name": "python",
   "nbconvert_exporter": "python",
   "pygments_lexer": "ipython3",
   "version": "3.8.5"
  }
 },
 "nbformat": 4,
 "nbformat_minor": 1
}
