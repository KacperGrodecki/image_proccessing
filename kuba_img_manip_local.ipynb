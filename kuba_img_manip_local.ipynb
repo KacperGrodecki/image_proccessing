{
 "cells": [
  {
   "cell_type": "code",
   "execution_count": 2,
   "metadata": {
    "colab": {
     "base_uri": "https://localhost:8080/",
     "height": 352
    },
    "id": "5nNQXSxJHHtv",
    "outputId": "6bbc4683-ee06-44f1-cd4a-14b1dcde983c",
    "scrolled": true
   },
   "outputs": [],
   "source": [
    "import spacy\n",
    "nlp=spacy.load('pl_spacy_model_morfeusz')\n",
    "#nlp = spacy.load('pl_spacy_model')"
   ]
  },
  {
   "cell_type": "code",
   "execution_count": 3,
   "metadata": {
    "id": "qF2jJdIWKQd2"
   },
   "outputs": [],
   "source": [
    "from PIL import Image \n",
    "import pytesseract \n",
    "import sys \n",
    "import os\n",
    "import pandas as pd\n",
    "import cv2 \n",
    "import os\n",
    "from PIL import Image\n",
    "from pytesseract import image_to_string\n",
    "import numpy as np\n",
    "from matplotlib import pyplot as plt\n",
    "import os\n",
    "from autocorrect import Speller\n",
    "from matplotlib.pyplot import figure\n"
   ]
  },
  {
   "cell_type": "code",
   "execution_count": 4,
   "metadata": {
    "id": "OJ8r4kaheSLy"
   },
   "outputs": [],
   "source": [
    "spell = Speller('pl')"
   ]
  },
  {
   "cell_type": "code",
   "execution_count": 5,
   "metadata": {
    "id": "JquV3LFqbmlh"
   },
   "outputs": [],
   "source": [
    "def fig_prepare(image):\n",
    "  \n",
    "  kernel_3x3 = np.ones((3, 3), np.float32) / 9\n",
    "\n",
    "  kernel_sharpening = np.array([[-1,-1,-1], \n",
    "                                [-1, 9,-1],\n",
    "                                [-1,-1,-1]])\n",
    "\n",
    "  blurred = cv2.filter2D(image, -1, kernel_3x3)\n",
    "  sharpened = cv2.filter2D(blurred, -1, kernel_sharpening)\n",
    "\n",
    "  blurred = cv2.filter2D(sharpened, -1, kernel_3x3)\n",
    "  sharpened = cv2.filter2D(blurred, -1, kernel_sharpening)\n",
    "\n",
    "  lower=np.array([0,0,0])\n",
    "  upper=np.array([100,100,100])\n",
    "\n",
    "  mask = cv2.inRange(sharpened, lower, upper)\n",
    "  \n",
    "  return 255-mask"
   ]
  },
  {
   "cell_type": "code",
   "execution_count": 6,
   "metadata": {
    "id": "x_Nmuy_jc13h"
   },
   "outputs": [],
   "source": [
    "def text_from_file(image):\n",
    "  image_correct=fig_prepare(image)\n",
    "  custom_config_letters = r'--oem 3 --psm 3'\n",
    "  custom_config_digits = r'--oem 3 --psm 3 outputbase digits'\n",
    "  return (image_to_string(image_correct, lang='pol',config=custom_config_letters)),(image_to_string(image_correct, lang='pol',config=custom_config_digits))"
   ]
  },
  {
   "cell_type": "code",
   "execution_count": 7,
   "metadata": {
    "id": "3ZnASCQ6fq1r"
   },
   "outputs": [],
   "source": [
    "def text_from_image(image):\n",
    "  image_correct=image\n",
    "  custom_config_letters = r'--oem 3 --psm 3'\n",
    "  custom_config_digits = r'--oem 3 --psm 3 outputbase digits'\n",
    "  return (image_to_string(image_correct, lang='pol',config=custom_config_letters)),(image_to_string(image_correct, lang='pol',config=custom_config_digits))"
   ]
  },
  {
   "cell_type": "code",
   "execution_count": 8,
   "metadata": {
    "id": "vgomKGc1HNfC"
   },
   "outputs": [],
   "source": [
    "import re\n",
    "def hasNumbers(inputString):\n",
    "   return any(char.isdigit() for char in inputString)"
   ]
  },
  {
   "cell_type": "code",
   "execution_count": 9,
   "metadata": {
    "id": "qZlTMvqWiecU"
   },
   "outputs": [],
   "source": [
    "def mask_from_cropped(cropped):\n",
    "          kernel = cv2.getStructuringElement(cv2.MORPH_ELLIPSE, (9, 9))\n",
    "          dilated = cv2.dilate(cropped, kernel)\n",
    "          eroded=cv2.erode(dilated,kernel)\n",
    "\n",
    "          kernel_3x3 = np.ones((3, 3), np.float32) / 9\n",
    "\n",
    "          kernel_sharpening = np.array([[-1,-1,-1], \n",
    "                                [-1, 9,-1],\n",
    "                                [-1,-1,-1]])\n",
    "\n",
    "          blurred = cv2.filter2D(eroded, -1, kernel_3x3)\n",
    "          sharpened = cv2.filter2D(blurred, -1, kernel_sharpening)\n",
    "\n",
    "          blurred = cv2.filter2D(sharpened, -1, kernel_3x3)\n",
    "          sharpened = cv2.filter2D(blurred, -1, kernel_sharpening)\n",
    "\n",
    "          \n",
    "\n",
    "          lower=np.array([0,0,0])\n",
    "          upper=np.array([130,130,130])\n",
    "\n",
    "          return cv2.inRange(sharpened, lower, upper)"
   ]
  },
  {
   "cell_type": "code",
   "execution_count": 10,
   "metadata": {
    "id": "aqzVth1xy2Mi"
   },
   "outputs": [],
   "source": [
    "def countrurs(gray,ythresh): \n",
    "  thresh=255-gray\n",
    "  # use morphology erode to blur horizontally\n",
    "  kernel = cv2.getStructuringElement(cv2.MORPH_RECT, (151, 3))\n",
    "  morph = cv2.morphologyEx(thresh, cv2.MORPH_DILATE, kernel)\n",
    "\n",
    "  # use morphology open to remove thin lines from dotted lines\n",
    "  kernel = cv2.getStructuringElement(cv2.MORPH_RECT, (3, 17))\n",
    "  morph = cv2.morphologyEx(morph, cv2.MORPH_OPEN, kernel)\n",
    "\n",
    "\n",
    "  # find contours\n",
    "  cntrs = cv2.findContours(morph, cv2.RETR_EXTERNAL, cv2.CHAIN_APPROX_SIMPLE)\n",
    "  cntrs = cntrs[0] if len(cntrs) == 2 else cntrs[1]\n",
    "\n",
    "  # find the topmost box\n",
    "  for c in cntrs:\n",
    "        box = cv2.boundingRect(c)\n",
    "        x,y,w,h = box\n",
    "        if y < ythresh:\n",
    "            topbox = box\n",
    "            ythresh = y\n",
    "  return cntrs[::-1],topbox"
   ]
  },
  {
   "cell_type": "code",
   "execution_count": 11,
   "metadata": {
    "id": "bj63Z4cRcAsO"
   },
   "outputs": [],
   "source": [
    "def string_clean(word):\n",
    "  word_new=word\n",
    "  for char in word:\n",
    "    if char.isalnum():\n",
    "      pass\n",
    "    else:\n",
    "      word_new = word.replace(char, \"\")\n",
    "  return word_new"
   ]
  },
  {
   "cell_type": "code",
   "execution_count": 12,
   "metadata": {
    "id": "s9tyjjzPnkGG"
   },
   "outputs": [],
   "source": [
    "file_d=open('/home/kacper/Pobrane/slowa.txt','r')\n",
    "dictionary=[]\n",
    "while file_d.readline():\n",
    "    dictionary.append(file_d.readline().replace('\\n',''))"
   ]
  },
  {
   "cell_type": "code",
   "execution_count": 13,
   "metadata": {},
   "outputs": [],
   "source": [
    "import morfeusz2\n",
    "morf = morfeusz2.Morfeusz()"
   ]
  },
  {
   "cell_type": "code",
   "execution_count": 14,
   "metadata": {},
   "outputs": [],
   "source": [
    "def morfeusz(word):\n",
    "    text=morf.analyse(word)\n",
    "    for t in text:\n",
    "        if t[2][1] in dictionary:\n",
    "            return 1\n",
    "    return 0"
   ]
  },
  {
   "cell_type": "code",
   "execution_count": 15,
   "metadata": {},
   "outputs": [
    {
     "data": {
      "text/plain": [
       "0"
      ]
     },
     "execution_count": 15,
     "metadata": {},
     "output_type": "execute_result"
    }
   ],
   "source": [
    "morfeusz('pax')"
   ]
  },
  {
   "cell_type": "code",
   "execution_count": 16,
   "metadata": {},
   "outputs": [],
   "source": [
    "from __future__ import print_function\n",
    "from ipywidgets import interact, interactive, fixed, interact_manual\n",
    "import ipywidgets as widgets\n",
    "from IPython.display import display\n",
    "\n"
   ]
  },
  {
   "cell_type": "code",
   "execution_count": 17,
   "metadata": {},
   "outputs": [],
   "source": [
    "def Correct(_,log=True):\n",
    "        with out:\n",
    "         logic[0]=log\n",
    "def notCorrect(_):\n",
    "    #print(\"not correct readout\")\n",
    "    return Correct(_,False)"
   ]
  },
  {
   "cell_type": "code",
   "execution_count": 18,
   "metadata": {},
   "outputs": [],
   "source": [
    "\n",
    "def display_question():\n",
    "    button_Correct=widgets.Button(description='correct')\n",
    "    button_notCorrect=widgets.Button(description='not correct')\n",
    "    out=widgets.Output()\n",
    "\n",
    "    logic=[True]\n",
    "\n",
    "    button_Correct.on_click(Correct)\n",
    "    button_notCorrect.on_click(notCorrect)\n",
    "    buttons = widgets.HBox((button_Correct,button_notCorrect))\n",
    "    widgets.VBox((buttons,out))\n",
    "    display(buttons) \n"
   ]
  },
  {
   "cell_type": "code",
   "execution_count": 19,
   "metadata": {},
   "outputs": [],
   "source": [
    "def fsentences(sentences):\n",
    "    print('start fsentences')\n",
    "    letter,word_new,sentence,sentence_new='','','',''\n",
    "    w_len,exists,correctness=[],[],[0,0,0,0]\n",
    "\n",
    "    for sen in sentences:\n",
    "                print('start loop in fsentences')\n",
    "                for s in sen[0]:\n",
    "                  if s.isspace():\n",
    "                    word_new=word_new.join(letter)\n",
    "                    \n",
    "                    word_new=string_clean(word_new)\n",
    "                    \n",
    "                    if word_new:\n",
    "                      w_len.append(len(word_new))\n",
    "                      if morfeusz(word_new):\n",
    "                        exists.append(1)\n",
    "                      else:\n",
    "                        exists.append(0)\n",
    "                    letter=''\n",
    "                    sentence=sentence+' '+word_new\n",
    "                    word_new=''\n",
    "                  else:\n",
    "                    letter=letter+s\n",
    "                sentence_new=sentence_new.join(sentence)\n",
    "                np_w_len=np.array(w_len)\n",
    "                np_exists=np.array(exists)\n",
    "              \n",
    "                if w_len:\n",
    "                    print('full sentence',sentence_new)\n",
    "                    print('numeric analysis ','std ',np.std(np_w_len),'mean ',np.mean(np_w_len),'length ',np_w_len.shape)\n",
    "                    print('dictionary analysis ','std ',np.std(np_exists),'mean ',np.mean(np_exists),'length ',np_exists.shape)\n",
    "                sentence=''\n",
    "                sentence_new=''\n",
    "                w_len=[]\n",
    "                exists=[]\n",
    "                print('next method\\n')"
   ]
  },
  {
   "cell_type": "code",
   "execution_count": 20,
   "metadata": {
    "id": "xcr6gDN1b-Pw"
   },
   "outputs": [],
   "source": [
    "def analyze_figures(cropped_board,mask_board):\n",
    "   print('start analyze')\n",
    "   correctnes_list=[]\n",
    "   if re.search('[a-zA-Z]',image_to_string(cropped_board,lang='pol',config = r'--oem 3 --psm 3')) or re.search('[a-zA-Z]',image_to_string(mask_board, lang='pol',config= r'--oem 3 --psm 3')):\n",
    "              print('image to analyze')\n",
    "              string_dig_crop=image_to_string(cropped_board,lang='pol',config = r'outputbase digits')#r'--oem 3 --psm 3 outputbase digits'\n",
    "              print('string_dig_crop')\n",
    "              string_dig_mask=image_to_string(mask_board, lang='pol',config = r'outputbase digits')\n",
    "              print('string_dig_mask')\n",
    "              string_let_crop=image_to_string(cropped_board,lang='pol')\n",
    "              print('string_let_crop')\n",
    "              string_let_mask=image_to_string(mask_board, lang='pol')\n",
    "              print('string_let_mask')\n",
    "              x0,x1,x2,x3=0,1,2,3\n",
    "              print('x0,x1,x2,x3=')\n",
    "              sentences=[[string_dig_crop,x0],[string_dig_mask,x1],[string_let_crop,x2],[string_let_mask,x3]]\n",
    "              print('sentences ',sentences)\n",
    "              fsentences(sentences)\n",
    "              print('figures printing')\n",
    "              figure(figsize=(20,50))\n",
    "              plt.imshow(cropped_board)\n",
    "              plt.show() \n",
    "              figure(figsize=(20,50))\n",
    "              plt.imshow(mask_board)\n",
    "              plt.show() \n",
    "              print('figures printed')\n",
    "   else:\n",
    "        print('not analysing')"
   ]
  },
  {
   "cell_type": "code",
   "execution_count": 21,
   "metadata": {
    "id": "qtej5oJWamEK"
   },
   "outputs": [],
   "source": [
    "file='/home/kacper/resolution500/fig1.jpg'\n",
    "image = cv2.imread(file)\n",
    "gray=fig_prepare(image)\n",
    "\n",
    "image = cv2.imread(file)\n",
    "result = gray.copy()\n",
    "ythresh=1000\n",
    "cntrs,topbox=countrurs(gray,ythresh)\n",
    "i=0\n",
    "images=[]\n",
    "for c in cntrs:\n",
    "      box = cv2.boundingRect(c)\n",
    "      if box != topbox:\n",
    "          i=i+1\n",
    "          x,y,w,h = box\n",
    "          cv2.rectangle(result, (x, y), (x+w, y+h), (0, 0, 255), 2)\n",
    "          cropped = image[y:y + h, x:x + w]  \n",
    "    \n",
    "          mask = mask_from_cropped(cropped)\n",
    "          board=30\n",
    "          cropped_board = cv2.copyMakeBorder( cropped, board,board, board, board,cv2.BORDER_CONSTANT, value=[190, 190, 190])\n",
    "          mask_board = cv2.copyMakeBorder( mask, board, board, board, board, cv2.BORDER_CONSTANT)\n",
    "          im=[cropped_board,mask_board ]\n",
    "          images.append(im)  \n",
    "          #correctnes_list=analyze_figures(cropped_board,mask_board)"
   ]
  },
  {
   "cell_type": "code",
   "execution_count": 22,
   "metadata": {},
   "outputs": [],
   "source": [
    "#stworz interface\n",
    "#otworz katalog, potem kolejne pliki w petli\n",
    "#dla konretnego pliku stworz liste konturow\n",
    "# dla konkretnego kontura okresl poprawnosc i zapisz tabele"
   ]
  },
  {
   "cell_type": "code",
   "execution_count": 2,
   "metadata": {},
   "outputs": [
    {
     "ename": "ImportError",
     "evalue": "cannot import name 'Hbox' from 'ipywidgets' (/home/kacper/anaconda3/lib/python3.8/site-packages/ipywidgets/__init__.py)",
     "output_type": "error",
     "traceback": [
      "\u001b[0;31m---------------------------------------------------------------------------\u001b[0m",
      "\u001b[0;31mImportError\u001b[0m                               Traceback (most recent call last)",
      "\u001b[0;32m<ipython-input-2-50184dfe9e5e>\u001b[0m in \u001b[0;36m<module>\u001b[0;34m\u001b[0m\n\u001b[1;32m      1\u001b[0m \u001b[0;32mfrom\u001b[0m \u001b[0mIPython\u001b[0m\u001b[0;34m.\u001b[0m\u001b[0mdisplay\u001b[0m \u001b[0;32mimport\u001b[0m \u001b[0mdisplay\u001b[0m\u001b[0;34m,\u001b[0m \u001b[0mclear_output\u001b[0m\u001b[0;34m\u001b[0m\u001b[0;34m\u001b[0m\u001b[0m\n\u001b[1;32m      2\u001b[0m \u001b[0;32mimport\u001b[0m \u001b[0mipywidgets\u001b[0m \u001b[0;32mas\u001b[0m \u001b[0mwidgets\u001b[0m\u001b[0;34m\u001b[0m\u001b[0;34m\u001b[0m\u001b[0m\n\u001b[0;32m----> 3\u001b[0;31m \u001b[0;32mfrom\u001b[0m \u001b[0mipywidgets\u001b[0m \u001b[0;32mimport\u001b[0m \u001b[0mHbox\u001b[0m\u001b[0;34m\u001b[0m\u001b[0;34m\u001b[0m\u001b[0m\n\u001b[0m\u001b[1;32m      4\u001b[0m \u001b[0;32mimport\u001b[0m \u001b[0mrandom\u001b[0m\u001b[0;34m\u001b[0m\u001b[0;34m\u001b[0m\u001b[0m\n\u001b[1;32m      5\u001b[0m \u001b[0;32mimport\u001b[0m \u001b[0masyncio\u001b[0m\u001b[0;34m\u001b[0m\u001b[0;34m\u001b[0m\u001b[0m\n",
      "\u001b[0;31mImportError\u001b[0m: cannot import name 'Hbox' from 'ipywidgets' (/home/kacper/anaconda3/lib/python3.8/site-packages/ipywidgets/__init__.py)"
     ]
    }
   ],
   "source": [
    "from IPython.display import display, clear_output\n",
    "import ipywidgets as widgets\n",
    "from ipywidgets import Hbox\n",
    "import random\n",
    "import asyncio"
   ]
  },
  {
   "cell_type": "code",
   "execution_count": 26,
   "metadata": {},
   "outputs": [
    {
     "ename": "AttributeError",
     "evalue": "module 'ipywidgets' has no attribute 'Vbox'",
     "output_type": "error",
     "traceback": [
      "\u001b[0;31m---------------------------------------------------------------------------\u001b[0m",
      "\u001b[0;31mAttributeError\u001b[0m                            Traceback (most recent call last)",
      "\u001b[0;32m<ipython-input-26-3450128820aa>\u001b[0m in \u001b[0;36m<module>\u001b[0;34m\u001b[0m\n\u001b[1;32m     56\u001b[0m \u001b[0;34m\u001b[0m\u001b[0m\n\u001b[1;32m     57\u001b[0m \u001b[0mout\u001b[0m \u001b[0;34m=\u001b[0m \u001b[0mwidgets\u001b[0m\u001b[0;34m.\u001b[0m\u001b[0mOutput\u001b[0m\u001b[0;34m(\u001b[0m\u001b[0;34m)\u001b[0m\u001b[0;34m\u001b[0m\u001b[0;34m\u001b[0m\u001b[0m\n\u001b[0;32m---> 58\u001b[0;31m \u001b[0mbuttons\u001b[0m \u001b[0;34m=\u001b[0m \u001b[0mwidgets\u001b[0m\u001b[0;34m.\u001b[0m\u001b[0mVbox\u001b[0m\u001b[0;34m(\u001b[0m\u001b[0;34m[\u001b[0m\u001b[0mbutton_correct\u001b[0m\u001b[0;34m,\u001b[0m\u001b[0mbutton_not_correct\u001b[0m\u001b[0;34m]\u001b[0m\u001b[0;34m)\u001b[0m\u001b[0;34m\u001b[0m\u001b[0;34m\u001b[0m\u001b[0m\n\u001b[0m\u001b[1;32m     59\u001b[0m \u001b[0;31m#create list of files/images/folders\u001b[0m\u001b[0;34m\u001b[0m\u001b[0;34m\u001b[0m\u001b[0;34m\u001b[0m\u001b[0m\n\u001b[1;32m     60\u001b[0m \u001b[0;31m#list_to_tag = [\"one\", \"two\", \"three\", \"four\"]\u001b[0m\u001b[0;34m\u001b[0m\u001b[0;34m\u001b[0m\u001b[0;34m\u001b[0m\u001b[0m\n",
      "\u001b[0;31mAttributeError\u001b[0m: module 'ipywidgets' has no attribute 'Vbox'"
     ]
    }
   ],
   "source": [
    "def wait_for_change(widget):\n",
    "    future = asyncio.Future()\n",
    "    def getvalue(change):\n",
    "        future.set_result(change.description)\n",
    "        widget.on_click(getvalue, remove=True) \n",
    "    widget.on_click(getvalue)\n",
    "    \n",
    "    return future\n",
    "\n",
    "async def f(button_go):\n",
    "        for i in list_to_tag:\n",
    "            with out:\n",
    "                clear_output()\n",
    "        \n",
    "                cropped_board,mask_board =i\n",
    "                analyze_figures(cropped_board,mask_board)\n",
    "                print(redout)\n",
    "\n",
    "                x = await wait_for_change(button_go)\n",
    "                #print(\"tagged {} with {}\".format(len(i), x))\n",
    "                #clear_output(wait=True) czyszczenie do douczenia\n",
    "\n",
    "def correct(button_correct):\n",
    "    with out:\n",
    "        print('correct?')\n",
    "        redout=[True]\n",
    "        print(redout)\n",
    "        \n",
    "def not_correct(button_not_correct):\n",
    "    with out:\n",
    "        print('not correct?')\n",
    "        redout=[False]\n",
    "        print(redout)\n",
    "        \n",
    "redout=[False]            \n",
    "            \n",
    "            \n",
    "\n",
    "button_go = widgets.Button(description=\"go on\",\n",
    "    disabled=False,\n",
    "    button_style='info',\n",
    "    tooltip='Click me',\n",
    "    icon='check')\n",
    "\n",
    "button_correct = widgets.Button(description=\"correct?\",\n",
    "    disabled=False,\n",
    "    button_style='info',\n",
    "    tooltip='Click me',\n",
    "    icon='check')\n",
    "\n",
    "button_not_correct = widgets.Button(description=\"correct?\",\n",
    "    disabled=False,\n",
    "    button_style='info',\n",
    "    tooltip='Click me',\n",
    "    icon='check')\n",
    "\n",
    "out = widgets.Output()\n",
    "buttons = widgets.Hbox([button_correct,button_not_correct])\n",
    "#create list of files/images/folders\n",
    "#list_to_tag = [\"one\", \"two\", \"three\", \"four\"]\n",
    "list_to_tag = images\n"
   ]
  },
  {
   "cell_type": "code",
   "execution_count": 113,
   "metadata": {},
   "outputs": [
    {
     "data": {
      "application/vnd.jupyter.widget-view+json": {
       "model_id": "97de95827a5b4125a66de9abb91c9c72",
       "version_major": 2,
       "version_minor": 0
      },
      "text/plain": [
       "Button(button_style='info', description='go on', icon='check', style=ButtonStyle(), tooltip='Click me')"
      ]
     },
     "metadata": {},
     "output_type": "display_data"
    },
    {
     "data": {
      "application/vnd.jupyter.widget-view+json": {
       "model_id": "1640aec90fe24f67961cd96dd88f0d01",
       "version_major": 2,
       "version_minor": 0
      },
      "text/plain": [
       "Button(button_style='info', description='correct?', icon='check', style=ButtonStyle(), tooltip='Click me')"
      ]
     },
     "metadata": {},
     "output_type": "display_data"
    },
    {
     "data": {
      "application/vnd.jupyter.widget-view+json": {
       "model_id": "1b50e27d0bf741399f0b612670751066",
       "version_major": 2,
       "version_minor": 0
      },
      "text/plain": [
       "Output()"
      ]
     },
     "metadata": {},
     "output_type": "display_data"
    },
    {
     "name": "stderr",
     "output_type": "stream",
     "text": [
      "/home/kacper/anaconda3/lib/python3.8/site-packages/ipywidgets/widgets/widget_button.py:94: RuntimeWarning: coroutine 'f' was never awaited\n",
      "  self._click_handlers(self)\n",
      "RuntimeWarning: Enable tracemalloc to get the object allocation traceback\n"
     ]
    }
   ],
   "source": [
    "asyncio.create_task(f(button_go))\n",
    "display(button_go)\n",
    "#display(button_correct)\n",
    "widgets.Vbox(buttons.out)\n",
    "display(out)\n",
    "button_go.on_click(f)\n",
    "#button_correct.on_click(correct)\n",
    "#button"
   ]
  },
  {
   "cell_type": "code",
   "execution_count": 111,
   "metadata": {},
   "outputs": [
    {
     "data": {
      "application/vnd.jupyter.widget-view+json": {
       "model_id": "b225b96b378b4bc8ba5fbac6a21ffb72",
       "version_major": 2,
       "version_minor": 0
      },
      "text/plain": [
       "Output(msg_id='e91f882e4c9940cf800b9f81d0bfcf3b', outputs=({'output_type': 'stream', 'text': 'start analyze\\nn…"
      ]
     },
     "metadata": {},
     "output_type": "display_data"
    }
   ],
   "source": [
    "out"
   ]
  },
  {
   "cell_type": "code",
   "execution_count": null,
   "metadata": {},
   "outputs": [],
   "source": []
  }
 ],
 "metadata": {
  "colab": {
   "collapsed_sections": [],
   "name": "kuba_img_manip.ipynb",
   "provenance": []
  },
  "kernelspec": {
   "display_name": "Python 3",
   "language": "python",
   "name": "python3"
  },
  "language_info": {
   "codemirror_mode": {
    "name": "ipython",
    "version": 3
   },
   "file_extension": ".py",
   "mimetype": "text/x-python",
   "name": "python",
   "nbconvert_exporter": "python",
   "pygments_lexer": "ipython3",
   "version": "3.8.5"
  }
 },
 "nbformat": 4,
 "nbformat_minor": 1
}
